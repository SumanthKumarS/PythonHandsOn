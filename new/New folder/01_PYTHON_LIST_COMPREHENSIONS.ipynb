{
 "cells": [
  {
   "cell_type": "markdown",
   "metadata": {},
   "source": [
    "# Python List Comprehensions"
   ]
  },
  {
   "cell_type": "markdown",
   "metadata": {},
   "source": [
    "The Python List Comprehensions provides an easy and straightforward way to create a list based on another list or some iterables. The fewer lines of code, easy to read syntax of this Python List Comprehension, helps us to write more complex functionalities elegantly."
   ]
  },
  {
   "cell_type": "markdown",
   "metadata": {},
   "source": [
    "# Python List Comprehension Syntax"
   ]
  },
  {
   "cell_type": "markdown",
   "metadata": {},
   "source": [
    "# Simple Python List Comprehensions Examples"
   ]
  },
  {
   "cell_type": "markdown",
   "metadata": {},
   "source": [
    "Before we start using the list comprehensions, let us see the traditional approach to achieve the same result. The following code uses for loop to iterate list items and appending each item to a new list. In short, we are copying list items to an entirely new list."
   ]
  },
  {
   "cell_type": "code",
   "execution_count": 1,
   "metadata": {},
   "outputs": [
    {
     "name": "stdout",
     "output_type": "stream",
     "text": [
      "[1, 2, 3, 4, 5, 6, 7, 8, 9, 10]\n"
     ]
    }
   ],
   "source": [
    "numbers = [1, 2, 3, 4, 5, 6, 7, 8, 9, 10]\n",
    " \n",
    "new_list = []\n",
    " \n",
    "for num in numbers:\n",
    "    new_list.append(num)\n",
    " \n",
    "print(new_list)"
   ]
  },
  {
   "cell_type": "markdown",
   "metadata": {},
   "source": [
    "In general, we use for loop syntax structure along with append function to iterate list items and adding them. However, you can use Python List comprehensions to get that result. It is easy to read and takes less time to execute."
   ]
  },
  {
   "cell_type": "markdown",
   "metadata": {},
   "source": [
    "If you observe closely, we used the same for loop. \n",
    "But, we removed the append function and placed that value before for loop."
   ]
  },
  {
   "cell_type": "code",
   "execution_count": 5,
   "metadata": {},
   "outputs": [
    {
     "name": "stdout",
     "output_type": "stream",
     "text": [
      "[1, 2, 3, 4, 5, 6, 7, 8, 9, 10]\n",
      "===============================\n",
      "[1, 2, 3, 4, 5, 6, 7, 8, 9, 10]\n"
     ]
    }
   ],
   "source": [
    "numbers = [1, 2, 3, 4, 5, 6, 7, 8, 9, 10]\n",
    " \n",
    "new_list = []\n",
    " \n",
    "for num in numbers:\n",
    "    new_list.append(num)\n",
    " \n",
    "print(new_list)\n",
    " \n",
    "# List Comprehension Example\n",
    "print(\"===============================\")\n",
    "\n",
    "my_list = [num for num in numbers]\n",
    "print(my_list)"
   ]
  },
  {
   "cell_type": "markdown",
   "metadata": {},
   "source": [
    "# EXAMPLE - 2"
   ]
  },
  {
   "cell_type": "code",
   "execution_count": 6,
   "metadata": {},
   "outputs": [
    {
     "name": "stdout",
     "output_type": "stream",
     "text": [
      "[2, 4, 6, 8, 10, 12, 14, 16, 18, 20]\n",
      "===================\n",
      "[2, 4, 6, 8, 10, 12, 14, 16, 18, 20]\n"
     ]
    }
   ],
   "source": [
    "numbers = [1, 2, 3, 4, 5, 6, 7, 8, 9, 10]\n",
    " \n",
    "new_list = []\n",
    " \n",
    "for num in numbers:\n",
    "    new_list.append(num * 2)\n",
    " \n",
    "print(new_list)\n",
    " \n",
    "# List Comprehension Example\n",
    "print(\"===================\")\n",
    " \n",
    "my_list = [num * 2 for num in numbers]\n",
    "print(my_list)"
   ]
  },
  {
   "cell_type": "markdown",
   "metadata": {},
   "source": [
    "We are using the List comprehensions to multiply list items with 2, 3. Next, we are finding the square of each item."
   ]
  },
  {
   "cell_type": "code",
   "execution_count": 7,
   "metadata": {},
   "outputs": [
    {
     "name": "stdout",
     "output_type": "stream",
     "text": [
      "[2, 4, 6, 8, 10, 12, 14, 16, 18, 20]\n",
      "[3, 6, 9, 12, 15, 18, 21, 24, 27, 30]\n",
      "[1, 4, 9, 16, 25, 36, 49, 64, 81, 100]\n"
     ]
    }
   ],
   "source": [
    "numbers = [1, 2, 3, 4, 5, 6, 7, 8, 9, 10]\n",
    " \n",
    "double_list = [num * 2 for num in numbers]\n",
    "print(double_list)\n",
    " \n",
    "triple_list = [num * 3 for num in numbers]\n",
    "print(triple_list)\n",
    " \n",
    "square_list = [num ** 2 for num in numbers]\n",
    "print(square_list)"
   ]
  },
  {
   "cell_type": "markdown",
   "metadata": {},
   "source": [
    "# Python List Comprehension If"
   ]
  },
  {
   "cell_type": "code",
   "execution_count": 8,
   "metadata": {},
   "outputs": [
    {
     "name": "stdout",
     "output_type": "stream",
     "text": [
      "[2, 4, 6, 8, 10]\n",
      "===================\n",
      "[2, 4, 6, 8, 10]\n"
     ]
    }
   ],
   "source": [
    "numbers = [1, 2, 3, 4, 5, 6, 7, 8, 9, 10]\n",
    " \n",
    "new_list = []\n",
    " \n",
    "for num in numbers:\n",
    "    if num % 2 == 0:\n",
    "        new_list.append(num)\n",
    " \n",
    "print(new_list)\n",
    " \n",
    "# List Comprehension Example\n",
    "print(\"===================\")\n",
    " \n",
    "my_list = [num for num in numbers if num % 2 == 0]\n",
    "print(my_list)"
   ]
  },
  {
   "cell_type": "markdown",
   "metadata": {},
   "source": [
    "# Python List Comprehension Multiple Conditions"
   ]
  },
  {
   "cell_type": "markdown",
   "metadata": {},
   "source": [
    "The Python programming language also allows you to use multiple conditions. In this example, we are using multiple if statements to check the item or value divided by 2 equals to 0. If True, it checks the item is also divisible by 5. If both are true, then that number added to my_list."
   ]
  },
  {
   "cell_type": "code",
   "execution_count": 1,
   "metadata": {},
   "outputs": [
    {
     "name": "stdout",
     "output_type": "stream",
     "text": [
      "[10, 20, 30, 40, 50, 60, 70, 80, 90, 100, 110, 120, 130, 140]\n"
     ]
    }
   ],
   "source": [
    "new_list = []\n",
    " \n",
    "for num in range(1, 150):\n",
    "    if num % 2 == 0 and num % 5 == 0:\n",
    "        new_list.append(num)\n",
    " \n",
    "print(new_list)"
   ]
  },
  {
   "cell_type": "markdown",
   "metadata": {},
   "source": [
    "# List Comprehension Example - 4"
   ]
  },
  {
   "cell_type": "code",
   "execution_count": 2,
   "metadata": {},
   "outputs": [
    {
     "name": "stdout",
     "output_type": "stream",
     "text": [
      "===================\n",
      "[10, 20, 30, 40, 50, 60, 70, 80, 90, 100, 110, 120, 130, 140]\n"
     ]
    }
   ],
   "source": [
    "print(\"===================\")\n",
    " \n",
    "my_list = [num for num in range(1, 150) if num % 2 == 0 if num % 5 == 0]\n",
    "print(my_list)"
   ]
  },
  {
   "cell_type": "markdown",
   "metadata": {},
   "source": [
    "# Python List Comprehension If Else"
   ]
  },
  {
   "cell_type": "code",
   "execution_count": 12,
   "metadata": {},
   "outputs": [
    {
     "name": "stdout",
     "output_type": "stream",
     "text": [
      "[1, 2, 3, 4, 5, 6, 7, 8, 9, 10]\n",
      "['Odd', 'Even', 'Odd', 'Even', 'Odd', 'Even', 'Odd', 'Even', 'Odd', 'Even']\n"
     ]
    }
   ],
   "source": [
    "numbers = [1, 2, 3, 4, 5, 6, 7, 8, 9, 10]\n",
    "print(numbers)\n",
    " \n",
    "my_list = [\"Even\" if num % 2 == 0 else \"Odd\" for num in numbers]\n",
    " \n",
    "print(my_list)"
   ]
  },
  {
   "cell_type": "markdown",
   "metadata": {},
   "source": [
    "# Python List Comprehension String List"
   ]
  },
  {
   "cell_type": "markdown",
   "metadata": {},
   "source": [
    "In this example, we show how to use the Built-in functions within the List comprehensions. The first list applies lower function on each list item to convert them to lowercase. The second list applies the upper function to convert the list items to uppercase."
   ]
  },
  {
   "cell_type": "code",
   "execution_count": 13,
   "metadata": {},
   "outputs": [
    {
     "name": "stdout",
     "output_type": "stream",
     "text": [
      "['ApplE', 'OraNGe', 'GrAPe', 'BaNAna']\n",
      "['apple', 'orange', 'grape', 'banana']\n",
      "['APPLE', 'ORANGE', 'GRAPE', 'BANANA']\n"
     ]
    }
   ],
   "source": [
    "fruits = ['ApplE', 'OraNGe', 'GrAPe', 'BaNAna']\n",
    "print(fruits)\n",
    " \n",
    "l_list = [a.lower() for a in fruits]\n",
    "print(l_list)\n",
    " \n",
    "u_list = [a.upper() for a in fruits]\n",
    "print(u_list)"
   ]
  },
  {
   "cell_type": "markdown",
   "metadata": {},
   "source": [
    "# EXAMPLE - 2 : STRING FUNCTIONS IN LIST COMPREHENSION"
   ]
  },
  {
   "cell_type": "code",
   "execution_count": 15,
   "metadata": {},
   "outputs": [
    {
     "name": "stdout",
     "output_type": "stream",
     "text": [
      "['ApplE', 'OraNGeS', 'GrAPe', 'BaNAna']\n",
      "['aPPLe', 'oRAngEs', 'gRapE', 'bAnaNA']\n",
      "[5, 7, 5, 6]\n"
     ]
    }
   ],
   "source": [
    "fruits = ['ApplE', 'OraNGeS', 'GrAPe', 'BaNAna']\n",
    "print(fruits)\n",
    " \n",
    "swap_list = [a.swapcase() for a in fruits]\n",
    "print(swap_list)\n",
    " \n",
    "len_list = [len(a) for a in fruits]\n",
    "print(len_list)\n",
    " \n",
    "#first_letters = [item[0] for item in fruits]\n",
    "#print(first_letters)"
   ]
  }
 ],
 "metadata": {
  "kernelspec": {
   "display_name": "base",
   "language": "python",
   "name": "python3"
  },
  "language_info": {
   "codemirror_mode": {
    "name": "ipython",
    "version": 3
   },
   "file_extension": ".py",
   "mimetype": "text/x-python",
   "name": "python",
   "nbconvert_exporter": "python",
   "pygments_lexer": "ipython3",
   "version": "3.9.7 (default, Sep 16 2021, 16:59:28) [MSC v.1916 64 bit (AMD64)]"
  },
  "vscode": {
   "interpreter": {
    "hash": "ad2bdc8ecc057115af97d19610ffacc2b4e99fae6737bb82f5d7fb13d2f2c186"
   }
  }
 },
 "nbformat": 4,
 "nbformat_minor": 2
}
