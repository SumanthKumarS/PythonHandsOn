{
 "cells": [
  {
   "cell_type": "code",
   "execution_count": 1,
   "metadata": {},
   "outputs": [
    {
     "name": "stdout",
     "output_type": "stream",
     "text": [
      "[1 2 3 4 5 6 7 8]\n"
     ]
    }
   ],
   "source": [
    "# numpy array\n",
    "import numpy as np\n",
    "arr = [1,2,3,4,5,6,7,8]\n",
    "print(np.array(arr))"
   ]
  },
  {
   "cell_type": "code",
   "execution_count": 5,
   "metadata": {},
   "outputs": [
    {
     "name": "stdout",
     "output_type": "stream",
     "text": [
      "[[1 2 3 4]\n",
      " [5 6 7 8]]\n",
      "(2, 4)\n",
      "[[1 2]\n",
      " [2 5]\n",
      " [6 7]]\n",
      "(3, 2)\n"
     ]
    }
   ],
   "source": [
    "arr = [[1,2,3,4],[5,6,7,8]]\n",
    "print(np.array(arr))\n",
    "print(np.array(arr).shape) # 2*4 matrix 2 rows 4 columns\n",
    "\n",
    "arr = np.array([(1,2),(2,5),(6,7)])\n",
    "print(arr)\n",
    "print(arr.shape) # 3*2 matrix 3 rows 2 columns"
   ]
  },
  {
   "cell_type": "code",
   "execution_count": 6,
   "metadata": {},
   "outputs": [
    {
     "name": "stdout",
     "output_type": "stream",
     "text": [
      "int32\n"
     ]
    }
   ],
   "source": [
    "print(arr.dtype) # prvides the type of values present in the array"
   ]
  },
  {
   "cell_type": "code",
   "execution_count": 8,
   "metadata": {},
   "outputs": [
    {
     "name": "stdout",
     "output_type": "stream",
     "text": [
      "[['apple' 'bannana']\n",
      " ['mango' 'orange']]\n",
      "<U7\n"
     ]
    }
   ],
   "source": [
    "arr = np.array([('apple','bannana'),('mango','orange')])\n",
    "print(arr)\n",
    "print(arr.dtype) # prvides the type of values present in the array"
   ]
  },
  {
   "cell_type": "code",
   "execution_count": 9,
   "metadata": {},
   "outputs": [
    {
     "name": "stdout",
     "output_type": "stream",
     "text": [
      "[['apple' 'bannana']\n",
      " ['mango' 'orange']]\n",
      "4\n"
     ]
    }
   ],
   "source": [
    "arr = np.array([('apple','bannana'),('mango','orange')])\n",
    "print(arr)\n",
    "print(arr.size)"
   ]
  },
  {
   "cell_type": "code",
   "execution_count": 12,
   "metadata": {},
   "outputs": [
    {
     "name": "stdout",
     "output_type": "stream",
     "text": [
      "before\n",
      "[[1 2 3 4]\n",
      " [5 6 7 8]]\n",
      "shape of matrix =  (2, 4)\n",
      "after reshaping\n",
      "[[1 2]\n",
      " [3 4]\n",
      " [5 6]\n",
      " [7 8]]\n",
      "shape of matrix =  (4, 2)\n"
     ]
    }
   ],
   "source": [
    "# reshaping the matrix like 2*3 to 3*2 matrix\n",
    "arr = np.array([(1,2,3,4),(5,6,7,8)])\n",
    "print(\"before\")\n",
    "print(arr)\n",
    "print(\"shape of matrix = \",arr.shape)\n",
    "# rechsping the array\n",
    "a = arr.reshape(4,2)\n",
    "print(\"after reshaping\")\n",
    "print(a)\n",
    "print(\"shape of matrix = \",a.shape)\n"
   ]
  },
  {
   "cell_type": "code",
   "execution_count": 15,
   "metadata": {},
   "outputs": [
    {
     "name": "stdout",
     "output_type": "stream",
     "text": [
      "[1 2 3 4]\n",
      "[[1 2 3]\n",
      " [4 5 6]\n",
      " [7 8 9]]\n",
      "[ 0  1  2  3  4  5  6  7  8  9 10 11 12 13 14 15 16]\n"
     ]
    }
   ],
   "source": [
    "#creating a arraya from a tuple\n",
    "tpl = (1,2,3,4)\n",
    "arr = np.array(tpl)\n",
    "print(arr)\n",
    "\n",
    "# 3 dimensional array\n",
    "arr = np.array([[1,2,3],[4,5,6],[7,8,9]])\n",
    "print(arr)\n",
    "\n",
    "# createing the array using range of the number starting from 0 to n-1\n",
    "arr = np.arange(17)\n",
    "print(arr)"
   ]
  },
  {
   "cell_type": "code",
   "execution_count": 19,
   "metadata": {},
   "outputs": [
    {
     "name": "stdout",
     "output_type": "stream",
     "text": [
      "[ 4.    6.75  9.5  12.25 15.  ]\n",
      "[ 5. 10. 15. 20.]\n"
     ]
    }
   ],
   "source": [
    "# linespace which provides the range of from the start to end of how many numbers should be present\n",
    "# linespace(start,end, steps to be taken to get to end)\n",
    "print(np.linspace(4,15,5))\n",
    "print(np.linspace(5,20,4))"
   ]
  },
  {
   "cell_type": "code",
   "execution_count": 25,
   "metadata": {},
   "outputs": [
    {
     "name": "stdout",
     "output_type": "stream",
     "text": [
      "[0. 0. 0.]\n",
      "[[0. 0. 0. 0. 0.]\n",
      " [0. 0. 0. 0. 0.]\n",
      " [0. 0. 0. 0. 0.]]\n",
      "[[[0. 0. 0. 0. 0. 0. 0.]\n",
      "  [0. 0. 0. 0. 0. 0. 0.]\n",
      "  [0. 0. 0. 0. 0. 0. 0.]\n",
      "  [0. 0. 0. 0. 0. 0. 0.]\n",
      "  [0. 0. 0. 0. 0. 0. 0.]]\n",
      "\n",
      " [[0. 0. 0. 0. 0. 0. 0.]\n",
      "  [0. 0. 0. 0. 0. 0. 0.]\n",
      "  [0. 0. 0. 0. 0. 0. 0.]\n",
      "  [0. 0. 0. 0. 0. 0. 0.]\n",
      "  [0. 0. 0. 0. 0. 0. 0.]]]\n"
     ]
    }
   ],
   "source": [
    "# zeros which can used to provide the zeros in the matrix\n",
    "print(np.zeros(3))\n",
    "print(np.zeros((3,5))) #np.zeros((3,5))where in this zero only takes one argument (3,5) should be written 3rows and 5 colums\n",
    "print(np.zeros((2,5,7))) # 2 rows, 5 rows in row of the first value, 7 colums"
   ]
  },
  {
   "cell_type": "code",
   "execution_count": 26,
   "metadata": {},
   "outputs": [
    {
     "name": "stdout",
     "output_type": "stream",
     "text": [
      "[1. 1. 1.]\n",
      "[[1. 1. 1. 1. 1.]\n",
      " [1. 1. 1. 1. 1.]\n",
      " [1. 1. 1. 1. 1.]]\n",
      "[[[1. 1. 1. 1. 1. 1. 1.]\n",
      "  [1. 1. 1. 1. 1. 1. 1.]\n",
      "  [1. 1. 1. 1. 1. 1. 1.]\n",
      "  [1. 1. 1. 1. 1. 1. 1.]\n",
      "  [1. 1. 1. 1. 1. 1. 1.]]\n",
      "\n",
      " [[1. 1. 1. 1. 1. 1. 1.]\n",
      "  [1. 1. 1. 1. 1. 1. 1.]\n",
      "  [1. 1. 1. 1. 1. 1. 1.]\n",
      "  [1. 1. 1. 1. 1. 1. 1.]\n",
      "  [1. 1. 1. 1. 1. 1. 1.]]]\n"
     ]
    }
   ],
   "source": [
    "# ones which can used to provide the ones in the matrix\n",
    "print(np.ones(3))\n",
    "print(np.ones((3,5))) #np.zeros((3,5))where in this ones only takes one argument (3,5) should be written 3rows and 5 colums\n",
    "print(np.ones((2,5,7))) # 2 rows, 5 rows in row of the first value, 7 colums"
   ]
  },
  {
   "cell_type": "code",
   "execution_count": 32,
   "metadata": {},
   "outputs": [
    {
     "name": "stdout",
     "output_type": "stream",
     "text": [
      "[6 6 6 6 6]\n",
      "(5,)\n",
      "5\n",
      "------------------------------\n",
      "[[6 6 6]\n",
      " [6 6 6]\n",
      " [6 6 6]\n",
      " [6 6 6]\n",
      " [6 6 6]]\n",
      "(5, 3)\n",
      "15\n",
      "------------------------------\n",
      "[[[6 6]\n",
      "  [6 6]\n",
      "  [6 6]]\n",
      "\n",
      " [[6 6]\n",
      "  [6 6]\n",
      "  [6 6]]]\n",
      "(2, 3, 2)\n",
      "12\n"
     ]
    }
   ],
   "source": [
    "#Full which is used to take given number as matrix\n",
    "# in full it takes 2 arguments 1 st is no of column\n",
    "print(np.full((5),6)) # which is 5 row and  default if column not present row takes the part of column\n",
    "print(np.full((5),6).shape)\n",
    "print(np.full((5),6).size)\n",
    "print(\"------------------------------\")\n",
    "print(np.full((5,3),6)) # which is 5 columns and 3 row\n",
    "print(np.full((5,3),6).shape)\n",
    "print(np.full((5,3),6).size)\n",
    "print(\"------------------------------\")\n",
    "print(np.full((2,3,2),6)) # which is 5 columns and 3 row\n",
    "print(np.full((2,3,2),6).shape)\n",
    "print(np.full((2,3,2),6).size)\n"
   ]
  },
  {
   "cell_type": "code",
   "execution_count": 37,
   "metadata": {},
   "outputs": [
    {
     "name": "stdout",
     "output_type": "stream",
     "text": [
      "[[1. 0. 0. 0.]\n",
      " [0. 1. 0. 0.]\n",
      " [0. 0. 1. 0.]\n",
      " [0. 0. 0. 1.]]\n",
      "[[1. 0.]\n",
      " [0. 1.]]\n",
      "[[1. 0. 0.]\n",
      " [0. 1. 0.]\n",
      " [0. 0. 1.]]\n"
     ]
    }
   ],
   "source": [
    "# eye in numpy which give identicle element 1 in matrix in diagonal\n",
    "print(np.eye(4))\n",
    "print(np.eye(2))\n",
    "print(np.eye(3))\n"
   ]
  },
  {
   "cell_type": "code",
   "execution_count": 42,
   "metadata": {},
   "outputs": [
    {
     "name": "stdout",
     "output_type": "stream",
     "text": [
      "[[3]]\n",
      "[[3 0]\n",
      " [0 5]]\n",
      "[[1 0 0 0 0]\n",
      " [0 2 0 0 0]\n",
      " [0 0 3 0 0]\n",
      " [0 0 0 4 0]\n",
      " [0 0 0 0 5]]\n"
     ]
    },
    {
     "data": {
      "text/plain": [
       "array([[1, 0, 0, 0, 0],\n",
       "       [0, 2, 0, 0, 0],\n",
       "       [0, 0, 3, 0, 0],\n",
       "       [0, 0, 0, 4, 0],\n",
       "       [0, 0, 0, 0, 5]])"
      ]
     },
     "execution_count": 42,
     "metadata": {},
     "output_type": "execute_result"
    }
   ],
   "source": [
    "# diag which gis the set of number in the diagonal\n",
    "print(np.diag([3]))\n",
    "print(np.diag([3,5]))\n",
    "print(np.diag([1,2,3,4,5]))\n",
    "np.diag([1,2,3,4,5])"
   ]
  },
  {
   "cell_type": "code",
   "execution_count": 45,
   "metadata": {},
   "outputs": [
    {
     "name": "stdout",
     "output_type": "stream",
     "text": [
      "[10 15 25 35 45 55 65]\n",
      "10\n",
      "55\n",
      "[25 35 45]\n"
     ]
    }
   ],
   "source": [
    "# accessing tthe array items\n",
    "import numpy as np\n",
    "arr = np.array([10, 15, 25, 35, 45, 55, 65])\n",
    "print(arr)\n",
    "print(arr[0])\n",
    "print(arr[5])\n",
    "print(arr[2:5])"
   ]
  },
  {
   "cell_type": "code",
   "execution_count": 46,
   "metadata": {},
   "outputs": [
    {
     "data": {
      "text/plain": [
       "array([[ 61, 145,  11, 115, 163],\n",
       "       [ 68,  39, 110, 166,  56],\n",
       "       [171,  31, 139, 166, 158],\n",
       "       [ 78,  10, 154, 176,  48],\n",
       "       [107, 105,  18,  93, 120]])"
      ]
     },
     "execution_count": 46,
     "metadata": {},
     "output_type": "execute_result"
    }
   ],
   "source": [
    "#You can create an array of random numbers using the below statement\n",
    "c = np.random.randint(0, 200, size = (5, 5))\n",
    "c # creating random matrix of 0 to 200 of the size 5 * 5 matrix"
   ]
  },
  {
   "cell_type": "code",
   "execution_count": 47,
   "metadata": {},
   "outputs": [],
   "source": [
    "a = np.array([10, 50, 100, 150, 250])\n",
    "b = np.array([6, 5, 4, 3, 2])\n",
    "d = np.random.randint(0, 15, size = (5, 5))\n",
    "e = np.array([11, 22, 33, 44, 55])"
   ]
  },
  {
   "cell_type": "code",
   "execution_count": 48,
   "metadata": {},
   "outputs": [
    {
     "name": "stdout",
     "output_type": "stream",
     "text": [
      "[ 16  55 104 153 252]\n"
     ]
    }
   ],
   "source": [
    "print(np.add(a, b))"
   ]
  },
  {
   "cell_type": "code",
   "execution_count": 49,
   "metadata": {},
   "outputs": [
    {
     "name": "stdout",
     "output_type": "stream",
     "text": [
      "[[ 73 158  21 116 165]\n",
      " [ 78  43 118 170  61]\n",
      " [172  31 149 170 163]\n",
      " [ 90  10 155 188  61]\n",
      " [112 110  24 102 129]]\n"
     ]
    }
   ],
   "source": [
    "print(np.add(c, d))"
   ]
  },
  {
   "cell_type": "code",
   "execution_count": 50,
   "metadata": {},
   "outputs": [
    {
     "name": "stdout",
     "output_type": "stream",
     "text": [
      "[ 60 250 400 450 500]\n",
      "[[ 732 1885  110  115  326]\n",
      " [ 680  156  880  664  280]\n",
      " [ 171    0 1390  664  790]\n",
      " [ 936    0  154 2112  624]\n",
      " [ 535  525  108  837 1080]]\n",
      "[[ 732 1885  110  115  326]\n",
      " [ 680  156  880  664  280]\n",
      " [ 171    0 1390  664  790]\n",
      " [ 936    0  154 2112  624]\n",
      " [ 535  525  108  837 1080]]\n"
     ]
    }
   ],
   "source": [
    "print(np.multiply(a, b))\n",
    "print(np.multiply(c, d))\n",
    "print(np.multiply(d, c))"
   ]
  },
  {
   "cell_type": "code",
   "execution_count": 51,
   "metadata": {},
   "outputs": [
    {
     "name": "stdout",
     "output_type": "stream",
     "text": [
      "-----Generated Random Array----\n",
      "[0.01627136 0.20102299 0.60936356 0.38623176 0.24382185 0.93883362\n",
      " 0.44748105]\n",
      "\n",
      "-----Generated Random Array----\n",
      "[0.77174371 0.80869672 0.24470732 0.02349038 0.28443483 0.00842\n",
      " 0.77044554 0.86480116 0.00628603 0.30951333]\n"
     ]
    }
   ],
   "source": [
    "import numpy as np\n",
    " \n",
    "arr = np.random.rand(7)\n",
    " \n",
    "print('-----Generated Random Array----')\n",
    "print(arr)\n",
    " \n",
    "arr2 = np.random.rand(10)\n",
    "print('\\n-----Generated Random Array----')\n",
    "print(arr2)"
   ]
  },
  {
   "cell_type": "code",
   "execution_count": null,
   "metadata": {},
   "outputs": [],
   "source": []
  }
 ],
 "metadata": {
  "kernelspec": {
   "display_name": "base",
   "language": "python",
   "name": "python3"
  },
  "language_info": {
   "codemirror_mode": {
    "name": "ipython",
    "version": 3
   },
   "file_extension": ".py",
   "mimetype": "text/x-python",
   "name": "python",
   "nbconvert_exporter": "python",
   "pygments_lexer": "ipython3",
   "version": "3.9.7"
  },
  "orig_nbformat": 4,
  "vscode": {
   "interpreter": {
    "hash": "ad2bdc8ecc057115af97d19610ffacc2b4e99fae6737bb82f5d7fb13d2f2c186"
   }
  }
 },
 "nbformat": 4,
 "nbformat_minor": 2
}
