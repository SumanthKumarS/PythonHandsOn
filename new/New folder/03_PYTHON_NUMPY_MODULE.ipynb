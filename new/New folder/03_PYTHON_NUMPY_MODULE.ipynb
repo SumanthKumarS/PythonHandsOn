{
 "cells": [
  {
   "cell_type": "markdown",
   "metadata": {},
   "source": [
    "# Python NumPy Array"
   ]
  },
  {
   "cell_type": "markdown",
   "metadata": {},
   "source": [
    "NumPy is the shorter version for Numerical Python. Numpy is the foundation to introduce Data Science into Python. The Python NumPy package has built-in functions that are required to perform Data Analysis and Scientific Computing.\n",
    "\n",
    "All the other packages that we use for data analysis built on top of this Numpy module. That’s why one has to master this Python Numpy module before start working with DataFrames or Data analysis."
   ]
  },
  {
   "cell_type": "markdown",
   "metadata": {},
   "source": [
    "# Creating Python ndarray"
   ]
  },
  {
   "cell_type": "markdown",
   "metadata": {},
   "source": [
    "The Python Numpy module has a ndarray object, shorter version of N-dimensional array, or an array. Like any other programming language array, this Numpy ndarray object allows you to store multiple items of the same data type."
   ]
  },
  {
   "cell_type": "markdown",
   "metadata": {},
   "source": [
    "# EXAMPLE - 1: Create an Array in Python using the array function"
   ]
  },
  {
   "cell_type": "code",
   "execution_count": 2,
   "metadata": {},
   "outputs": [
    {
     "name": "stdout",
     "output_type": "stream",
     "text": [
      "[1 2 3 4 5 6 7 8 9]\n"
     ]
    }
   ],
   "source": [
    "import numpy as np\n",
    " \n",
    "arr = np.array([1, 2, 3, 4, 5, 6, 7, 8, 9])\n",
    " \n",
    "print(arr)"
   ]
  },
  {
   "cell_type": "markdown",
   "metadata": {},
   "source": [
    "# EXAMPLE - 2: Create an Array from List in Python"
   ]
  },
  {
   "cell_type": "code",
   "execution_count": 4,
   "metadata": {},
   "outputs": [
    {
     "name": "stdout",
     "output_type": "stream",
     "text": [
      "[1 2 3 4 5]\n"
     ]
    }
   ],
   "source": [
    "import numpy as np\n",
    "\n",
    "a = [1, 2, 3, 4, 5]\n",
    "arr = np.array(a)\n",
    " \n",
    "print(arr)"
   ]
  },
  {
   "cell_type": "markdown",
   "metadata": {},
   "source": [
    "# EXAMPLE - 3 :Create an ndarray of mixed items in Python."
   ]
  },
  {
   "cell_type": "code",
   "execution_count": 5,
   "metadata": {},
   "outputs": [
    {
     "name": "stdout",
     "output_type": "stream",
     "text": [
      "[2.5 3.5 7.  4.5 8. ]\n"
     ]
    }
   ],
   "source": [
    "import numpy as np\n",
    "a = [2.5, 3.5, 7, 4.5, 8]\n",
    "arr = np.array(a)\n",
    "print(arr)"
   ]
  },
  {
   "cell_type": "markdown",
   "metadata": {},
   "source": [
    "# TO KNOW THE DT OF ELEMENTS STORED IN AN ARRAY - NUMPY"
   ]
  },
  {
   "cell_type": "code",
   "execution_count": 1,
   "metadata": {},
   "outputs": [
    {
     "name": "stdout",
     "output_type": "stream",
     "text": [
      "int32\n"
     ]
    }
   ],
   "source": [
    "import numpy as np\n",
    "a = np.array([(1,2,3)])\n",
    "print(a.dtype)"
   ]
  },
  {
   "cell_type": "markdown",
   "metadata": {},
   "source": [
    "# You can find the size and shape of the array using ‘size’ and ‘shape’ function respectively."
   ]
  },
  {
   "cell_type": "code",
   "execution_count": 5,
   "metadata": {},
   "outputs": [
    {
     "name": "stdout",
     "output_type": "stream",
     "text": [
      "6\n",
      "(1, 6)\n"
     ]
    }
   ],
   "source": [
    "import numpy as np\n",
    "a = np.array([(1,2,3,4,5,6)])\n",
    "print(a.size)\n",
    "print(a.shape)"
   ]
  },
  {
   "cell_type": "markdown",
   "metadata": {},
   "source": [
    "# Create a Python Numpy ndarray from a list of lists. \n",
    "Here, we declared a nested list of lists with integer values. Next, we used the array function to convert the list to Numpy array."
   ]
  },
  {
   "cell_type": "code",
   "execution_count": 7,
   "metadata": {},
   "outputs": [
    {
     "name": "stdout",
     "output_type": "stream",
     "text": [
      "List of List =  [[1, 2, 3], [4, 5, 6], [7, 8, 9]]\n",
      "\n",
      "[[1 2 3]\n",
      " [4 5 6]\n",
      " [7 8 9]]\n",
      "9\n",
      "(3, 3)\n"
     ]
    }
   ],
   "source": [
    "import numpy as np\n",
    "a = [[1, 2, 3], [4, 5, 6], [7, 8, 9]]\n",
    "print('List of List = ', a)\n",
    "print()\n",
    " \n",
    "arr = np.array(a)\n",
    "print(arr)\n",
    "print(arr.size)\n",
    "print(arr.shape)"
   ]
  },
  {
   "cell_type": "markdown",
   "metadata": {},
   "source": [
    "# RESHAPING AN ARRAY"
   ]
  },
  {
   "cell_type": "code",
   "execution_count": 10,
   "metadata": {},
   "outputs": [
    {
     "name": "stdout",
     "output_type": "stream",
     "text": [
      "BEFORE\n",
      "[[ 8  9 10]\n",
      " [11 12 13]]\n",
      "6\n",
      "(2, 3)\n",
      "AFTER\n",
      "[[ 8  9]\n",
      " [10 11]\n",
      " [12 13]]\n",
      "6\n",
      "(3, 2)\n"
     ]
    }
   ],
   "source": [
    "import numpy as np\n",
    "a = np.array([(8,9,10),(11,12,13)])\n",
    "print('BEFORE')\n",
    "print(a)\n",
    "print(a.size)\n",
    "print(a.shape)\n",
    "print('AFTER')\n",
    "a=a.reshape(3,2)\n",
    "print(a)\n",
    "print(a.size)\n",
    "print(a.shape)"
   ]
  },
  {
   "cell_type": "code",
   "execution_count": null,
   "metadata": {},
   "outputs": [],
   "source": [
    "# ARITHMETIC OPERATIONS IN ARRAY"
   ]
  },
  {
   "cell_type": "code",
   "execution_count": 7,
   "metadata": {},
   "outputs": [
    {
     "name": "stdout",
     "output_type": "stream",
     "text": [
      "Original Array      =  [1 2 3 4 5]\n",
      "Add 5 to Array      =  [ 6  7  8  9 10]\n",
      "Multiply arr with 2 =  [ 2  4  6  8 10]\n"
     ]
    }
   ],
   "source": [
    "import numpy as np\n",
    "a = [1, 2, 3, 4, 5]\n",
    "arr = np.array(a)\n",
    "  \n",
    "print('Original Array      = ', arr)\n",
    "print('Add 5 to Array      = ', arr + 5)\n",
    "print('Multiply arr with 2 = ', arr * 2)"
   ]
  },
  {
   "cell_type": "markdown",
   "metadata": {},
   "source": [
    "# Create an Array from Tuple"
   ]
  },
  {
   "cell_type": "code",
   "execution_count": 8,
   "metadata": {},
   "outputs": [
    {
     "name": "stdout",
     "output_type": "stream",
     "text": [
      "[10 20 30]\n"
     ]
    }
   ],
   "source": [
    "import numpy as np\n",
    "\n",
    "tup = (10, 20, 30)\n",
    "arr = np.array(tup)\n",
    "\n",
    "print(arr)"
   ]
  },
  {
   "cell_type": "markdown",
   "metadata": {},
   "source": [
    "# Python NumPy Two Dimensional Array\n",
    "Placing or Nesting two lists inside a [] brackets create a two-dimensional array."
   ]
  },
  {
   "cell_type": "code",
   "execution_count": 9,
   "metadata": {},
   "outputs": [
    {
     "name": "stdout",
     "output_type": "stream",
     "text": [
      "[[ 1  2  3  4  5]\n",
      " [ 6  7  8  9 10]]\n"
     ]
    }
   ],
   "source": [
    "import numpy as np\n",
    " \n",
    "two_arr = np.array([[1, 2, 3, 4, 5], [6, 7, 8, 9, 10]])\n",
    " \n",
    "print(two_arr)"
   ]
  },
  {
   "cell_type": "markdown",
   "metadata": {},
   "source": [
    "# Python NumPy Three Dimensional Array"
   ]
  },
  {
   "cell_type": "code",
   "execution_count": null,
   "metadata": {},
   "outputs": [],
   "source": [
    "Here, we are creating a 3 * 3 matrix or three-dimensional array."
   ]
  },
  {
   "cell_type": "code",
   "execution_count": 10,
   "metadata": {},
   "outputs": [
    {
     "name": "stdout",
     "output_type": "stream",
     "text": [
      "[[ 1  2  3]\n",
      " [10 20 30]\n",
      " [ 6  7  8]]\n"
     ]
    }
   ],
   "source": [
    "import numpy as np\n",
    " \n",
    "three_arr = np.array([[1, 2, 3], [10, 20, 30], [6, 7, 8]])\n",
    " \n",
    "print(three_arr)"
   ]
  },
  {
   "cell_type": "markdown",
   "metadata": {},
   "source": [
    "# Create an Array using srange"
   ]
  },
  {
   "cell_type": "markdown",
   "metadata": {},
   "source": [
    "In this example, we are using the Python Numpy arange function to create an array of numbers range from 0 to n-1, where n is the given number. For example, np.arange(5) retunes an array of numbers in sequence from 0 to 4."
   ]
  },
  {
   "cell_type": "code",
   "execution_count": 13,
   "metadata": {},
   "outputs": [
    {
     "data": {
      "text/plain": [
       "array([0, 1, 2, 3, 4])"
      ]
     },
     "execution_count": 13,
     "metadata": {},
     "output_type": "execute_result"
    }
   ],
   "source": [
    "import numpy as np\n",
    "\n",
    "np.arange(5)"
   ]
  },
  {
   "cell_type": "code",
   "execution_count": 14,
   "metadata": {},
   "outputs": [
    {
     "data": {
      "text/plain": [
       "array([0, 1, 2, 3, 4, 5, 6, 7, 8, 9])"
      ]
     },
     "execution_count": 14,
     "metadata": {},
     "output_type": "execute_result"
    }
   ],
   "source": [
    "np.arange(10)"
   ]
  },
  {
   "cell_type": "code",
   "execution_count": 15,
   "metadata": {},
   "outputs": [
    {
     "data": {
      "text/plain": [
       "array([ 0,  1,  2,  3,  4,  5,  6,  7,  8,  9, 10, 11, 12, 13, 14])"
      ]
     },
     "execution_count": 15,
     "metadata": {},
     "output_type": "execute_result"
    }
   ],
   "source": [
    "np.arange(15)"
   ]
  },
  {
   "cell_type": "markdown",
   "metadata": {},
   "source": [
    "# Create an Array using linspace in Python"
   ]
  },
  {
   "cell_type": "markdown",
   "metadata": {},
   "source": [
    "In this example, we used the Python Numpy linspace function. The syntax behind this function is:"
   ]
  },
  {
   "cell_type": "code",
   "execution_count": null,
   "metadata": {},
   "outputs": [],
   "source": [
    "np.linspace(start, end_value, steps)"
   ]
  },
  {
   "cell_type": "markdown",
   "metadata": {},
   "source": [
    "Here, we created three arrays of numbers range from 0 to n serrated by steps. For example, np.linspace(0, 1, 5) retunes an array of numbers from 0 to 1 in five equal steps."
   ]
  },
  {
   "cell_type": "code",
   "execution_count": 16,
   "metadata": {},
   "outputs": [
    {
     "data": {
      "text/plain": [
       "array([ 10.        ,  14.73684211,  19.47368421,  24.21052632,\n",
       "        28.94736842,  33.68421053,  38.42105263,  43.15789474,\n",
       "        47.89473684,  52.63157895,  57.36842105,  62.10526316,\n",
       "        66.84210526,  71.57894737,  76.31578947,  81.05263158,\n",
       "        85.78947368,  90.52631579,  95.26315789, 100.        ])"
      ]
     },
     "execution_count": 16,
     "metadata": {},
     "output_type": "execute_result"
    }
   ],
   "source": [
    "import numpy as np\n",
    "\n",
    "np.linspace(0, 1, 5)\n",
    "np.linspace(0, 10, 5)\n",
    "\n",
    "np.linspace(0, 1, 7)\n",
    "np.linspace(10, 100, 20)"
   ]
  },
  {
   "cell_type": "markdown",
   "metadata": {},
   "source": [
    "# Python zeros array"
   ]
  },
  {
   "cell_type": "markdown",
   "metadata": {},
   "source": [
    "The Python zeros function creates an array of zeros. This function accepts the arguments to specify the shape of an array. For example,\n",
    "\n",
    "zeros(2) means a one-dimensional array of two zero elements.\n",
    "zeros(2, 3) means 2 * 3 matrix of zeros.\n",
    "and zeros(2, 3, 4) means a three-dimensional array of zeros."
   ]
  },
  {
   "cell_type": "code",
   "execution_count": 17,
   "metadata": {},
   "outputs": [
    {
     "data": {
      "text/plain": [
       "array([[[0., 0., 0., 0., 0., 0., 0.],\n",
       "        [0., 0., 0., 0., 0., 0., 0.]],\n",
       "\n",
       "       [[0., 0., 0., 0., 0., 0., 0.],\n",
       "        [0., 0., 0., 0., 0., 0., 0.]],\n",
       "\n",
       "       [[0., 0., 0., 0., 0., 0., 0.],\n",
       "        [0., 0., 0., 0., 0., 0., 0.]]])"
      ]
     },
     "execution_count": 17,
     "metadata": {},
     "output_type": "execute_result"
    }
   ],
   "source": [
    "import numpy as np\n",
    "np.zeros(3)\n",
    "np.zeros((2, 2))\n",
    "\n",
    "np.zeros((2, 3))\n",
    "np.zeros((4, 7))\n",
    "np.zeros((3, 2, 7))"
   ]
  },
  {
   "cell_type": "markdown",
   "metadata": {},
   "source": [
    "# Python ones array"
   ]
  },
  {
   "cell_type": "code",
   "execution_count": 18,
   "metadata": {},
   "outputs": [
    {
     "data": {
      "text/plain": [
       "array([[[1., 1., 1., 1., 1., 1., 1., 1., 1.],\n",
       "        [1., 1., 1., 1., 1., 1., 1., 1., 1.]],\n",
       "\n",
       "       [[1., 1., 1., 1., 1., 1., 1., 1., 1.],\n",
       "        [1., 1., 1., 1., 1., 1., 1., 1., 1.]],\n",
       "\n",
       "       [[1., 1., 1., 1., 1., 1., 1., 1., 1.],\n",
       "        [1., 1., 1., 1., 1., 1., 1., 1., 1.]]])"
      ]
     },
     "execution_count": 18,
     "metadata": {},
     "output_type": "execute_result"
    }
   ],
   "source": [
    "import numpy as np\n",
    "\n",
    "np.ones(5)\n",
    "np.ones((3, 3))\n",
    "np.ones((3, 5))\n",
    "np.ones((3, 2, 9))"
   ]
  },
  {
   "cell_type": "markdown",
   "metadata": {},
   "source": [
    "# Python full array\n",
    "The NumPy full function creates an array of a given number."
   ]
  },
  {
   "cell_type": "code",
   "execution_count": 19,
   "metadata": {},
   "outputs": [
    {
     "data": {
      "text/plain": [
       "array([[[7, 7, 7, 7, 7, 7],\n",
       "        [7, 7, 7, 7, 7, 7],\n",
       "        [7, 7, 7, 7, 7, 7]],\n",
       "\n",
       "       [[7, 7, 7, 7, 7, 7],\n",
       "        [7, 7, 7, 7, 7, 7],\n",
       "        [7, 7, 7, 7, 7, 7]]])"
      ]
     },
     "execution_count": 19,
     "metadata": {},
     "output_type": "execute_result"
    }
   ],
   "source": [
    "import numpy as np\n",
    "\n",
    "# Returns one dimensional array of 4’s of size 5\n",
    "np.full((5), 4)\n",
    "\n",
    "# Returns 3 * matrix of number 9\n",
    "np.full((3, 4), 9)\n",
    "np.full((4, 4), 8)\n",
    "np.full((2, 3, 6), 7)"
   ]
  },
  {
   "cell_type": "markdown",
   "metadata": {},
   "source": [
    "# Python identical array\n",
    "The Python eye function creates an identical N * N matrix, where N is the given argument value."
   ]
  },
  {
   "cell_type": "code",
   "execution_count": 20,
   "metadata": {},
   "outputs": [
    {
     "data": {
      "text/plain": [
       "array([[1., 0., 0., 0., 0.],\n",
       "       [0., 1., 0., 0., 0.],\n",
       "       [0., 0., 1., 0., 0.],\n",
       "       [0., 0., 0., 1., 0.],\n",
       "       [0., 0., 0., 0., 1.]])"
      ]
     },
     "execution_count": 20,
     "metadata": {},
     "output_type": "execute_result"
    }
   ],
   "source": [
    "import numpy as np\n",
    "np.eye(2)\n",
    "np.eye(3)\n",
    "np.eye(5)"
   ]
  },
  {
   "cell_type": "markdown",
   "metadata": {},
   "source": [
    "# Python diagonal array\n",
    "The Python diag function creates an identical, where diagonal values filled with the list values."
   ]
  },
  {
   "cell_type": "code",
   "execution_count": 21,
   "metadata": {},
   "outputs": [
    {
     "data": {
      "text/plain": [
       "array([[1, 0, 0, 0, 0, 0],\n",
       "       [0, 2, 0, 0, 0, 0],\n",
       "       [0, 0, 3, 0, 0, 0],\n",
       "       [0, 0, 0, 4, 0, 0],\n",
       "       [0, 0, 0, 0, 5, 0],\n",
       "       [0, 0, 0, 0, 0, 6]])"
      ]
     },
     "execution_count": 21,
     "metadata": {},
     "output_type": "execute_result"
    }
   ],
   "source": [
    "import numpy as np\n",
    "np.diag([3])\n",
    "np.diag([1, 2])\n",
    "np.diag([1, 2, 3, 4])\n",
    "np.diag([1, 2, 3, 4, 5, 6])"
   ]
  },
  {
   "cell_type": "markdown",
   "metadata": {},
   "source": [
    "# Accessing Numpy Array Items"
   ]
  },
  {
   "cell_type": "markdown",
   "metadata": {},
   "source": [
    "Like any other programming language, you can access the array items using the index position. The index position always starts at 0 and ends at n-1, where n is the array size, row size, or column size, or dimension."
   ]
  },
  {
   "cell_type": "code",
   "execution_count": 25,
   "metadata": {},
   "outputs": [
    {
     "data": {
      "text/plain": [
       "array([25, 35, 45])"
      ]
     },
     "execution_count": 25,
     "metadata": {},
     "output_type": "execute_result"
    }
   ],
   "source": [
    "import numpy as np\n",
    "arr = np.array([10, 15, 25, 35, 45, 55, 65])\n",
    "arr\n",
    "\n",
    "arr[0]\n",
    "arr[2]\n",
    "arr[5]\n",
    "#arr[7]\n",
    "arr[2:5]"
   ]
  },
  {
   "cell_type": "code",
   "execution_count": 26,
   "metadata": {},
   "outputs": [
    {
     "data": {
      "text/plain": [
       "19"
      ]
     },
     "execution_count": 26,
     "metadata": {},
     "output_type": "execute_result"
    }
   ],
   "source": [
    "import numpy as np\n",
    "arr = np.array([[1, 2, 3, 4, 5],[12, 15, 61, 11, 19]])\n",
    "arr[0][1]\n",
    "arr[0][4]\n",
    "arr[1][1]\n",
    "arr[1][4]"
   ]
  },
  {
   "cell_type": "markdown",
   "metadata": {},
   "source": [
    "# Python NumPy Arithmetic Operations"
   ]
  },
  {
   "cell_type": "markdown",
   "metadata": {},
   "source": [
    "Python Numpy module provides various arithmetic functions such as add, subtract, multiply and divide, which performs Python numpy arithmetic operations on arrays. Apart from them, you can use the standard Python Arithmetic Operators also. Arrays should be of the same shape, or they have to bound to array rules to use Numpy arithmetic functions."
   ]
  },
  {
   "cell_type": "code",
   "execution_count": 28,
   "metadata": {},
   "outputs": [
    {
     "data": {
      "text/plain": [
       "array([ 10,  50, 100, 150, 250])"
      ]
     },
     "execution_count": 28,
     "metadata": {},
     "output_type": "execute_result"
    }
   ],
   "source": [
    "a = np.array([10, 50, 100, 150, 250])\n",
    "a "
   ]
  },
  {
   "cell_type": "code",
   "execution_count": 29,
   "metadata": {},
   "outputs": [
    {
     "data": {
      "text/plain": [
       "array([6, 5, 4, 3, 2])"
      ]
     },
     "execution_count": 29,
     "metadata": {},
     "output_type": "execute_result"
    }
   ],
   "source": [
    "b = np.array([6, 5, 4, 3, 2])\n",
    "b\n"
   ]
  },
  {
   "cell_type": "code",
   "execution_count": 30,
   "metadata": {},
   "outputs": [
    {
     "data": {
      "text/plain": [
       "array([[ 26,  48,  91,  57, 120],\n",
       "       [ 33,  95,  68, 109, 155],\n",
       "       [111, 194,   7,  22, 124],\n",
       "       [ 82, 119,  18, 156,  81],\n",
       "       [ 38,  10, 151,  24,  14]])"
      ]
     },
     "execution_count": 30,
     "metadata": {},
     "output_type": "execute_result"
    }
   ],
   "source": [
    " \n",
    "c = np.array([[26,  48,  91,  57, 120], [33,  95,  68, 109, 155], [111, 194,   7,  22, 124], [ 82, 119,  18, 156,  81],[ 38,  10, 151,  24,  14]])\n",
    "c\n"
   ]
  },
  {
   "cell_type": "code",
   "execution_count": 32,
   "metadata": {},
   "outputs": [
    {
     "data": {
      "text/plain": [
       "array([[ 67,  25,  55,  54,  73],\n",
       "       [ 25,  35, 113,  26, 123],\n",
       "       [156,  24,  22,  34,  26],\n",
       "       [ 80, 168, 129,  40, 197],\n",
       "       [113,  84,  15, 131, 131]])"
      ]
     },
     "execution_count": 32,
     "metadata": {},
     "output_type": "execute_result"
    }
   ],
   "source": [
    "#You can create an array of random numbers using the below statement\n",
    "c = np.random.randint(0, 200, size = (5, 5))\n",
    "c\n"
   ]
  },
  {
   "cell_type": "code",
   "execution_count": 33,
   "metadata": {},
   "outputs": [
    {
     "data": {
      "text/plain": [
       "array([[12, 11,  0,  9,  7],\n",
       "       [10,  4, 11,  6,  9],\n",
       "       [ 9,  2, 10,  9, 11],\n",
       "       [ 5, 14,  0, 11,  8],\n",
       "       [ 5, 12,  5,  5, 11]])"
      ]
     },
     "execution_count": 33,
     "metadata": {},
     "output_type": "execute_result"
    }
   ],
   "source": [
    " d = np.array([[12, 11,  0,  9,  7], [10,  4, 11,  6,  9], [ 9,  2, 10,  9, 11], [ 5, 14,  0, 11,  8], [ 5, 12,  5,  5, 11]])\n",
    "d\n"
   ]
  },
  {
   "cell_type": "code",
   "execution_count": 34,
   "metadata": {},
   "outputs": [
    {
     "data": {
      "text/plain": [
       "array([[ 9, 13, 14,  3,  1],\n",
       "       [ 8, 12, 10,  2,  6],\n",
       "       [ 3, 13, 14,  2,  3],\n",
       "       [ 7,  9, 13,  0,  5],\n",
       "       [ 0,  7, 12,  3,  5]])"
      ]
     },
     "execution_count": 34,
     "metadata": {},
     "output_type": "execute_result"
    }
   ],
   "source": [
    "d = np.random.randint(0, 15, size = (5, 5))\n",
    "d\n"
   ]
  },
  {
   "cell_type": "code",
   "execution_count": 35,
   "metadata": {},
   "outputs": [
    {
     "data": {
      "text/plain": [
       "array([11, 22, 33, 44, 55])"
      ]
     },
     "execution_count": 35,
     "metadata": {},
     "output_type": "execute_result"
    }
   ],
   "source": [
    "e = np.array([11, 22, 33, 44, 55])\n",
    "e"
   ]
  },
  {
   "cell_type": "markdown",
   "metadata": {},
   "source": [
    "# Python NumPy Arithmetic Operations Examples\n",
    "The following are the list of arithmetic operators and arithmetic functions that are available to perform NumPy Arithmetic Operations in Python"
   ]
  },
  {
   "cell_type": "markdown",
   "metadata": {},
   "source": [
    "# Python NumPy add function\n",
    "This NumPy add function adds two arrays."
   ]
  },
  {
   "cell_type": "code",
   "execution_count": 36,
   "metadata": {},
   "outputs": [
    {
     "data": {
      "text/plain": [
       "array([ 16,  55, 104, 153, 252])"
      ]
     },
     "execution_count": 36,
     "metadata": {},
     "output_type": "execute_result"
    }
   ],
   "source": [
    "np.add(a, b)"
   ]
  },
  {
   "cell_type": "code",
   "execution_count": 37,
   "metadata": {},
   "outputs": [
    {
     "data": {
      "text/plain": [
       "array([[ 76,  38,  69,  57,  74],\n",
       "       [ 33,  47, 123,  28, 129],\n",
       "       [159,  37,  36,  36,  29],\n",
       "       [ 87, 177, 142,  40, 202],\n",
       "       [113,  91,  27, 134, 136]])"
      ]
     },
     "execution_count": 37,
     "metadata": {},
     "output_type": "execute_result"
    }
   ],
   "source": [
    "np.add(c, d)"
   ]
  },
  {
   "cell_type": "code",
   "execution_count": null,
   "metadata": {},
   "outputs": [],
   "source": [
    "Let me try to add an array of different sizes"
   ]
  },
  {
   "cell_type": "code",
   "execution_count": 38,
   "metadata": {},
   "outputs": [
    {
     "data": {
      "text/plain": [
       "array([[ 77,  75, 155, 204, 323],\n",
       "       [ 35,  85, 213, 176, 373],\n",
       "       [166,  74, 122, 184, 276],\n",
       "       [ 90, 218, 229, 190, 447],\n",
       "       [123, 134, 115, 281, 381]])"
      ]
     },
     "execution_count": 38,
     "metadata": {},
     "output_type": "execute_result"
    }
   ],
   "source": [
    "np.add(a, c)"
   ]
  },
  {
   "cell_type": "code",
   "execution_count": 39,
   "metadata": {},
   "outputs": [
    {
     "data": {
      "text/plain": [
       "array([[ 16,  55, 104, 153, 252],\n",
       "       [ 16,  55, 104, 153, 252],\n",
       "       [ 16,  55, 104, 153, 252],\n",
       "       [ 16,  55, 104, 153, 252],\n",
       "       [ 16,  55, 104, 153, 252]])"
      ]
     },
     "execution_count": 39,
     "metadata": {},
     "output_type": "execute_result"
    }
   ],
   "source": [
    "np.add(a, b, c)"
   ]
  },
  {
   "cell_type": "markdown",
   "metadata": {},
   "source": [
    "# Python NumPy multiply function"
   ]
  },
  {
   "cell_type": "code",
   "execution_count": null,
   "metadata": {},
   "outputs": [],
   "source": [
    "np.multiply(a, b)\n",
    "np.multiply(c, d)\n",
    "np.multiply(d, c)"
   ]
  },
  {
   "cell_type": "markdown",
   "metadata": {},
   "source": [
    "# Python random Array\n",
    "In Python, we have the random module used to generate random numbers of a given type using the PRNG algorithm. Here, we are going to discuss the list of available functions to generate a random array in Python."
   ]
  },
  {
   "cell_type": "markdown",
   "metadata": {},
   "source": [
    "# Python random Array using rand"
   ]
  },
  {
   "cell_type": "markdown",
   "metadata": {},
   "source": [
    "The Numpy random rand function creates an array of random numbers from 0 to 1. Here, you have to specify the shape of an array."
   ]
  },
  {
   "cell_type": "code",
   "execution_count": 40,
   "metadata": {},
   "outputs": [
    {
     "name": "stdout",
     "output_type": "stream",
     "text": [
      "-----Generated Random Array----\n",
      "[0.66026448 0.20136701 0.84043657 0.69123284 0.53069021 0.04896768\n",
      " 0.62176452]\n",
      "\n",
      "-----Generated Random Array----\n",
      "[0.35469109 0.39900061 0.49598791 0.63376974 0.29699132 0.1217922\n",
      " 0.48255268 0.56060244 0.90143731 0.07948159]\n"
     ]
    }
   ],
   "source": [
    "import numpy as np\n",
    " \n",
    "arr = np.random.rand(7)\n",
    " \n",
    "print('-----Generated Random Array----')\n",
    "print(arr)\n",
    " \n",
    "arr2 = np.random.rand(10)\n",
    "print('\\n-----Generated Random Array----')\n",
    "print(arr2)"
   ]
  },
  {
   "cell_type": "markdown",
   "metadata": {},
   "source": [
    "# Python 2D Random Array"
   ]
  },
  {
   "cell_type": "code",
   "execution_count": 41,
   "metadata": {},
   "outputs": [
    {
     "name": "stdout",
     "output_type": "stream",
     "text": [
      "-----Generated Two Dimensional Random Array----\n",
      "[[0.77855182 0.57587048]\n",
      " [0.6483124  0.39397576]]\n",
      "\n",
      "-----Generated Two Dimensional Random Array----\n",
      "[[0.7507301  0.6887818  0.93008782 0.42538663 0.58887321]\n",
      " [0.22398949 0.75080657 0.42155883 0.66874496 0.73973141]\n",
      " [0.75773927 0.2044906  0.90309269 0.46730683 0.77519001]\n",
      " [0.64596413 0.65451267 0.00849265 0.12811517 0.74743693]]\n"
     ]
    }
   ],
   "source": [
    "import numpy as np\n",
    " \n",
    "arr = np.random.rand(2, 2)\n",
    " \n",
    "print('-----Generated Two Dimensional Random Array----')\n",
    "print(arr)\n",
    " \n",
    "arr2 = np.random.rand(4, 5)\n",
    "print('\\n-----Generated Two Dimensional Random Array----')\n",
    "print(arr2)"
   ]
  },
  {
   "cell_type": "markdown",
   "metadata": {},
   "source": [
    "# Python 3D Random Array"
   ]
  },
  {
   "cell_type": "code",
   "execution_count": 42,
   "metadata": {},
   "outputs": [
    {
     "name": "stdout",
     "output_type": "stream",
     "text": [
      "-----Generated Three Dimensional Random Array----\n",
      "[[[0.51062732 0.90648752]\n",
      "  [0.41555593 0.30730337]]\n",
      "\n",
      " [[0.82710775 0.49969206]\n",
      "  [0.91140395 0.01796797]]]\n",
      "\n",
      "-----Generated Three Dimensional Random Array----\n",
      "[[[0.71729433 0.48797503 0.46463169 0.486938   0.74687242]\n",
      "  [0.21030911 0.38557735 0.52813541 0.19946975 0.71495756]\n",
      "  [0.09762073 0.5683974  0.33209718 0.7052584  0.84567171]\n",
      "  [0.89653268 0.74935748 0.71811038 0.01580126 0.79928911]]\n",
      "\n",
      " [[0.36115036 0.27031126 0.13249328 0.53558138 0.34323228]\n",
      "  [0.98143132 0.24205988 0.04301576 0.31614883 0.77894253]\n",
      "  [0.13379004 0.24891087 0.06246573 0.91998593 0.60042199]\n",
      "  [0.04909371 0.91643098 0.14422594 0.26207561 0.15851736]]]\n"
     ]
    }
   ],
   "source": [
    "import numpy as np\n",
    " \n",
    "arr = np.random.rand(2, 2, 2)\n",
    " \n",
    "print('-----Generated Three Dimensional Random Array----')\n",
    "print(arr)\n",
    " \n",
    "arr2 = np.random.rand(2, 4, 5)\n",
    "print('\\n-----Generated Three Dimensional Random Array----')\n",
    "print(arr2)"
   ]
  },
  {
   "cell_type": "code",
   "execution_count": null,
   "metadata": {},
   "outputs": [],
   "source": []
  }
 ],
 "metadata": {
  "kernelspec": {
   "display_name": "base",
   "language": "python",
   "name": "python3"
  },
  "language_info": {
   "codemirror_mode": {
    "name": "ipython",
    "version": 3
   },
   "file_extension": ".py",
   "mimetype": "text/x-python",
   "name": "python",
   "nbconvert_exporter": "python",
   "pygments_lexer": "ipython3",
   "version": "3.9.7 (default, Sep 16 2021, 16:59:28) [MSC v.1916 64 bit (AMD64)]"
  },
  "vscode": {
   "interpreter": {
    "hash": "ad2bdc8ecc057115af97d19610ffacc2b4e99fae6737bb82f5d7fb13d2f2c186"
   }
  }
 },
 "nbformat": 4,
 "nbformat_minor": 2
}
