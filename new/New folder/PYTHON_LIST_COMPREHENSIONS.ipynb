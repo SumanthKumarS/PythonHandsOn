{
 "cells": [
  {
   "cell_type": "code",
   "execution_count": 1,
   "metadata": {},
   "outputs": [
    {
     "name": "stdout",
     "output_type": "stream",
     "text": [
      "[1, 2, 3, 4, 5, 6, 7, 8]\n"
     ]
    }
   ],
   "source": [
    "# python list comprehesions\n",
    "numbers = [1,2,3,4,5,6,7,8]\n",
    "new_lst = []\n",
    "for i in numbers:\n",
    "    new_lst.append(i)\n",
    "print(new_lst)"
   ]
  },
  {
   "cell_type": "code",
   "execution_count": 2,
   "metadata": {},
   "outputs": [
    {
     "name": "stdout",
     "output_type": "stream",
     "text": [
      "[1, 2, 3, 4, 5, 6, 7, 8]\n",
      "---------------------------------------\n",
      "[1, 2, 3, 4, 5, 6, 7, 8]\n"
     ]
    }
   ],
   "source": [
    "numbers = [1,2,3,4,5,6,7,8]\n",
    "new_lst = []\n",
    "for i in numbers:\n",
    "    new_lst.append(i)\n",
    "print(new_lst)\n",
    "print(\"---------------------------------------\")\n",
    "# list comphersion\n",
    "new_lst = [num for num in numbers]\n",
    "print(new_lst)"
   ]
  },
  {
   "cell_type": "code",
   "execution_count": 3,
   "metadata": {},
   "outputs": [
    {
     "name": "stdout",
     "output_type": "stream",
     "text": [
      "[2, 4, 6, 8, 10, 12, 14, 16]\n",
      "---------------------------------------\n",
      "[2, 4, 6, 8, 10, 12, 14, 16]\n"
     ]
    }
   ],
   "source": [
    "# creating a list with numbers multiple of 2\n",
    "numbers = [1,2,3,4,5,6,7,8]\n",
    "new_lst = []\n",
    "for i in numbers:\n",
    "    new_lst.append(i*2)\n",
    "print(new_lst)\n",
    "print(\"---------------------------------------\")\n",
    "# list comphersion\n",
    "new_lst = [num * 2 for num in numbers]\n",
    "print(new_lst)\n"
   ]
  },
  {
   "cell_type": "code",
   "execution_count": 7,
   "metadata": {},
   "outputs": [
    {
     "name": "stdout",
     "output_type": "stream",
     "text": [
      "[2, 4, 6, 8]\n",
      "[2, 4, 6, 8]\n"
     ]
    }
   ],
   "source": [
    "# creating a list which is divisible by 2\n",
    "numbers = [1,2,3,4,5,6,7,8]\n",
    "new_lst = []\n",
    "for i in numbers:\n",
    "    if i%2 == 0:\n",
    "        new_lst.append(i)\n",
    "print(new_lst)\n",
    "# using list comprehension\n",
    "new_lst = [new for new in numbers if new%2 == 0]\n",
    "print(new_lst)"
   ]
  },
  {
   "cell_type": "code",
   "execution_count": 17,
   "metadata": {},
   "outputs": [
    {
     "name": "stdout",
     "output_type": "stream",
     "text": [
      "[2, 4, 5, 6, 8]\n",
      "[2, 4, 5, 6, 8]\n"
     ]
    }
   ],
   "source": [
    "# creating a list which is divisible by 2 with multiple conditions?\n",
    "# numbers = [1,2,3,4,5,6,7,8]\n",
    "new_lst = []\n",
    "for i in range(1,10):\n",
    "    if i%2 == 0 or i%5 == 0:\n",
    "        new_lst.append(i)\n",
    "print(new_lst)\n",
    "# using list comprehension\n",
    "new_lst = [new for new in range(1,10) if new%2 == 0 or new%5 == 0]\n",
    "print(new_lst)"
   ]
  },
  {
   "cell_type": "code",
   "execution_count": 21,
   "metadata": {},
   "outputs": [
    {
     "name": "stdout",
     "output_type": "stream",
     "text": [
      "even\n",
      "odd\n",
      "even\n",
      "odd\n",
      "even\n",
      "odd\n",
      "even\n",
      "odd\n",
      "even\n",
      "odd\n",
      "---------------------\n",
      "['even', 'odd', 'even', 'odd', 'even', 'odd', 'even', 'odd', 'even', 'odd']\n"
     ]
    }
   ],
   "source": [
    "# if else ststement in list\n",
    "new_lst = []\n",
    "for i in range(0,10):\n",
    "    if i%2 ==0 :\n",
    "        new_lst = \"even\"\n",
    "    else:\n",
    "        new_lst = \"odd\"\n",
    "    print(new_lst)\n",
    "print(\"---------------------\")\n",
    "new_lst = [\"even\" if num%2==0 else \"odd\" for num in range(0,10)]\n",
    "print(new_lst)"
   ]
  },
  {
   "cell_type": "code",
   "execution_count": null,
   "metadata": {},
   "outputs": [],
   "source": []
  }
 ],
 "metadata": {
  "kernelspec": {
   "display_name": "base",
   "language": "python",
   "name": "python3"
  },
  "language_info": {
   "codemirror_mode": {
    "name": "ipython",
    "version": 3
   },
   "file_extension": ".py",
   "mimetype": "text/x-python",
   "name": "python",
   "nbconvert_exporter": "python",
   "pygments_lexer": "ipython3",
   "version": "3.9.7"
  },
  "orig_nbformat": 4,
  "vscode": {
   "interpreter": {
    "hash": "ad2bdc8ecc057115af97d19610ffacc2b4e99fae6737bb82f5d7fb13d2f2c186"
   }
  }
 },
 "nbformat": 4,
 "nbformat_minor": 2
}
