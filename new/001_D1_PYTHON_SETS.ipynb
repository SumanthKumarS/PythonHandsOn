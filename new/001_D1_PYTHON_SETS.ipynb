{
 "cells": [
  {
   "attachments": {},
   "cell_type": "markdown",
   "metadata": {},
   "source": [
    "# Python Set \n",
    "python set date type is similar to lists. \n",
    "### however it dose not accept duplicate items which is not unique\n",
    "The Python set is an unordered collection of zero or more items which are unindexed(no index position)\n",
    "python allows mutable items like adding and removing items in a set is very easy.\n",
    "slicing set is not possible in python because of no index\n",
    "generlly python sets are very useful to performming mathematical operations like union intersection set comarision and set differences"
   ]
  },
  {
   "attachments": {},
   "cell_type": "markdown",
   "metadata": {},
   "source": [
    "# Python set Declaration\n",
    "# A set is created by placing the required items inside curly braces or using the set() function without any arguments.\n",
    "Sets allow you to place different kinds of data type items like integer, string, etc., in a single set. The following are the available list of ways to declare sets in Python."
   ]
  },
  {
   "cell_type": "code",
   "execution_count": null,
   "metadata": {},
   "outputs": [],
   "source": [
    "#Declaration of emty set\n",
    "my_set = {} \n",
    "#Declaration of empty list\n",
    "my_list = set()\n",
    "\n",
    "#set with integer keys\n",
    "my_set = {1,2,3,4,5,6}\n",
    "\n",
    "#set with string keys\n",
    "my_set = {'apple','bannana','mango','orange'}\n",
    "\n",
    "#mixed set of int and string\n",
    "my_set = {1,2,3,4,5,6,'apple'}\n",
    "#set with mixed keys\n",
    "my_set = {'apple','bannana','mango',1,2}\n",
    "\n",
    "#python set using set()\n",
    "my_set = set([1,2,3,4,5])\n",
    "my_set = set((1,2,3,4,5))\n",
    "my_set = set(['apple','bannana','mango','orange'])\n",
    "my_set = set(('apple','bannana','mango','orange'))\n"
   ]
  },
  {
   "attachments": {},
   "cell_type": "markdown",
   "metadata": {},
   "source": [
    "# python set example"
   ]
  },
  {
   "cell_type": "code",
   "execution_count": 1,
   "metadata": {},
   "outputs": [
    {
     "name": "stdout",
     "output_type": "stream",
     "text": [
      "{}\n",
      "set()\n",
      "{1, 2, 3, 4, 5, 6}\n",
      "{'bannana', 'apple', 'mango', 'orange'}\n"
     ]
    }
   ],
   "source": [
    "#Set declaration\n",
    "#empty set\n",
    "myset1 = {}\n",
    "myset2 = set()\n",
    "\n",
    "#set with integer keys\n",
    "myset3 = {1,2,3,4,5,6}\n",
    "\n",
    "#set with string keys\n",
    "myset4 = {'apple','bannana','mango','orange'}\n",
    "\n",
    "print(myset1)\n",
    "print(myset2)\n",
    "print(myset3)\n",
    "print(myset4)"
   ]
  },
  {
   "attachments": {},
   "cell_type": "markdown",
   "metadata": {},
   "source": [
    "# python mixed set declaration"
   ]
  },
  {
   "cell_type": "code",
   "execution_count": 6,
   "metadata": {},
   "outputs": [
    {
     "name": "stdout",
     "output_type": "stream",
     "text": [
      "{1, 2, 3, 4, 5, 6, 'apple'}\n",
      "{1, 2, 'mango', 'bannana', 'apple'}\n",
      "{'banana', 1, 2, (1, 2, 3)}\n",
      "[1, 2, 3, 4, 5]\n",
      "(1, 2, 3, 4, 5)\n",
      "['apple', 'bannana', 'mango', 'orange']\n",
      "('apple', 'bannana', 'mango', 'orange')\n"
     ]
    }
   ],
   "source": [
    "#mixed set of int and string\n",
    "my_set1 = {1,2,3,4,5,6,'apple'}\n",
    "#set with mixed keys\n",
    "my_set2 = {'apple','bannana','mango',1,2}\n",
    "my_set3 = {'banana', 1, 2, (1, 2, 3)}\n",
    "print(my_set1)\n",
    "print(my_set2)\n",
    "print(my_set3)\n",
    "#python set using set()\n",
    "my_set4 = ([1,2,3,4,5])\n",
    "my_set5 = ((1,2,3,4,5))\n",
    "\n",
    "my_set6 = (['apple','bannana','mango','orange'])\n",
    "my_set7 = (('apple','bannana','mango','orange'))\n",
    "print(my_set4)\n",
    "print(my_set5)\n",
    "print(my_set6)\n",
    "print(my_set7)\n"
   ]
  },
  {
   "attachments": {},
   "cell_type": "markdown",
   "metadata": {},
   "source": [
    "# set {} vs set()"
   ]
  },
  {
   "cell_type": "code",
   "execution_count": 9,
   "metadata": {},
   "outputs": [
    {
     "name": "stdout",
     "output_type": "stream",
     "text": [
      "{'capgemini university'}\n",
      "{'r', 'c', 'g', 'n', 's', 't', 'a', 'v', 'e', 'i', 'u', ' ', 'y', 'm', 'p'}\n",
      "{12345}\n",
      "{'4', '3', '2', '5', '1'}\n"
     ]
    }
   ],
   "source": [
    "# set {} vs set()\n",
    "myset = {'capgemini university'}\n",
    "myset1 = set('capgemini university')\n",
    "print(myset)\n",
    "print(myset1)\n",
    "myset2 = {12345}\n",
    "# myset3 = set(12345)\n",
    "# ---------------------------------------------------------------------------\n",
    "# TypeError                                 Traceback (most recent call last)\n",
    "# ~\\AppData\\Local\\Temp/ipykernel_10888/1896442331.py in <module>\n",
    "#       5 print(myset1)\n",
    "#       6 myset2 = {12345}\n",
    "# ----> 7 myset3 = set(12345)\n",
    "#       8 print(myset2)\n",
    "#       9 print(myset3)\n",
    "\n",
    "# TypeError: 'int' object is not iterable\n",
    "myset3 = set('12345')\n",
    "print(myset2)\n",
    "print(myset3)"
   ]
  },
  {
   "attachments": {},
   "cell_type": "markdown",
   "metadata": {},
   "source": [
    "# insert into items in python set"
   ]
  },
  {
   "cell_type": "code",
   "execution_count": 10,
   "metadata": {},
   "outputs": [
    {
     "name": "stdout",
     "output_type": "stream",
     "text": [
      "my new set :  {1, 2, 3, 4, 5, 6, 7}\n",
      "my new set for string :  {'mango', 'kiwi', 'bannana', 'apple', 'orange'}\n"
     ]
    }
   ],
   "source": [
    "# add items to the setfor int\n",
    "#set with integer keys\n",
    "myset3 = {1,2,3,4,5,6}\n",
    "myset3.add(7)\n",
    "print('my new set : ',myset3)\n",
    "\n",
    "#set with string keys\n",
    "myset4 = {'apple','bannana','mango','orange'}\n",
    "myset4.add('kiwi')\n",
    "print('my new set for string : ',myset4)"
   ]
  },
  {
   "attachments": {},
   "cell_type": "markdown",
   "metadata": {},
   "source": [
    "# Python set update Method\n",
    "\n",
    "The set update method helps us to add multiple set items. This example shows how to add multiple set items. \n",
    "\n",
    "# Remember, you use duplicate value inside the update method, the set ignores them."
   ]
  },
  {
   "cell_type": "code",
   "execution_count": 12,
   "metadata": {},
   "outputs": [
    {
     "name": "stdout",
     "output_type": "stream",
     "text": [
      "old set {1, 2, 3, 4}\n",
      "new set :  {1, 2, 3, 4, 5, 7}\n",
      "old set {'bannana', 'apple', 'mango', 'orange'}\n",
      "new set :  {'papaya', 'mango', 'orange', 'kiwi', 'bannana', 'apple'}\n"
     ]
    }
   ],
   "source": [
    "# update set\n",
    "myset = {1,2,3,4}\n",
    "print(\"old set\",myset)\n",
    "myset.update([2,3,5,7])\n",
    "print('new set : ',myset)\n",
    "fruitset = {'apple','bannana','mango','orange'}\n",
    "print(\"old set\",fruitset)\n",
    "fruitset.update({'kiwi','papaya'})\n",
    "print('new set : ',fruitset)"
   ]
  },
  {
   "attachments": {},
   "cell_type": "markdown",
   "metadata": {},
   "source": [
    "# Python set update Example 2"
   ]
  },
  {
   "cell_type": "code",
   "execution_count": 13,
   "metadata": {},
   "outputs": [
    {
     "name": "stdout",
     "output_type": "stream",
     "text": [
      "Old Set Items =  {1, 2, 5, 6}\n",
      "New Set Items =  {1, 2, 3, 5, 6, 7, 8, 9}\n"
     ]
    }
   ],
   "source": [
    "# set update\n",
    "# set update\n",
    "\n",
    "mySet = {1, 2, 5, 6}\n",
    "print(\"Old Set Items = \", mySet)\n",
    "\n",
    "# Set update\n",
    "mySet.update([2, 3, 6, 7], {5, 8, 9})\n",
    "print(\"New Set Items = \", mySet)"
   ]
  },
  {
   "attachments": {},
   "cell_type": "markdown",
   "metadata": {},
   "source": [
    "# Remove Python Set items\n",
    "There are several different functions to delete or remove an item from a Set:\n",
    "\n",
    "Python Set remove method\n",
    "If we know the set item or the value inside the given set, then we can use the remove method."
   ]
  },
  {
   "cell_type": "code",
   "execution_count": 14,
   "metadata": {},
   "outputs": [
    {
     "name": "stdout",
     "output_type": "stream",
     "text": [
      "Old Set Items =  {1, 2, 3, 4, 5, 6, 7, 8, 9}\n",
      "New Set Items =  {1, 2, 3, 5, 6, 7, 8, 9}\n",
      "\n",
      "Old Set Items =  {'banana', 'cherry', 'Mango', 'kiwi', 'apple', 'orange'}\n",
      "New Set Items =  {'banana', 'cherry', 'Mango', 'kiwi', 'apple'}\n"
     ]
    }
   ],
   "source": [
    "# set remove\n",
    "\n",
    "mySet = {1, 2, 3, 4, 5, 6, 7, 8, 9}\n",
    "print(\"Old Set Items = \", mySet)\n",
    "\n",
    "# Set remove()\n",
    "mySet.remove(4)\n",
    "print(\"New Set Items = \", mySet)\n",
    "\n",
    "FruitSet = {'apple', 'Mango', 'orange', 'banana', 'cherry','kiwi'}\n",
    "print(\"\\nOld Set Items = \", FruitSet)\n",
    "\n",
    "# Set remove()\n",
    "FruitSet.remove('orange')\n",
    "print(\"New Set Items = \", FruitSet)"
   ]
  },
  {
   "attachments": {},
   "cell_type": "markdown",
   "metadata": {},
   "source": [
    "# Remove Python set item using del statement\n",
    "The del statement completely removes the given set. If you select the set after executing this del method, it throws an error. It is because this set del function altogether removes the set."
   ]
  },
  {
   "cell_type": "code",
   "execution_count": 15,
   "metadata": {},
   "outputs": [
    {
     "name": "stdout",
     "output_type": "stream",
     "text": [
      "Old Set Items =  {1, 2, 3, 4, 5, 6, 7, 8, 9}\n"
     ]
    },
    {
     "ename": "NameError",
     "evalue": "name 'mySet' is not defined",
     "output_type": "error",
     "traceback": [
      "\u001b[1;31m---------------------------------------------------------------------------\u001b[0m",
      "\u001b[1;31mNameError\u001b[0m                                 Traceback (most recent call last)",
      "\u001b[1;32m~\\AppData\\Local\\Temp/ipykernel_10888/2794840750.py\u001b[0m in \u001b[0;36m<module>\u001b[1;34m\u001b[0m\n\u001b[0;32m      6\u001b[0m \u001b[1;31m# Set del\u001b[0m\u001b[1;33m\u001b[0m\u001b[1;33m\u001b[0m\u001b[0m\n\u001b[0;32m      7\u001b[0m \u001b[1;32mdel\u001b[0m \u001b[0mmySet\u001b[0m\u001b[1;33m\u001b[0m\u001b[1;33m\u001b[0m\u001b[0m\n\u001b[1;32m----> 8\u001b[1;33m \u001b[0mprint\u001b[0m\u001b[1;33m(\u001b[0m\u001b[1;34m\"New Set Items = \"\u001b[0m\u001b[1;33m,\u001b[0m \u001b[0mmySet\u001b[0m\u001b[1;33m)\u001b[0m\u001b[1;33m\u001b[0m\u001b[1;33m\u001b[0m\u001b[0m\n\u001b[0m",
      "\u001b[1;31mNameError\u001b[0m: name 'mySet' is not defined"
     ]
    }
   ],
   "source": [
    "# set del\n",
    "\n",
    "mySet = {1, 2, 3, 4, 5, 6, 7, 8, 9}\n",
    "print(\"Old Set Items = \", mySet)\n",
    "\n",
    "# Set del\n",
    "del mySet \n",
    "# ---------------------------------------------------------------------------\n",
    "# NameError                                 Traceback (most recent call last)\n",
    "# ~\\AppData\\Local\\Temp/ipykernel_10888/2794840750.py in <module>\n",
    "#       6 # Set del\n",
    "#       7 del mySet\n",
    "# ----> 8 print(\"New Set Items = \", mySet)\n",
    "\n",
    "# NameError: name 'mySet' is not defined\n",
    "# print(\"New Set Items = \", mySet)\n"
   ]
  },
  {
   "attachments": {},
   "cell_type": "markdown",
   "metadata": {},
   "source": [
    "# Remove set items using clear method\n",
    "The set clear method helps to clear all the items in a given set. After executing this method, it returns an empty set = set()."
   ]
  },
  {
   "cell_type": "code",
   "execution_count": 16,
   "metadata": {},
   "outputs": [
    {
     "name": "stdout",
     "output_type": "stream",
     "text": [
      "Old Set Items =  {1, 2, 3, 4, 5, 6, 7, 8, 9}\n",
      "New Set Items =  set()\n",
      "\n",
      "Old Set Items =  {'banana', 'cherry', 'Mango', 'kiwi', 'apple', 'orange'}\n",
      "New Set Items =  set()\n"
     ]
    }
   ],
   "source": [
    "# set clear\n",
    "\n",
    "mySet = {1, 2, 3, 4, 5, 6, 7, 8, 9}\n",
    "print(\"Old Set Items = \", mySet)\n",
    "\n",
    "# Set clear()\n",
    "mySet.clear()\n",
    "print(\"New Set Items = \", mySet)\n",
    "\n",
    "FruitSet = {'apple', 'Mango', 'orange', 'banana', 'cherry','kiwi'}\n",
    "print(\"\\nOld Set Items = \", FruitSet)\n",
    "\n",
    "# Set clear()\n",
    "FruitSet.clear()\n",
    "print(\"New Set Items = \", FruitSet)"
   ]
  },
  {
   "attachments": {},
   "cell_type": "markdown",
   "metadata": {},
   "source": [
    "# Remove Set item using discard method\n",
    "The set discard method removes the user-specified set item from a given set. If we know the item or value that you want to delete then, you can use python discard to remove the given set item."
   ]
  },
  {
   "cell_type": "code",
   "execution_count": 17,
   "metadata": {},
   "outputs": [
    {
     "name": "stdout",
     "output_type": "stream",
     "text": [
      "Old Set Items =  {1, 2, 3, 4, 5, 6, 7, 8, 9}\n",
      "New Set Items =  {1, 2, 3, 5, 6, 8, 9}\n",
      "\n",
      "Old Set Items =  {'banana', 'cherry', 'Mango', 'kiwi', 'apple', 'orange'}\n",
      "New Set Items =  {'banana', 'cherry', 'kiwi', 'apple', 'orange'}\n"
     ]
    }
   ],
   "source": [
    "# Python set discard\n",
    "\n",
    "mySet = {1, 2, 3, 4, 5, 6, 7, 8, 9}\n",
    "print(\"Old Set Items = \", mySet)\n",
    "\n",
    "# Set discard()\n",
    "mySet.discard(7) # popin out the elements at a spicific spot\n",
    "mySet.discard(4)\n",
    "print(\"New Set Items = \", mySet)\n",
    "\n",
    "FruitSet = {'apple', 'Mango', 'orange', 'banana', 'cherry','kiwi'}\n",
    "print(\"\\nOld Set Items = \", FruitSet)\n",
    "\n",
    "# Set discard()\n",
    "FruitSet.discard('Mango')\n",
    "print(\"New Set Items = \", FruitSet)"
   ]
  },
  {
   "attachments": {},
   "cell_type": "markdown",
   "metadata": {},
   "source": [
    "# Remove set items using pop method\n",
    "The set pop method removes the last item from a given set. As we all know, sets are not in any particular order. So, you never know which item removed from the set."
   ]
  },
  {
   "cell_type": "code",
   "execution_count": 18,
   "metadata": {},
   "outputs": [
    {
     "name": "stdout",
     "output_type": "stream",
     "text": [
      "Old Set Items =  {1, 2, 3, 4, 5, 6, 7, 8, 9}\n",
      "New Set Items =  {2, 3, 4, 5, 6, 7, 8, 9}\n",
      "\n",
      "Old Set Items =  {'banana', 'cherry', 'Mango', 'kiwi', 'apple', 'orange'}\n",
      "New Set Items =  {'cherry', 'Mango', 'kiwi', 'apple', 'orange'}\n"
     ]
    }
   ],
   "source": [
    "# set discard\n",
    "\n",
    "mySet = {1, 2, 3, 4, 5, 6, 7, 8, 9}\n",
    "print(\"Old Set Items = \", mySet)\n",
    "\n",
    "# Set pop()\n",
    "mySet.pop() # removing elements based on first index values\n",
    "print(\"New Set Items = \", mySet)\n",
    "\n",
    "FruitSet = {'apple', 'Mango', 'orange', 'banana', 'cherry','kiwi'}\n",
    "print(\"\\nOld Set Items = \", FruitSet)\n",
    "\n",
    "# Set pop()\n",
    "FruitSet.pop()\n",
    "print(\"New Set Items = \", FruitSet)"
   ]
  }
 ],
 "metadata": {
  "kernelspec": {
   "display_name": "base",
   "language": "python",
   "name": "python3"
  },
  "language_info": {
   "codemirror_mode": {
    "name": "ipython",
    "version": 3
   },
   "file_extension": ".py",
   "mimetype": "text/x-python",
   "name": "python",
   "nbconvert_exporter": "python",
   "pygments_lexer": "ipython3",
   "version": "3.9.7 (default, Sep 16 2021, 16:59:28) [MSC v.1916 64 bit (AMD64)]"
  },
  "orig_nbformat": 4,
  "vscode": {
   "interpreter": {
    "hash": "ad2bdc8ecc057115af97d19610ffacc2b4e99fae6737bb82f5d7fb13d2f2c186"
   }
  }
 },
 "nbformat": 4,
 "nbformat_minor": 2
}
