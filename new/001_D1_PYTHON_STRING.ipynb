{
 "cells": [
  {
   "cell_type": "markdown",
   "metadata": {},
   "source": [
    "# Python String\n",
    "The Python String is a sequence of characters. In this section, we discuss how to create a String in Python, Accessing String items (individual characters), iterating the strings. Also we can slicing String in Python programming language with example."
   ]
  },
  {
   "attachments": {},
   "cell_type": "markdown",
   "metadata": {},
   "source": [
    "# Create a Python String"
   ]
  },
  {
   "cell_type": "code",
   "execution_count": 3,
   "metadata": {},
   "outputs": [
    {
     "name": "stdout",
     "output_type": "stream",
     "text": [
      "This is a String\n",
      "This is a String with double quotes\n",
      "This is a String for working python\n",
      "This is a String \n",
      "            Learning python programming\n",
      "            at cognizant\n"
     ]
    }
   ],
   "source": [
    "# creating a string in python\n",
    "mystr = 'This is a String'\n",
    "print(mystr)\n",
    "\n",
    "#string with double quote\n",
    "mystr1 = \"This is a String with double quotes\"\n",
    "print(mystr1)\n",
    "\n",
    "#creating a string with multiple singale quote\n",
    "mystr2 = '''This is a String for working python'''\n",
    "print(mystr2)\n",
    "\n",
    "#creating a string with multiple double quote\n",
    "mystr3 = \"\"\"This is a String \n",
    "            Learning python programming\n",
    "            at cognizant\"\"\"\n",
    "print(mystr3)"
   ]
  },
  {
   "attachments": {},
   "cell_type": "markdown",
   "metadata": {},
   "source": [
    "# Access Python String items\n",
    "We can access the elements in a Python String using indexes. Using an index, we can access each item present in the String separately. Index value starts at 0 and ends at n-1, where n is the String length.\n",
    "\n",
    "For example, if a string length is 5, the index starts at 0 and ends with 4. To access 1st value, use String_name[0] and to access the 5th value, then use String_name[4]. Let’s see the example to access Python string items for better understanding:"
   ]
  },
  {
   "cell_type": "code",
   "execution_count": 5,
   "metadata": {},
   "outputs": [
    {
     "name": "stdout",
     "output_type": "stream",
     "text": [
      "C\n",
      "G\n",
      "M\n",
      "I\n",
      "I\n",
      "P\n",
      "----------------------------\n",
      "I\n",
      "Y\n",
      "R\n",
      "V\n",
      "N\n",
      "T\n"
     ]
    }
   ],
   "source": [
    "x = 'CAPGEMNINIUNIVERSITY'\n",
    "print(x[0])\n",
    "print(x[3])\n",
    "print(x[5])\n",
    "print(x[7])\n",
    "print(x[9])\n",
    "print(x[2])\n",
    "print(\"----------------------------\")\n",
    "#negative index values\n",
    "print(x[-3])\n",
    "print(x[-1])\n",
    "print(x[-5])\n",
    "print(x[-7])\n",
    "print(x[-9])\n",
    "print(x[-2])"
   ]
  },
  {
   "attachments": {},
   "cell_type": "markdown",
   "metadata": {},
   "source": [
    "# Iterate Python String\n",
    "The For Loop is the most common way to traverse the items in a Python string."
   ]
  },
  {
   "cell_type": "code",
   "execution_count": 7,
   "metadata": {},
   "outputs": [
    {
     "name": "stdout",
     "output_type": "stream",
     "text": [
      "letter are:  S\n",
      "letter are:  u\n",
      "letter are:  m\n",
      "letter are:  a\n",
      "letter are:  n\n",
      "letter are:  t\n",
      "letter are:  h\n",
      "letter are:   \n",
      "letter are:  K\n",
      "letter are:  u\n",
      "letter are:  m\n",
      "letter are:  a\n",
      "letter are:  r\n",
      "letter are:   \n",
      "letter are:  S\n"
     ]
    }
   ],
   "source": [
    "str = 'Sumanth Kumar S'\n",
    "for word in str:\n",
    "    print('letter are: ',word)"
   ]
  },
  {
   "attachments": {},
   "cell_type": "markdown",
   "metadata": {},
   "source": [
    "# Python String Concatenation\n",
    "Joining or combining more than one string is called concatenation. Python programming language provides multiple ways to concat strings\n",
    "\n",
    "We can use + operator to join more than one string\n",
    "By placing more than one string literal, Python joins them automatically.\n",
    "Placing more than one string inside the one and closed parentheses ()"
   ]
  },
  {
   "cell_type": "code",
   "execution_count": 9,
   "metadata": {},
   "outputs": [
    {
     "name": "stdout",
     "output_type": "stream",
     "text": [
      "Sumanth Kumar \n",
      "pythonSumanth \n",
      "sumanthkumar\n",
      "sumanthkumar\n",
      "Sumanth Sumanth Sumanth \n"
     ]
    }
   ],
   "source": [
    "x = 'Sumanth '\n",
    "y = 'Kumar '\n",
    "z = 'S '\n",
    "concat = x+y\n",
    "concat1 = 'python'+x\n",
    "concat2 = 'sumanth' 'kumar'\n",
    "concat3 = ('sumanth' 'kumar')\n",
    "print(concat)\n",
    "print(concat1)\n",
    "print(concat2)\n",
    "print(concat3)\n",
    "\n",
    "z = x * 3\n",
    "print(z)"
   ]
  },
  {
   "attachments": {},
   "cell_type": "markdown",
   "metadata": {},
   "source": [
    "# Python String Slice\n",
    "In python String Slice, the first integer value is the index position where the slicing start and the second integer value is the index position where the slicing end."
   ]
  },
  {
   "cell_type": "code",
   "execution_count": 16,
   "metadata": {},
   "outputs": [
    {
     "name": "stdout",
     "output_type": "stream",
     "text": [
      "gemi\n",
      "capge\n",
      "mini igate university\n",
      "capgemini igate university\n",
      "capgemini igate universit\n",
      "capgemini igate uni\n",
      "y\n",
      "versity\n"
     ]
    }
   ],
   "source": [
    "x = 'capgemini igate university'\n",
    "# sclicing string using two indexes\n",
    "a = x[3:7] # gemi\n",
    "print(a)\n",
    "\n",
    "# sclicing string using second indexes\n",
    "a = x[:5] # capge\n",
    "print(a)\n",
    "\n",
    "# sclincing string using first indexes\n",
    "a = x[5:] # mini igate university\n",
    "print(a)\n",
    "\n",
    "# sclincing string without indexes\n",
    "a = x[:] # capgemini igate university\n",
    "print(a)\n",
    "\n",
    "# sclincing string with negative second indexes\n",
    "a = x[:-1] # capgemini igate universit\n",
    "print(a)\n",
    "a = x[:-7] # capgemini igate uni\n",
    "print(a)\n",
    "\n",
    "# sclincing string with negative first indexes\n",
    "a = x[-1:] # capgemini igate universit\n",
    "print(a)\n",
    "a = x[-7:] # capgemini igate uni\n",
    "print(a)"
   ]
  },
  {
   "attachments": {},
   "cell_type": "markdown",
   "metadata": {},
   "source": [
    "If you omit the first index, the python string slicing starts from the beginning.\n",
    "If you omit the second index, String Slicing starts from the first index and continues to the last.\n",
    "And, If you are using the Negative numbers as an index, the Python string slicing starts from right to left."
   ]
  }
 ],
 "metadata": {
  "kernelspec": {
   "display_name": "base",
   "language": "python",
   "name": "python3"
  },
  "language_info": {
   "codemirror_mode": {
    "name": "ipython",
    "version": 3
   },
   "file_extension": ".py",
   "mimetype": "text/x-python",
   "name": "python",
   "nbconvert_exporter": "python",
   "pygments_lexer": "ipython3",
   "version": "3.9.7"
  },
  "orig_nbformat": 4,
  "vscode": {
   "interpreter": {
    "hash": "ad2bdc8ecc057115af97d19610ffacc2b4e99fae6737bb82f5d7fb13d2f2c186"
   }
  }
 },
 "nbformat": 4,
 "nbformat_minor": 2
}
