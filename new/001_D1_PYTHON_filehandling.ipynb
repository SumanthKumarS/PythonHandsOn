{
 "cells": [
  {
   "cell_type": "code",
   "execution_count": 4,
   "metadata": {},
   "outputs": [
    {
     "name": "stdout",
     "output_type": "stream",
     "text": [
      "f:\\sumanth\\Python-Code\\Python section2\n",
      "\n",
      "\n",
      "['001_D1_PYTHON_ARITH_OP.ipynb', '001_D1_PYTHON_ARRAYS.ipynb', '001_D1_PYTHON_CondStm.ipynb', '001_D1_PYTHON_DATES.ipynb', '001_D1_PYTHON_DEMO.ipynb', '001_D1_PYTHON_DEMO.py', '001_D1_PYTHON_differece_betw_copy_equalInDict.ipynb', '001_D1_PYTHON_filehandling.ipynb', '001_D1_PYTHON_functions.ipynb', '001_D1_PYTHON_lambda.ipynb', '001_D1_PYTHON_List.ipynb', '001_D1_PYTHON_LOOPS.ipynb', '001_D1_PYTHON_SETS.ipynb', '001_D1_PYTHON_STRING.ipynb', '001_D1_PYTHON_TUPLES.ipynb', '01_PYTHON_LAMBDA_FUNCTIONS.ipynb', '01_PYTHON_SETS.ipynb', '02_PYTHON_FUNCTIONS.ipynb', '02_PYTHON_STRINGS.ipynb', '03_PYTHON_TUPLE.ipynb', '03_TYPES_OF_FUNCTIONS_IN_PYTHON.ipynb', '04_ARRAY.ipynb', '04_PYTHON_FILE_HANDLING.ipynb', '04_PYTHON_LISTS.ipynb', '05_PHYTHON_DATES.ipynb', '05_PHYTHON_Dictionary.ipynb', '06_PYTHON_DICTIONARY.ipynb', '07_DIFFERENCE_BTWN_COPY_AND_EQUAL_TO_IN_DICT.ipynb', 'demo.py', 'p1.py', 'p1.txt', 'whitespace.py']\n"
     ]
    }
   ],
   "source": [
    "# file operations \n",
    "import os # provides the system acces to read the file in the system and save the file to the system\n",
    "print(os.getcwd()) # get the current dictory of the file\n",
    "print(\"\\n\")\n",
    "print(os.listdir()) # list the file present in the current directoryS"
   ]
  },
  {
   "cell_type": "code",
   "execution_count": 18,
   "metadata": {},
   "outputs": [
    {
     "name": "stdout",
     "output_type": "stream",
     "text": [
      "hello how are u\n",
      "i am fine tank you\n",
      "my name\n",
      "is sumanth \n",
      "he,\n"
     ]
    }
   ],
   "source": [
    "f_open = open(\"f:/sumanth/Python-Code/Python section2/a.txt\",'r')\n",
    "print(f_open.read()) # helps to read the file"
   ]
  },
  {
   "cell_type": "code",
   "execution_count": 19,
   "metadata": {},
   "outputs": [
    {
     "name": "stdout",
     "output_type": "stream",
     "text": [
      "h\n",
      "------------\n",
      "ello \n",
      "------------\n",
      "how are u\n",
      "\n",
      "------------\n"
     ]
    }
   ],
   "source": [
    "f_open = open(\"f:/sumanth/Python-Code/Python section2/a.txt\",'r')\n",
    "print(f_open.read(1)) # helps to read the file\n",
    "print(\"------------\")\n",
    "print(f_open.read(5)) # helps to read the file\n",
    "print(\"------------\")\n",
    "print(f_open.read(10)) # helps to read the file\n",
    "print(\"------------\")\n"
   ]
  },
  {
   "cell_type": "code",
   "execution_count": 20,
   "metadata": {},
   "outputs": [
    {
     "name": "stdout",
     "output_type": "stream",
     "text": [
      "hello how are u\n",
      "\n",
      "i am fine tank you\n",
      "\n",
      "my name\n",
      "\n",
      "is sumanth \n",
      "\n",
      "he,\n"
     ]
    }
   ],
   "source": [
    "f_open = open(\"f:/sumanth/Python-Code/Python section2/a.txt\",'r')\n",
    "for char in f_open:\n",
    "    print(char) # print line by line"
   ]
  },
  {
   "cell_type": "code",
   "execution_count": 29,
   "metadata": {},
   "outputs": [
    {
     "name": "stdout",
     "output_type": "stream",
     "text": [
      "hello how are u\n",
      "\n",
      "i am fine tank you\n",
      "\n",
      "my name\n",
      "\n"
     ]
    }
   ],
   "source": [
    "f_open = open(\"f:/sumanth/Python-Code/Python section2/a.txt\",'r')\n",
    "print(f_open.readline()) #next line \n",
    "# print(\"----------------\")\n",
    "print(f_open.readline()) # its next line\n",
    "# print(\"----------------\")\n",
    "print(f_open.readline())\n",
    "# print(\"----------------\")\n",
    "# f_open.readline()\n"
   ]
  },
  {
   "cell_type": "code",
   "execution_count": 32,
   "metadata": {},
   "outputs": [
    {
     "name": "stdout",
     "output_type": "stream",
     "text": [
      "hello how are u\n",
      "\n"
     ]
    }
   ],
   "source": [
    "f_open = open(\"f:/sumanth/Python-Code/Python section2/a.txt\",'r')\n",
    "print(f_open.readline())\n",
    "f_open.close()\n",
    "#print(f_open.readline()) this will give error becuse file is closed"
   ]
  },
  {
   "cell_type": "code",
   "execution_count": 34,
   "metadata": {},
   "outputs": [
    {
     "name": "stdout",
     "output_type": "stream",
     "text": [
      "hello how are u\n",
      "i am fine tank you\n",
      "my name\n",
      "is sumanth \n",
      "he,\n",
      "end\n"
     ]
    }
   ],
   "source": [
    "try:\n",
    "    f_open = open(\"f:/sumanth/Python-Code/Python section2/a.txt\",'r')\n",
    "    print(f_open.read())\n",
    "finally:\n",
    "    print(\"end\")\n",
    "    f_open.close()"
   ]
  },
  {
   "cell_type": "code",
   "execution_count": 44,
   "metadata": {},
   "outputs": [
    {
     "name": "stdout",
     "output_type": "stream",
     "text": [
      "hulk\n",
      " ------------------------------- \n",
      "hulk\n"
     ]
    }
   ],
   "source": [
    "with open(\"f:/sumanth/Python-Code/Python section2/a.txt\",'r') as f_open:\n",
    "    print(f_open.read())\n",
    "f_open.close()\n",
    "print(\" ------------------------------- \")\n",
    "with open(\"f:/sumanth/Python-Code/Python section2/a.txt\",'w') as f_open:\n",
    "    f_open.write(\"hulk\")\n",
    "    \n",
    "with open(\"f:/sumanth/Python-Code/Python section2/a.txt\",'r') as f_open:\n",
    "    print(f_open.read())\n",
    "f_open.close()\n",
    "\n"
   ]
  },
  {
   "cell_type": "code",
   "execution_count": 40,
   "metadata": {},
   "outputs": [
    {
     "name": "stdout",
     "output_type": "stream",
     "text": [
      " ------------------------------- \n",
      "hulk\n"
     ]
    }
   ],
   "source": [
    "with open(\"f:/sumanth/Python-Code/Python section2/a.txt\",'w') as f_open:\n",
    "    f_open.write(\"hulk\")\n",
    "    f_open.close()\n",
    "print(\" ------------------------------- \")\n",
    "with open(\"f:/sumanth/Python-Code/Python section2/a.txt\",'r') as f_open:\n",
    "    print(f_open.read())\n",
    "f_open.close()\n"
   ]
  },
  {
   "cell_type": "code",
   "execution_count": 45,
   "metadata": {},
   "outputs": [
    {
     "name": "stdout",
     "output_type": "stream",
     "text": [
      "Python\n",
      "Programs are so easy to learn\n",
      "Happy Coding!\n",
      "Hi \n",
      "Hello \n",
      "Cheers\n"
     ]
    }
   ],
   "source": [
    "f_writedemo = open(\"demo1.txt\", \"w\")\n",
    "f_writedemo. write(\"Python\")\n",
    "f_writedemo. write(\"\\nPrograms are so easy to learn\")\n",
    "f_writedemo. write(\"\\nHappy Coding!\")\n",
    "f_writedemo. write(\"\\nHi \\nHello \\nCheers\")\n",
    "f_writedemo.close()\n",
    " \n",
    "# Let me open the file and check\n",
    "f_writedemo = open(\"demo1.txt\", \"r\")\n",
    "print(f_writedemo.read())"
   ]
  },
  {
   "cell_type": "code",
   "execution_count": 46,
   "metadata": {},
   "outputs": [
    {
     "name": "stdout",
     "output_type": "stream",
     "text": [
      "First Line\n",
      "Second Line\n",
      "Third Line\n",
      "Fourth Line\n"
     ]
    }
   ],
   "source": [
    "f_writelinesdemo = open(\"PythonSample.txt\", \"w\")\n",
    "text = [\"First Line\\n\", \"Second Line\\n\", \"Third Line\\n\", \"Fourth Line\"]\n",
    "f_writelinesdemo. writelines(text)\n",
    "f_writelinesdemo.close()\n",
    " \n",
    "# Let me open the file and check\n",
    "f_writelinesdemo = open(\"PythonSample.txt\", \"r\")\n",
    "print(f_writelinesdemo.read())"
   ]
  },
  {
   "cell_type": "code",
   "execution_count": 48,
   "metadata": {},
   "outputs": [
    {
     "name": "stdout",
     "output_type": "stream",
     "text": [
      "First Line\n",
      "Second Line\n",
      "Third Line\n",
      "Fourth Line\n",
      "Hell World!\n",
      "Hell World!\n"
     ]
    }
   ],
   "source": [
    "f_demo = open(\"PythonSample.txt\", \"a\") #append mode it dosent erase the previouse data like write\n",
    "f_demo. write(\"\\nHell World!\")\n",
    "f_demo.close()\n",
    " \n",
    "# Let me open the file and check\n",
    "f_demo = open(\"PythonSample.txt\", \"r\")\n",
    "print(f_demo.read())"
   ]
  },
  {
   "cell_type": "code",
   "execution_count": 49,
   "metadata": {},
   "outputs": [
    {
     "name": "stdout",
     "output_type": "stream",
     "text": [
      "This is the 1 Line\n",
      "This is the 2 Line\n",
      "This is the 3 Line\n",
      "This is the 4 Line\n",
      "This is the 5 Line\n",
      "This is the 6 Line\n",
      "This is the 7 Line\n",
      "This is the 8 Line\n",
      "This is the 9 Line\n",
      "This is the 10 Line\n",
      "\n"
     ]
    }
   ],
   "source": [
    "f_loopdemo = open(\"Sample10.txt\", \"w\")\n",
    "for i in range(1, 11):\n",
    "    f_loopdemo.write(\"This is the %d Line\\n\" %(i))\n",
    "f_loopdemo.close()\n",
    " \n",
    "# Let me open the file and check\n",
    "f_loopdemo = open(\"Sample10.txt\", \"r\")\n",
    "print(f_loopdemo.read())"
   ]
  },
  {
   "cell_type": "code",
   "execution_count": null,
   "metadata": {},
   "outputs": [],
   "source": []
  }
 ],
 "metadata": {
  "kernelspec": {
   "display_name": "base",
   "language": "python",
   "name": "python3"
  },
  "language_info": {
   "codemirror_mode": {
    "name": "ipython",
    "version": 3
   },
   "file_extension": ".py",
   "mimetype": "text/x-python",
   "name": "python",
   "nbconvert_exporter": "python",
   "pygments_lexer": "ipython3",
   "version": "3.9.7 (default, Sep 16 2021, 16:59:28) [MSC v.1916 64 bit (AMD64)]"
  },
  "orig_nbformat": 4,
  "vscode": {
   "interpreter": {
    "hash": "ad2bdc8ecc057115af97d19610ffacc2b4e99fae6737bb82f5d7fb13d2f2c186"
   }
  }
 },
 "nbformat": 4,
 "nbformat_minor": 2
}
