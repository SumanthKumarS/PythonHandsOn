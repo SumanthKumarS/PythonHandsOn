{
 "cells": [
  {
   "attachments": {},
   "cell_type": "markdown",
   "metadata": {},
   "source": [
    "# Python Tuple\n",
    "The Python Tuple is almost similar to a List except that the Tuples are immutable, and Lists are mutable. It means Once we declare the Python Tuple, we cannot change the values or items inside the Tuple, something like Constant keyword in other programming languages.\n",
    "\n",
    "A Python Tuple is a sequence of multiple values in an ordered sequence. Tuples are declared using Open and Closed Parenthesis ( ). Unlike Python Strings, Tuple allows us to store different types of data such as integer, float, string, etc.\n",
    "# How to Declare Python Tuple?\n",
    "Tuple_Name = () is an empty Tuple that contains no values.\n",
    "\n",
    "String_Tuple = (‘apple’, ‘Orange’, ‘Grape’, ‘Mango’) is a string tuple that contains four string values.\n",
    "\n",
    "Mixed_Tuple = (‘apple’, 2, 3.50, ‘Mango’) is a mixed tuple that contains one integer, one float, and two integer values.\n",
    "\n",
    "Nested_Tuple = (‘Python’, ‘Tutorial’, (1, 2, 3) ) is an example of tuple inside another tuple (Nested Tuple)\n",
    "\n",
    "List_Tuple = (‘Python’, ‘Tutorial’, [1, 2, 3] ) is an example of List inside a tuple\n",
    "TIP: To declare a Tuple with one item, we have to specify a comma after the item. For instance: Tuple_Name = (245,). Forgot to add a comma, then it is an integer type (Not a Tuple).\n",
    "# Accessing Python Tuple items\n",
    "We can access the Tuple items using indexes. Using the index, we can access each item present in the Tuples separately. Index value starts at 0 and ends at n-1, where n is the Tuple size.\n",
    "\n",
    "For instance, if a Tuple store 5 elements, then the index starts at 0 and ends with 4. To access the first value, use Tuple_name[0] and to access the fifth value, use Tuple_name[4]. Let us see the Tuple example for better understanding:"
   ]
  },
  {
   "cell_type": "code",
   "execution_count": 15,
   "metadata": {},
   "outputs": [
    {
     "name": "stdout",
     "output_type": "stream",
     "text": [
      "1\n",
      "4\n",
      "8\n",
      "2\n",
      "------------------------\n",
      "1\n",
      "6\n",
      "2\n",
      "8\n",
      "------------------------\n",
      "1\n",
      "4\n",
      "6\n",
      "P\n",
      "o\n",
      "((1, 2, 3), [4, 5, 6], 'Python')\n"
     ]
    }
   ],
   "source": [
    "x = (1,2,3,4,5,6,7,8)\n",
    "# position indexing\n",
    "print(x[0])\n",
    "print(x[3])\n",
    "print(x[7])\n",
    "print(x[1])\n",
    "print(\"------------------------\")\n",
    "\n",
    "# negative indexing\n",
    "print(x[-8])\n",
    "print(x[-3])\n",
    "print(x[-7])\n",
    "print(x[-1])\n",
    "print(\"------------------------\")\n",
    "\n",
    "# Accessing Nested Tuple Items\n",
    "Mixed_Tuple = ((1, 2, 3), [4, 5, 6], 'Python')\n",
    "print(Mixed_Tuple[0][0])\n",
    "print(Mixed_Tuple[1][0])\n",
    "print(Mixed_Tuple[1][2])\n",
    "print(Mixed_Tuple[2][0])\n",
    "print(Mixed_Tuple[2][4])\n",
    "\n",
    "print(Mixed_Tuple)\n"
   ]
  },
  {
   "attachments": {},
   "cell_type": "markdown",
   "metadata": {},
   "source": [
    "# iterating python tuple\n",
    "The For Loop is the most popular way to traverse the Tuple items. The following statement helps to iterate the Tuple and print the items inside the Fruits tuple."
   ]
  },
  {
   "cell_type": "code",
   "execution_count": 17,
   "metadata": {},
   "outputs": [
    {
     "name": "stdout",
     "output_type": "stream",
     "text": [
      "Apple\n",
      "Orange\n",
      "Grape\n",
      "Banana\n",
      "Strawberry\n",
      "Cherry\n",
      "Kiwi\n"
     ]
    }
   ],
   "source": [
    "Fruits = ('Apple', 'Orange', 'Grape', 'Banana', 'Strawberry','Cherry', 'Kiwi')\n",
    "for Fruit in Fruits:\n",
    "    print(Fruit)"
   ]
  },
  {
   "cell_type": "code",
   "execution_count": 18,
   "metadata": {},
   "outputs": [
    {
     "name": "stdout",
     "output_type": "stream",
     "text": [
      "(1, 2, 3, 4, 5, 6)\n",
      "(1, 2, 3, 1, 2, 3, 1, 2, 3)\n"
     ]
    }
   ],
   "source": [
    "# Performing Arithmetic Operations on Python Tuple\n",
    "X = (1, 2, 3)\n",
    "Y = (4, 5, 6)\n",
    "Sum = X + Y # 1,2,3,4,5,6\n",
    "print(Sum)\n",
    "\n",
    "# Using * Operator\n",
    "Z = X * 3 # (1,2,3,1,2,3,1,2,3)\n",
    "print(Z)"
   ]
  },
  {
   "attachments": {},
   "cell_type": "markdown",
   "metadata": {},
   "source": [
    "+ operator is concatenating the Tuple\n",
    "* operator is repeating the Tuple for a given number of times. Here it is three times\n",
    "\n",
    "# Python Tuple slice\n",
    "n python Tuple Slice syntax, the first integer value is the index position where the slicing starts, and the second one is the index position where the slicing end."
   ]
  },
  {
   "cell_type": "code",
   "execution_count": 23,
   "metadata": {},
   "outputs": [
    {
     "name": "stdout",
     "output_type": "stream",
     "text": [
      "Both Indexes =  (3, 4, 5, 6)\n",
      "first Indexes =  (5, 6, 7, 8, 9)\n",
      "second Indexes =  (1, 2, 3, 4, 5, 6, 7)\n",
      "no Both Indexes =  (1, 2, 3, 4, 5, 6, 7, 8, 9)\n",
      "negative first Indexes =  (5, 6, 7, 8, 9)\n",
      "negative second Indexes =  (1, 2, 3, 4, 5)\n"
     ]
    }
   ],
   "source": [
    "x = (1,2,3,4,5,6,7,8,9)\n",
    "# Slicing the Tuple using two indexes\n",
    "a = x[2:6] # 3,4,5,6 (0 to n-1)\n",
    "print(\"Both Indexes = \", a)\n",
    "# Slicing the Tuple using first indexes\n",
    "a = x[4:] # 5,6,7,8,9 (0 to n-1)\n",
    "print(\"first Indexes = \", a)\n",
    "# Slicing the Tuple using second indexes\n",
    "a = x[:7] # 1,2,3,4,5,6,7,8 (0 to n-1)\n",
    "print(\"second Indexes = \", a)\n",
    "# Slicing the Tuple without two indexes\n",
    "a = x[:] # 1,2,3,4,5,6,7,8,9 (0 to n-1)\n",
    "print(\"no Both Indexes = \", a)\n",
    "# Slicing the Tuple using negative first indexes\n",
    "a = x[-5:] # (5, 6, 7, 8, 9) (0 to n-1)\n",
    "print(\"negative first Indexes = \", a)\n",
    "# Slicing the Tuple using negative second indexes\n",
    "a = x[:-4] # (1, 2, 3, 4, 5) (0 to n-1)\n",
    "print(\"negative second Indexes = \", a)"
   ]
  },
  {
   "attachments": {},
   "cell_type": "markdown",
   "metadata": {},
   "source": [
    "From the above O/P,\n",
    "\n",
    "If no first index, then Slicing starts from the beginning\n",
    "If the second index not provided, Slicing starts from the first index and continue to the last\n",
    "Using the Negative numbers as the index, Slicing starts from right to left.\n",
    "# Altering Python Tuple items - Python won’t allow altering the items inside the Tuple. Let see what happens when we do that?"
   ]
  },
  {
   "cell_type": "code",
   "execution_count": 24,
   "metadata": {},
   "outputs": [
    {
     "data": {
      "text/plain": [
       "((1, 2, 3), [4, 14, 7], 'Python')"
      ]
     },
     "execution_count": 24,
     "metadata": {},
     "output_type": "execute_result"
    }
   ],
   "source": [
    "x = (1,2,3,4,5,6,7,8,9)\n",
    "# x[2] = 5\n",
    "\n",
    "# ---------------------------------------------------------------------------\n",
    "# TypeError                                 Traceback (most recent call last)\n",
    "# <ipython-input-5-a4c95ef02c7d> in <module>\n",
    "#       1 x = (1,2,3,4,5,6,7,8,9)\n",
    "# ----> 2 x[2] = 5\n",
    "\n",
    "# TypeError: 'tuple' object does not support item assignment\n",
    "y = ((1,2,3),[4,5,7],'Python')\n",
    "# y[0][1] = 14\n",
    "# ---------------------------------------------------------------------------\n",
    "# TypeError                                 Traceback (most recent call last)\n",
    "# <ipython-input-8-49613b12d33f> in <module>\n",
    "#       1 y = ((1,2,3),[4,5,7],'Python')\n",
    "# ----> 2 y[0][1] = 14\n",
    "\n",
    "# TypeError: 'tuple' object does not support item assignment\n",
    "y[1][1] = 14\n",
    "y"
   ]
  },
  {
   "attachments": {},
   "cell_type": "markdown",
   "metadata": {},
   "source": [
    "From the above O/P:\n",
    "1] Within the First statement, We assigned a new value at index position two. Since Tuple is immutable, the output is throwing a Type Error.\n",
    "2] Within the Second statement, We assigned a new value to the Tuple inside the Tuple at index position one. Although it is a Nested tuple, the output is throwing a Type Error because Tuple is immutable.\n",
    "3] Within the Third statement, We assigned a new value at position [1][1], and that is List inside the Tuple. Since List is mutable, we successfully changed the value from 5 to 14.\n",
    "\n",
    "# Python Tuple Methods\n",
    "\n",
    "# Tuple sum\n",
    "The tuple sum function calculates the sum of all items inside the given Tuple."
   ]
  },
  {
   "cell_type": "code",
   "execution_count": 25,
   "metadata": {},
   "outputs": [
    {
     "name": "stdout",
     "output_type": "stream",
     "text": [
      "Tuple :  (10, 20, 30, 40, 50, 60, 70, 80, 90)\n",
      "The Sum of Integer Tuple is :  450\n",
      "\n",
      "Numbers Tuple :  (9, -5, 7, 0, 24, -1, 2, 10)\n",
      "The Sum of a Numbers Tuple is :  46\n"
     ]
    }
   ],
   "source": [
    "# Python tuple sum function\n",
    "\n",
    "x = (10, 20, 30, 40, 50, 60, 70, 80, 90)\n",
    "print(\"Tuple : \", x)\n",
    "\n",
    "total = sum(x)\n",
    "print(\"The Sum of Integer Tuple is : \", total)\n",
    "\n",
    "numbers = (9, -5, 7, 0, 24, -1, 2, 10)\n",
    "print(\"\\nNumbers Tuple : \", numbers)\n",
    "print(\"The Sum of a Numbers Tuple is : \", sum(numbers))"
   ]
  },
  {
   "attachments": {},
   "cell_type": "markdown",
   "metadata": {},
   "source": [
    "# Tuple min"
   ]
  },
  {
   "cell_type": "code",
   "execution_count": 26,
   "metadata": {},
   "outputs": [
    {
     "name": "stdout",
     "output_type": "stream",
     "text": [
      "Tuple :  ('Banana', 'Orange', 'Blackberry', 'Apple', 'Kiwi', 'Grape')\n",
      "The Minimum Value in Fruits Tuple is :  Apple\n",
      "\n",
      "Numbers Tuple :  (9, -5, 7, 0, 24, -1, 2, 10)\n",
      "The Minimum Value Numbers Tuple is :  -5\n"
     ]
    }
   ],
   "source": [
    "# Python tuple min function\n",
    "\n",
    "fruits = ('Banana', 'Orange', 'Blackberry', 'Apple', 'Kiwi', 'Grape')\n",
    "print(\"Tuple : \", fruits)\n",
    "\n",
    "minimum = min(fruits)\n",
    "print(\"The Minimum Value in Fruits Tuple is : \", minimum)\n",
    "\n",
    "numbers = (9, -5, 7, 0, 24, -1, 2, 10)\n",
    "print(\"\\nNumbers Tuple : \", numbers)\n",
    "print(\"The Minimum Value Numbers Tuple is : \", min(numbers))"
   ]
  },
  {
   "attachments": {},
   "cell_type": "markdown",
   "metadata": {},
   "source": [
    "# Tuple max"
   ]
  },
  {
   "cell_type": "code",
   "execution_count": 27,
   "metadata": {},
   "outputs": [
    {
     "name": "stdout",
     "output_type": "stream",
     "text": [
      "Tuple :  ('Banana', 'Orange', 'Blackberry', 'Apple', 'Kiwi', 'Grape')\n",
      "The Maximum Value in Fruits Tuple is :  Orange\n",
      "\n",
      "Numbers Tuple :  (9, -5, 7, 0, 24, -1, 2, 10)\n",
      "The Maximum Value Numbers Tuple is :  24\n"
     ]
    }
   ],
   "source": [
    "# Python tuple max function\n",
    "\n",
    "fruits = ('Banana', 'Orange', 'Blackberry', 'Apple', 'Kiwi', 'Grape')\n",
    "print(\"Tuple : \", fruits)\n",
    "\n",
    "maximum = max(fruits)\n",
    "print(\"The Maximum Value in Fruits Tuple is : \", maximum)\n",
    "\n",
    "numbers = (9, -5, 7, 0, 24, -1, 2, 10)\n",
    "print(\"\\nNumbers Tuple : \", numbers)\n",
    "print(\"The Maximum Value Numbers Tuple is : \", max(numbers))"
   ]
  },
  {
   "attachments": {},
   "cell_type": "markdown",
   "metadata": {},
   "source": [
    "# Tuple len\n",
    "Tuple Len method finds or calculates the Length of a Tuple (Number of items in a Tuple)"
   ]
  },
  {
   "cell_type": "code",
   "execution_count": 28,
   "metadata": {},
   "outputs": [
    {
     "name": "stdout",
     "output_type": "stream",
     "text": [
      "Tuple :  ('Apple', 'Banana', 'Orange', 'Blackberry', 'Kiwi', 'Grape')\n",
      "The length of a Fruits Tuple is :  6\n",
      "\n",
      "Numbers Tuple :  (9, -5, 7, 0, 24, -1, 2, 10)\n",
      "The length of a Numbers Tuple is :  8\n"
     ]
    }
   ],
   "source": [
    "# Python tuple len function\n",
    "\n",
    "fruits = ('Apple', 'Banana', 'Orange', 'Blackberry', 'Kiwi', 'Grape')\n",
    "print(\"Tuple : \", fruits)\n",
    "\n",
    "length = len(fruits)\n",
    "print(\"The length of a Fruits Tuple is : \", length)\n",
    "\n",
    "numbers = (9, -5, 7, 0, 24, -1, 2, 10)\n",
    "print(\"\\nNumbers Tuple : \", numbers)\n",
    "print(\"The length of a Numbers Tuple is : \", len(numbers))"
   ]
  },
  {
   "attachments": {},
   "cell_type": "markdown",
   "metadata": {},
   "source": [
    "# Python Tuple sorted\n",
    "Tuple sorted method helps to sort the items in ascending order."
   ]
  },
  {
   "cell_type": "code",
   "execution_count": 29,
   "metadata": {},
   "outputs": [
    {
     "name": "stdout",
     "output_type": "stream",
     "text": [
      "Old Tuple :  ('Banana', 'Orange', 'Blackberry', 'Apple', 'Kiwi', 'Grape')\n",
      "Sorted Tuple :  ['Apple', 'Banana', 'Blackberry', 'Grape', 'Kiwi', 'Orange']\n",
      "\n",
      "Number Tuple :  (9, -5, 7, 0, 24, -1, 2, 10)\n",
      "Sorted Numbers Tuple is :  [-5, -1, 0, 2, 7, 9, 10, 24]\n"
     ]
    }
   ],
   "source": [
    "# Python tuple sorted function\n",
    "\n",
    "fruits = ('Banana', 'Orange', 'Blackberry', 'Apple', 'Kiwi', 'Grape')\n",
    "print(\"Old Tuple : \", fruits)\n",
    "\n",
    "new_fruits = sorted(fruits)\n",
    "print(\"Sorted Tuple : \", new_fruits)\n",
    "\n",
    "numbers = (9, -5, 7, 0, 24, -1, 2, 10)\n",
    "print(\"\\nNumber Tuple : \", numbers)\n",
    "\n",
    "new_numbers = sorted(numbers)\n",
    "print(\"Sorted Numbers Tuple is : \", new_numbers)"
   ]
  },
  {
   "attachments": {},
   "cell_type": "markdown",
   "metadata": {},
   "source": [
    "# Tuple index\n",
    "The tuple index function returns the index position of a specified value."
   ]
  },
  {
   "cell_type": "code",
   "execution_count": 30,
   "metadata": {},
   "outputs": [
    {
     "name": "stdout",
     "output_type": "stream",
     "text": [
      "Tuple :  ('Banana', 'Orange', 'Blackberry', 'Apple', 'Kiwi', 'Grape')\n",
      "The index position of Apple :  3\n",
      "The index position of Orange :  1\n",
      "The index position of Kiwi :  4\n",
      "\n",
      "Number Tuple :  (9, -5, 7, 0, 24, -1, 2, 10)\n",
      "The index position of -1 :  5\n",
      "The index position of 0 :  3\n",
      "The index position of 10 :  7\n"
     ]
    }
   ],
   "source": [
    "# Python tuple index function\n",
    "\n",
    "fruits = ('Banana', 'Orange', 'Blackberry', 'Apple', 'Kiwi', 'Grape')\n",
    "print(\"Tuple : \", fruits)\n",
    "\n",
    "print(\"The index position of Apple : \", fruits.index('Apple'))\n",
    "print(\"The index position of Orange : \", fruits.index('Orange'))\n",
    "print(\"The index position of Kiwi : \", fruits.index('Kiwi'))\n",
    "      \n",
    "numbers = (9, -5, 7, 0, 24, -1, 2, 10)\n",
    "print(\"\\nNumber Tuple : \", numbers)\n",
    "\n",
    "print(\"The index position of -1 : \", numbers.index(-1))\n",
    "print(\"The index position of 0 : \", numbers.index(0))\n",
    "print(\"The index position of 10 : \", numbers.index(10))"
   ]
  },
  {
   "attachments": {},
   "cell_type": "markdown",
   "metadata": {},
   "source": [
    "# Python Tuple count\n",
    "Tuple count function counts the total number of times the specified value repeated inside the Tuple."
   ]
  },
  {
   "cell_type": "code",
   "execution_count": 31,
   "metadata": {},
   "outputs": [
    {
     "name": "stdout",
     "output_type": "stream",
     "text": [
      "Tuple :  ('Banana', 'Kiwi', 'Grape', 'Apple', 'Kiwi', 'Grape')\n",
      "Number of Times Apple is Repeated :  1\n",
      "Number of Times Kiwi is Repeated :  2\n",
      "Number of Times Grape is Repeated :  2\n",
      "\n",
      "Number Tuple :  (2, -5, 7, 9, 2, -5, 2, 10)\n",
      "Number of Times 2 is Repeated :  3\n",
      "Number of Times -5 is Repeated :  2\n",
      "Number of Times 10 is Repeated :  1\n"
     ]
    }
   ],
   "source": [
    "# Python tuple count function\n",
    "\n",
    "fruits = ('Banana', 'Kiwi', 'Grape', 'Apple', 'Kiwi', 'Grape')\n",
    "print(\"Tuple : \", fruits)\n",
    "\n",
    "print(\"Number of Times Apple is Repeated : \", fruits.count('Apple'))\n",
    "print(\"Number of Times Kiwi is Repeated : \", fruits.count('Kiwi'))\n",
    "print(\"Number of Times Grape is Repeated : \", fruits.count('Grape'))\n",
    "      \n",
    "numbers = (2, -5, 7, 9, 2, -5, 2, 10)\n",
    "print(\"\\nNumber Tuple : \", numbers)\n",
    "\n",
    "print(\"Number of Times 2 is Repeated : \", numbers.count(2))\n",
    "print(\"Number of Times -5 is Repeated : \", numbers.count(-5))\n",
    "print(\"Number of Times 10 is Repeated : \", numbers.count(10))"
   ]
  },
  {
   "cell_type": "code",
   "execution_count": 32,
   "metadata": {},
   "outputs": [
    {
     "name": "stdout",
     "output_type": "stream",
     "text": [
      "Sum of all items in a x Tuple =  45\n",
      "Length of a Fruits Tuple =  6\n",
      "Length of a x Tuple =  8\n",
      "Minimum item in a Fruits Tuple =  Apple\n",
      "Minimum item in a x Tuple =  -5\n",
      "Maximum item in a Fruits Tuple =  Orange\n",
      "Maximum item in a x Tuple =  22\n",
      "After Sorting Fruits Tuple =  ['Apple', 'Banana', 'Blackberry', 'Grape', 'Kiwi', 'Orange']\n",
      "After Sorting x Tuple =  [-5, -1, 0, 2, 4, 9, 14, 22]\n",
      "The Index position of Banana =  2\n",
      "The Index position of -1 =  5\n",
      "Number of Times 4 is repeated =  3\n",
      "Number of Times 9 is repeated =  2\n",
      "(1, 2, 3, 4, 5)\n"
     ]
    }
   ],
   "source": [
    "#In the below program, we are applying all the Tuple methods. \n",
    "Fruits = ('Apple', 'Orange', 'Banana', 'Kiwi', 'Grape', 'Blackberry')\n",
    "x = (9, 4, -5, 0, 22, -1, 2, 14)\n",
    "\n",
    "#Finding Sum of all item in a Tuple using Python Sum() Method\n",
    "print('Sum of all items in a x Tuple = ', sum(x))\n",
    "\n",
    "#Calculating Length of a Tuple using Python len() Method\n",
    "print('Length of a Fruits Tuple = ', len(Fruits))\n",
    "print('Length of a x Tuple = ', len(x))\n",
    "\n",
    "#Finding Minimum item in a Tuple using Python min() Method\n",
    "print('Minimum item in a Fruits Tuple = ', min(Fruits))\n",
    "print('Minimum item in a x Tuple = ', min(x))\n",
    "\n",
    "#Finding Maximum item in a Tuple using Python max() Method\n",
    "print('Maximum item in a Fruits Tuple = ', max(Fruits))\n",
    "print('Maximum item in a x Tuple = ', max(x))\n",
    "\n",
    "# Sorting the Tuple using Python Sorted() Method\n",
    "print('After Sorting Fruits Tuple = ', sorted(Fruits))\n",
    "print('After Sorting x Tuple = ', sorted(x))\n",
    "\n",
    "# Index position of an item in a Tuple using index() Method\n",
    "print('The Index position of Banana = ', Fruits.index('Banana'))\n",
    "print('The Index position of -1 = ', x.index(-1))\n",
    "\n",
    "# Counting items in a Tuple using Python count() Method\n",
    "y = (9, 4, 1, 4, 9, -1, 2, 4)\n",
    "print('Number of Times 4 is repeated = ', y.count(4))\n",
    "print('Number of Times 9 is repeated = ', y.count(9))\n",
    "\n",
    "# Converting List into Tuple\n",
    "z = [1, 2, 3, 4, 5]\n",
    "print(tuple(z))"
   ]
  },
  {
   "cell_type": "code",
   "execution_count": null,
   "metadata": {},
   "outputs": [],
   "source": []
  }
 ],
 "metadata": {
  "kernelspec": {
   "display_name": "base",
   "language": "python",
   "name": "python3"
  },
  "language_info": {
   "codemirror_mode": {
    "name": "ipython",
    "version": 3
   },
   "file_extension": ".py",
   "mimetype": "text/x-python",
   "name": "python",
   "nbconvert_exporter": "python",
   "pygments_lexer": "ipython3",
   "version": "3.9.7"
  },
  "orig_nbformat": 4,
  "vscode": {
   "interpreter": {
    "hash": "ad2bdc8ecc057115af97d19610ffacc2b4e99fae6737bb82f5d7fb13d2f2c186"
   }
  }
 },
 "nbformat": 4,
 "nbformat_minor": 2
}
