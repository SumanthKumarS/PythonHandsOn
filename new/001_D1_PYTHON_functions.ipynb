{
 "cells": [
  {
   "cell_type": "code",
   "execution_count": 2,
   "metadata": {},
   "outputs": [
    {
     "name": "stdout",
     "output_type": "stream",
     "text": [
      "30\n"
     ]
    }
   ],
   "source": [
    "#create a function for adding two numbers\n",
    "def add(x,y):\n",
    "    return x+y\n",
    "print(add(10,20))"
   ]
  },
  {
   "cell_type": "code",
   "execution_count": 4,
   "metadata": {},
   "outputs": [
    {
     "name": "stdout",
     "output_type": "stream",
     "text": [
      "30 and 15.0\n",
      "61.3 and 30.65\n"
     ]
    }
   ],
   "source": [
    "def sumAndAverage(x,y):\n",
    "    sum = x+y\n",
    "    average = sum/2\n",
    "    return sum, average\n",
    "a = int(input(\"enter the num1\"))\n",
    "b = int(input(\"enter the num2\"))\n",
    "sum,average = sumAndAverage(a,b)\n",
    "print(sum,\"and\",average)\n",
    "sum,average = sumAndAverage(10.4,50.9)\n",
    "print(sum,\"and\",average)"
   ]
  },
  {
   "cell_type": "code",
   "execution_count": 8,
   "metadata": {},
   "outputs": [
    {
     "name": "stdout",
     "output_type": "stream",
     "text": [
      "Sum of a and b in function with no argumensts 30\n",
      "Sum of a and b in function with no argumensts 30\n"
     ]
    }
   ],
   "source": [
    "# function with no arguments with retun value\n",
    "def add():\n",
    "    a=10\n",
    "    b=20\n",
    "    return a+b\n",
    "print(\"Sum of a and b in function with no argumensts\",add())\n",
    "# function with no arguments\n",
    "def add():\n",
    "    a=10\n",
    "    b=20\n",
    "    print(\"Sum of a and b in function with no argumensts\",a+b)\n",
    "add()"
   ]
  },
  {
   "cell_type": "code",
   "execution_count": 10,
   "metadata": {},
   "outputs": [
    {
     "name": "stdout",
     "output_type": "stream",
     "text": [
      "function arguments with no return value 6000\n",
      "function arguments with no return value 6000\n"
     ]
    }
   ],
   "source": [
    "# function arguments with no return value\n",
    "def multy(a,b,c):\n",
    "    print(\"function arguments with no return value\",a*b*c)\n",
    "multy(10,20,30)\n",
    "# function arguments with return value\n",
    "def multy(a,b,c):\n",
    "    return a*b*c\n",
    "print(\"function arguments with no return value\",multy(10,20,30))\n"
   ]
  },
  {
   "cell_type": "code",
   "execution_count": null,
   "metadata": {},
   "outputs": [],
   "source": []
  }
 ],
 "metadata": {
  "kernelspec": {
   "display_name": "base",
   "language": "python",
   "name": "python3"
  },
  "language_info": {
   "codemirror_mode": {
    "name": "ipython",
    "version": 3
   },
   "file_extension": ".py",
   "mimetype": "text/x-python",
   "name": "python",
   "nbconvert_exporter": "python",
   "pygments_lexer": "ipython3",
   "version": "3.9.7 (default, Sep 16 2021, 16:59:28) [MSC v.1916 64 bit (AMD64)]"
  },
  "orig_nbformat": 4,
  "vscode": {
   "interpreter": {
    "hash": "ad2bdc8ecc057115af97d19610ffacc2b4e99fae6737bb82f5d7fb13d2f2c186"
   }
  }
 },
 "nbformat": 4,
 "nbformat_minor": 2
}
