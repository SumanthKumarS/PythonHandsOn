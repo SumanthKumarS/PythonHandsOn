{
 "cells": [
  {
   "cell_type": "markdown",
   "metadata": {},
   "source": [
    "# Python Set\n",
    "A Python set data type is similar to Lists. However, it does not accept duplicate items (unique values). The Python set is an unordered collection of zero or more items, which are unindexed (no index position). Python Sets allows mutable items, so adding and removing items in a set is very easy. However, set slicing is not possible in Python because of no index.\n",
    "\n",
    "Generally, Python sets are very useful to perform mathematical operations like Union, Intersections, set comparisons, and set differences."
   ]
  },
  {
   "cell_type": "markdown",
   "metadata": {},
   "source": [
    "# Python set Declaration\n",
    "# A set is created by placing the required items inside curly braces or using the set() function without any arguments."
   ]
  },
  {
   "cell_type": "markdown",
   "metadata": {},
   "source": [
    "Sets allow you to place different kinds of data type items like integer, string, etc., in a single set. The following are the available list of ways to declare sets in Python."
   ]
  },
  {
   "cell_type": "code",
   "execution_count": 1,
   "metadata": {},
   "outputs": [],
   "source": [
    "# set Declaration\n",
    "\n",
    "# Empty set\n",
    "mySet = {}\n",
    "mySet = set()\n",
    "\n",
    "# Set with Integer Keys\n",
    "mySet = {1, 2, 3, 4, 5}\n",
    "\n",
    "# Set with String Keys\n",
    "mySet = {'apple', 'kiwi', 'banana', 'orange'}\n",
    "\n",
    "# Set with Mixed Data Types\n",
    "mySet = {1, 2, 1.5, 2.5, 'apple'}\n",
    "mySet = {'banana', 1, 2, (1, 2, 3)}\n",
    "\n",
    "# Python Set using set()\n",
    "mySet = set([1, 2, 3, 4, 5])\n",
    "mySet = set((1, 2, 3, 4, 5, 6, 7))\n",
    "            \n",
    "# set() example 2\n",
    "mySet = (['apple', 'kiwi', 'banana', 'orange'])\n",
    "mySet = (('apple', 'kiwi', 'banana', 'orange'))"
   ]
  },
  {
   "cell_type": "markdown",
   "metadata": {},
   "source": [
    "# Python set Example"
   ]
  },
  {
   "cell_type": "code",
   "execution_count": 2,
   "metadata": {},
   "outputs": [
    {
     "name": "stdout",
     "output_type": "stream",
     "text": [
      "{}\n",
      "set()\n",
      "{1, 2, 3, 4, 5}\n",
      "{'banana', 'orange', 'apple', 'kiwi'}\n"
     ]
    }
   ],
   "source": [
    "# set Declaration\n",
    "\n",
    "# Empty set\n",
    "mySet1 = {}\n",
    "mySet2 = set()\n",
    "\n",
    "# Set with Integer Keys\n",
    "mySet3 = {1, 2, 3, 4, 5}\n",
    "\n",
    "# Set with String Keys\n",
    "mySet4 = {'apple', 'kiwi', 'banana', 'orange'}\n",
    "\n",
    "print(mySet1)\n",
    "print(mySet2)\n",
    "print(mySet3)\n",
    "print(mySet4)"
   ]
  },
  {
   "cell_type": "markdown",
   "metadata": {},
   "source": [
    "# Python Mixed Sets Example"
   ]
  },
  {
   "cell_type": "code",
   "execution_count": 3,
   "metadata": {},
   "outputs": [
    {
     "name": "stdout",
     "output_type": "stream",
     "text": [
      "{1, 2, 2.5, 1.5, 'apple'}\n",
      "{1, 2, (1, 2, 3), 'banana'}\n",
      "{1, 2, 3, 4, 5}\n",
      "{1, 2, 3, 4, 5, 6, 7}\n",
      "['apple', 'kiwi', 'banana', 'orange']\n",
      "('apple', 'kiwi', 'banana', 'orange')\n"
     ]
    }
   ],
   "source": [
    "# Python set Declaration\n",
    "\n",
    "# Set with Mixed Data Types\n",
    "mySet1 = {1, 2, 1.5, 2.5, 'apple'}\n",
    "mySet2 = {'banana', 1, 2, (1, 2, 3)}\n",
    "\n",
    "print(mySet1)\n",
    "print(mySet2)\n",
    "\n",
    "# Python Set using set()\n",
    "mySet3 = set([1, 2, 3, 4, 5])\n",
    "mySet4 = set((1, 2, 3, 4, 5, 6, 7))\n",
    "\n",
    "print(mySet3)\n",
    "print(mySet4)\n",
    "\n",
    "# set() example 2\n",
    "mySet5 = (['apple', 'kiwi', 'banana', 'orange'])\n",
    "mySet6 = (('apple', 'kiwi', 'banana', 'orange'))\n",
    "\n",
    "print(mySet5)\n",
    "print(mySet6)"
   ]
  },
  {
   "cell_type": "markdown",
   "metadata": {},
   "source": [
    "# set {} vs set()"
   ]
  },
  {
   "cell_type": "code",
   "execution_count": 5,
   "metadata": {},
   "outputs": [
    {
     "name": "stdout",
     "output_type": "stream",
     "text": [
      "{'CAPGEMINI UNIVERSITY'}\n",
      "{'S', 'T', 'G', 'R', 'Y', 'A', 'M', ' ', 'V', 'N', 'I', 'E', 'U', 'C', 'P'}\n",
      "{123456}\n",
      "{'3', '5', '6', '4', '1', '2'}\n"
     ]
    }
   ],
   "source": [
    "# Python set Declaration\n",
    "\n",
    "# {} Vs set()\n",
    "mySet = {'CAPGEMINI UNIVERSITY'}\n",
    "mySet1 = set('CAPGEMINI UNIVERSITY')\n",
    "\n",
    "print(mySet)\n",
    "print(mySet1)\n",
    "\n",
    "mySet2 = {123456}\n",
    "mySet3 = set('123456')\n",
    "\n",
    "print(mySet2)\n",
    "print(mySet3)"
   ]
  },
  {
   "cell_type": "markdown",
   "metadata": {},
   "source": [
    "# Insert items into Python Set"
   ]
  },
  {
   "cell_type": "code",
   "execution_count": 6,
   "metadata": {},
   "outputs": [
    {
     "name": "stdout",
     "output_type": "stream",
     "text": [
      "Old Set Items =  {1, 2, 4, 5}\n",
      "New Set Items =  {1, 2, 3, 4, 5}\n",
      "\n",
      "Old Set Items =  {'cherry', 'kiwi', 'orange', 'apple', 'Mango'}\n",
      "New Set Items =  {'cherry', 'kiwi', 'banana', 'orange', 'apple', 'Mango'}\n"
     ]
    }
   ],
   "source": [
    "# Add Items to set \n",
    "\n",
    "mySet = {1, 2, 4, 5}\n",
    "print(\"Old Set Items = \", mySet)\n",
    "\n",
    "# Set add\n",
    "mySet.add(3)\n",
    "print(\"New Set Items = \", mySet)\n",
    "\n",
    "FruitSet = {'apple', 'Mango', 'orange', 'cherry','kiwi'}\n",
    "print(\"\\nOld Set Items = \", FruitSet)\n",
    "\n",
    "# Set add\n",
    "FruitSet.add('banana')\n",
    "print(\"New Set Items = \", FruitSet)"
   ]
  },
  {
   "cell_type": "markdown",
   "metadata": {},
   "source": [
    "# Python set update Method\n",
    "\n",
    "The set update method helps us to add multiple set items. This example shows how to add multiple set items. \n",
    "\n",
    "# Remember, you use duplicate value inside the update method, the set ignores them."
   ]
  },
  {
   "cell_type": "code",
   "execution_count": 7,
   "metadata": {},
   "outputs": [
    {
     "name": "stdout",
     "output_type": "stream",
     "text": [
      "Old Set Items =  {1, 2, 4, 5}\n",
      "New Set Items =  {1, 2, 3, 4, 5, 6, 7}\n",
      "\n",
      "Old Set Items =  {'orange', 'apple', 'Mango', 'kiwi'}\n",
      "New Set Items =  {'orange', 'apple', 'cherry', 'kiwi', 'banana', 'Mango'}\n"
     ]
    }
   ],
   "source": [
    "# set update\n",
    "\n",
    "mySet = {1, 2, 4, 5}\n",
    "print(\"Old Set Items = \", mySet)\n",
    "\n",
    "# Set update\n",
    "mySet.update([2, 3, 6, 7])\n",
    "print(\"New Set Items = \", mySet)\n",
    "\n",
    "FruitSet = {'apple', 'Mango', 'orange','kiwi'}\n",
    "print(\"\\nOld Set Items = \", FruitSet)\n",
    "\n",
    "# Set update\n",
    "FruitSet.update({'banana', 'cherry'})\n",
    "print(\"New Set Items = \", FruitSet)"
   ]
  },
  {
   "cell_type": "markdown",
   "metadata": {},
   "source": [
    "# Python set update Example 2"
   ]
  },
  {
   "cell_type": "code",
   "execution_count": 8,
   "metadata": {},
   "outputs": [
    {
     "name": "stdout",
     "output_type": "stream",
     "text": [
      "Old Set Items =  {1, 2, 5, 6}\n",
      "New Set Items =  {1, 2, 3, 5, 6, 7, 8, 9}\n"
     ]
    }
   ],
   "source": [
    "# set update\n",
    "\n",
    "mySet = {1, 2, 5, 6}\n",
    "print(\"Old Set Items = \", mySet)\n",
    "\n",
    "# Set update\n",
    "mySet.update([2, 3, 6, 7], {5, 8, 9})\n",
    "print(\"New Set Items = \", mySet)"
   ]
  },
  {
   "cell_type": "markdown",
   "metadata": {},
   "source": [
    "# Remove Python Set items\n",
    "There are several different functions to delete or remove an item from a Set:"
   ]
  },
  {
   "cell_type": "markdown",
   "metadata": {},
   "source": [
    "Python Set remove method\n",
    "If we know the set item or the value inside the given set, then we can use the remove method."
   ]
  },
  {
   "cell_type": "code",
   "execution_count": 9,
   "metadata": {},
   "outputs": [
    {
     "name": "stdout",
     "output_type": "stream",
     "text": [
      "Old Set Items =  {1, 2, 3, 4, 5, 6, 7, 8, 9}\n",
      "New Set Items =  {1, 2, 3, 5, 6, 7, 8, 9}\n",
      "\n",
      "Old Set Items =  {'cherry', 'banana', 'kiwi', 'orange', 'apple', 'Mango'}\n",
      "New Set Items =  {'cherry', 'banana', 'kiwi', 'apple', 'Mango'}\n"
     ]
    }
   ],
   "source": [
    "# set remove\n",
    "\n",
    "mySet = {1, 2, 3, 4, 5, 6, 7, 8, 9}\n",
    "print(\"Old Set Items = \", mySet)\n",
    "\n",
    "# Set remove()\n",
    "mySet.remove(4)\n",
    "print(\"New Set Items = \", mySet)\n",
    "\n",
    "FruitSet = {'apple', 'Mango', 'orange', 'banana', 'cherry','kiwi'}\n",
    "print(\"\\nOld Set Items = \", FruitSet)\n",
    "\n",
    "# Set remove()\n",
    "FruitSet.remove('orange')\n",
    "print(\"New Set Items = \", FruitSet)"
   ]
  },
  {
   "cell_type": "markdown",
   "metadata": {},
   "source": [
    "# Remove Python set item using del statement\n",
    "The del statement completely removes the given set. If you select the set after executing this del method, it throws an error. It is because this set del function altogether removes the set."
   ]
  },
  {
   "cell_type": "code",
   "execution_count": 10,
   "metadata": {},
   "outputs": [
    {
     "name": "stdout",
     "output_type": "stream",
     "text": [
      "Old Set Items =  {1, 2, 3, 4, 5, 6, 7, 8, 9}\n"
     ]
    },
    {
     "ename": "NameError",
     "evalue": "name 'mySet' is not defined",
     "output_type": "error",
     "traceback": [
      "\u001b[1;31m---------------------------------------------------------------------------\u001b[0m",
      "\u001b[1;31mNameError\u001b[0m                                 Traceback (most recent call last)",
      "\u001b[1;32m<ipython-input-10-5f187b9e9037>\u001b[0m in \u001b[0;36m<module>\u001b[1;34m\u001b[0m\n\u001b[0;32m      6\u001b[0m \u001b[1;31m# Set del\u001b[0m\u001b[1;33m\u001b[0m\u001b[1;33m\u001b[0m\u001b[1;33m\u001b[0m\u001b[0m\n\u001b[0;32m      7\u001b[0m \u001b[1;32mdel\u001b[0m \u001b[0mmySet\u001b[0m\u001b[1;33m\u001b[0m\u001b[1;33m\u001b[0m\u001b[0m\n\u001b[1;32m----> 8\u001b[1;33m \u001b[0mprint\u001b[0m\u001b[1;33m(\u001b[0m\u001b[1;34m\"New Set Items = \"\u001b[0m\u001b[1;33m,\u001b[0m \u001b[0mmySet\u001b[0m\u001b[1;33m)\u001b[0m\u001b[1;33m\u001b[0m\u001b[1;33m\u001b[0m\u001b[0m\n\u001b[0m",
      "\u001b[1;31mNameError\u001b[0m: name 'mySet' is not defined"
     ]
    }
   ],
   "source": [
    "# set del\n",
    "\n",
    "mySet = {1, 2, 3, 4, 5, 6, 7, 8, 9}\n",
    "print(\"Old Set Items = \", mySet)\n",
    "\n",
    "# Set del\n",
    "del mySet\n",
    "print(\"New Set Items = \", mySet)"
   ]
  },
  {
   "cell_type": "markdown",
   "metadata": {},
   "source": [
    "# Remove set items using clear method\n",
    "The set clear method helps to clear all the items in a given set. After executing this method, it returns an empty set = set()."
   ]
  },
  {
   "cell_type": "code",
   "execution_count": 11,
   "metadata": {},
   "outputs": [
    {
     "name": "stdout",
     "output_type": "stream",
     "text": [
      "Old Set Items =  {1, 2, 3, 4, 5, 6, 7, 8, 9}\n",
      "New Set Items =  set()\n",
      "\n",
      "Old Set Items =  {'cherry', 'banana', 'kiwi', 'orange', 'apple', 'Mango'}\n",
      "New Set Items =  set()\n"
     ]
    }
   ],
   "source": [
    "# set clear\n",
    "\n",
    "mySet = {1, 2, 3, 4, 5, 6, 7, 8, 9}\n",
    "print(\"Old Set Items = \", mySet)\n",
    "\n",
    "# Set clear()\n",
    "mySet.clear()\n",
    "print(\"New Set Items = \", mySet)\n",
    "\n",
    "FruitSet = {'apple', 'Mango', 'orange', 'banana', 'cherry','kiwi'}\n",
    "print(\"\\nOld Set Items = \", FruitSet)\n",
    "\n",
    "# Set clear()\n",
    "FruitSet.clear()\n",
    "print(\"New Set Items = \", FruitSet)"
   ]
  },
  {
   "cell_type": "markdown",
   "metadata": {},
   "source": [
    "# Remove Set item using discard method\n",
    "The set discard method removes the user-specified set item from a given set. If we know the item or value that you want to delete then, you can use python discard to remove the given set item."
   ]
  },
  {
   "cell_type": "code",
   "execution_count": 2,
   "metadata": {},
   "outputs": [
    {
     "name": "stdout",
     "output_type": "stream",
     "text": [
      "Old Set Items =  {1, 2, 3, 4, 5, 6, 7, 8, 9}\n",
      "New Set Items =  {1, 2, 3, 5, 6, 8, 9}\n",
      "\n",
      "Old Set Items =  {'orange', 'Mango', 'kiwi', 'banana', 'apple', 'cherry'}\n",
      "New Set Items =  {'orange', 'kiwi', 'banana', 'apple', 'cherry'}\n"
     ]
    }
   ],
   "source": [
    "# Python set discard\n",
    "\n",
    "mySet = {1, 2, 3, 4, 5, 6, 7, 8, 9}\n",
    "print(\"Old Set Items = \", mySet)\n",
    "\n",
    "# Set discard()\n",
    "mySet.discard(7)\n",
    "mySet.discard(4)\n",
    "print(\"New Set Items = \", mySet)\n",
    "\n",
    "FruitSet = {'apple', 'Mango', 'orange', 'banana', 'cherry','kiwi'}\n",
    "print(\"\\nOld Set Items = \", FruitSet)\n",
    "\n",
    "# Set discard()\n",
    "FruitSet.discard('Mango')\n",
    "print(\"New Set Items = \", FruitSet)"
   ]
  },
  {
   "cell_type": "markdown",
   "metadata": {},
   "source": [
    "# Remove set items using pop method\n",
    "The set pop method removes the last item from a given set. As we all know, sets are not in any particular order. So, you never know which item removed from the set."
   ]
  },
  {
   "cell_type": "code",
   "execution_count": 16,
   "metadata": {},
   "outputs": [
    {
     "name": "stdout",
     "output_type": "stream",
     "text": [
      "Old Set Items =  {1, 2, 3, 4, 5, 6, 7, 8, 9}\n",
      "New Set Items =  {2, 3, 4, 5, 6, 7, 8, 9}\n",
      "\n",
      "Old Set Items =  {'cherry', 'banana', 'kiwi', 'orange', 'apple', 'Mango'}\n",
      "New Set Items =  {'banana', 'kiwi', 'orange', 'apple', 'Mango'}\n"
     ]
    }
   ],
   "source": [
    "# set discard\n",
    "\n",
    "mySet = {1, 2, 3, 4, 5, 6, 7, 8, 9}\n",
    "print(\"Old Set Items = \", mySet)\n",
    "\n",
    "# Set pop()\n",
    "mySet.pop()\n",
    "print(\"New Set Items = \", mySet)\n",
    "\n",
    "FruitSet = {'apple', 'Mango', 'orange', 'banana', 'cherry','kiwi'}\n",
    "print(\"\\nOld Set Items = \", FruitSet)\n",
    "\n",
    "# Set pop()\n",
    "FruitSet.pop()\n",
    "print(\"New Set Items = \", FruitSet)"
   ]
  }
 ],
 "metadata": {
  "kernelspec": {
   "display_name": "base",
   "language": "python",
   "name": "python3"
  },
  "language_info": {
   "codemirror_mode": {
    "name": "ipython",
    "version": 3
   },
   "file_extension": ".py",
   "mimetype": "text/x-python",
   "name": "python",
   "nbconvert_exporter": "python",
   "pygments_lexer": "ipython3",
   "version": "3.9.7 (default, Sep 16 2021, 16:59:28) [MSC v.1916 64 bit (AMD64)]"
  },
  "vscode": {
   "interpreter": {
    "hash": "ad2bdc8ecc057115af97d19610ffacc2b4e99fae6737bb82f5d7fb13d2f2c186"
   }
  }
 },
 "nbformat": 4,
 "nbformat_minor": 2
}
