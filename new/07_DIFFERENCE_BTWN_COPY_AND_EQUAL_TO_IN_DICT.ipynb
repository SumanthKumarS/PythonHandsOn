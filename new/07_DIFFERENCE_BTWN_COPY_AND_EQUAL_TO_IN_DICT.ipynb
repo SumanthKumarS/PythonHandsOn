{
 "cells": [
  {
   "cell_type": "markdown",
   "metadata": {},
   "source": [
    "# Difference between Python Dictionary copy and = Operator"
   ]
  },
  {
   "cell_type": "markdown",
   "metadata": {},
   "source": [
    "The Python Dictionary copy shall copy the dictionary items to an entirely new dictionary. Whereas = operator creates an instance of the existing dictionary."
   ]
  },
  {
   "cell_type": "markdown",
   "metadata": {},
   "source": [
    "# Example 1"
   ]
  },
  {
   "cell_type": "code",
   "execution_count": 1,
   "metadata": {},
   "outputs": [
    {
     "name": "stdout",
     "output_type": "stream",
     "text": [
      "Dictionary:  {'name': 'John', 'age': 25, 'job': 'HR', 'Sal': 725000}\n",
      "Dictionary Length:  4\n",
      "\n",
      "Dictionary:  {'name': 'John', 'age': 25, 'job': 'HR', 'Sal': 725000}\n",
      "Dictionary Length:  4\n",
      "\n",
      "Dictionary:  {'name': 'John', 'age': 25, 'job': 'HR', 'Sal': 725000}\n",
      "Dictionary Length:  4\n"
     ]
    }
   ],
   "source": [
    "# Difference between Python Dictionary copy and = Operator\n",
    "\n",
    "emp = {'name': 'John', 'age': 25 , 'job': 'HR', 'Sal': 725000}\n",
    "\n",
    "print(\"Dictionary: \", emp)\n",
    "print(\"Dictionary Length: \", len(emp))\n",
    "\n",
    "newEmp = emp.copy()\n",
    "print(\"\\nDictionary: \", newEmp)\n",
    "print(\"Dictionary Length: \", len(newEmp))\n",
    "\n",
    "newEmp2 = emp\n",
    "print(\"\\nDictionary: \", newEmp2)\n",
    "print(\"Dictionary Length: \", len(newEmp2))"
   ]
  },
  {
   "cell_type": "markdown",
   "metadata": {},
   "source": [
    "# Differentiate Dictionary copy and = Operator Example 2\n",
    "In this program, we are using a clear function to remove the items from the dictionary. If you observe carefully, when we removed items from emp, newEmp2 is also returning an empty set."
   ]
  },
  {
   "cell_type": "code",
   "execution_count": 2,
   "metadata": {},
   "outputs": [
    {
     "name": "stdout",
     "output_type": "stream",
     "text": [
      "Dictionary:  {'name': 'John', 'age': 25, 'job': 'HR', 'Sal': 725000}\n",
      "Dictionary Length:  4\n",
      "\n",
      "Dictionary:  {'name': 'John', 'age': 25, 'job': 'HR', 'Sal': 725000}\n",
      "Dictionary Length:  4\n",
      "\n",
      "Dictionary:  {'name': 'John', 'age': 25, 'job': 'HR', 'Sal': 725000}\n",
      "Dictionary Length:  4\n",
      "\n",
      "Dictionary:  {}\n",
      "\n",
      "Dictionary:  {'name': 'John', 'age': 25, 'job': 'HR', 'Sal': 725000}\n",
      "Dictionary Length:  4\n",
      "\n",
      "Dictionary:  {}\n",
      "Dictionary Length:  0\n"
     ]
    }
   ],
   "source": [
    "# Difference between Python Dictionary copy and = Operator\n",
    "\n",
    "emp = {'name': 'John', 'age': 25 , 'job': 'HR', 'Sal': 725000}\n",
    "\n",
    "print(\"Dictionary: \", emp)\n",
    "print(\"Dictionary Length: \", len(emp))\n",
    "\n",
    "newEmp = emp.copy()\n",
    "print(\"\\nDictionary: \", newEmp)\n",
    "print(\"Dictionary Length: \", len(newEmp))\n",
    "\n",
    "newEmp2 = emp\n",
    "print(\"\\nDictionary: \", newEmp2)\n",
    "print(\"Dictionary Length: \", len(newEmp2))\n",
    "\n",
    "emp.clear()\n",
    "print(\"\\nDictionary: \", emp)\n",
    "print(\"\\nDictionary: \", newEmp)\n",
    "print(\"Dictionary Length: \", len(newEmp))\n",
    "\n",
    "print(\"\\nDictionary: \", newEmp2)\n",
    "print(\"Dictionary Length: \", len(newEmp2))"
   ]
  },
  {
   "cell_type": "code",
   "execution_count": null,
   "metadata": {},
   "outputs": [],
   "source": []
  }
 ],
 "metadata": {
  "kernelspec": {
   "display_name": "Python 3.9.7 ('base')",
   "language": "python",
   "name": "python3"
  },
  "language_info": {
   "codemirror_mode": {
    "name": "ipython",
    "version": 3
   },
   "file_extension": ".py",
   "mimetype": "text/x-python",
   "name": "python",
   "nbconvert_exporter": "python",
   "pygments_lexer": "ipython3",
   "version": "3.9.7"
  },
  "vscode": {
   "interpreter": {
    "hash": "ad2bdc8ecc057115af97d19610ffacc2b4e99fae6737bb82f5d7fb13d2f2c186"
   }
  }
 },
 "nbformat": 4,
 "nbformat_minor": 2
}
