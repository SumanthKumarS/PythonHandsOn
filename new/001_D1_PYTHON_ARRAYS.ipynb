{
 "cells": [
  {
   "attachments": {},
   "cell_type": "markdown",
   "metadata": {},
   "source": [
    "# python array\n",
    "Array in a python is a collection of similar data type elements"
   ]
  },
  {
   "cell_type": "code",
   "execution_count": 2,
   "metadata": {},
   "outputs": [],
   "source": [
    "# python array declaration\n",
    "# declaring an empty array\n",
    "array = []\n",
    "# declaring an integer array\n",
    "int_array = [1,2,3,4,5,6,7,8]\n",
    "# declaring a string array\n",
    "str_array = ['apple','bannana','orange','kiwi']"
   ]
  },
  {
   "cell_type": "code",
   "execution_count": 4,
   "metadata": {},
   "outputs": [
    {
     "name": "stdout",
     "output_type": "stream",
     "text": [
      "[1, 2, 3, 4, 5, 6, 7, 8]\n",
      "['apple', 'bannana', 'orange', 'kiwi']\n",
      "1\n",
      "apple\n"
     ]
    }
   ],
   "source": [
    "# print  the array values\n",
    "print(int_array)\n",
    "print(str_array)\n",
    "print(int_array[0])\n",
    "print(str_array[0])"
   ]
  },
  {
   "attachments": {},
   "cell_type": "markdown",
   "metadata": {},
   "source": [
    "# Example - Accessing python Array values"
   ]
  },
  {
   "cell_type": "code",
   "execution_count": 6,
   "metadata": {},
   "outputs": [
    {
     "name": "stdout",
     "output_type": "stream",
     "text": [
      "Item at the index position 0 :  1\n",
      "Item at the index position 1 :  2\n",
      "Item at the index position 2 :  3\n",
      "Item at the index position 3 :  4\n",
      "Item at the index position 4 :  5\n"
     ]
    }
   ],
   "source": [
    "# Accessing the array elements\n",
    "# declaring an array \n",
    "array = [1,2,3,4,5]\n",
    "#declaring by the positive index values\n",
    "print(\"Item at the index position 0 : \",array[0])\n",
    "print(\"Item at the index position 1 : \",array[1])\n",
    "print(\"Item at the index position 2 : \",array[2])\n",
    "print(\"Item at the index position 3 : \",array[3])\n",
    "print(\"Item at the index position 4 : \",array[4])\n",
    "#print(\"Item at the index position 5 : \",array[5]) #list index out of range"
   ]
  },
  {
   "attachments": {},
   "cell_type": "markdown",
   "metadata": {},
   "source": [
    "# Negative index to access array values"
   ]
  },
  {
   "cell_type": "code",
   "execution_count": 9,
   "metadata": {},
   "outputs": [
    {
     "name": "stdout",
     "output_type": "stream",
     "text": [
      "Item at the index position 1 :  5\n",
      "Item at the index position 2 :  4\n",
      "Item at the index position 3 :  3\n",
      "Item at the index position 4 :  2\n",
      "Item at the index position 5 :  1\n"
     ]
    }
   ],
   "source": [
    "# Access array items \n",
    "# declaring an array\n",
    "array = [1,2,3,4,5]\n",
    "# Use negative Index\n",
    "print(\"Item at the index position 1 : \",array[-1])\n",
    "print(\"Item at the index position 2 : \",array[-2])\n",
    "print(\"Item at the index position 3 : \",array[-3])\n",
    "print(\"Item at the index position 4 : \",array[-4])\n",
    "print(\"Item at the index position 5 : \",array[-5])\n",
    "# print(\"Item at the index position 5 : \",array[-6]) #list index out of range"
   ]
  },
  {
   "attachments": {},
   "cell_type": "markdown",
   "metadata": {},
   "source": [
    "# python array length"
   ]
  },
  {
   "cell_type": "code",
   "execution_count": 12,
   "metadata": {},
   "outputs": [
    {
     "name": "stdout",
     "output_type": "stream",
     "text": [
      "8\n",
      "5\n"
     ]
    }
   ],
   "source": [
    "# python array length \n",
    "# declaring array of integer for finding the length\n",
    "array = [1,2,3,4,5,6,7,8]\n",
    "int_len = len(array)\n",
    "print(int_len)\n",
    "\n",
    "# declaring array of string for finding the length\n",
    "array = ['apple','bannana','orange','pinapple','kiwi']\n",
    "str_len = len(array)\n",
    "print(str_len)"
   ]
  },
  {
   "attachments": {},
   "cell_type": "markdown",
   "metadata": {},
   "source": [
    "# loop array items"
   ]
  },
  {
   "cell_type": "code",
   "execution_count": 14,
   "metadata": {},
   "outputs": [
    {
     "name": "stdout",
     "output_type": "stream",
     "text": [
      "10\n",
      "20\n",
      "30\n",
      "40\n",
      "50\n",
      "60\n",
      "70\n",
      "------------------------------------------------\n",
      "Item at index position  0  :  10\n",
      "Item at index position  1  :  20\n",
      "Item at index position  2  :  30\n",
      "Item at index position  3  :  40\n",
      "Item at index position  4  :  50\n",
      "Item at index position  5  :  60\n",
      "Item at index position  6  :  70\n"
     ]
    }
   ],
   "source": [
    "# looping array elements \n",
    "# declaring array and looopine the array\n",
    "array = [10,20,30,40,50,60,70]\n",
    "\n",
    "for i in array:\n",
    "    print(i)\n",
    "\n",
    "#looping the arry by index\n",
    "print(\"------------------------------------------------\")\n",
    "for i in range(len(array)):\n",
    "    print(\"Item at index position \",i,\" : \",array[i])"
   ]
  },
  {
   "cell_type": "code",
   "execution_count": 15,
   "metadata": {},
   "outputs": [
    {
     "name": "stdout",
     "output_type": "stream",
     "text": [
      "apple\n",
      "bannana\n",
      "orange\n",
      "pinapple\n",
      "kiwi\n",
      "------------------------------------------------\n",
      "Item at index position  0  :  apple\n",
      "Item at index position  1  :  bannana\n",
      "Item at index position  2  :  orange\n",
      "Item at index position  3  :  pinapple\n",
      "Item at index position  4  :  kiwi\n"
     ]
    }
   ],
   "source": [
    "# looping array elements for string\n",
    "# declaring array and looopine the array\n",
    "array = ['apple','bannana','orange','pinapple','kiwi']\n",
    "\n",
    "for x in array:\n",
    "    print(x)\n",
    "\n",
    "#looping the arry by index\n",
    "print(\"------------------------------------------------\")\n",
    "for x in range(len(array)):\n",
    "    print(\"Item at index position \",x,\" : \",array[x])"
   ]
  },
  {
   "attachments": {},
   "cell_type": "markdown",
   "metadata": {},
   "source": [
    "# How to add new element to an array"
   ]
  },
  {
   "cell_type": "code",
   "execution_count": 21,
   "metadata": {},
   "outputs": [
    {
     "name": "stdout",
     "output_type": "stream",
     "text": [
      "Old_Array [10, 20, 30, 40, 50, 60]\n",
      "new_array [10, 20, 30, 40, 50, 60, 70]\n"
     ]
    }
   ],
   "source": [
    "# Add a new item to python array\n",
    "# declaring array\n",
    "old_array = [10,20,30,40,50,60]\n",
    "print(\"Old_Array\",old_array)\n",
    "#to add new element append()\n",
    "old_array.append(70)\n",
    "print(\"new_array\",old_array)"
   ]
  },
  {
   "attachments": {},
   "cell_type": "markdown",
   "metadata": {},
   "source": [
    "# In this example, we are using the insert function to insert an array element. The insert function is to insert an element at a given index position."
   ]
  },
  {
   "cell_type": "code",
   "execution_count": 24,
   "metadata": {},
   "outputs": [
    {
     "name": "stdout",
     "output_type": "stream",
     "text": [
      "old_array  [10, 20, 30, 40, 50]\n",
      "New updared value  [0, 10, 20, 30, 35, 40, 50]\n"
     ]
    }
   ],
   "source": [
    "# add new item to python array\n",
    "# declaring array elements\n",
    "array = [10,20,30,40,50]\n",
    "print(\"old_array \",array)\n",
    "array.insert(0,0)\n",
    "array.insert(4,35)\n",
    "print(\"New updared value \",array)"
   ]
  },
  {
   "attachments": {},
   "cell_type": "markdown",
   "metadata": {},
   "source": [
    "# Removing element from an array in python"
   ]
  },
  {
   "cell_type": "code",
   "execution_count": 27,
   "metadata": {},
   "outputs": [
    {
     "name": "stdout",
     "output_type": "stream",
     "text": [
      "elements before being deleted :  [10, 20, 30, 40, 45, 50, 60, 65, 70, 75, 80, 90]\n",
      "elements before being deleted :  [10, 20, 30, 40, 50, 60, 65, 70, 75, 80, 90]\n",
      "elements before being deleted :  [10, 20, 30, 40, 50, 60, 65, 70, 80, 90]\n"
     ]
    }
   ],
   "source": [
    "# remove an item from array\n",
    "# declaring an arryay\n",
    "array = [10,20,30,40,45,50,60,65,70,75,80,90]\n",
    "print(\"elements before being deleted : \",array)\n",
    "array.remove(45)\n",
    "print(\"elements before being deleted : \",array)\n",
    "array.remove(75)\n",
    "print(\"elements before being deleted : \",array)"
   ]
  },
  {
   "attachments": {},
   "cell_type": "markdown",
   "metadata": {},
   "source": [
    "# deleting elements at the specific position using pop()"
   ]
  },
  {
   "cell_type": "code",
   "execution_count": 32,
   "metadata": {},
   "outputs": [
    {
     "name": "stdout",
     "output_type": "stream",
     "text": [
      "elements before being deleted :  [10, 20, 30, 40, 45, 50, 60, 65, 70, 75, 80, 90]\n",
      "Removed element :  45\n",
      "elements after being deleted :  [10, 20, 30, 40, 50, 60, 65, 70, 75, 80, 90]\n",
      "Removed element :  65\n",
      "elements after being deleted :  [10, 20, 30, 40, 50, 60, 70, 75, 80, 90]\n"
     ]
    }
   ],
   "source": [
    "# poping out an item from array at specific postion\n",
    "# declaring an arryay\n",
    "array = [10,20,30,40,45,50,60,65,70,75,80,90]\n",
    "print(\"elements before being deleted : \",array)\n",
    "x = array.pop(4)\n",
    "print(\"Removed element : \",x)\n",
    "print(\"elements after being deleted : \",array)\n",
    "y = array.pop(6)\n",
    "print(\"Removed element : \",y)\n",
    "print(\"elements after being deleted : \",array)"
   ]
  },
  {
   "attachments": {},
   "cell_type": "markdown",
   "metadata": {},
   "source": [
    "# Python array Sclicing\n",
    "# Based on the position of the elements slicing the array of value start and end value like 0,n-1"
   ]
  },
  {
   "cell_type": "code",
   "execution_count": 37,
   "metadata": {},
   "outputs": [
    {
     "name": "stdout",
     "output_type": "stream",
     "text": [
      "old Array :  [10, 20, 30, 40, 50, 60, 70, 80, 90]\n",
      "Sliced Array :  [20, 30, 40, 50]\n",
      "Sliced Array :  [50, 60, 70, 80]\n",
      "Sliced Array :  [50, 60, 70, 80]\n",
      "Sliced Array :  [50, 60, 70, 80, 90]\n"
     ]
    }
   ],
   "source": [
    "# Slicing array in python\n",
    "array = [10, 20, 30, 40, 50, 60, 70, 80, 90]\n",
    "print(\"old Array : \",array)\n",
    "\n",
    "a = array[1:5] # 20, 30, 40, 50\n",
    "print(\"Sliced Array : \",a)\n",
    "b = array[4:-1] # 50, 60, 70, 80\n",
    "print(\"Sliced Array : \",b)\n",
    "c = array[4:8] # 50, 60, 70, 80\n",
    "print(\"Sliced Array : \",c)\n",
    "d = array[4:9] # 50, 60, 70, 80, 90\n",
    "print(\"Sliced Array : \",d)\n"
   ]
  },
  {
   "attachments": {},
   "cell_type": "markdown",
   "metadata": {},
   "source": [
    "# Python array methods\n",
    "# python array sort"
   ]
  },
  {
   "cell_type": "code",
   "execution_count": 38,
   "metadata": {},
   "outputs": [
    {
     "name": "stdout",
     "output_type": "stream",
     "text": [
      "array Before sorting :  [50, 20, 40, 10, 80, 60, 70, 30, 90]\n",
      "array after sorting :  [10, 20, 30, 40, 50, 60, 70, 80, 90]\n"
     ]
    }
   ],
   "source": [
    "# sort an array in puython \n",
    "# declaring  an integer array\n",
    "array = [50, 20, 40, 10, 80, 60, 70, 30, 90]\n",
    "print(\"array Before sorting : \",array)\n",
    "array.sort()\n",
    "print(\"array after sorting : \",array)"
   ]
  },
  {
   "attachments": {},
   "cell_type": "markdown",
   "metadata": {},
   "source": [
    "# Reversing an array"
   ]
  },
  {
   "cell_type": "code",
   "execution_count": 39,
   "metadata": {},
   "outputs": [
    {
     "name": "stdout",
     "output_type": "stream",
     "text": [
      "array Before sorting :  [50, 20, 40, 10, 80, 60, 70, 30, 90]\n",
      "array after sorting :  [10, 20, 30, 40, 50, 60, 70, 80, 90]\n",
      "Updated Array in reverse :  [90, 80, 70, 60, 50, 40, 30, 20, 10]\n"
     ]
    }
   ],
   "source": [
    "# declaring  an integer array\n",
    "array = [50, 20, 40, 10, 80, 60, 70, 30, 90]\n",
    "print(\"array Before sorting : \",array)\n",
    "array.sort()\n",
    "print(\"array after sorting : \",array)\n",
    "# Reversing array reverse()\n",
    "array.reverse()\n",
    "print(\"Updated Array in reverse : \",array)"
   ]
  },
  {
   "attachments": {},
   "cell_type": "markdown",
   "metadata": {},
   "source": [
    "# Coping elements from one array to another"
   ]
  },
  {
   "cell_type": "code",
   "execution_count": 42,
   "metadata": {},
   "outputs": [
    {
     "name": "stdout",
     "output_type": "stream",
     "text": [
      "Elements array 1 :  [10, 20, 30, 40, 50, 60, 70, 80, 90]\n",
      "Elements array 2 :  []\n",
      "Updated array 2 of coppied elements from arr_1:\n",
      " [10, 20, 30, 40, 50, 60, 70, 80, 90]\n"
     ]
    }
   ],
   "source": [
    "arr_1 = [10, 20, 30, 40, 50, 60, 70, 80, 90]\n",
    "arr_2 = []\n",
    "print(\"Elements array 1 : \",arr_1)\n",
    "print(\"Elements array 2 : \",arr_2)\n",
    "# Coping elements from arr_1 to arr_2\n",
    "arr_2 = arr_1.copy()\n",
    "print(\"Updated array 2 of coppied elements from arr_1:\\n\",arr_2)"
   ]
  },
  {
   "attachments": {},
   "cell_type": "markdown",
   "metadata": {},
   "source": [
    "# Array Clear"
   ]
  },
  {
   "cell_type": "code",
   "execution_count": 43,
   "metadata": {},
   "outputs": [
    {
     "name": "stdout",
     "output_type": "stream",
     "text": [
      "elements present in array :  [10, 20, 30, 40, 50, 60, 70, 80, 90]\n",
      "Updated elements present in array after Clearing :  []\n"
     ]
    }
   ],
   "source": [
    "#Clearing elements from array\n",
    "array = [10, 20, 30, 40, 50, 60, 70, 80, 90]\n",
    "print(\"elements present in array : \",array)\n",
    "array.clear()\n",
    "print(\"Updated elements present in array after Clearing : \",array)"
   ]
  },
  {
   "attachments": {},
   "cell_type": "markdown",
   "metadata": {},
   "source": [
    "# Python Multidimesional Array"
   ]
  },
  {
   "cell_type": "code",
   "execution_count": 46,
   "metadata": {},
   "outputs": [
    {
     "name": "stdout",
     "output_type": "stream",
     "text": [
      "Multi_dime Array:  [[10, 20], [30, 40], [50, 60], [70, 80]]\n",
      "10\n",
      "30\n",
      "50\n",
      "70\n"
     ]
    }
   ],
   "source": [
    "# Declaring a multy dimesional array\n",
    "array = [[10,20],[30,40],[50,60],[70,80]]\n",
    "print(\"Multi_dime Array: \",array)\n",
    "# printing first row elements of the array\n",
    "print(array[0][0])\n",
    "print(array[1][0])\n",
    "print(array[2][0])\n",
    "print(array[3][0])"
   ]
  }
 ],
 "metadata": {
  "kernelspec": {
   "display_name": "Python 3.9.7 ('base')",
   "language": "python",
   "name": "python3"
  },
  "language_info": {
   "codemirror_mode": {
    "name": "ipython",
    "version": 3
   },
   "file_extension": ".py",
   "mimetype": "text/x-python",
   "name": "python",
   "nbconvert_exporter": "python",
   "pygments_lexer": "ipython3",
   "version": "3.9.7"
  },
  "orig_nbformat": 4,
  "vscode": {
   "interpreter": {
    "hash": "ad2bdc8ecc057115af97d19610ffacc2b4e99fae6737bb82f5d7fb13d2f2c186"
   }
  }
 },
 "nbformat": 4,
 "nbformat_minor": 2
}
