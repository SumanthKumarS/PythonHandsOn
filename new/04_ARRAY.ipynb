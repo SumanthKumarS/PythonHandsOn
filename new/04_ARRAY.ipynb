{
 "cells": [
  {
   "cell_type": "markdown",
   "metadata": {},
   "source": [
    "# PYTHON - ARRAY \n",
    "An array in Python is a collection of similar data type elements"
   ]
  },
  {
   "cell_type": "code",
   "execution_count": 1,
   "metadata": {},
   "outputs": [],
   "source": [
    "# Python Array Declaration\n",
    "\n",
    "# Declaring an empty Array\n",
    "array = []\n",
    "\n",
    "# Declaring an Integer Array\n",
    "int_array = [1, 2, 3, 4, 5, 6, 7, 8]\n",
    "\n",
    "# Declaring a String Array\n",
    "string_array = ['apple', 'banana', 'orange', 'kiwi']"
   ]
  },
  {
   "cell_type": "code",
   "execution_count": 5,
   "metadata": {},
   "outputs": [
    {
     "name": "stdout",
     "output_type": "stream",
     "text": [
      "1\n",
      "apple\n"
     ]
    }
   ],
   "source": [
    "print(int_array[0])\n",
    "print(string_array[0])"
   ]
  },
  {
   "cell_type": "markdown",
   "metadata": {},
   "source": [
    "# EXAMPLE - Access Python Array values"
   ]
  },
  {
   "cell_type": "code",
   "execution_count": 2,
   "metadata": {},
   "outputs": [
    {
     "name": "stdout",
     "output_type": "stream",
     "text": [
      "Item at Index Position 0 =  1\n",
      "Item at Index Position 1 =  2\n",
      "Item at Index Position 2 =  3\n",
      "Item at Index Position 3 =  4\n",
      "Item at Index Position 4 =  5\n"
     ]
    }
   ],
   "source": [
    "# Access Array Items\n",
    "\n",
    "# Declaring an Array\n",
    "array = [1, 2, 3, 4, 5]\n",
    "\n",
    "# Use Positive Index\n",
    "print(\"Item at Index Position 0 = \", array[0])\n",
    "print(\"Item at Index Position 1 = \", array[1])\n",
    "print(\"Item at Index Position 2 = \", array[2])\n",
    "print(\"Item at Index Position 3 = \", array[3])\n",
    "print(\"Item at Index Position 4 = \", array[4])"
   ]
  },
  {
   "cell_type": "markdown",
   "metadata": {},
   "source": [
    "# Negative Index to access Array values"
   ]
  },
  {
   "cell_type": "code",
   "execution_count": 3,
   "metadata": {},
   "outputs": [
    {
     "name": "stdout",
     "output_type": "stream",
     "text": [
      "Item at Negative Index Position 1 =  5\n",
      "Item at Negative Index Position 2 =  4\n",
      "Item at Negative Index Position 3 =  3\n",
      "Item at Negative Index Position 4 =  2\n",
      "Item at Negative Index Position 5 =  1\n"
     ]
    }
   ],
   "source": [
    "# Access Array Items\n",
    "\n",
    "# Declaring an Array\n",
    "array = [1, 2, 3, 4, 5]\n",
    "\n",
    "# Use Negative Index\n",
    "print(\"Item at Negative Index Position 1 = \", array[-1])\n",
    "print(\"Item at Negative Index Position 2 = \", array[-2])\n",
    "print(\"Item at Negative Index Position 3 = \", array[-3])\n",
    "print(\"Item at Negative Index Position 4 = \", array[-4])\n",
    "print(\"Item at Negative Index Position 5 = \", array[-5])"
   ]
  },
  {
   "cell_type": "markdown",
   "metadata": {},
   "source": [
    "# Python Array length"
   ]
  },
  {
   "cell_type": "code",
   "execution_count": 6,
   "metadata": {},
   "outputs": [
    {
     "name": "stdout",
     "output_type": "stream",
     "text": [
      "The length of an Integer Array =   8\n",
      "The length of a string Array =   4\n"
     ]
    }
   ],
   "source": [
    "# Python Array Length\n",
    "\n",
    "# Declaring an Integer Array and finding Length\n",
    "int_array = [1, 2, 3, 4, 5, 6, 7, 8]\n",
    "int_length = len(int_array )\n",
    "print(\"The length of an Integer Array =  \", int_length)\n",
    "\n",
    "# Declaring a String Array and finding Length\n",
    "string_array = ['apple', 'banana', 'orange', 'kiwi']\n",
    "string_length = len(string_array )\n",
    "print(\"The length of a string Array =  \", string_length)"
   ]
  },
  {
   "cell_type": "markdown",
   "metadata": {},
   "source": [
    "# Loop Array items"
   ]
  },
  {
   "cell_type": "code",
   "execution_count": 5,
   "metadata": {},
   "outputs": [
    {
     "name": "stdout",
     "output_type": "stream",
     "text": [
      "10\n",
      "20\n",
      "30\n",
      "40\n",
      "==========\n",
      "Item at Index Position  0  =  10\n",
      "Item at Index Position  1  =  20\n",
      "Item at Index Position  2  =  30\n",
      "Item at Index Position  3  =  40\n"
     ]
    }
   ],
   "source": [
    "# Looping Python Array Items\n",
    "\n",
    "# Declaring an Array and finding Length\n",
    "array = [10, 20, 30, 40]\n",
    "\n",
    "# Print using Object\n",
    "for i in array:\n",
    "    print(i)\n",
    "\n",
    "# Loop using index position\n",
    "print(\"==========\")\n",
    "for i in range(len(array)):\n",
    "    print(\"Item at Index Position \", i, \" = \", array[i])"
   ]
  },
  {
   "cell_type": "code",
   "execution_count": 6,
   "metadata": {},
   "outputs": [
    {
     "name": "stdout",
     "output_type": "stream",
     "text": [
      "apple\n",
      "banana\n",
      "orange\n",
      "kiwi\n",
      "==========\n",
      "Element at Index Position  0  =  apple\n",
      "Element at Index Position  1  =  banana\n",
      "Element at Index Position  2  =  orange\n",
      "Element at Index Position  3  =  kiwi\n"
     ]
    }
   ],
   "source": [
    "# Looping Python Array Items\n",
    "\n",
    "# Declaring an Array and finding Length\n",
    "array = ['apple', 'banana', 'orange', 'kiwi']\n",
    "\n",
    "# Print using Object\n",
    "for x in array:\n",
    "    print(x)\n",
    "\n",
    "# Loop using index position\n",
    "print(\"==========\")\n",
    "for i in range(len(array)):\n",
    "    print(\"Element at Index Position \", i, \" = \", array[i])"
   ]
  },
  {
   "cell_type": "markdown",
   "metadata": {},
   "source": [
    "# How to add New Element to an Array"
   ]
  },
  {
   "cell_type": "code",
   "execution_count": 7,
   "metadata": {},
   "outputs": [
    {
     "name": "stdout",
     "output_type": "stream",
     "text": [
      "Old Array =  [10, 20, 30, 40]\n",
      "\n",
      "Updated Array =  [10, 20, 30, 40, 50]\n"
     ]
    }
   ],
   "source": [
    "# Add New Item to Python Array\n",
    "\n",
    "# Declaring an Array\n",
    "array = [10, 20, 30, 40]\n",
    "print(\"Old Array = \", array)\n",
    "\n",
    "# Append New Item to array\n",
    "array.append(50)\n",
    "print(\"\\nUpdated Array = \", array)"
   ]
  },
  {
   "cell_type": "markdown",
   "metadata": {},
   "source": [
    "# In this example, we are using the insert function to insert an array element. The insert function is to insert an element at a given index position."
   ]
  },
  {
   "cell_type": "code",
   "execution_count": 8,
   "metadata": {},
   "outputs": [
    {
     "name": "stdout",
     "output_type": "stream",
     "text": [
      "Old Array =  [10, 20, 30, 40, 50, 60]\n",
      "\n",
      "Updated Array =  [10, 20, 120, 30, 40, 50, 60]\n",
      "\n",
      "Updated Array =  [10, 20, 120, 30, 750, 40, 50, 60]\n"
     ]
    }
   ],
   "source": [
    "# Add New Item to Python Array\n",
    "\n",
    "# Declaring an Array\n",
    "array = [10, 20, 30, 40, 50, 60]\n",
    "print(\"Old Array = \", array)\n",
    "\n",
    "# Insert New Item to array at index position 2\n",
    "array.insert(2, 120)\n",
    "print(\"\\nUpdated Array = \", array)\n",
    "\n",
    "# Insert New Item to array at index position 2\n",
    "array.insert(4, 750)\n",
    "print(\"\\nUpdated Array = \", array)"
   ]
  },
  {
   "cell_type": "markdown",
   "metadata": {},
   "source": [
    "# Remove Python Array element"
   ]
  },
  {
   "cell_type": "code",
   "execution_count": 9,
   "metadata": {},
   "outputs": [
    {
     "name": "stdout",
     "output_type": "stream",
     "text": [
      "Old Array =  [10, 20, 30, 40, 50, 60]\n",
      "\n",
      "Updated Array =  [10, 20, 30, 50, 60]\n",
      "\n",
      "Updated Array =  [10, 30, 50, 60]\n"
     ]
    }
   ],
   "source": [
    "# Remove an Item from Python Array\n",
    "\n",
    "# Declaring an Array\n",
    "array = [10, 20, 30, 40, 50, 60]\n",
    "print(\"Old Array = \", array)\n",
    "\n",
    "# Remove 40 from array\n",
    "array.remove(40)\n",
    "print(\"\\nUpdated Array = \", array)\n",
    "\n",
    "# Remove 20 from array\n",
    "array.remove(20)\n",
    "print(\"\\nUpdated Array = \", array)"
   ]
  },
  {
   "cell_type": "markdown",
   "metadata": {},
   "source": [
    "# In this example, we are using the pop function to remove array items. Use this pop() function to delete the array element at the user-specified index position."
   ]
  },
  {
   "cell_type": "code",
   "execution_count": 10,
   "metadata": {},
   "outputs": [
    {
     "name": "stdout",
     "output_type": "stream",
     "text": [
      "Old Array =  [10, 20, 30, 40, 50, 60]\n",
      "\n",
      "Removed Item  =  50\n",
      "Updated Array =  [10, 20, 30, 40, 60]\n",
      "\n",
      "Removed Item  =  30\n",
      "Updated Array =  [10, 20, 40, 60]\n"
     ]
    }
   ],
   "source": [
    "# Remove an Item from Python Array\n",
    "\n",
    "# Declaring an Array\n",
    "array = [10, 20, 30, 40, 50, 60]\n",
    "print(\"Old Array = \", array)\n",
    "\n",
    "# Remove index 4 from array\n",
    "x = array.pop(4)\n",
    "print(\"\\nRemoved Item  = \", x)\n",
    "print(\"Updated Array = \", array)\n",
    "\n",
    "# Remove index 2 from array\n",
    "y = array.pop(2)\n",
    "print(\"\\nRemoved Item  = \", y)\n",
    "print(\"Updated Array = \", array)"
   ]
  },
  {
   "cell_type": "markdown",
   "metadata": {},
   "source": [
    "# Python Array Slice"
   ]
  },
  {
   "cell_type": "markdown",
   "metadata": {},
   "source": [
    "# You can slice an array using the index positions. Array slicing accepts two values, and they are Start and end.\n",
    "\n",
    "# The start is the Python index position where the slicing starts, and the end is the index position where the slicing end. By default, the start is 0, and the end is n-1."
   ]
  },
  {
   "cell_type": "code",
   "execution_count": 11,
   "metadata": {},
   "outputs": [
    {
     "name": "stdout",
     "output_type": "stream",
     "text": [
      "Old Array =  [10, 20, 30, 40, 50, 60, 70, 80, 90]\n",
      "\n",
      "Sliced Array =  [20, 30, 40, 50]\n",
      "Sliced Array =  [50, 60, 70, 80, 90]\n",
      "Sliced Array =  [10, 20, 30, 40, 50, 60, 70, 80, 90]\n",
      "Sliced Array =  [70, 80, 90]\n"
     ]
    }
   ],
   "source": [
    "# Slicing an Array in Python \n",
    "\n",
    "# Declaring an Array\n",
    "array = [10, 20, 30, 40, 50, 60, 70, 80, 90]\n",
    "print(\"Old Array = \", array)\n",
    "\n",
    "# array slicing\n",
    "a = array[1:5]\n",
    "print(\"\\nSliced Array = \", a)\n",
    "\n",
    "b = array[4:]\n",
    "print(\"Sliced Array = \", b)\n",
    "\n",
    "c = array[:]\n",
    "print(\"Sliced Array = \", c)\n",
    "\n",
    "d = array[-3:]\n",
    "print(\"Sliced Array = \", d)"
   ]
  },
  {
   "cell_type": "markdown",
   "metadata": {},
   "source": [
    "# Python Array Methods"
   ]
  },
  {
   "cell_type": "markdown",
   "metadata": {},
   "source": [
    "# 1. Array sort"
   ]
  },
  {
   "cell_type": "code",
   "execution_count": 12,
   "metadata": {},
   "outputs": [
    {
     "name": "stdout",
     "output_type": "stream",
     "text": [
      "Old Array =  [100, 20, 60, 40, 10, 60, 120, 50, 30]\n",
      "\n",
      "Sorted Array =  [10, 20, 30, 40, 50, 60, 60, 100, 120]\n"
     ]
    }
   ],
   "source": [
    "# Sort an Array in Python \n",
    "\n",
    "# Declaring an Array\n",
    "array = [100, 20, 60, 40, 10, 60, 120, 50, 30]\n",
    "print(\"Old Array = \", array)\n",
    "\n",
    "# Sort Python Array\n",
    "array.sort()\n",
    "print(\"\\nSorted Array = \", array)"
   ]
  },
  {
   "cell_type": "markdown",
   "metadata": {},
   "source": [
    "# 2. Array reverse"
   ]
  },
  {
   "cell_type": "code",
   "execution_count": 15,
   "metadata": {},
   "outputs": [
    {
     "name": "stdout",
     "output_type": "stream",
     "text": [
      "Old Array =  [100, 20, 60, 40, 10, 60, 120, 50, 30]\n",
      "\n",
      "Reversed Array =  [30, 50, 120, 60, 10, 40, 60, 20, 100]\n"
     ]
    }
   ],
   "source": [
    "# Reverse an Array in Python \n",
    "\n",
    "# Declaring an Array\n",
    "array = [100, 20, 60, 40, 10, 60, 120, 50, 30]\n",
    "print(\"Old Array = \", array)\n",
    "\n",
    "# Reverse Python Array\n",
    "array.reverse()\n",
    "print(\"\\nReversed Array = \", array)"
   ]
  },
  {
   "cell_type": "markdown",
   "metadata": {},
   "source": [
    "# 3.Array copy"
   ]
  },
  {
   "cell_type": "code",
   "execution_count": 14,
   "metadata": {},
   "outputs": [
    {
     "name": "stdout",
     "output_type": "stream",
     "text": [
      "Old Array =  [100, 20, 60, 40, 10, 60, 120, 50, 30]\n",
      "\n",
      "New Array =  [100, 20, 60, 40, 10, 60, 120, 50, 30]\n"
     ]
    }
   ],
   "source": [
    "# Copy an Array in Python \n",
    "\n",
    "# Declaring an Array\n",
    "array = [100, 20, 60, 40, 10, 60, 120, 50, 30]\n",
    "print(\"Old Array = \", array)\n",
    "\n",
    "# Copying Python Array\n",
    "new_array = array.copy()\n",
    "print(\"\\nNew Array = \", new_array)"
   ]
  },
  {
   "cell_type": "markdown",
   "metadata": {},
   "source": [
    "# 4. Array clear"
   ]
  },
  {
   "cell_type": "code",
   "execution_count": 16,
   "metadata": {},
   "outputs": [
    {
     "name": "stdout",
     "output_type": "stream",
     "text": [
      "Old Array =  [100, 20, 60, 40, 10, 60, 120, 50, 30]\n",
      "\n",
      "New Array =  []\n"
     ]
    }
   ],
   "source": [
    "# Clear Python Array items\n",
    "\n",
    "# Declaring an Array\n",
    "array = [100, 20, 60, 40, 10, 60, 120, 50, 30]\n",
    "print(\"Old Array = \", array)\n",
    "\n",
    "# Removing Python Array items\n",
    "array.clear()\n",
    "print(\"\\nNew Array = \", array)"
   ]
  },
  {
   "cell_type": "markdown",
   "metadata": {},
   "source": [
    "# Python Multidimensional Array\n",
    "\n",
    "# You can create a multidimensional array by nesting one array inside another array."
   ]
  },
  {
   "cell_type": "code",
   "execution_count": 17,
   "metadata": {},
   "outputs": [
    {
     "name": "stdout",
     "output_type": "stream",
     "text": [
      "Array Items=  [[10, 20], [30, 40], [50, 60], [70, 80], [90, 10]]\n",
      "10\n",
      "40\n",
      "60\n",
      "70\n",
      "10\n"
     ]
    }
   ],
   "source": [
    "# Multidimensional Array in Python\n",
    "# Declaring an Array\n",
    "array = [[10, 20], [30, 40], [50, 60], [70, 80], [90, 10]]\n",
    "print(\"Array Items= \", array)\n",
    "\n",
    "# Declaring an Array\n",
    "print(array[0][0])\n",
    "print(array[1][1])\n",
    "print(array[2][1])\n",
    "print(array[3][0])\n",
    "print(array[4][1])"
   ]
  },
  {
   "cell_type": "code",
   "execution_count": null,
   "metadata": {},
   "outputs": [],
   "source": []
  }
 ],
 "metadata": {
  "kernelspec": {
   "display_name": "Python 3.9.7 ('base')",
   "language": "python",
   "name": "python3"
  },
  "language_info": {
   "codemirror_mode": {
    "name": "ipython",
    "version": 3
   },
   "file_extension": ".py",
   "mimetype": "text/x-python",
   "name": "python",
   "nbconvert_exporter": "python",
   "pygments_lexer": "ipython3",
   "version": "3.9.7"
  },
  "vscode": {
   "interpreter": {
    "hash": "ad2bdc8ecc057115af97d19610ffacc2b4e99fae6737bb82f5d7fb13d2f2c186"
   }
  }
 },
 "nbformat": 4,
 "nbformat_minor": 2
}
