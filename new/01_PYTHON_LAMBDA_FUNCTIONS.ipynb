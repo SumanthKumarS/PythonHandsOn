{
 "cells": [
  {
   "cell_type": "markdown",
   "metadata": {},
   "source": [
    "# Python Lambda\n",
    "The Python lambda function is anonymous means, a function without a definition keyword and name. To create a Python lambda function, we have to use the lambda keyword."
   ]
  },
  {
   "cell_type": "markdown",
   "metadata": {},
   "source": [
    "We will see how to use lambda function or lambda expression in Python Programming language with multiple examples."
   ]
  },
  {
   "cell_type": "markdown",
   "metadata": {},
   "source": [
    "# Python lambda Syntax"
   ]
  },
  {
   "cell_type": "markdown",
   "metadata": {},
   "source": [
    "lambda arguments: expression"
   ]
  },
  {
   "cell_type": "markdown",
   "metadata": {},
   "source": [
    "# The Python lambda function accepts any number of arguments. \n",
    "\n",
    "# However, lambda takes only one expression.\n",
    "\n",
    "# For instance, lambda a, b: a + b. \n",
    "\n",
    "# Here, a and b are the arguments accepted by  the lambda function. a + b is the expression."
   ]
  },
  {
   "cell_type": "markdown",
   "metadata": {},
   "source": [
    "# Python lambda Examples"
   ]
  },
  {
   "cell_type": "markdown",
   "metadata": {},
   "source": [
    "# EXAMPLE: 1 Python lambda with No Arguments"
   ]
  },
  {
   "cell_type": "markdown",
   "metadata": {},
   "source": [
    "Use the following lambda statement to display the True or False as an output. It can make you understand that you do not need any argument to create a lambda expression in Python."
   ]
  },
  {
   "cell_type": "code",
   "execution_count": 1,
   "metadata": {},
   "outputs": [
    {
     "name": "stdout",
     "output_type": "stream",
     "text": [
      "True\n"
     ]
    }
   ],
   "source": [
    "# Python Lambda Example\n",
    " \n",
    "num = lambda: True\n",
    " \n",
    "print(num())"
   ]
  },
  {
   "cell_type": "markdown",
   "metadata": {},
   "source": [
    "# Python lambda Sum\n",
    "In this example, we are using the lambda expression to add 5 to the given argument value."
   ]
  },
  {
   "cell_type": "markdown",
   "metadata": {},
   "source": [
    "This code accepts one value because we specified one argument after the lambda keyword. After the colon, it is an expression or the functionality it has to perform when we call this anonymous lambda function."
   ]
  },
  {
   "cell_type": "code",
   "execution_count": 2,
   "metadata": {},
   "outputs": [
    {
     "name": "stdout",
     "output_type": "stream",
     "text": [
      "15\n"
     ]
    }
   ],
   "source": [
    "num = lambda x: x + 5\n",
    " \n",
    "print(num(10))"
   ]
  },
  {
   "cell_type": "markdown",
   "metadata": {},
   "source": [
    "In this Python lambda Sum example, we are using two arguments to perform addition or find the sum of two numbers. It means we have to assign two values while calling this expression."
   ]
  },
  {
   "cell_type": "code",
   "execution_count": 3,
   "metadata": {},
   "outputs": [
    {
     "name": "stdout",
     "output_type": "stream",
     "text": [
      "30\n"
     ]
    }
   ],
   "source": [
    "add = lambda x, y : x + y\n",
    " \n",
    "print(add(10, 20))"
   ]
  },
  {
   "cell_type": "markdown",
   "metadata": {},
   "source": [
    "Generally, we can achieve the same by declaring or creating a function.\n",
    "\n",
    "This time, we are using the Python lambda expression and regular function. Both give the same result."
   ]
  },
  {
   "cell_type": "code",
   "execution_count": 4,
   "metadata": {},
   "outputs": [
    {
     "name": "stdout",
     "output_type": "stream",
     "text": [
      "30\n",
      "\n",
      "Result from a Function\n",
      "30\n"
     ]
    }
   ],
   "source": [
    "# USING LAMBDA FUNCTION\n",
    "add = lambda x, y : x + y\n",
    "print(add(10, 20))\n",
    " \n",
    "# USING NORMAL FUNCTION\n",
    "print(\"\\nResult from a Function\")\n",
    "def add_func(x, y):\n",
    "    return x + y\n",
    "\n",
    "print(add_func(10, 20))"
   ]
  },
  {
   "cell_type": "markdown",
   "metadata": {},
   "source": [
    "# NOTE:\n",
    "If you observe the above program, both are returning the same result. However, the regular function needs a def keyword, function name, and a return value. Whereas, lambda function does not need any of them. By default, it returns the expression result."
   ]
  },
  {
   "cell_type": "markdown",
   "metadata": {},
   "source": [
    "Lambda expressions are not about adding two values. We can perform multiplication, subtractions, or any other calculations. Here, we are multiplying two argument values. For better understanding, we are placing the regular function as well."
   ]
  },
  {
   "cell_type": "code",
   "execution_count": 5,
   "metadata": {},
   "outputs": [
    {
     "name": "stdout",
     "output_type": "stream",
     "text": [
      "100\n",
      "\n",
      "Result from a multi Function\n",
      "100\n"
     ]
    }
   ],
   "source": [
    "multi = lambda x, y : x * y\n",
    "print(multi(5, 20))\n",
    " \n",
    "print(\"\\nResult from a multi Function\")\n",
    "def multi_func(x, y):\n",
    "    return x * y\n",
    " \n",
    "print(multi_func(5, 20))"
   ]
  },
  {
   "cell_type": "markdown",
   "metadata": {},
   "source": [
    "# Python lambda Mulitple Values\n",
    "In this lambda example, we are using three-arguments. Next, we are multiplying those three argument values."
   ]
  },
  {
   "cell_type": "code",
   "execution_count": 6,
   "metadata": {},
   "outputs": [
    {
     "name": "stdout",
     "output_type": "stream",
     "text": [
      "60\n",
      "\n",
      "Result from a multi Function\n",
      "60\n"
     ]
    }
   ],
   "source": [
    "multi = lambda x, y, z : x * y * z\n",
    "print(multi(5, 2, 6))\n",
    " \n",
    "print(\"\\nResult from a multi Function\")\n",
    "def multi_func(x, y, z):\n",
    "    return x * y * z\n",
    " \n",
    "print(multi_func(5, 2, 6))"
   ]
  },
  {
   "cell_type": "code",
   "execution_count": null,
   "metadata": {},
   "outputs": [],
   "source": [
    "Using the print statement to print the output as well. Below query prints Hello World! as an output."
   ]
  },
  {
   "cell_type": "code",
   "execution_count": 8,
   "metadata": {},
   "outputs": [
    {
     "name": "stdout",
     "output_type": "stream",
     "text": [
      "Hello, Welcome to CAPGEMINI!\n"
     ]
    }
   ],
   "source": [
    "message = lambda: print(\"Hello, Welcome to CAPGEMINI!\")\n",
    " \n",
    "message()"
   ]
  },
  {
   "cell_type": "markdown",
   "metadata": {},
   "source": [
    "# Python lambda Default Argument Values\n",
    "In this example, we assigned default values to all three arguments. Next, we are adding, multiplying, and subtracting them.\n",
    "\n",
    "If we have the default values, we do not have to pass values while calling the lambda expression."
   ]
  },
  {
   "cell_type": "code",
   "execution_count": 9,
   "metadata": {},
   "outputs": [
    {
     "name": "stdout",
     "output_type": "stream",
     "text": [
      "60\n",
      "6000\n",
      "35\n"
     ]
    }
   ],
   "source": [
    "# Python Lambda Example\n",
    " \n",
    "add = lambda x = 10, y = 20, z = 30 : x + y + z\n",
    "print(add()) # 10 + 20 + 30\n",
    " \n",
    "multi = lambda x = 10, y = 20, z = 30 : x * y * z\n",
    "print(multi()) # 10 * 20 * 30\n",
    " \n",
    "sub = lambda x = 10, y = 45: y - x\n",
    "print(sub()) # 45 - 10"
   ]
  },
  {
   "cell_type": "markdown",
   "metadata": {},
   "source": [
    "However, you can override the default values by passing new values as the arguments. Here, the first print statement overrides 10 with 12, 20 with 14 and 30 with 16. It means, x = 12, y = 14 and z = 16.In the second statement, x = 75, y = 126 and z = 30."
   ]
  },
  {
   "cell_type": "code",
   "execution_count": 10,
   "metadata": {},
   "outputs": [
    {
     "name": "stdout",
     "output_type": "stream",
     "text": [
      "42\n",
      "231\n",
      "272\n",
      "60\n",
      "Multiplication Values\n",
      "40\n",
      "66000\n",
      "5400\n",
      "6000\n"
     ]
    }
   ],
   "source": [
    "add = lambda x = 10, y = 20, z = 30 : x + y + z\n",
    "print(add(12, 14, 16)) # 12 + 14 + 16\n",
    "print(add(75, 126)) # 75 + 126 + 30\n",
    "print(add(222)) # 222 + 20 + 30\n",
    "print(add()) # 10 + 20 + 30\n",
    "\n",
    "print(\"Multiplication Values\")\n",
    "multi = lambda x = 10, y = 20, z = 30 : x * y * z\n",
    "print(multi(2, 4, 5)) # x = 2, y = 4, z = 5\n",
    "print(multi(100, 22)) # x = 100, y = 22, z = 30\n",
    "print(multi(9)) # x = 9, y = 20, z = 30\n",
    "print(multi()) # 10 * 20 * 30"
   ]
  },
  {
   "cell_type": "markdown",
   "metadata": {},
   "source": [
    "# Python lambda Without Arguments"
   ]
  },
  {
   "cell_type": "markdown",
   "metadata": {},
   "source": [
    "If you don’t want to pass any arguments, however, you want to return something, then you can use this kind of statement.\n",
    "\n",
    "We do not have to pass any argument values to call these lambda expressions. Whenever we call them, they return the same result."
   ]
  },
  {
   "cell_type": "code",
   "execution_count": 12,
   "metadata": {},
   "outputs": [
    {
     "name": "stdout",
     "output_type": "stream",
     "text": [
      "Addition Values\n",
      "30\n",
      "Multiplication Values\n",
      "200\n",
      "Subtraction\n",
      "205\n"
     ]
    }
   ],
   "source": [
    "print(\"Addition Values\")\n",
    "add = lambda : 10 + 20\n",
    "print(add())\n",
    " \n",
    "print(\"Multiplication Values\")\n",
    "multi = lambda : 10 * 20\n",
    "print(multi())\n",
    " \n",
    "print(\"Subtraction\")\n",
    "sub = lambda : 225 - 20\n",
    "print(sub())"
   ]
  },
  {
   "cell_type": "markdown",
   "metadata": {},
   "source": [
    "# Python lambda with Built-in Functions"
   ]
  },
  {
   "cell_type": "markdown",
   "metadata": {},
   "source": [
    "# Python lambda filter Example"
   ]
  },
  {
   "cell_type": "markdown",
   "metadata": {},
   "source": [
    "In this example, we are going to use the built-in filter function to filter the sequence of list items. First, we declared a list of numbers from 1 to 15. Next, we used the filter function with a lambda expression. \n",
    "\n",
    "This Python lambda expression checks whether a number is divisible by two or not. Next, the filter function returns all the True values."
   ]
  },
  {
   "cell_type": "code",
   "execution_count": 13,
   "metadata": {},
   "outputs": [
    {
     "name": "stdout",
     "output_type": "stream",
     "text": [
      "[1, 2, 3, 4, 5, 6, 7, 8, 9, 10, 11, 12, 13, 14, 15]\n",
      "[2, 4, 6, 8, 10, 12, 14]\n"
     ]
    }
   ],
   "source": [
    "number = [1, 2, 3, 4, 5, 6, 7, 8, 9, 10, 11, 12, 13, 14, 15]\n",
    "print(number)\n",
    " \n",
    "new_num = list(filter(lambda x : x % 2 == 0, number))\n",
    "print(new_num)"
   ]
  },
  {
   "cell_type": "code",
   "execution_count": null,
   "metadata": {},
   "outputs": [],
   "source": [
    "This code filters and returns the Even Number, Odd Numbers, and Numbers that are divisible by 3."
   ]
  },
  {
   "cell_type": "code",
   "execution_count": 14,
   "metadata": {},
   "outputs": [
    {
     "name": "stdout",
     "output_type": "stream",
     "text": [
      "[1, 2, 3, 4, 5, 6, 7, 8, 9, 10, 11, 12, 13, 14, 15]\n",
      "[2, 4, 6, 8, 10, 12, 14]\n",
      "[1, 3, 5, 7, 9, 11, 13, 15]\n",
      "[3, 6, 9, 12, 15]\n"
     ]
    }
   ],
   "source": [
    "number = [1, 2, 3, 4, 5, 6, 7, 8, 9, 10, 11, 12, 13, 14, 15]\n",
    "print(number)\n",
    " \n",
    "even_num = list(filter(lambda x : x % 2 == 0, number))\n",
    "print(even_num)\n",
    " \n",
    "odd_num = list(filter(lambda x : x % 2 != 0, number))\n",
    "print(odd_num)\n",
    " \n",
    "num_div_by_3 = list(filter(lambda x : x % 3 == 0, number))\n",
    "print(num_div_by_3)"
   ]
  },
  {
   "cell_type": "markdown",
   "metadata": {},
   "source": [
    "# Python lambda map Example"
   ]
  },
  {
   "cell_type": "markdown",
   "metadata": {},
   "source": [
    "Unlike filter function, map function takes each list item and returns both the True and False values. In this Python lambda example, we used map function to return the boolean value. It checks each individual value is divisible by 2 equals to 0. If true, it returns True. Otherwise, it returns false."
   ]
  },
  {
   "cell_type": "code",
   "execution_count": 15,
   "metadata": {},
   "outputs": [
    {
     "name": "stdout",
     "output_type": "stream",
     "text": [
      "[1, 2, 3, 4, 5, 6, 7, 8, 9, 10]\n",
      "[False, True, False, True, False, True, False, True, False, True]\n"
     ]
    }
   ],
   "source": [
    "number = [1, 2, 3, 4, 5, 6, 7, 8, 9, 10]\n",
    "print(number)\n",
    " \n",
    "new_num = list(map(lambda x : x % 2 == 0, number))\n",
    "print(new_num)"
   ]
  },
  {
   "cell_type": "markdown",
   "metadata": {},
   "source": [
    "This time, we are performing multiplication using this lambda map function. It takes one individual list item at a time and performs the multiplication. At last, it returns the modified list."
   ]
  },
  {
   "cell_type": "code",
   "execution_count": 16,
   "metadata": {},
   "outputs": [
    {
     "name": "stdout",
     "output_type": "stream",
     "text": [
      "[1, 2, 3, 4, 5, 6, 7, 8, 9, 10]\n",
      "[2, 4, 6, 8, 10, 12, 14, 16, 18, 20]\n",
      "[3, 6, 9, 12, 15, 18, 21, 24, 27, 30]\n",
      "[1, 4, 9, 16, 25, 36, 49, 64, 81, 100]\n"
     ]
    }
   ],
   "source": [
    "number = [1, 2, 3, 4, 5, 6, 7, 8, 9, 10]\n",
    "print(number)\n",
    " \n",
    "double_num = list(map(lambda x : x * 2, number))\n",
    "print(double_num)\n",
    " \n",
    "triple_num = list(map(lambda x : x * 3, number))\n",
    "print(triple_num)\n",
    " \n",
    "square_num = list(map(lambda x : x ** 2, number))\n",
    "print(square_num)"
   ]
  },
  {
   "cell_type": "markdown",
   "metadata": {},
   "source": [
    "By using the map function, you can also perform calculations on multiple lists. For instance, this lambda example performs addition, subtraction, and multiplication of two lists. It takes one value from both the list in the same position and performs the calculation"
   ]
  },
  {
   "cell_type": "code",
   "execution_count": 17,
   "metadata": {},
   "outputs": [
    {
     "name": "stdout",
     "output_type": "stream",
     "text": [
      "[10, 20, 30]\n",
      "[15, 25, 35]\n",
      "***********==========*************\n",
      "[25, 45, 65]\n",
      "[-5, -5, -5]\n",
      "[150, 500, 1050]\n"
     ]
    }
   ],
   "source": [
    "number1 = [10, 20, 30]\n",
    "number2 = [15, 25, 35]\n",
    "print(number1)\n",
    "print(number2)\n",
    " \n",
    "print(\"***********==========*************\")\n",
    "add_num = list(map(lambda x, y : x + y, number1, number2))\n",
    "print(add_num)\n",
    " \n",
    "sub_num = list(map(lambda x, y : x - y, number1, number2))\n",
    "print(sub_num)\n",
    " \n",
    "mul_num = list(map(lambda x, y : x * y, number1, number2))\n",
    "print(mul_num)"
   ]
  },
  {
   "cell_type": "markdown",
   "metadata": {},
   "source": [
    "# Python lambda Built-in function Example ON STRINGS"
   ]
  },
  {
   "cell_type": "markdown",
   "metadata": {},
   "source": [
    "In this example, we declared a string list. Next, we used the sorted function to sort the list items. However, we used the sorted key as a lambda expression. Within this expression, we are using the len function to find the length of each word. It means sorting is done based on the item length."
   ]
  },
  {
   "cell_type": "code",
   "execution_count": 1,
   "metadata": {},
   "outputs": [
    {
     "name": "stdout",
     "output_type": "stream",
     "text": [
      "['apple', 'Mango Fruit', 'Banana', 'oranges', 'cherry', 'kiwi']\n",
      "['kiwi', 'apple', 'Banana', 'cherry', 'oranges', 'Mango Fruit']\n",
      "['apple', 'Banana', 'cherry', 'kiwi', 'Mango Fruit', 'oranges']\n",
      "==============================================================\n",
      "['apple', 'mango fruit', 'banana', 'oranges', 'cherry', 'kiwi']\n",
      "['apple', 'banana', 'cherry', 'kiwi', 'mango fruit', 'oranges']\n"
     ]
    }
   ],
   "source": [
    "x = ['apple', 'Mango Fruit', 'Banana', 'oranges', 'cherry','kiwi']\n",
    "print(x)\n",
    " \n",
    "y = sorted(x, key = lambda a: len(a))\n",
    "print(y)\n",
    " \n",
    "z = sorted(x, key = lambda a: a.casefold())\n",
    "print(z)\n",
    "\n",
    "print('==============================================================')\n",
    "\n",
    "s = ['apple', 'mango fruit', 'banana', 'oranges', 'cherry','kiwi']\n",
    "print(s)\n",
    "\n",
    "a = sorted(s, key = lambda a: a)\n",
    "print(a)"
   ]
  },
  {
   "cell_type": "code",
   "execution_count": null,
   "metadata": {},
   "outputs": [],
   "source": []
  }
 ],
 "metadata": {
  "kernelspec": {
   "display_name": "base",
   "language": "python",
   "name": "python3"
  },
  "language_info": {
   "codemirror_mode": {
    "name": "ipython",
    "version": 3
   },
   "file_extension": ".py",
   "mimetype": "text/x-python",
   "name": "python",
   "nbconvert_exporter": "python",
   "pygments_lexer": "ipython3",
   "version": "3.9.7"
  },
  "vscode": {
   "interpreter": {
    "hash": "ad2bdc8ecc057115af97d19610ffacc2b4e99fae6737bb82f5d7fb13d2f2c186"
   }
  }
 },
 "nbformat": 4,
 "nbformat_minor": 2
}
