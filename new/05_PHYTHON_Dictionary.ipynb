{
 "cells": [
  {
   "attachments": {},
   "cell_type": "markdown",
   "metadata": {},
   "source": [
    "# Python Dictionary\n",
    "A python dictionary is a collection of elements of unordered changable and indexed and unlike string\n",
    "Dictionary is also mutable so python dictionary can expand or shrink as per requirements"
   ]
  },
  {
   "attachments": {},
   "cell_type": "markdown",
   "metadata": {},
   "source": [
    "# Python Dictionary syntax"
   ]
  },
  {
   "cell_type": "code",
   "execution_count": null,
   "metadata": {},
   "outputs": [],
   "source": [
    "# EXAMPLE - 1 # Syntax of a Dictionary in Python \n",
    "myDict = {\n",
    "    <key>:<value>, # which contains key of the element and its value\n",
    "    <key>:<value>,\n",
    "    .\n",
    "    .\n",
    "    .\n",
    "    <key>:<value>\n",
    "    }"
   ]
  },
  {
   "attachments": {},
   "cell_type": "markdown",
   "metadata": {},
   "source": [
    "# EXAMPLE - 2 # Syntax of a Dictionary in Pythonusing dict() Keyword"
   ]
  },
  {
   "cell_type": "code",
   "execution_count": null,
   "metadata": {},
   "outputs": [],
   "source": [
    "# Syntax of a Dictionary in Python\n",
    "myDict = dict([ # creating a dictionary of the elements with key and value\n",
    "    (<key>:<value>),\n",
    "    (<key>:<value>),\n",
    "    .\n",
    "    .\n",
    "    .\n",
    "    (<key>:<value>)\n",
    "    ])"
   ]
  },
  {
   "attachments": {},
   "cell_type": "markdown",
   "metadata": {},
   "source": [
    "# How to create a Python Dictionary?"
   ]
  },
  {
   "cell_type": "code",
   "execution_count": null,
   "metadata": {},
   "outputs": [],
   "source": [
    "# Dictionary dict()\n",
    "#emty dict\n",
    "my_dict = {} \n",
    "my_dict = dict()\n",
    "#Dictionary with integer keys \n",
    "my_dict = {1:'apple',2:'orange',3:'bannana'}\n",
    "#creating dict with string keys\n",
    "my_dict = {'fruit':'apple','name':'sumanth','device':'win'}\n",
    "\n",
    "# dict with mixed keys\n",
    "my_dict = {'name':'capgmini','age':20}\n",
    "my_dict = {'name':'Infosys',1:24}\n",
    "my_dict = {'name':'IBM',1:[1,2,3]}\n",
    "\n",
    "#fro sequence of key value pairs\n",
    "my_dict = dict([(1,'apple'),(2,'orange'),(3,'kiwi')])\n",
    "#for simple keys\n",
    "my_dict = dict({1:'apple',2:'orange',3:'bannana'})"
   ]
  },
  {
   "attachments": {},
   "cell_type": "markdown",
   "metadata": {},
   "source": [
    "# How to Access Python Dictionary items?"
   ]
  },
  {
   "cell_type": "code",
   "execution_count": 1,
   "metadata": {},
   "outputs": [
    {
     "name": "stdout",
     "output_type": "stream",
     "text": [
      "Dictionary of items :  {'name': 'sumanth', 'age': 22, 'job': 'devp'}\n",
      "dictionary key- name sumanth\n",
      "dictionary key- age 22\n",
      "dictionary key- job devp\n",
      "dictionary key- name sumanth\n",
      "dictionary key- age 22\n",
      "dictionary key- job devp\n"
     ]
    }
   ],
   "source": [
    "my_dict = {'name':'sumanth','age':22,'job':'devp'}\n",
    "#print dict\n",
    "print(\"Dictionary of items : \",my_dict)\n",
    "\n",
    "# print values using dictionary keys\n",
    "print(\"dictionary key- name\",my_dict['name'])\n",
    "print(\"dictionary key- age\",my_dict['age'])\n",
    "print(\"dictionary key- job\",my_dict['job'])\n",
    "\n",
    "# print values using get()\n",
    "print(\"dictionary key- name\",my_dict.get('name'))\n",
    "print(\"dictionary key- age\",my_dict.get('age'))\n",
    "print(\"dictionary key- job\",my_dict.get('job'))"
   ]
  },
  {
   "cell_type": "markdown",
   "metadata": {},
   "source": [
    "# Insert and Update Dictionary items \n",
    "Remember, dictionaries are mutable so, you can insert or update any value at any point in time. Use below syntax to insert or update dictionary values.\n",
    "\n",
    "Dictionary_name[key] = value\n",
    "\n",
    "# If a key is present in the dictionary, it updates the key value.\n",
    "\n",
    "# If Dictionary_name does not have the key, then it inserts the new key with a given value."
   ]
  },
  {
   "cell_type": "code",
   "execution_count": 2,
   "metadata": {},
   "outputs": [
    {
     "name": "stdout",
     "output_type": "stream",
     "text": [
      "Dictionary of items :  {'name': 'sumanth', 'age': 22}\n",
      "Dictionary items after adding : {'name': 'sumanth', 'age': 22, 'job': 'prgrammmer'}\n",
      "Dictionary items after adding : {'name': 'python', 'age': 22, 'job': 'prgrammmer'}\n"
     ]
    }
   ],
   "source": [
    "my_dict = {'name':'sumanth','age':22}\n",
    "#print dict\n",
    "print(\"Dictionary of items : \",my_dict)\n",
    "\n",
    "# Add an item to dict\n",
    "my_dict['job'] = 'prgrammmer'\n",
    "print(\"Dictionary items after adding :\",my_dict)\n",
    "my_dict['name'] = 'python'\n",
    "print(\"Dictionary items after adding :\",my_dict)"
   ]
  },
  {
   "attachments": {},
   "cell_type": "markdown",
   "metadata": {},
   "source": [
    "# Dictionary copy method\n",
    "The dictionary copy functions shallow copy the given dictionary into a completely new dictionary."
   ]
  },
  {
   "cell_type": "code",
   "execution_count": 3,
   "metadata": {},
   "outputs": [
    {
     "name": "stdout",
     "output_type": "stream",
     "text": [
      "Dictionary:  {'a': 'apple', 'o': 'Orange', 'm': 'Mango', 'k': 'Kiwi'}\n",
      "Dictionary Length:  4\n",
      "\n",
      "Dictionary:  {'a': 'apple', 'o': 'Orange', 'm': 'Mango', 'k': 'Kiwi'}\n",
      "Dictionary Length:  4\n"
     ]
    }
   ],
   "source": [
    "# Python Dictionary copy Example\n",
    "\n",
    "fruits = {'a': 'apple', 'o': 'Orange', 'm': 'Mango', 'k':'Kiwi'}\n",
    "\n",
    "print(\"Dictionary: \", fruits)\n",
    "print(\"Dictionary Length: \", len(fruits))\n",
    "\n",
    "new_fruits = fruits.copy()\n",
    "print(\"\\nDictionary: \", new_fruits)\n",
    "print(\"Dictionary Length: \", len(new_fruits))"
   ]
  },
  {
   "attachments": {},
   "cell_type": "markdown",
   "metadata": {},
   "source": [
    "# Remove Python Dictionary items\n",
    "There are several ways to delete items from Python dictionary:\n",
    "The Dictionary pop method removes the value at a given key, and prints the removed value. The dictionary popitem removes the last inserted item (key, value pair) from a dictionary."
   ]
  },
  {
   "cell_type": "code",
   "execution_count": 4,
   "metadata": {},
   "outputs": [
    {
     "name": "stdout",
     "output_type": "stream",
     "text": [
      "Removed Item      :   Kiwi\n",
      "Dictionary Items  :   {1: 'apple', 2: 'Orange', 4: 'Banana'}\n",
      "\n",
      "Removed Item      :   (4, 'Banana')\n",
      "Dictionary Items  :   {1: 'apple', 2: 'Orange'}\n"
     ]
    }
   ],
   "source": [
    "# Python Dictionary Example\n",
    "\n",
    "myDict = {1: 'apple', 2: 'Orange', 3: 'Kiwi', 4: 'Banana'}\n",
    "\n",
    "# Remove and Prints Item of a Dictionary Key using pop()\n",
    "print(\"Removed Item      :  \",  myDict.pop(3))\n",
    "print(\"Dictionary Items  :  \",  myDict)\n",
    "\n",
    "# Remove and Prints Item of a Dictionary Key using popitem()\n",
    "print(\"\\nRemoved Item      :  \",  myDict.popitem())\n",
    "print(\"Dictionary Items  :  \",  myDict)"
   ]
  },
  {
   "cell_type": "markdown",
   "metadata": {},
   "source": [
    "# Python del method\n",
    "The del statement removes the Python dictionary items or value at a specified key. If we miss providing the key, it completely deletes or removes the given dictionary."
   ]
  },
  {
   "cell_type": "code",
   "execution_count": 6,
   "metadata": {},
   "outputs": [
    {
     "name": "stdout",
     "output_type": "stream",
     "text": [
      "Dictionary Items  :   {1: 'apple', 2: 'Orange', 3: 'Kiwi', 4: 'Banana'}\n",
      "Dictionary Items  :   {1: 'apple', 3: 'Kiwi', 4: 'Banana'}\n"
     ]
    },
    {
     "ename": "NameError",
     "evalue": "name 'myDict' is not defined",
     "output_type": "error",
     "traceback": [
      "\u001b[1;31m---------------------------------------------------------------------------\u001b[0m",
      "\u001b[1;31mNameError\u001b[0m                                 Traceback (most recent call last)",
      "\u001b[1;32m~\\AppData\\Local\\Temp/ipykernel_4484/2726367590.py\u001b[0m in \u001b[0;36m<module>\u001b[1;34m\u001b[0m\n\u001b[0;32m     11\u001b[0m \u001b[1;31m# Remove all Items from Dictionary using del\u001b[0m\u001b[1;33m\u001b[0m\u001b[1;33m\u001b[0m\u001b[0m\n\u001b[0;32m     12\u001b[0m \u001b[1;32mdel\u001b[0m \u001b[0mmyDict\u001b[0m \u001b[1;31m# where mydict is not element in the dict\u001b[0m\u001b[1;33m\u001b[0m\u001b[1;33m\u001b[0m\u001b[0m\n\u001b[1;32m---> 13\u001b[1;33m \u001b[0mprint\u001b[0m\u001b[1;33m(\u001b[0m\u001b[1;34m\"Dictionary Items  :  \"\u001b[0m\u001b[1;33m,\u001b[0m  \u001b[0mmyDict\u001b[0m\u001b[1;33m)\u001b[0m\u001b[1;33m\u001b[0m\u001b[1;33m\u001b[0m\u001b[0m\n\u001b[0m",
      "\u001b[1;31mNameError\u001b[0m: name 'myDict' is not defined"
     ]
    }
   ],
   "source": [
    "# Python Dictionary Example\n",
    "\n",
    "myDict = {1: 'apple', 2: 'Orange', 3: 'Kiwi', 4: 'Banana'}\n",
    "\n",
    "print(\"Dictionary Items  :  \",  myDict)\n",
    "\n",
    "# Remove Item of a Dictionary Key using del\n",
    "del myDict[2]\n",
    "print(\"Dictionary Items  :  \",  myDict)\n",
    "\n",
    "# Remove all Items from Dictionary using del\n",
    "del myDict # where mydict is not element in the dict\n",
    "print(\"Dictionary Items  :  \",  myDict)"
   ]
  },
  {
   "attachments": {},
   "cell_type": "markdown",
   "metadata": {},
   "source": [
    "# Dictionary clear method\n",
    "The Python dictionary clear statement removes or clears the items."
   ]
  },
  {
   "cell_type": "code",
   "execution_count": 7,
   "metadata": {},
   "outputs": [
    {
     "name": "stdout",
     "output_type": "stream",
     "text": [
      "Dictionary Items  :   {1: 'apple', 2: 'Banana', 3: 'Orange', 4: 'Kiwi'}\n",
      "Dictionary Items  :   {}\n"
     ]
    }
   ],
   "source": [
    "# Python Dictionary Example\n",
    "\n",
    "myDict = {1: 'apple', 2: 'Banana' , 3: 'Orange', 4: 'Kiwi'}\n",
    "print(\"Dictionary Items  :  \",  myDict)\n",
    "\n",
    "# Remove all Items from Dictionary using clear()\n",
    "myDict.clear()\n",
    "print(\"Dictionary Items  :  \",  myDict)"
   ]
  },
  {
   "attachments": {},
   "cell_type": "markdown",
   "metadata": {},
   "source": [
    "# Iterate Python Dictionary items\n",
    "The Python For Loop is the most common way to traverse the dictionary items."
   ]
  },
  {
   "attachments": {},
   "cell_type": "markdown",
   "metadata": {},
   "source": [
    "# Print Dictionary Keys\n",
    "The following statements help us to iterate and print the keys inside a dictionary."
   ]
  },
  {
   "cell_type": "code",
   "execution_count": 9,
   "metadata": {},
   "outputs": [
    {
     "name": "stdout",
     "output_type": "stream",
     "text": [
      "1\n",
      "2\n",
      "3\n",
      "4\n"
     ]
    }
   ],
   "source": [
    "# Python Dictionary Example\n",
    "\n",
    "myDict = {1: 'apple', 2: 'Banana' , 3: 'Orange', 4: 'Kiwi'}\n",
    "\n",
    "# Print Dictionary Keys\n",
    "for vkey in myDict:\n",
    "    print(vkey)"
   ]
  },
  {
   "attachments": {},
   "cell_type": "markdown",
   "metadata": {},
   "source": [
    "# Print Dictionary Values"
   ]
  },
  {
   "cell_type": "code",
   "execution_count": 10,
   "metadata": {},
   "outputs": [
    {
     "name": "stdout",
     "output_type": "stream",
     "text": [
      "apple\n",
      "Banana\n",
      "Orange\n",
      "Kiwi\n"
     ]
    }
   ],
   "source": [
    "# Python Dictionary Example\n",
    "\n",
    "myDict = {1: 'apple', 2: 'Banana' , 3: 'Orange', 4: 'Kiwi'}\n",
    "\n",
    "# Print Dictionary Keys\n",
    "for vkey in myDict:\n",
    "    print(myDict[vkey])"
   ]
  },
  {
   "attachments": {},
   "cell_type": "markdown",
   "metadata": {},
   "source": [
    "# Print Dictionary Keys, and Values"
   ]
  },
  {
   "cell_type": "code",
   "execution_count": 11,
   "metadata": {},
   "outputs": [
    {
     "name": "stdout",
     "output_type": "stream",
     "text": [
      "1 Key Value =  apple\n",
      "2 Key Value =  Banana\n",
      "3 Key Value =  Orange\n",
      "4 Key Value =  Kiwi\n"
     ]
    }
   ],
   "source": [
    "# Python Dictionary Example\n",
    "\n",
    "myDict = {1: 'apple', 2: 'Banana' , 3: 'Orange', 4: 'Kiwi'}\n",
    "\n",
    "# Print Dictionary Keys\n",
    "for vkey in myDict:\n",
    "    print(vkey,\"Key Value = \",myDict[vkey])"
   ]
  },
  {
   "attachments": {},
   "cell_type": "markdown",
   "metadata": {},
   "source": [
    "# values function to Print Dictionary Values\n",
    "The values function is helpful to print the dictionary values. Use this dictionary values function inside the for loop to return dictionary values"
   ]
  },
  {
   "cell_type": "code",
   "execution_count": 12,
   "metadata": {},
   "outputs": [
    {
     "name": "stdout",
     "output_type": "stream",
     "text": [
      "apple\n",
      "Banana\n",
      "Orange\n",
      "Kiwi\n"
     ]
    }
   ],
   "source": [
    "# Python Dictionary Example\n",
    "\n",
    "myDict = {1: 'apple', 2: 'Banana' , 3: 'Orange', 4: 'Kiwi'}\n",
    "\n",
    "# Print Dictionary Keys\n",
    "for v in myDict.values():\n",
    "    print(v)"
   ]
  },
  {
   "attachments": {},
   "cell_type": "markdown",
   "metadata": {},
   "source": [
    "# items function to Print Dictionary keys, and Values\n",
    "In Python, we have items function. You can use items inside the for loop to return dictionary keys and values. The dictionary items function is very useful to access individual dictionary items."
   ]
  },
  {
   "cell_type": "code",
   "execution_count": 13,
   "metadata": {},
   "outputs": [
    {
     "name": "stdout",
     "output_type": "stream",
     "text": [
      "1  =  apple\n",
      "2  =  Banana\n",
      "3  =  Orange\n",
      "4  =  Kiwi\n"
     ]
    }
   ],
   "source": [
    "# Python Dictionary Example\n",
    "\n",
    "myDict = {1: 'apple', 2: 'Banana' , 3: 'Orange', 4: 'Kiwi'}\n",
    "\n",
    "# Print Dictionary Keys\n",
    "for k,v in myDict.items():\n",
    "    print(k ,\" = \",v)"
   ]
  },
  {
   "attachments": {},
   "cell_type": "markdown",
   "metadata": {},
   "source": [
    "# Common Python Dictionary Methods\n",
    "# Python Dictionary len\n",
    "The Dictionary len function finds the sum of all items available in a given dictionary."
   ]
  },
  {
   "cell_type": "code",
   "execution_count": 14,
   "metadata": {},
   "outputs": [
    {
     "name": "stdout",
     "output_type": "stream",
     "text": [
      "Dictionary:  {1: 10, 2: 20, 3: 30, 4: 40, 5: 50}\n",
      "The Length of a Dictionary :  5\n",
      "\n",
      "Dictionary:  {'name': 'Kevin', 'age': 25}\n",
      "The Length of a Dictionary :  2\n"
     ]
    }
   ],
   "source": [
    "# Python Dictionary len Example\n",
    "\n",
    "myDict = {1: 10, 2: 20, 3: 30, 4: 40, 5: 50}\n",
    "print(\"Dictionary: \", myDict)\n",
    "\n",
    "# Dictionary length using len() \n",
    "length = len(myDict)\n",
    "print(\"The Length of a Dictionary : \", length)\n",
    "\n",
    "myDict2 = {'name': 'Kevin', 'age': 25}\n",
    "print(\"\\nDictionary: \", myDict2)\n",
    "print(\"The Length of a Dictionary : \", len(myDict2))"
   ]
  },
  {
   "attachments": {},
   "cell_type": "markdown",
   "metadata": {},
   "source": [
    "# Python Dictionary sum\n",
    "The Dictionary sum function finds the sum of all items available in a given dictionary."
   ]
  },
  {
   "cell_type": "code",
   "execution_count": 15,
   "metadata": {},
   "outputs": [
    {
     "name": "stdout",
     "output_type": "stream",
     "text": [
      "Dictionary:  {1: 10, 2: 20, 3: 30, 4: 40, 5: 50}\n",
      "\n",
      "The sum of Values in this Dictionary :  150\n",
      "The sum of Keys in this Dictionary  :  15\n"
     ]
    }
   ],
   "source": [
    "myDict = {1: 10, 2: 20, 3: 30, 4: 40, 5: 50}\n",
    "print(\"Dictionary: \", myDict)\n",
    "\n",
    "# Sum of Dictionary Items using dictionary sum() \n",
    "total = sum(myDict.values())\n",
    "print(\"\\nThe sum of Values in this Dictionary : \", total)\n",
    "\n",
    "key_total = sum(myDict.keys())\n",
    "print(\"The sum of Keys in this Dictionary  : \", key_total)"
   ]
  },
  {
   "attachments": {},
   "cell_type": "markdown",
   "metadata": {},
   "source": [
    "# Python Dictionary min\n",
    "The Dictionary min function finds the minimum value among the given dictionary items."
   ]
  },
  {
   "cell_type": "code",
   "execution_count": 16,
   "metadata": {},
   "outputs": [
    {
     "name": "stdout",
     "output_type": "stream",
     "text": [
      "Dictionary:  {3: 30, 4: 40, 1: 120, 2: 20, 5: 50}\n",
      "\n",
      "The Minimum Value in this Dictionary :  20\n",
      "The Minimum Key in this Dictionary  :  1\n"
     ]
    }
   ],
   "source": [
    "# Python Dictionary min Example\n",
    "\n",
    "myDict = {3: 30, 4: 40, 1: 120, 2: 20, 5: 50}\n",
    "print(\"Dictionary: \", myDict)\n",
    "\n",
    "# Minimum Dictionary Items using dictionary min() \n",
    "min_value = min(myDict.values())\n",
    "print(\"\\nThe Minimum Value in this Dictionary : \", min_value)\n",
    "\n",
    "min_key = min(myDict.keys())\n",
    "print(\"The Minimum Key in this Dictionary  : \", min_key)"
   ]
  },
  {
   "attachments": {},
   "cell_type": "markdown",
   "metadata": {},
   "source": [
    "# Dictionary max function\n",
    "The Python Dictionary max function finds the maximum value among the given dictionary items."
   ]
  },
  {
   "cell_type": "code",
   "execution_count": 17,
   "metadata": {},
   "outputs": [
    {
     "name": "stdout",
     "output_type": "stream",
     "text": [
      "Dictionary:  {3: 30, 4: 40, 1: 120, 2: 20, 5: 50}\n",
      "\n",
      "The Minimum Value in this Dictionary :  120\n",
      "The Minimum Key in this Dictionary  :  5\n"
     ]
    }
   ],
   "source": [
    "# Python Dictionary min Example\n",
    "\n",
    "myDict = {3: 30, 4: 40, 1: 120, 2: 20, 5: 50}\n",
    "print(\"Dictionary: \", myDict)\n",
    "\n",
    "# Minimum Dictionary Items using dictionary min() \n",
    "max_value = max(myDict.values())\n",
    "print(\"\\nThe Minimum Value in this Dictionary : \", max_value)\n",
    "\n",
    "max_key = max(myDict.keys())\n",
    "print(\"The Minimum Key in this Dictionary  : \", max_key)"
   ]
  },
  {
   "cell_type": "code",
   "execution_count": null,
   "metadata": {},
   "outputs": [],
   "source": []
  }
 ],
 "metadata": {
  "kernelspec": {
   "display_name": "Python 3.9.7 ('base')",
   "language": "python",
   "name": "python3"
  },
  "language_info": {
   "codemirror_mode": {
    "name": "ipython",
    "version": 3
   },
   "file_extension": ".py",
   "mimetype": "text/x-python",
   "name": "python",
   "nbconvert_exporter": "python",
   "pygments_lexer": "ipython3",
   "version": "3.9.7"
  },
  "orig_nbformat": 4,
  "vscode": {
   "interpreter": {
    "hash": "ad2bdc8ecc057115af97d19610ffacc2b4e99fae6737bb82f5d7fb13d2f2c186"
   }
  }
 },
 "nbformat": 4,
 "nbformat_minor": 2
}
