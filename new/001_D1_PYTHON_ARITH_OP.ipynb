{
 "cells": [
  {
   "cell_type": "code",
   "execution_count": 1,
   "metadata": {},
   "outputs": [
    {
     "name": "stdout",
     "output_type": "stream",
     "text": [
      "Addition of two numbers 10 and 25 is : 35\n",
      "Subtraction of two numbers 10 and 25 is : -15\n",
      "Multiplication of two numbers 10 and 25 is : 250\n",
      "division of two numbers 10 and 25 is : 0.4\n",
      "Modulus of two numbers 10 and 25 is : 10\n",
      "Exponent of two numbers 10 and 25 is : 10000000000000000000000000\n",
      "floor division of two numbers 10 and 25 is : 0\n"
     ]
    }
   ],
   "source": [
    "a = 10\n",
    "b = 25\n",
    "addition  =  a + b\n",
    "subtraction = a - b\n",
    "multiplication = a * b\n",
    "division =  a / b\n",
    "moduls = a % b\n",
    "exponent = a ** b\n",
    "floor_division = a // b\n",
    "print(\"Addition of two numbers 10 and 25 is :\",addition)\n",
    "print(\"Subtraction of two numbers 10 and 25 is :\",subtraction)\n",
    "print(\"Multiplication of two numbers 10 and 25 is :\",multiplication)\n",
    "print(\"division of two numbers 10 and 25 is :\",division)\n",
    "print(\"Modulus of two numbers 10 and 25 is :\",moduls)\n",
    "print(\"Exponent of two numbers 10 and 25 is :\",exponent)\n",
    "print(\"floor division of two numbers 10 and 25 is :\",floor_division)"
   ]
  },
  {
   "cell_type": "code",
   "execution_count": 11,
   "metadata": {},
   "outputs": [],
   "source": [
    "# <h1> PYTHON_ARITHMATIC OPERATORS - STRING OPERATIONS <h1>"
   ]
  },
  {
   "cell_type": "code",
   "execution_count": 4,
   "metadata": {},
   "outputs": [
    {
     "name": "stdout",
     "output_type": "stream",
     "text": [
      "ChandigarghUniversity\n",
      "Chandigargh University\n",
      "ChandigarghChandigarghChandigargh\n",
      "Chandigargh Chandigargh Chandigargh \n",
      "Chandigargh3\n"
     ]
    },
    {
     "ename": "TypeError",
     "evalue": "can only concatenate str (not \"int\") to str",
     "output_type": "error",
     "traceback": [
      "\u001b[1;31m---------------------------------------------------------------------------\u001b[0m",
      "\u001b[1;31mTypeError\u001b[0m                                 Traceback (most recent call last)",
      "\u001b[1;32m~\\AppData\\Local\\Temp/ipykernel_11496/1857460528.py\u001b[0m in \u001b[0;36m<module>\u001b[1;34m\u001b[0m\n\u001b[0;32m      6\u001b[0m \u001b[0mprint\u001b[0m\u001b[1;33m(\u001b[0m\u001b[1;33m(\u001b[0m\u001b[0ma\u001b[0m \u001b[1;33m+\u001b[0m \u001b[1;34m\" \"\u001b[0m\u001b[1;33m)\u001b[0m\u001b[1;33m*\u001b[0m\u001b[1;36m3\u001b[0m\u001b[1;33m)\u001b[0m\u001b[1;33m\u001b[0m\u001b[1;33m\u001b[0m\u001b[0m\n\u001b[0;32m      7\u001b[0m \u001b[0mprint\u001b[0m\u001b[1;33m(\u001b[0m\u001b[0ma\u001b[0m\u001b[1;33m+\u001b[0m\u001b[0mstr\u001b[0m\u001b[1;33m(\u001b[0m\u001b[1;36m3\u001b[0m\u001b[1;33m)\u001b[0m\u001b[1;33m)\u001b[0m\u001b[1;33m\u001b[0m\u001b[1;33m\u001b[0m\u001b[0m\n\u001b[1;32m----> 8\u001b[1;33m \u001b[0mprint\u001b[0m\u001b[1;33m(\u001b[0m\u001b[0ma\u001b[0m\u001b[1;33m+\u001b[0m\u001b[1;36m3\u001b[0m\u001b[1;33m)\u001b[0m\u001b[1;33m\u001b[0m\u001b[1;33m\u001b[0m\u001b[0m\n\u001b[0m",
      "\u001b[1;31mTypeError\u001b[0m: can only concatenate str (not \"int\") to str"
     ]
    }
   ],
   "source": [
    "a = \"Chandigargh\"\n",
    "b = \"University\"\n",
    "print(a+b)\n",
    "print(a+ \" \" +b)\n",
    "print(a*3)\n",
    "print((a + \" \")*3)\n",
    "print(a+str(3))\n",
    "print(a+3)\n"
   ]
  },
  {
   "cell_type": "code",
   "execution_count": 5,
   "metadata": {},
   "outputs": [
    {
     "name": "stdout",
     "output_type": "stream",
     "text": [
      "The Output of 9 > 4 is:  True\n",
      "The Output of 9 < 4 is:  False\n",
      "The Output of 9 >= 4 is:  True\n",
      "The Output of 9 <= 4 is:  False\n",
      "The Output of 9 == 4 is:  False\n",
      "The Output of 9 != 4 is:  True\n"
     ]
    }
   ],
   "source": [
    "a = 9\n",
    "b = 4\n",
    "print(\"The Output of 9 > 4 is: \",a>b)\n",
    "print(\"The Output of 9 < 4 is: \",a<b)\n",
    "print(\"The Output of 9 >= 4 is: \",a>=b)\n",
    "print(\"The Output of 9 <= 4 is: \",a<=b)\n",
    "print(\"The Output of 9 == 4 is: \",a==b)\n",
    "print(\"The Output of 9 != 4 is: \",a!=b)"
   ]
  },
  {
   "cell_type": "code",
   "execution_count": 7,
   "metadata": {},
   "outputs": [],
   "source": [
    "# Relational operators"
   ]
  },
  {
   "cell_type": "code",
   "execution_count": 6,
   "metadata": {},
   "outputs": [
    {
     "name": "stdout",
     "output_type": "stream",
     "text": [
      " x value is greater than or equal to y\n"
     ]
    }
   ],
   "source": [
    "x = 33\n",
    "y = 25\n",
    "if x>=y:\n",
    "    print(\" x value is greater than or equal to y\")\n",
    "else:\n",
    "    print(\" x value is less than or equal to y\")"
   ]
  },
  {
   "cell_type": "code",
   "execution_count": 8,
   "metadata": {},
   "outputs": [
    {
     "name": "stdout",
     "output_type": "stream",
     "text": [
      "Young Man\n"
     ]
    }
   ],
   "source": [
    "age = 29\n",
    "# logical and example\n",
    "if age < 33 and age > 20:\n",
    "    print(\"Young Man\")\n",
    "else:\n",
    "    print(\"not elegible\")"
   ]
  },
  {
   "cell_type": "code",
   "execution_count": 9,
   "metadata": {},
   "outputs": [
    {
     "name": "stdout",
     "output_type": "stream",
     "text": [
      "Please forward your resume\n"
     ]
    }
   ],
   "source": [
    "if age<18 or age > 60:\n",
    "    print(\"Not elegible to work\")\n",
    "else:\n",
    "    print(\"Please forward your resume\")"
   ]
  },
  {
   "cell_type": "code",
   "execution_count": 12,
   "metadata": {},
   "outputs": [],
   "source": [
    "# python Assignment Operators"
   ]
  },
  {
   "cell_type": "code",
   "execution_count": 16,
   "metadata": {},
   "outputs": [
    {
     "name": "stdout",
     "output_type": "stream",
     "text": [
      "The value of total after using += operator is :  28\n",
      "The value of total after using -= operator is :  21\n",
      "The value of total after using *= operator is :  147\n",
      "The value of total after using //= operator is :  21\n",
      "The value of total after using **= operator is :  1801088541\n",
      "The value of total after using /= operator is :  257298363.0\n",
      "The value of total after using %= operator is :  0.0\n",
      "The value of x after using &= operator is :  1\n",
      "The value of x after using |= operator is :  65\n",
      "The value of x after using ^= operator is :  0\n"
     ]
    }
   ],
   "source": [
    "a = 7\n",
    "total = 21\n",
    "total += a # using += operator\n",
    "print(\"The value of total after using += operator is : \",total)\n",
    "total -= a # using -= operator\n",
    "print(\"The value of total after using -= operator is : \",total)\n",
    "total *= a # using *= operator\n",
    "print(\"The value of total after using *= operator is : \",total)\n",
    "total //= a # using //= operator\n",
    "print(\"The value of total after using //= operator is : \",total)\n",
    "total **= a # using **= operator\n",
    "print(\"The value of total after using **= operator is : \",total)\n",
    "total /= a # using /= operator\n",
    "print(\"The value of total after using /= operator is : \",total)\n",
    "total %= a # using %= operator\n",
    "print(\"The value of total after using %= operator is : \",total)\n",
    "x = 9\n",
    "y=65\n",
    "x &=y #using &= operator\n",
    "print(\"The value of x after using &= operator is : \",x)\n",
    "x |=y #using |= operator\n",
    "print(\"The value of x after using |= operator is : \",x)\n",
    "x ^=y #using ^= operator\n",
    "print(\"The value of x after using ^= operator is : \",x)\n"
   ]
  }
 ],
 "metadata": {
  "kernelspec": {
   "display_name": "Python 3.9.7 ('base')",
   "language": "python",
   "name": "python3"
  },
  "language_info": {
   "codemirror_mode": {
    "name": "ipython",
    "version": 3
   },
   "file_extension": ".py",
   "mimetype": "text/x-python",
   "name": "python",
   "nbconvert_exporter": "python",
   "pygments_lexer": "ipython3",
   "version": "3.9.7"
  },
  "orig_nbformat": 4,
  "vscode": {
   "interpreter": {
    "hash": "ad2bdc8ecc057115af97d19610ffacc2b4e99fae6737bb82f5d7fb13d2f2c186"
   }
  }
 },
 "nbformat": 4,
 "nbformat_minor": 2
}
