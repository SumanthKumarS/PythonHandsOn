{
 "cells": [
  {
   "cell_type": "code",
   "execution_count": 1,
   "metadata": {},
   "outputs": [],
   "source": [
    "intList = [1,2,3,4,5,6]\n",
    "str_list = ['apple', 'Mango', 'orange', 'banana', 'cherry','kiwi']\n",
    "mixed_list = ['apple',1,2,3,'mango']"
   ]
  },
  {
   "cell_type": "code",
   "execution_count": 3,
   "metadata": {},
   "outputs": [
    {
     "name": "stdout",
     "output_type": "stream",
     "text": [
      "1\n",
      "5\n",
      "9\n",
      "=======\n",
      "\n",
      "1\n",
      "6\n",
      "2\n",
      "=======\n",
      "\n"
     ]
    }
   ],
   "source": [
    "x = [1,2,3,4,5,6,7,8,9]\n",
    "# positive index value\n",
    "print(x[0])\n",
    "print(x[4])\n",
    "print(x[8])\n",
    "print('=======\\n')\n",
    "# negative index value\n",
    "print(x[-9])\n",
    "print(x[-4])\n",
    "print(x[-8])\n",
    "print('=======\\n')"
   ]
  },
  {
   "cell_type": "code",
   "execution_count": 4,
   "metadata": {},
   "outputs": [
    {
     "name": "stdout",
     "output_type": "stream",
     "text": [
      "List Item at Index Position 0 =  apple\n",
      "List Item at Index Position 2 =  banana\n",
      "List Item at Index Position 4 =  cherry\n",
      "List Item at Index Position 3 =  orange\n",
      "=======\n",
      "\n",
      "List Item at Index Position -1 =  kiwi\n",
      "List Item at Index Position -3 =  orange\n",
      "List Item at Index Position -5 =  Mango\n",
      "List Item at Index Position -6 =  apple\n"
     ]
    }
   ],
   "source": [
    "# How to Access List Items\n",
    "x = ['apple', 'Mango', 'banana', 'orange', 'cherry','kiwi']\n",
    "\n",
    "# List Items using Positive Index\n",
    "print(\"List Item at Index Position 0 = \", x[0]) #apple\n",
    "print(\"List Item at Index Position 2 = \", x[2]) #bannana\n",
    "print(\"List Item at Index Position 4 = \", x[4]) #cherry\n",
    "print(\"List Item at Index Position 3 = \", x[3]) #orange\n",
    "print('=======\\n')\n",
    "\n",
    "# List Items using Negative Index\n",
    "print(\"List Item at Index Position -1 = \", x[-1])#kiwi\n",
    "print(\"List Item at Index Position -3 = \", x[-3])#orange\n",
    "print(\"List Item at Index Position -5 = \", x[-5])#mango\n",
    "print(\"List Item at Index Position -6 = \", x[-6])#apple\n"
   ]
  },
  {
   "cell_type": "code",
   "execution_count": 5,
   "metadata": {},
   "outputs": [
    {
     "name": "stdout",
     "output_type": "stream",
     "text": [
      "[10, 20, 30, 40, 50, 60]\n"
     ]
    }
   ],
   "source": [
    "num = [10,20,30,40,50,60]\n",
    "print(num) #[10,20,30,40,50,60]"
   ]
  },
  {
   "cell_type": "code",
   "execution_count": 7,
   "metadata": {},
   "outputs": [
    {
     "name": "stdout",
     "output_type": "stream",
     "text": [
      "[10, 15, 30, 40, 50, 60]\n",
      "[10, 15, 30, 40, 55, 60]\n"
     ]
    }
   ],
   "source": [
    "num[1] = 15\n",
    "print(num)\n",
    "num[4] = 55\n",
    "print(num)"
   ]
  },
  {
   "cell_type": "code",
   "execution_count": 8,
   "metadata": {},
   "outputs": [
    {
     "name": "stdout",
     "output_type": "stream",
     "text": [
      "['C', 'C++', 'JAVA', 'OOPS']\n"
     ]
    }
   ],
   "source": [
    "tech = ['C', 'C++', 'JAVA','OOPS']\n",
    "print(tech) #['C', 'C++', 'JAVA','OOPS']"
   ]
  },
  {
   "cell_type": "code",
   "execution_count": 9,
   "metadata": {},
   "outputs": [
    {
     "name": "stdout",
     "output_type": "stream",
     "text": [
      "['PYTHON', 'C++', 'INFORMATICA', 'OOPS']\n"
     ]
    }
   ],
   "source": [
    "tech[2] = 'INFORMATICA'\n",
    "tech[0] = 'PYTHON'\n",
    "print(tech) #['PYTHON', 'C++', 'INFORMATICA','OOPS']"
   ]
  },
  {
   "cell_type": "code",
   "execution_count": 10,
   "metadata": {},
   "outputs": [
    {
     "name": "stdout",
     "output_type": "stream",
     "text": [
      "Apple\n",
      "Orange\n",
      "Grape\n",
      "Banana\n"
     ]
    }
   ],
   "source": [
    "Fruits = ['Apple', 'Orange', 'Grape', 'Banana']\n",
    "for Fruit in Fruits:\n",
    "    print(Fruit)\n",
    "\n",
    "# apple\n",
    "# orange\n",
    "# grape\n",
    "# bannana"
   ]
  },
  {
   "cell_type": "code",
   "execution_count": 12,
   "metadata": {},
   "outputs": [
    {
     "name": "stdout",
     "output_type": "stream",
     "text": [
      "apple\n",
      "Mango\n",
      "banana\n",
      "orange\n",
      "cherry\n",
      "kiwi\n",
      "List Item at Index Position 0  =  apple\n",
      "List Item at Index Position 1  =  Mango\n",
      "List Item at Index Position 2  =  banana\n",
      "List Item at Index Position 3  =  orange\n",
      "List Item at Index Position 4  =  cherry\n",
      "List Item at Index Position 5  =  kiwi\n"
     ]
    }
   ],
   "source": [
    "# Iterate List Items\n",
    "\n",
    "Fruits = ['apple', 'Mango', 'banana', 'orange', 'cherry','kiwi']\n",
    "\n",
    "# Iterate List Items\n",
    "for fruit in Fruits:\n",
    "    print(fruit)    \n",
    "# apple\n",
    "# mango\n",
    "# bannana\n",
    "# orange\n",
    "# cherry\n",
    "# kiwi\n",
    "\n",
    "# Iterate List Items using Index \n",
    "for i in range(len(Fruits)):\n",
    "    print(\"List Item at Index Position\", i, \" = \", Fruits[i])\n",
    "\n",
    "# 0 = apple\n",
    "# 1 = mango\n",
    "# 2 = bannana\n",
    "# 3 = orange\n",
    "# 4 = cherry\n",
    "# 5 = kiwi"
   ]
  },
  {
   "cell_type": "code",
   "execution_count": 13,
   "metadata": {},
   "outputs": [
    {
     "name": "stdout",
     "output_type": "stream",
     "text": [
      "['Apple', 'Orange', 'Grape', 'Banana', 'Blackberry']\n",
      "['Apple', 'Orange', 'Kiwi', 'Grape', 'Banana', 'Blackberry']\n",
      "['Apple', 'Orange', 'Kiwi', 'Grape', 'Banana', 'Blackberry', 'berry', 'Cherry']\n"
     ]
    }
   ],
   "source": [
    "Fruits = ['Apple', 'Orange', 'Grape', 'Banana']\n",
    "\n",
    "# Adding items using Python append\n",
    "Fruits.append('Blackberry')\n",
    "print(Fruits) # ['Apple', 'Orange', 'Grape', 'Banana','blackberry']\n",
    "\n",
    "# inserting items using Python insert\n",
    "Fruits.insert(2, 'Kiwi') # ['Apple', 'Orange', 'kiwi', 'Grape', 'Banana','blackberry']\n",
    "print(Fruits)\n",
    "\n",
    "# Extending List using Python extend\n",
    "Fruit_new = ['berry','Cherry']\n",
    "Fruits.extend(Fruit_new) # ['Apple', 'Orange', 'kiwi', 'Grape', 'Banana','blackberry','berry','Cherry']\n",
    "print(Fruits)"
   ]
  },
  {
   "cell_type": "code",
   "execution_count": 14,
   "metadata": {},
   "outputs": [
    {
     "name": "stdout",
     "output_type": "stream",
     "text": [
      "Both Indexes =  [3, 4, 5, 6]\n",
      "No First Index =  [1, 2, 3, 4, 5, 6]\n",
      "No Second Index =  [3, 4, 5, 6, 7, 8, 9]\n",
      "No Indexes =  [1, 2, 3, 4, 5, 6, 7, 8, 9]\n"
     ]
    }
   ],
   "source": [
    "# List slicing\n",
    "\n",
    "x = [1, 2, 3, 4, 5, 6, 7, 8, 9]\n",
    "\n",
    "# Slicing List using two indexes\n",
    "a = x[2:6] # 3,4,5,6 (0 to n-1)\n",
    "print(\"Both Indexes = \", a)\n",
    "\n",
    "# Slicing List using First indexes\n",
    "b = x[:6] # 1, 2, 3, 4, 5, 6\n",
    "print(\"No First Index = \", b)\n",
    "\n",
    "# Slicing List using Second indexes\n",
    "c = x[2:] # 3, 4, 5, 6, 7, 8, 9\n",
    "print(\"No Second Index = \", c)\n",
    "\n",
    "# Slicing List without using two indexes\n",
    "d = x[:] # [1, 2, 3, 4, 5, 6, 7, 8, 9]\n",
    "print(\"No Indexes = \", d)"
   ]
  },
  {
   "cell_type": "code",
   "execution_count": 15,
   "metadata": {},
   "outputs": [
    {
     "name": "stdout",
     "output_type": "stream",
     "text": [
      "['Apple', 'Orange', 'Banana']\n",
      "========\n",
      "['Apple', 'Grape', 'Banana', 'Orange']\n",
      "========\n"
     ]
    },
    {
     "ename": "ValueError",
     "evalue": "list.remove(x): x not in list",
     "output_type": "error",
     "traceback": [
      "\u001b[1;31m---------------------------------------------------------------------------\u001b[0m",
      "\u001b[1;31mValueError\u001b[0m                                Traceback (most recent call last)",
      "\u001b[1;32m~\\AppData\\Local\\Temp/ipykernel_13064/2242518712.py\u001b[0m in \u001b[0;36m<module>\u001b[1;34m\u001b[0m\n\u001b[0;32m     13\u001b[0m \u001b[1;31m# Removing Non Existing Grape Item from Fruits1 List\u001b[0m\u001b[1;33m\u001b[0m\u001b[1;33m\u001b[0m\u001b[0m\n\u001b[0;32m     14\u001b[0m \u001b[0mFruit3\u001b[0m \u001b[1;33m=\u001b[0m \u001b[1;33m[\u001b[0m\u001b[1;34m'Apple'\u001b[0m\u001b[1;33m,\u001b[0m \u001b[1;34m'Orange'\u001b[0m\u001b[1;33m,\u001b[0m \u001b[1;34m'Banana'\u001b[0m\u001b[1;33m]\u001b[0m\u001b[1;33m\u001b[0m\u001b[1;33m\u001b[0m\u001b[0m\n\u001b[1;32m---> 15\u001b[1;33m \u001b[0mFruit3\u001b[0m\u001b[1;33m.\u001b[0m\u001b[0mremove\u001b[0m\u001b[1;33m(\u001b[0m\u001b[1;34m'Grape'\u001b[0m\u001b[1;33m)\u001b[0m \u001b[1;31m# error grape does not exsist\u001b[0m\u001b[1;33m\u001b[0m\u001b[1;33m\u001b[0m\u001b[0m\n\u001b[0m\u001b[0;32m     16\u001b[0m \u001b[0mprint\u001b[0m\u001b[1;33m(\u001b[0m\u001b[0mFruit3\u001b[0m\u001b[1;33m)\u001b[0m\u001b[1;33m\u001b[0m\u001b[1;33m\u001b[0m\u001b[0m\n",
      "\u001b[1;31mValueError\u001b[0m: list.remove(x): x not in list"
     ]
    }
   ],
   "source": [
    "# Removing Grape Item from Fruit List\n",
    "Fruit1 = ['Apple', 'Orange', 'Grape', 'Banana']\n",
    "Fruit1.remove('Grape') # ['Apple', 'Orange', 'Banana']\n",
    "print(Fruit1)\n",
    "print('========')\n",
    "\n",
    "# Removing Orange Item from Fruits List\n",
    "Fruit2 = ['Apple', 'Orange', 'Grape', 'Banana', 'Orange']\n",
    "Fruit2.remove('Orange') #['Apple', 'Orange', 'Grape', 'Banana']\n",
    "print(Fruit2)\n",
    "print('========')\n",
    "\n",
    "# Removing Non Existing Grape Item from Fruits1 List\n",
    "Fruit3 = ['Apple', 'Orange', 'Banana']\n",
    "Fruit3.remove('Grape') # error grape does not exsist\n",
    "print(Fruit3)"
   ]
  },
  {
   "cell_type": "code",
   "execution_count": 16,
   "metadata": {},
   "outputs": [
    {
     "name": "stdout",
     "output_type": "stream",
     "text": [
      "['Apple', 'Grape', 'Banana']\n",
      "========\n",
      "['Apple', 'Banana']\n",
      "========\n",
      "['Apple']\n",
      "========\n"
     ]
    },
    {
     "ename": "IndexError",
     "evalue": "list assignment index out of range",
     "output_type": "error",
     "traceback": [
      "\u001b[1;31m---------------------------------------------------------------------------\u001b[0m",
      "\u001b[1;31mIndexError\u001b[0m                                Traceback (most recent call last)",
      "\u001b[1;32m~\\AppData\\Local\\Temp/ipykernel_13064/2055381191.py\u001b[0m in \u001b[0;36m<module>\u001b[1;34m\u001b[0m\n\u001b[0;32m     13\u001b[0m \u001b[0mprint\u001b[0m\u001b[1;33m(\u001b[0m\u001b[1;34m'========'\u001b[0m\u001b[1;33m)\u001b[0m\u001b[1;33m\u001b[0m\u001b[1;33m\u001b[0m\u001b[0m\n\u001b[0;32m     14\u001b[0m \u001b[1;33m\u001b[0m\u001b[0m\n\u001b[1;32m---> 15\u001b[1;33m \u001b[1;32mdel\u001b[0m \u001b[0mFruits\u001b[0m\u001b[1;33m[\u001b[0m\u001b[1;36m1\u001b[0m\u001b[1;33m]\u001b[0m \u001b[1;31m# error no item in list at the position 1\u001b[0m\u001b[1;33m\u001b[0m\u001b[1;33m\u001b[0m\u001b[0m\n\u001b[0m\u001b[0;32m     16\u001b[0m \u001b[0mprint\u001b[0m\u001b[1;33m(\u001b[0m\u001b[0mFruits\u001b[0m\u001b[1;33m)\u001b[0m\u001b[1;33m\u001b[0m\u001b[1;33m\u001b[0m\u001b[0m\n",
      "\u001b[1;31mIndexError\u001b[0m: list assignment index out of range"
     ]
    }
   ],
   "source": [
    "# List Delete example\n",
    "Fruits = ['Apple', 'Orange', 'Grape', 'Banana']\n",
    "del Fruits[1] #['Apple', 'Grape', 'Banana']\n",
    "print(Fruits)\n",
    "print('========')\n",
    "\n",
    "del Fruits[1]#['Apple', 'Banana']\n",
    "print(Fruits)\n",
    "print('========')\n",
    "\n",
    "del Fruits[1] #['Apple']\n",
    "print(Fruits)\n",
    "print('========')\n",
    "\n",
    "del Fruits[1] # error no item in list at the position 1\n",
    "print(Fruits)"
   ]
  },
  {
   "cell_type": "code",
   "execution_count": 17,
   "metadata": {},
   "outputs": [
    {
     "name": "stdout",
     "output_type": "stream",
     "text": [
      "['Apple', 'Grape', 'Banana']\n",
      "Item extracted by Python Pop =  Orange\n",
      "========\n",
      "['Apple', 'Banana']\n",
      "Item extracted by Python Pop =  Grape\n",
      "========\n",
      "['Apple']\n",
      "Item extracted by Python Pop =  Banana\n",
      "========\n"
     ]
    }
   ],
   "source": [
    "# List Pop Method example\n",
    "Fruits = ['Apple', 'Orange', 'Grape', 'Banana']\n",
    "\n",
    "Fruit = Fruits.pop(1) #['Apple', 'Grape', 'Banana']\n",
    "print(Fruits)\n",
    "print('Item extracted by Python Pop = ', Fruit)\n",
    "print('========')\n",
    "\n",
    "Fruit = Fruits.pop(1) #['Apple', 'Banana']\n",
    "print(Fruits)\n",
    "print('Item extracted by Python Pop = ', Fruit)\n",
    "print('========')\n",
    "\n",
    "Fruit = Fruits.pop(1) #['Apple']\n",
    "print(Fruits)\n",
    "print('Item extracted by Python Pop = ', Fruit)\n",
    "print('========')"
   ]
  },
  {
   "cell_type": "code",
   "execution_count": 18,
   "metadata": {},
   "outputs": [
    {
     "name": "stdout",
     "output_type": "stream",
     "text": [
      "Original List :  ['Apple', 'Orange', 'Banana', 'Kiwi', 'Grape', 'Blackberry']\n",
      "Original number List :  [9, 4, -5, 0, 22, -1, 2, 14]\n",
      "\n",
      "New List :  ['Apple', 'Orange', 'Banana', 'Kiwi', 'Grape', 'Blackberry']\n",
      "New Number List :  [9, 4, -5, 0, 22, -1, 2, 14]\n"
     ]
    }
   ],
   "source": [
    "# Python List copy\n",
    "\n",
    "Fruits = ['Apple', 'Orange', 'Banana', 'Kiwi', 'Grape', 'Blackberry']\n",
    "numbers = [9, 4, -5, 0, 22, -1, 2, 14]\n",
    "\n",
    "print(\"Original List : \", Fruits) #['Apple', 'Orange', 'Banana', 'Kiwi', 'Grape', 'Blackberry']\n",
    "print(\"Original number List : \", numbers) #[9, 4, -5, 0, 22, -1, 2, 14]\n",
    "\n",
    "#Copying the List using Python Copy() Method\n",
    "New_Fruits = Fruits.copy() #['Apple', 'Orange', 'Banana', 'Kiwi', 'Grape', 'Blackberry']\n",
    "print(\"\\nNew List : \", New_Fruits)\n",
    "\n",
    "new_numbers = numbers.copy() #[9, 4, -5, 0, 22, -1, 2, 14]\n",
    "print(\"New Number List : \", new_numbers)"
   ]
  },
  {
   "cell_type": "code",
   "execution_count": 19,
   "metadata": {},
   "outputs": [
    {
     "name": "stdout",
     "output_type": "stream",
     "text": [
      "Original List :  ['Apple', 'Orange', 'Banana', 'Kiwi', 'Grape', 'Blackberry']\n",
      "Original number List :  [9, 4, -5, 0, 22, -1, 2, 14]\n",
      "\n",
      "New List :  None\n",
      "New Number List :  None\n"
     ]
    }
   ],
   "source": [
    "# Python List clear\n",
    "\n",
    "Fruits = ['Apple', 'Orange', 'Banana', 'Kiwi', 'Grape', 'Blackberry']\n",
    "numbers = [9, 4, -5, 0, 22, -1, 2, 14]\n",
    "\n",
    "print(\"Original List : \", Fruits) #['Apple', 'Orange', 'Banana', 'Kiwi', 'Grape', 'Blackberry']\n",
    "print(\"Original number List : \", numbers) #[9, 4, -5, 0, 22, -1, 2, 14]\n",
    "\n",
    "#Clear the List using Python Clear() Method\n",
    "New_Fruits = Fruits.clear() #None\n",
    "print(\"\\nNew List : \", New_Fruits)\n",
    "\n",
    "new_numbers = numbers.clear() #None\n",
    "print(\"New Number List : \", new_numbers)"
   ]
  },
  {
   "cell_type": "code",
   "execution_count": 1,
   "metadata": {},
   "outputs": [
    {
     "name": "stdout",
     "output_type": "stream",
     "text": [
      "Original List :  ['Apple', 'Orange', 'Banana', 'Kiwi', 'Grape', 'Blackberry']\n",
      "Original number List :  [9, 4, -5, 0, 22, -1, 2, 14]\n",
      "\n",
      "Sorted List :  ['Apple', 'Banana', 'Blackberry', 'Grape', 'Kiwi', 'Orange']\n",
      "New Sorted Number List :  [-5, -1, 0, 2, 4, 9, 14, 22]\n"
     ]
    }
   ],
   "source": [
    "# Python List sort\n",
    "\n",
    "Fruits = ['Apple', 'Orange', 'Banana', 'Kiwi', 'Grape', 'Blackberry']\n",
    "numbers = [9, 4, -5, 0, 22, -1, 2, 14]\n",
    "\n",
    "print(\"Original List : \", Fruits) #['Apple', 'Orange', 'Banana', 'Kiwi', 'Grape', 'Blackberry']\n",
    "print(\"Original number List : \", numbers) #[9, 4, -5, 0, 22, -1, 2, 14]\n",
    "\n",
    "#Sort the List using Python sort() Method\n",
    "Fruits.sort() #['Apple', 'Banana','Blackberry', 'Grape', 'Kiwi', 'Orange']\n",
    "print(\"\\nSorted List : \", Fruits)\n",
    "\n",
    "numbers.sort() # [-5,-1,0,2,4,9,14,22]\n",
    "print(\"New Sorted Number List : \", numbers)"
   ]
  },
  {
   "cell_type": "code",
   "execution_count": 3,
   "metadata": {},
   "outputs": [
    {
     "name": "stdout",
     "output_type": "stream",
     "text": [
      "Original List :  ['Apple', 'Orange', 'Banana', 'Kiwi', 'Grape', 'Blackberry']\n",
      "Original number List :  [9, 4, -5, 0, 22, -1, 2, 14]\n",
      "\n",
      "Reverse List :  ['Blackberry', 'Grape', 'Kiwi', 'Banana', 'Orange', 'Apple']\n",
      "New Reverse Number List :  [14, 2, -1, 22, 0, -5, 4, 9]\n"
     ]
    }
   ],
   "source": [
    "# Python List reverse\n",
    "\n",
    "Fruits = ['Apple', 'Orange', 'Banana', 'Kiwi', 'Grape', 'Blackberry']\n",
    "numbers = [9, 4, -5, 0, 22, -1, 2, 14]\n",
    "\n",
    "print(\"Original List : \", Fruits)\n",
    "print(\"Original number List : \", numbers)\n",
    "\n",
    "#Reverse the List using Python reverse() Method\n",
    "Fruits.reverse()\n",
    "print(\"\\nReverse List : \", Fruits)\n",
    "\n",
    "numbers.reverse()\n",
    "print(\"New Reverse Number List : \", numbers)"
   ]
  },
  {
   "cell_type": "code",
   "execution_count": 4,
   "metadata": {},
   "outputs": [
    {
     "name": "stdout",
     "output_type": "stream",
     "text": [
      "Original List :  ['Apple', 'Orange', 'Banana', 'Kiwi', 'Grape', 'Blackberry']\n",
      "Original number List :  [9, 4, -5, 0, 22, -1, 2, 14]\n",
      "The Index position of Kiwi =  3\n",
      "The Index position of Orange =  1\n",
      "The Index position of Grape =  4\n",
      "The Index position of 0 =  3\n",
      "The Index position of 2 =  6\n",
      "The Index position of -1 =  5\n"
     ]
    }
   ],
   "source": [
    "# Python List index\n",
    "\n",
    "Fruits = ['Apple', 'Orange', 'Banana', 'Kiwi', 'Grape', 'Blackberry']\n",
    "numbers = [9, 4, -5, 0, 22, -1, 2, 14]\n",
    "\n",
    "print(\"Original List : \", Fruits)\n",
    "print(\"Original number List : \", numbers)\n",
    "\n",
    "#Index of List items using Python index() Method\n",
    "print('The Index position of Kiwi = ', Fruits.index('Kiwi'))#3\n",
    "print('The Index position of Orange = ', Fruits.index('Orange'))#1\n",
    "print('The Index position of Grape = ', Fruits.index('Grape'))#4\n",
    "\n",
    "print('The Index position of 0 = ', numbers.index(0))#3\n",
    "print('The Index position of 2 = ', numbers.index(2))#6\n",
    "print('The Index position of -1 = ', numbers.index(-1))#5"
   ]
  },
  {
   "cell_type": "code",
   "execution_count": 5,
   "metadata": {},
   "outputs": [
    {
     "name": "stdout",
     "output_type": "stream",
     "text": [
      "Original List :  ['Apple', 'Orange', 'Banana', 'Kiwi', 'Apple', 'Kiwi']\n",
      "Number of Times Kiwi is repeated =  2\n",
      "Number of Times Apple is repeated =  2\n",
      "Number of Times Banana is repeated  1\n",
      "\n",
      "Original number List :  [9, 4, -5, 0, 9, -1, 4, 9]\n",
      "Number of Times 9 is repeated =  3\n",
      "Number of Times 4 is repeated =  2\n"
     ]
    }
   ],
   "source": [
    "# Python List count\n",
    "\n",
    "Fruits = ['Apple', 'Orange', 'Banana', 'Kiwi', 'Apple', 'Kiwi']\n",
    "numbers = [9, 4, -5, 0, 9, -1, 4, 9]\n",
    "\n",
    "print(\"Original List : \", Fruits)\n",
    "\n",
    "#Count of List items using Python count() Method\n",
    "print('Number of Times Kiwi is repeated = ', Fruits.count('Kiwi')) #2\n",
    "print('Number of Times Apple is repeated = ', Fruits.count('Apple')) #2\n",
    "print('Number of Times Banana is repeated ', Fruits.count('Banana')) #1\n",
    "\n",
    "print(\"\\nOriginal number List : \", numbers)\n",
    "print('Number of Times 9 is repeated = ', numbers.count(9)) #3\n",
    "print('Number of Times 4 is repeated = ', numbers.count(4))#2"
   ]
  },
  {
   "cell_type": "code",
   "execution_count": null,
   "metadata": {},
   "outputs": [],
   "source": []
  }
 ],
 "metadata": {
  "kernelspec": {
   "display_name": "base",
   "language": "python",
   "name": "python3"
  },
  "language_info": {
   "codemirror_mode": {
    "name": "ipython",
    "version": 3
   },
   "file_extension": ".py",
   "mimetype": "text/x-python",
   "name": "python",
   "nbconvert_exporter": "python",
   "pygments_lexer": "ipython3",
   "version": "3.9.7 (default, Sep 16 2021, 16:59:28) [MSC v.1916 64 bit (AMD64)]"
  },
  "orig_nbformat": 4,
  "vscode": {
   "interpreter": {
    "hash": "ad2bdc8ecc057115af97d19610ffacc2b4e99fae6737bb82f5d7fb13d2f2c186"
   }
  }
 },
 "nbformat": 4,
 "nbformat_minor": 2
}
