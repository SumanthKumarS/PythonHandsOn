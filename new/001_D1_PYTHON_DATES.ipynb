{
 "cells": [
  {
   "cell_type": "code",
   "execution_count": 1,
   "metadata": {},
   "outputs": [],
   "source": [
    "# Importing Library function date\n",
    "import datetime"
   ]
  },
  {
   "cell_type": "code",
   "execution_count": 2,
   "metadata": {},
   "outputs": [
    {
     "name": "stdout",
     "output_type": "stream",
     "text": [
      "['MAXYEAR', 'MINYEAR', '__all__', '__builtins__', '__cached__', '__doc__', '__file__', '__loader__', '__name__', '__package__', '__spec__', 'date', 'datetime', 'datetime_CAPI', 'sys', 'time', 'timedelta', 'timezone', 'tzinfo']\n"
     ]
    }
   ],
   "source": [
    "# printing the modules present in the directory of date time\n",
    "print(dir(datetime))"
   ]
  },
  {
   "cell_type": "code",
   "execution_count": 4,
   "metadata": {},
   "outputs": [
    {
     "name": "stdout",
     "output_type": "stream",
     "text": [
      "max year : 9999\n",
      "min year : 1\n"
     ]
    }
   ],
   "source": [
    "print(\"max year :\",datetime.MAXYEAR)\n",
    "print(\"min year :\",datetime.MINYEAR)"
   ]
  },
  {
   "cell_type": "code",
   "execution_count": 5,
   "metadata": {},
   "outputs": [
    {
     "name": "stdout",
     "output_type": "stream",
     "text": [
      "Todays Date =  2023-01-16\n"
     ]
    }
   ],
   "source": [
    "dt = datetime.date.today()\n",
    "print('Todays Date = ',dt)"
   ]
  },
  {
   "attachments": {},
   "cell_type": "markdown",
   "metadata": {},
   "source": [
    "# Python Date Class\n",
    "# This class has attributes of year, month, and day. Here, the first print statement extracts and returns the Year from the current date. The next two print statement returns Month number and Day."
   ]
  },
  {
   "cell_type": "code",
   "execution_count": 6,
   "metadata": {},
   "outputs": [
    {
     "name": "stdout",
     "output_type": "stream",
     "text": [
      "todays date :  2023-01-16\n",
      "year from today is : 2023\n",
      "month from today is : 1\n",
      "day from today is : 16\n"
     ]
    }
   ],
   "source": [
    "today = datetime.date.today()\n",
    "print(\"todays date : \",today)\n",
    "print(\"year from today is :\",today.year)\n",
    "print(\"month from today is :\",today.month)\n",
    "print(\"day from today is :\",today.day)"
   ]
  },
  {
   "attachments": {},
   "cell_type": "markdown",
   "metadata": {},
   "source": [
    "# Python datetime now - The datetime module has now function, which returns the current date and time."
   ]
  },
  {
   "cell_type": "code",
   "execution_count": 9,
   "metadata": {},
   "outputs": [
    {
     "name": "stdout",
     "output_type": "stream",
     "text": [
      "2023-01-16 16:21:46.020748\n",
      "todays date and time =  2023-01-16 16:21:46.020748\n"
     ]
    }
   ],
   "source": [
    "dt = datetime.datetime.now()\n",
    "print(dt)\n",
    "print(\"todays date and time = \",dt) "
   ]
  },
  {
   "attachments": {},
   "cell_type": "markdown",
   "metadata": {},
   "source": [
    "Until now, we are using the import datetime, and that was the reason we are using datetime.datetime.method_name. However, if we use from datetime import datetime, we can get rid of that extra datetime.\n",
    "In this example, we are using the date and time functions available in Python datetime to extract and return date, time from the current date & time. "
   ]
  },
  {
   "cell_type": "code",
   "execution_count": 13,
   "metadata": {},
   "outputs": [
    {
     "name": "stdout",
     "output_type": "stream",
     "text": [
      "date and time =  2023-01-16  and  16:27:28.980634\n",
      "current date =  2023-01-16\n",
      "current time =  16:27:28.980634\n"
     ]
    }
   ],
   "source": [
    "from datetime import datetime as dt\n",
    "new_dt = dt.now()\n",
    "print(\"date and time = \",new_dt.date(),\" and \",new_dt.time())\n",
    "print(\"current date = \",new_dt.date())\n",
    "print(\"current time = \",new_dt.time())"
   ]
  },
  {
   "attachments": {},
   "cell_type": "markdown",
   "metadata": {},
   "source": [
    "# python data time class attributes"
   ]
  },
  {
   "cell_type": "code",
   "execution_count": 14,
   "metadata": {},
   "outputs": [
    {
     "name": "stdout",
     "output_type": "stream",
     "text": [
      "Date =  2023-01-16 16:29:13.161123\n",
      "Year from Date        =  2023\n",
      "Month from Date       =  1\n",
      "Day from Date         =  16\n",
      "Hour from Date        =  16\n",
      "Minute from Date      =  29\n",
      "Second from Date      =  13\n",
      "Microsecond from Date =  161123\n",
      "Weekday Number from Date =  0\n"
     ]
    }
   ],
   "source": [
    "from datetime import datetime\n",
    "dt = datetime.now()\n",
    "print('Date = ', dt)\n",
    "print('Year from Date        = ', dt.year)\n",
    "print('Month from Date       = ', dt.month)\n",
    "print('Day from Date         = ', dt.day)\n",
    "print('Hour from Date        = ', dt.hour)\n",
    "print('Minute from Date      = ', dt.minute)\n",
    "print('Second from Date      = ', dt.second)\n",
    "print('Microsecond from Date = ', dt.microsecond)\n",
    "print('Weekday Number from Date = ', dt.weekday())"
   ]
  },
  {
   "attachments": {},
   "cell_type": "markdown",
   "metadata": {},
   "source": [
    "# Python timestamp function\n",
    "The Python timestamp function returns the POSIX timestamp of the given datetime. Here, we are returning the timestamp of the current date and time."
   ]
  },
  {
   "cell_type": "code",
   "execution_count": 15,
   "metadata": {},
   "outputs": [
    {
     "name": "stdout",
     "output_type": "stream",
     "text": [
      "Today's Date   =  2023-01-16 16:29:47.981279\n",
      "Timestamp       =  1673866787.981279\n"
     ]
    }
   ],
   "source": [
    "from datetime import datetime\n",
    " \n",
    "dt = datetime.now()\n",
    " \n",
    "print('Today\\'s Date   = ', dt)\n",
    "print('Timestamp       = ', dt.timestamp())"
   ]
  }
 ],
 "metadata": {
  "kernelspec": {
   "display_name": "Python 3.9.7 ('base')",
   "language": "python",
   "name": "python3"
  },
  "language_info": {
   "codemirror_mode": {
    "name": "ipython",
    "version": 3
   },
   "file_extension": ".py",
   "mimetype": "text/x-python",
   "name": "python",
   "nbconvert_exporter": "python",
   "pygments_lexer": "ipython3",
   "version": "3.9.7"
  },
  "orig_nbformat": 4,
  "vscode": {
   "interpreter": {
    "hash": "ad2bdc8ecc057115af97d19610ffacc2b4e99fae6737bb82f5d7fb13d2f2c186"
   }
  }
 },
 "nbformat": 4,
 "nbformat_minor": 2
}
