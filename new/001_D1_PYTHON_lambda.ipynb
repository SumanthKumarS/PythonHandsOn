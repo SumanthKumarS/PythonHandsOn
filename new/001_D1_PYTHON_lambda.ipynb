{
 "cells": [
  {
   "attachments": {},
   "cell_type": "markdown",
   "metadata": {},
   "source": [
    "# Python lambda function \n",
    "labda function is an anonymus \n",
    "which means a function without a defination of keyword and a name"
   ]
  },
  {
   "cell_type": "code",
   "execution_count": 2,
   "metadata": {},
   "outputs": [
    {
     "name": "stdout",
     "output_type": "stream",
     "text": [
      "True\n"
     ]
    }
   ],
   "source": [
    "#Creating lambda function with no arguments\n",
    "num = lambda: True\n",
    "print(num())"
   ]
  },
  {
   "cell_type": "code",
   "execution_count": 4,
   "metadata": {},
   "outputs": [
    {
     "name": "stdout",
     "output_type": "stream",
     "text": [
      "15\n"
     ]
    }
   ],
   "source": [
    "#Python lambda sum\n",
    "num = lambda x:x+5\n",
    "print(num(10))"
   ]
  },
  {
   "cell_type": "code",
   "execution_count": 5,
   "metadata": {},
   "outputs": [
    {
     "name": "stdout",
     "output_type": "stream",
     "text": [
      "30\n"
     ]
    }
   ],
   "source": [
    "add = lambda a , b : a+b\n",
    "print(add(10,20))"
   ]
  },
  {
   "cell_type": "code",
   "execution_count": 6,
   "metadata": {},
   "outputs": [
    {
     "name": "stdout",
     "output_type": "stream",
     "text": [
      "30\n",
      "30\n"
     ]
    }
   ],
   "source": [
    "add = lambda a , b : a+b\n",
    "print(add(10,20)) # dosen not require any of them\n",
    "\n",
    "# using normal function metho\n",
    "def add(a,b): # regular requires the def function creation and also return statement\n",
    "    return a+b\n",
    "print(add(10,20))"
   ]
  },
  {
   "cell_type": "code",
   "execution_count": 7,
   "metadata": {},
   "outputs": [
    {
     "name": "stdout",
     "output_type": "stream",
     "text": [
      "200\n",
      "200\n"
     ]
    }
   ],
   "source": [
    "multi = lambda a , b : a*b\n",
    "print(multi(10,20)) # dosen not require any of them\n",
    "\n",
    "# using normal function metho\n",
    "def multi(a,b): # regular requires the def function creation and also return statement\n",
    "    return a*b\n",
    "print(multi(10,20))"
   ]
  },
  {
   "cell_type": "code",
   "execution_count": 8,
   "metadata": {},
   "outputs": [
    {
     "name": "stdout",
     "output_type": "stream",
     "text": [
      "6000\n",
      "6000\n"
     ]
    }
   ],
   "source": [
    "multi = lambda a , b,c : a*b*c\n",
    "print(multi(10,20,30)) # dosen not require any of them\n",
    "\n",
    "# using normal function metho\n",
    "def multi(a,b,c): # regular requires the def function creation and also return statement\n",
    "    return a*b*c\n",
    "print(multi(10,20,30))"
   ]
  },
  {
   "cell_type": "code",
   "execution_count": 9,
   "metadata": {},
   "outputs": [
    {
     "name": "stdout",
     "output_type": "stream",
     "text": [
      "Hello world\n",
      "hi how are u\n"
     ]
    }
   ],
   "source": [
    "# using ambda function for messagaes\n",
    "mes = lambda : print(\"Hello world\")\n",
    "mes()\n",
    "mes = lambda : \"hi how are u\"\n",
    "print(mes())"
   ]
  },
  {
   "cell_type": "code",
   "execution_count": 11,
   "metadata": {},
   "outputs": [
    {
     "name": "stdout",
     "output_type": "stream",
     "text": [
      "30\n",
      "200\n",
      "-10\n"
     ]
    }
   ],
   "source": [
    "add = lambda a=10 , b=20 : a+b\n",
    "print(add())\n",
    "multi = lambda a=10 , b=20 : a*b\n",
    "print(multi())\n",
    "sub = lambda a=10 , b=20 : a-b\n",
    "print(sub())"
   ]
  },
  {
   "cell_type": "code",
   "execution_count": 12,
   "metadata": {},
   "outputs": [
    {
     "name": "stdout",
     "output_type": "stream",
     "text": [
      "150\n",
      "140\n",
      "110\n",
      "60\n",
      "120000\n",
      "90000\n",
      "36000\n",
      "6000\n"
     ]
    }
   ],
   "source": [
    "add = lambda a=10 , b=20, c=30 : a+b+c\n",
    "print(add(40,50,60))\n",
    "print(add(50,60))\n",
    "print(add(60))\n",
    "print(add())\n",
    "multi = lambda a=10 , b=20, c=30 : a*b*c\n",
    "print(multi(40,50,60))\n",
    "print(multi(50,60))\n",
    "print(multi(60))\n",
    "print(multi())"
   ]
  },
  {
   "cell_type": "code",
   "execution_count": 13,
   "metadata": {},
   "outputs": [
    {
     "name": "stdout",
     "output_type": "stream",
     "text": [
      "Addition Values\n",
      "30\n",
      "Multiplication Values\n",
      "200\n",
      "Subtraction\n",
      "205\n"
     ]
    }
   ],
   "source": [
    "print(\"Addition Values\")\n",
    "add = lambda : 10 + 20 #30\n",
    "print(add())\n",
    " \n",
    "print(\"Multiplication Values\")\n",
    "multi = lambda : 10 * 20 #200\n",
    "print(multi())\n",
    " \n",
    "print(\"Subtraction\")\n",
    "sub = lambda : 225 - 20#205\n",
    "print(sub())"
   ]
  },
  {
   "cell_type": "code",
   "execution_count": 21,
   "metadata": {},
   "outputs": [
    {
     "name": "stdout",
     "output_type": "stream",
     "text": [
      "[1, 2, 3, 4, 5, 6, 7, 8, 9, 10, 11, 12, 13, 14, 15]\n",
      "[2, 4, 6, 8, 10, 12, 14]\n"
     ]
    }
   ],
   "source": [
    "#fitering the elements using the lambda function\n",
    "number = [1, 2, 3, 4, 5, 6, 7, 8, 9, 10, 11, 12, 13, 14, 15]\n",
    "print(number)\n",
    "new_num = list(filter(lambda x:x%2 == 0 , number))\n",
    "print(new_num)"
   ]
  },
  {
   "cell_type": "code",
   "execution_count": 23,
   "metadata": {},
   "outputs": [
    {
     "name": "stdout",
     "output_type": "stream",
     "text": [
      "[1, 2, 3, 4, 5, 6, 7, 8, 9, 10, 11, 12, 13, 14, 15]\n",
      "oddnumbers :  [2, 4, 6, 8, 10, 12, 14]\n",
      "evennumbers :  [1, 3, 5, 7, 9, 11, 13, 15]\n",
      "numbers divisible by 3 :  [3, 6, 9, 12, 15]\n"
     ]
    }
   ],
   "source": [
    "#fitering the elements using the lambda function dd and even numbers\n",
    "number = [1, 2, 3, 4, 5, 6, 7, 8, 9, 10, 11, 12, 13, 14, 15]\n",
    "print(number)\n",
    "new_num = list(filter(lambda x:x%2 == 0 , number))\n",
    "print(\"oddnumbers : \",new_num)\n",
    "new_num = list(filter(lambda x:x%2 != 0 , number))\n",
    "print(\"evennumbers : \",new_num)\n",
    "new_num = list(filter(lambda x:x%3 == 0 , number))\n",
    "print(\"numbers divisible by 3 : \",new_num)"
   ]
  },
  {
   "cell_type": "code",
   "execution_count": 24,
   "metadata": {},
   "outputs": [
    {
     "name": "stdout",
     "output_type": "stream",
     "text": [
      "[1, 2, 3, 4, 5, 6, 7, 8, 9, 10, 11, 12, 13, 14, 15]\n",
      "oddnumbers :  [False, True, False, True, False, True, False, True, False, True, False, True, False, True, False]\n"
     ]
    }
   ],
   "source": [
    "# gives the true false vaue to the given equation\n",
    "number = [1, 2, 3, 4, 5, 6, 7, 8, 9, 10, 11, 12, 13, 14, 15]\n",
    "print(number)\n",
    "new_num = list(map(lambda x:x%2 == 0 , number))\n",
    "print(\"oddnumbers : \",new_num)"
   ]
  },
  {
   "cell_type": "code",
   "execution_count": 27,
   "metadata": {},
   "outputs": [
    {
     "name": "stdout",
     "output_type": "stream",
     "text": [
      "[1, 2, 3, 4, 5, 6, 7, 8]\n",
      "[2, 4, 6, 8, 10, 12, 14, 16]\n",
      "[3, 6, 9, 12, 15, 18, 21, 24]\n",
      "[1, 4, 9, 16, 25, 36, 49, 64]\n"
     ]
    }
   ],
   "source": [
    "number = [1,2,3,4,5,6,7,8]\n",
    "print(number)\n",
    "double = list(map(lambda x: x*2,number))\n",
    "print(double)\n",
    "thriple = list(map(lambda x: x*3,number))\n",
    "print(thriple)\n",
    "sqauare = list(map(lambda x: x**2,number))\n",
    "print(sqauare)"
   ]
  },
  {
   "cell_type": "code",
   "execution_count": 32,
   "metadata": {},
   "outputs": [
    {
     "name": "stdout",
     "output_type": "stream",
     "text": [
      "[1, 2, 3, 4] \n",
      " [5, 6, 7, 8]\n",
      "[6, 8, 10, 12]\n",
      "[5, 12, 21, 32]\n",
      "[-4, -4, -4, -4]\n"
     ]
    }
   ],
   "source": [
    "num1 = [1,2,3,4]\n",
    "num2 = [5,6,7,8]\n",
    "print(num1,\"\\n\",num2)\n",
    "add = list(map(lambda x,y : x+y , num1,num2))\n",
    "print(add)\n",
    "multi = list(map(lambda x,y : x*y , num1,num2))\n",
    "print(multi)\n",
    "sub = list(map(lambda x,y : x-y , num1,num2))\n",
    "print(sub)"
   ]
  },
  {
   "cell_type": "code",
   "execution_count": 42,
   "metadata": {},
   "outputs": [
    {
     "name": "stdout",
     "output_type": "stream",
     "text": [
      "['apple', 'Mango Fruit', 'Banana', 'oranges', 'cherry', 'kiwi']\n",
      "['kiwi', 'apple', 'Banana', 'cherry', 'oranges', 'Mango Fruit']\n",
      "['apple', 'Banana', 'cherry', 'kiwi', 'Mango Fruit', 'oranges']\n",
      "----------------\n",
      "['apple', 'Mango Fruit', 'Banana', 'oranges', 'cherry', 'kiwi']\n",
      "['Banana', 'Mango Fruit', 'apple', 'cherry', 'kiwi', 'oranges']\n"
     ]
    }
   ],
   "source": [
    "# sorted key in lambda function\n",
    "x = ['apple', 'Mango Fruit', 'Banana', 'oranges', 'cherry','kiwi']\n",
    "print(x)\n",
    "\n",
    "y = sorted(x,key = lambda a : len(a)) # sorting based on length of each charcters in a word\n",
    "print(y)\n",
    "z = sorted(x,key = lambda a : a.casefold()) # sorting based on alphabets\n",
    "print(z)\n",
    "print(\"----------------\")\n",
    "s = ['apple', 'Mango Fruit', 'Banana', 'oranges', 'cherry','kiwi']\n",
    "print(s)\n",
    "a = sorted(s,key = lambda a: a)\n",
    "print(a)"
   ]
  },
  {
   "cell_type": "code",
   "execution_count": null,
   "metadata": {},
   "outputs": [],
   "source": []
  }
 ],
 "metadata": {
  "kernelspec": {
   "display_name": "base",
   "language": "python",
   "name": "python3"
  },
  "language_info": {
   "codemirror_mode": {
    "name": "ipython",
    "version": 3
   },
   "file_extension": ".py",
   "mimetype": "text/x-python",
   "name": "python",
   "nbconvert_exporter": "python",
   "pygments_lexer": "ipython3",
   "version": "3.9.7 (default, Sep 16 2021, 16:59:28) [MSC v.1916 64 bit (AMD64)]"
  },
  "orig_nbformat": 4,
  "vscode": {
   "interpreter": {
    "hash": "ad2bdc8ecc057115af97d19610ffacc2b4e99fae6737bb82f5d7fb13d2f2c186"
   }
  }
 },
 "nbformat": 4,
 "nbformat_minor": 2
}
