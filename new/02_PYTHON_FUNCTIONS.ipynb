{
 "cells": [
  {
   "cell_type": "markdown",
   "metadata": {},
   "source": [
    "# Functions in Python\n",
    "Python Function is a piece of code or any logic that performs the specific operation."
   ]
  },
  {
   "cell_type": "markdown",
   "metadata": {},
   "source": [
    "# Types of Functions in Python\n",
    "There are two types of functions in the Python Programming language:"
   ]
  },
  {
   "cell_type": "markdown",
   "metadata": {},
   "source": [
    "# Library Functions: \n",
    "\n",
    "Built-in functions in Python Programming Language called a Library function. We don’t have to bother about the logic inside the Library functions. In our previous articles, We used many library functions such as print(), factorial(), round() etc.\n",
    "\n",
    "# User Defined Functions: \n",
    "\n",
    "Instead of relying on built-in functions, Python programming language allows us to create our own functions called as user defined functions. For example, if we want to implement some mathematical calculations, then put them in separate functions with the correct function name. Then we can call that function multiple times."
   ]
  },
  {
   "cell_type": "markdown",
   "metadata": {},
   "source": [
    "# Advantages of functions in Python:\n",
    "\n",
    "It helps to divide the large programs into small groups so that we can read the code, and debug the program faster and better.\n",
    "\n",
    "Python Functions stop us from writing the same logic various times. We can bind the logic in one function and then call the same over and over.\n",
    "\n",
    "It encourages us to call the same function with different inputs over multiple times."
   ]
  },
  {
   "cell_type": "markdown",
   "metadata": {},
   "source": [
    "# Python Functions Syntax"
   ]
  },
  {
   "cell_type": "code",
   "execution_count": null,
   "metadata": {},
   "outputs": [],
   "source": [
    "def Function_Name (Parameters):\n",
    "        Local Variable Declaration\n",
    "        Programming Logic\n",
    "        Executable Statement 1\n",
    "        ……\n",
    "        return"
   ]
  },
  {
   "cell_type": "markdown",
   "metadata": {},
   "source": [
    "def: Keyword def is the introduction to the function definition. Remember, the def keyword must immediately follow by Function_Name.\n",
    "\n",
    "Function_Name: It can be any name you wish to give other than the system reserved keywords.\n",
    "\n",
    "Parameters: Every python function accepts 0 or more parameters. It completely depends upon the user requirements.\n",
    "\n",
    "Local Variable Declaration: Sometimes, we may need some temporary variable only for that particular function, then we can declare them inside the function. It is not compulsory, entirely depends upon user requirements. Remember, these variables are available to this particular function only, and we can’t access them outside the function.\n",
    "\n",
    "Logic: Any mathematical or any code or calculations you need to implement in this particular function.\n",
    "\n",
    "Executable Statement: Any print statements to print some data from this particular function.\n",
    "\n",
    "return: This keyword is required to return something from the function. For example, returning the sum of two integers, etc."
   ]
  },
  {
   "cell_type": "markdown",
   "metadata": {},
   "source": [
    "# User Defined Functions in Python implementation"
   ]
  },
  {
   "cell_type": "code",
   "execution_count": null,
   "metadata": {},
   "outputs": [],
   "source": [
    "# EXAMPLE - 1: Function Definition"
   ]
  },
  {
   "cell_type": "code",
   "execution_count": 1,
   "metadata": {},
   "outputs": [
    {
     "name": "stdout",
     "output_type": "stream",
     "text": [
      "After Calling the Function: 7\n"
     ]
    }
   ],
   "source": [
    "def Adding(a, b):\n",
    "    Sum = a + b\n",
    "    return Sum\n",
    "print(\"After Calling the Function:\", Adding(3, 4))"
   ]
  },
  {
   "cell_type": "code",
   "execution_count": null,
   "metadata": {},
   "outputs": [],
   "source": [
    "NOTE: Please don’t forget the return keyword, otherwise the program not return anything."
   ]
  },
  {
   "cell_type": "markdown",
   "metadata": {},
   "source": [
    "# Python Function to find Sum and Average of 3 Numbers"
   ]
  },
  {
   "cell_type": "code",
   "execution_count": 1,
   "metadata": {},
   "outputs": [
    {
     "name": "stdout",
     "output_type": "stream",
     "text": [
      "\n",
      " 60 is the Total Sum of three Numbers.\n",
      "\n",
      " 20 is the Average of three Numbers.\n",
      "\n",
      "\n",
      " 60 is the Total Sum of three Numbers.\n",
      "\n",
      " 20 is the Average of three Numbers.\n",
      "\n"
     ]
    }
   ],
   "source": [
    "# Functions Example\n",
    "def sumAndAverage(x, y, z):\n",
    "    Sum = x + y + z\n",
    "    Average = Sum/3\n",
    "    print(\"\\n %d is the Total Sum of three Numbers.\" %Sum)\n",
    "    print(\"\\n %d is the Average of three Numbers.\\n\" %Average)\n",
    "    \n",
    "# Allows User to enter three values\n",
    "a = int(input(\"\\nPlease Enter the First Value. a =  \"))\n",
    "b = int(input(\"\\nPlease Enter the Second Value. b =  \"))\n",
    "c = int(input(\"\\nPlease Enter the Third Value. c =  \"))\n",
    "\n",
    "# Calling the Function\n",
    "sumAndAverage(a, b, c)\n",
    "sumAndAverage(10, 20, 30)"
   ]
  },
  {
   "cell_type": "code",
   "execution_count": 3,
   "metadata": {},
   "outputs": [
    {
     "name": "stdout",
     "output_type": "stream",
     "text": [
      "\n",
      " 360 is the Total Sum of three Numbers.\n",
      "\n",
      " 120 is the Average of three Numbers.\n",
      "\n"
     ]
    }
   ],
   "source": [
    "sumAndAverage(110, 120, 130)"
   ]
  },
  {
   "cell_type": "code",
   "execution_count": null,
   "metadata": {},
   "outputs": [],
   "source": []
  }
 ],
 "metadata": {
  "kernelspec": {
   "display_name": "base",
   "language": "python",
   "name": "python3"
  },
  "language_info": {
   "codemirror_mode": {
    "name": "ipython",
    "version": 3
   },
   "file_extension": ".py",
   "mimetype": "text/x-python",
   "name": "python",
   "nbconvert_exporter": "python",
   "pygments_lexer": "ipython3",
   "version": "3.9.7"
  },
  "vscode": {
   "interpreter": {
    "hash": "ad2bdc8ecc057115af97d19610ffacc2b4e99fae6737bb82f5d7fb13d2f2c186"
   }
  }
 },
 "nbformat": 4,
 "nbformat_minor": 2
}
