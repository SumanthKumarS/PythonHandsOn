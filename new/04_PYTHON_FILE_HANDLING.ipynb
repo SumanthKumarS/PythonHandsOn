{
 "cells": [
  {
   "cell_type": "markdown",
   "metadata": {},
   "source": [
    "# Python File\n",
    "Like any other programming language, Python does support File handing. Python provides various functions that allow us to create a file, open file, read the data, and write data to a file.\n",
    "\n",
    "Unlike other languages, Python handles files differently. Python treats Files as text or binary based on the data, and each line has to terminate with an End Of Line characters like newline, comma, etc."
   ]
  },
  {
   "cell_type": "markdown",
   "metadata": {},
   "source": [
    "Python provides an important function called \"open\" to work with files. The Python File open function accepts two parameters, and they are file_name and mode."
   ]
  },
  {
   "cell_type": "markdown",
   "metadata": {},
   "source": [
    "# The syntax of this Python file open function is:\n",
    "\n",
    "f_open = open(“File_Name”, “mode”)"
   ]
  },
  {
   "cell_type": "markdown",
   "metadata": {},
   "source": [
    "The Python mode is an optional argument. There are four different modes in Python for opening a file."
   ]
  },
  {
   "cell_type": "markdown",
   "metadata": {},
   "source": [
    "r – It means, Read Mode, and this is the default mode of Python file open. It opens an existing file for reading if there is no file, then it throws an error.\n",
    "\n",
    "r+ – This is for both reading and writing mode.\n",
    "\n",
    "a – Means Append. If the file exists, then this opens that file and appends the data to the existing content. If there is no file, then it creates a new file with the name we specified.\n",
    "\n",
    "w – Means Write mode. It opens a Python file in write mode and overrides the existing content with new content. It creates a new file if the file doesn’t exist.\n",
    "\n",
    "x – Use this to create a new file. It throws an error if the file exists.\n",
    "\n",
    "Apart from these modes, you can also specify the type of data that the file has to handle. \n",
    "It means binary data or text mode\n",
    "\n",
    "t – Text Mode, and this is the default mode.\n",
    "b – Binary mode."
   ]
  },
  {
   "cell_type": "markdown",
   "metadata": {},
   "source": [
    "EXAMPLE: f_open = open(\"PythonSample.txt\")"
   ]
  },
  {
   "cell_type": "markdown",
   "metadata": {},
   "source": [
    "The above code is equal to f_open = open(“PythonSample.txt”, “rt”)"
   ]
  },
  {
   "cell_type": "markdown",
   "metadata": {},
   "source": [
    "# Python File Operations"
   ]
  },
  {
   "cell_type": "markdown",
   "metadata": {},
   "source": [
    "The following list of examples helps to Create a New File in Python, Open, Rename it, Delete. Next, write text to a File, File close, append, write, read options that are available in Python.\n",
    "\n",
    "To demonstrate most of these Python file functions, we used the following text file:"
   ]
  },
  {
   "cell_type": "code",
   "execution_count": null,
   "metadata": {},
   "outputs": [],
   "source": [
    "TYPE THE BELOW CODE IN PYTHON IDLE BY CREATING A NEW FILE WITH .PY EXTENSION AND RUN THE MODULE (OR) PRESS F5\n",
    "WHICH OPENS THE IDLE EDITOR:"
   ]
  },
  {
   "cell_type": "code",
   "execution_count": null,
   "metadata": {},
   "outputs": [],
   "source": [
    "import os\n",
    "\n",
    "print(os.getcwd())\n",
    "print(' ')\n",
    "print(os.listdir())"
   ]
  },
  {
   "cell_type": "code",
   "execution_count": null,
   "metadata": {},
   "outputs": [],
   "source": [
    "IN THE PYTHON IDLE EDITOR: TYPE THE FOLLOWING:"
   ]
  },
  {
   "cell_type": "markdown",
   "metadata": {},
   "source": [
    "# Python read file\n",
    "The Python read file function is to read the data inside a file. It is a simple File example, which opens a sample text file in the read mode. Next, we used the read function to read data inside that text file."
   ]
  },
  {
   "cell_type": "code",
   "execution_count": null,
   "metadata": {},
   "outputs": [],
   "source": [
    "f_open = open(\"C:/01_CU_PYTHON_FILES/PYTHON_DEMO.txt\")\n",
    "print(f_open.read())"
   ]
  },
  {
   "cell_type": "markdown",
   "metadata": {},
   "source": [
    "While working with string data, you can use the read function with a parameter to restrict the number of characters returned by the read function. For example, read(5) reads the first five characters or read(10) read the first 10 characters."
   ]
  },
  {
   "cell_type": "code",
   "execution_count": null,
   "metadata": {},
   "outputs": [],
   "source": [
    "f_open = open(\"C:/01_CU_PYTHON_FILES/PYTHON_DEMO.txt\", \"r\")\n",
    "print(f_open.read(5))\n",
    "print(f_open.read(2))"
   ]
  },
  {
   "cell_type": "markdown",
   "metadata": {},
   "source": [
    "# Python Read file using For Loop"
   ]
  },
  {
   "cell_type": "code",
   "execution_count": null,
   "metadata": {},
   "outputs": [],
   "source": [
    "f_open = open(\"C:/01_CU_PYTHON_FILES/PYTHON_DEMO.txt\", \"r\")\n",
    "for char in f_open:\n",
    "    print(char)"
   ]
  },
  {
   "cell_type": "markdown",
   "metadata": {},
   "source": [
    "# Python readline function\n",
    "The Python readline function reads the complete line before the end of line character. This example opens a file and reads the first line from it."
   ]
  },
  {
   "cell_type": "markdown",
   "metadata": {},
   "source": [
    "If you want to read two lines, then call the readline function twice and so on. Let me print three lines."
   ]
  },
  {
   "cell_type": "code",
   "execution_count": null,
   "metadata": {},
   "outputs": [],
   "source": [
    "f_open = open(\"C:/01_CU_PYTHON_FILES/PYTHON_DEMO.txt\", \"r\")\n",
    "print(f_open.readline())\n",
    "print(f_open.readline())\n",
    "print(f_open.readline())"
   ]
  },
  {
   "cell_type": "markdown",
   "metadata": {},
   "source": [
    "# Python file close function"
   ]
  },
  {
   "cell_type": "markdown",
   "metadata": {},
   "source": [
    "As the name suggests, Python file close function closes an already opened file. Although Python has a Garbage Collector to close the files, you should not rely entirely on this. It is always a good practice to close the open file.\n",
    "\n",
    "Here, we opened a file, read a single line, and then closed that file."
   ]
  },
  {
   "cell_type": "code",
   "execution_count": null,
   "metadata": {},
   "outputs": [],
   "source": [
    "f_open = open(\"C:/01_CU_PYTHON_FILES/PYTHON_DEMO.txt\", \"r\")\n",
    "print(f_open.readline())\n",
    "f_open.close()"
   ]
  },
  {
   "cell_type": "code",
   "execution_count": null,
   "metadata": {},
   "outputs": [],
   "source": [
    "Let me print another line from that closed file. \n",
    "\n",
    "f_open = open(\"C:/01_CU_PYTHON_FILES/PYTHON_DEMO.txt\", \"r\")\n",
    "print(f_open.readline())\n",
    "\n",
    "f_open.close()\n",
    "print(f_open.readline())"
   ]
  },
  {
   "cell_type": "markdown",
   "metadata": {},
   "source": [
    "You can notice the error thrown by Python shell. I am sure you can read and understand the message.\n",
    "\n",
    "The above program show the use of the close method. However, it is not advisable to use the way that we showed above. In real-time, you have to use with statement to close the opened files properly. Or, some people say, we can go with try finally block. We show you both."
   ]
  },
  {
   "cell_type": "markdown",
   "metadata": {},
   "source": [
    "You can notice the error thrown by Python shell. I am sure you can read and understand the message.\n",
    "\n",
    "The above program show the use of the close method. However, it is not advisable to use the way that we showed above. In real-time, you have to use with statement to close the opened files properly. Or, some people say, we can go with try finally block. We show you both."
   ]
  },
  {
   "cell_type": "code",
   "execution_count": null,
   "metadata": {},
   "outputs": [],
   "source": [
    "try:\n",
    "    f_open = open(\"C:/01_CU_PYTHON_FILES/PYTHON_DEMO.txt\", \"r\")\n",
    "    print(f_open.read())\n",
    "finally:\n",
    "    f_open.close()"
   ]
  },
  {
   "cell_type": "markdown",
   "metadata": {},
   "source": [
    "# Python with Statement\n",
    "The Python with statement makes sure that every file opened by this closed irrespective of the errors. Here, we used with statement "
   ]
  },
  {
   "cell_type": "code",
   "execution_count": null,
   "metadata": {},
   "outputs": [],
   "source": [
    "with open(\"C:/01_CU_PYTHON_FILES/PYTHON_DEMO.txt\", \"r\") as f_open:\n",
    "    print(f_open.read())\n",
    "f_open.close()"
   ]
  },
  {
   "cell_type": "markdown",
   "metadata": {},
   "source": [
    "Python with statement is not about closing the file. You can use this with statement to open a file in any mode. I mean, you can use this to read data, write data so on. Most importantly, we use this in the case of file manipulations, where we have to execute multiple statements. This statement holds them in a block so that we can write multiple statements in that block."
   ]
  },
  {
   "cell_type": "code",
   "execution_count": null,
   "metadata": {},
   "outputs": [],
   "source": [
    "# this will replace the existing content of File:\n",
    "with open(\"C:/01_CU_PYTHON_FILES/PYTHON_DEMO.txt\", \"w\") as f_open:\n",
    "    f_open.write(\"Hi Hulk\")\n",
    "    f_open.close()"
   ]
  },
  {
   "cell_type": "code",
   "execution_count": null,
   "metadata": {},
   "outputs": [],
   "source": [
    "# if you read the file, it will have only the latest line written by you:\n",
    "with open(\"C:/01_CU_PYTHON_FILES/PYTHON_DEMO.txt\", \"r\") as f_open:\n",
    "    print(f_open.read())\n",
    "f_open.close()"
   ]
  },
  {
   "cell_type": "markdown",
   "metadata": {},
   "source": [
    "This time, we write multiple lines of code using the write function."
   ]
  },
  {
   "cell_type": "code",
   "execution_count": null,
   "metadata": {},
   "outputs": [],
   "source": [
    "f_writedemo = open(\"demo1.txt\", \"w\")\n",
    "f_writedemo. write(\"Python\")\n",
    "f_writedemo. write(\"\\nPrograms are so easy to learn\")\n",
    "f_writedemo. write(\"\\nHappy Coding!\")\n",
    "f_writedemo. write(\"\\nHi \\nHello \\nCheers\")\n",
    "f_writedemo.close()\n",
    " \n",
    "# Let me open the file and check\n",
    "f_writedemo = open(\"demo1.txt\", \"r\")\n",
    "print(f_writedemo.read())"
   ]
  },
  {
   "cell_type": "markdown",
   "metadata": {},
   "source": [
    "We have been working on this file from the beginning, and you know the data. However, this write function erased everything and returned this Welcome message.\n",
    "\n",
    "Python provides writelines function to write data to files. This function accepts a list as an argument so, you can write a list of items at one go. I mean, without using multiple write functions."
   ]
  },
  {
   "cell_type": "code",
   "execution_count": null,
   "metadata": {},
   "outputs": [],
   "source": [
    "f_writelinesdemo = open(\"PythonSample.txt\", \"w\")\n",
    "text = [\"First Line\\n\", \"Second Line\\n\", \"Third Line\\n\", \"Fourth Line\"]\n",
    "f_writelinesdemo. writelines(text)\n",
    "f_writelinesdemo.close()\n",
    " \n",
    "# Let me open the file and check\n",
    "f_writelinesdemo = open(\"PythonSample.txt\", \"r\")\n",
    "print(f_writelinesdemo.read())"
   ]
  },
  {
   "cell_type": "markdown",
   "metadata": {},
   "source": [
    "# Python File append"
   ]
  },
  {
   "cell_type": "code",
   "execution_count": null,
   "metadata": {},
   "outputs": [],
   "source": [
    "We are opening a file in append mode, and check what happens after writing a hello message"
   ]
  },
  {
   "cell_type": "code",
   "execution_count": null,
   "metadata": {},
   "outputs": [],
   "source": [
    "f_demo = open(\"PythonSample.txt\", \"a\")\n",
    "f_demo. write(\"\\nHell World!\")\n",
    "f_demo.close()\n",
    " \n",
    "# Let me open the file and check\n",
    "f_demo = open(\"PythonSample.txt\", \"r\")\n",
    "print(f_demo.read())"
   ]
  },
  {
   "cell_type": "markdown",
   "metadata": {},
   "source": [
    "# Write to a File using Loop\n",
    "You can also use the for loop to write multiple lines of information. Here, we are sampling writing 10 lines in a Sample10 text file."
   ]
  },
  {
   "cell_type": "code",
   "execution_count": null,
   "metadata": {},
   "outputs": [],
   "source": [
    "f_loopdemo = open(\"Sample10.txt\", \"w\")\n",
    "for i in range(1, 11):\n",
    "    f_loopdemo.write(\"This is the %d Line\\n\" %(i))\n",
    "f_loopdemo.close()\n",
    " \n",
    "# Let me open the file and check\n",
    "f_loopdemo = open(\"Sample10.txt\", \"r\")\n",
    "print(f_loopdemo.read())"
   ]
  },
  {
   "cell_type": "markdown",
   "metadata": {},
   "source": [
    "# Create a New File in Python"
   ]
  },
  {
   "cell_type": "markdown",
   "metadata": {},
   "source": [
    "Until now, we are working with the existing files. However, you can create your own file using the read method. For this, you have to use either x for creating a new file, a mode, or w mode. All these three modes create a new file, but the last two modes are different."
   ]
  },
  {
   "cell_type": "code",
   "execution_count": null,
   "metadata": {},
   "outputs": [],
   "source": [
    "f_create = open(\"NewFile.txt\", \"x\")"
   ]
  },
  {
   "cell_type": "code",
   "execution_count": null,
   "metadata": {},
   "outputs": [],
   "source": [
    "f_create = open(\"Sample1.txt\", \"x\")\n",
    "f_create.write(\"Python Program\")\n",
    "f_create.close()\n",
    " \n",
    "# Open the Sample1 file\n",
    "f_create = open(\"Sample1.txt\", \"r\")\n",
    "print(f_create.read())"
   ]
  },
  {
   "cell_type": "code",
   "execution_count": null,
   "metadata": {},
   "outputs": [],
   "source": [
    "# Rename a File in Python"
   ]
  },
  {
   "cell_type": "markdown",
   "metadata": {},
   "source": [
    "To rename a file within a directory, you have to import the os module. Within the os module, we have a rename function that helps us to rename existing files in a directory.\n",
    "\n",
    "Let me use this Python file rename function to rename Sample2.txt file to NewSample.txt. Next, we opened that renamed file to see the data inside that file."
   ]
  },
  {
   "cell_type": "code",
   "execution_count": null,
   "metadata": {},
   "outputs": [],
   "source": [
    "import os\n",
    "os.rename(\"Sample2.txt\", \"NewSample.txt\")\n",
    " \n",
    "f_sample = open(\"NewSample.txt\", \"r\")\n",
    "print(f_sample.read())"
   ]
  },
  {
   "cell_type": "markdown",
   "metadata": {},
   "source": [
    "# Delete a File in Python\n",
    "\n",
    "To delete a Python file from a directory, you have to import the os module. Within the os module, we have a remove function that helps us to remove files from a directory.\n",
    "\n",
    "Let me use this Python file remove function to delete the Sample3.txt file that we created before."
   ]
  },
  {
   "cell_type": "code",
   "execution_count": null,
   "metadata": {},
   "outputs": [],
   "source": [
    "import os\n",
    "os.remove(\"Sample3.txt\")"
   ]
  },
  {
   "cell_type": "markdown",
   "metadata": {},
   "source": [
    "It works like a charm; however if you try to delete a file that doesn’t exist with throw an error. Let me remove the Sample3.txt that we deleted before.\n",
    "\n",
    "As you can see from the above, it is throwing an error: FileNotFoundError:[Errno 2] No such file or directory: ‘Sample3.txt’.\n",
    "\n",
    "To avoid this situation, it is advisable to check whether the file exists or not."
   ]
  },
  {
   "cell_type": "code",
   "execution_count": null,
   "metadata": {},
   "outputs": [],
   "source": [
    "import os\n",
    "if os.path.exists(\"Sample3.txt\"):\n",
    "    os.remove(\"Sample3.txt\")\n",
    "else:\n",
    "    print(\"Hey! No such file exists\")"
   ]
  },
  {
   "cell_type": "markdown",
   "metadata": {},
   "source": [
    "# Python File Attributes"
   ]
  },
  {
   "cell_type": "code",
   "execution_count": null,
   "metadata": {},
   "outputs": [],
   "source": [
    "Python provides the following file attributes to get the information about the file that you are working with.\n",
    "\n",
    "file.name: It returns the name of the file.\n",
    "file.mode: On what mode you opened this file. For example, r mode, w mode, etc\n",
    "File.closed: returns True if the given file closed otherwise, False. "
   ]
  },
  {
   "cell_type": "code",
   "execution_count": null,
   "metadata": {},
   "outputs": [],
   "source": [
    "f_open = open(\"PythonSample.txt\", \"r\")\n",
    "print(f_open.read())\n",
    "\n",
    "print('\\nFile Name = ', f_open.name)\n",
    "print('File Mode = ', f_open.mode)\n",
    "print('File closed? = ', f_open.closed)\n",
    "\n",
    "f_open.close()\n",
    "print('\\nFile closed? = ', f_open.closed)"
   ]
  },
  {
   "cell_type": "code",
   "execution_count": null,
   "metadata": {},
   "outputs": [],
   "source": []
  }
 ],
 "metadata": {
  "kernelspec": {
   "display_name": "base",
   "language": "python",
   "name": "python3"
  },
  "language_info": {
   "codemirror_mode": {
    "name": "ipython",
    "version": 3
   },
   "file_extension": ".py",
   "mimetype": "text/x-python",
   "name": "python",
   "nbconvert_exporter": "python",
   "pygments_lexer": "ipython3",
   "version": "3.9.7 (default, Sep 16 2021, 16:59:28) [MSC v.1916 64 bit (AMD64)]"
  },
  "vscode": {
   "interpreter": {
    "hash": "ad2bdc8ecc057115af97d19610ffacc2b4e99fae6737bb82f5d7fb13d2f2c186"
   }
  }
 },
 "nbformat": 4,
 "nbformat_minor": 2
}
