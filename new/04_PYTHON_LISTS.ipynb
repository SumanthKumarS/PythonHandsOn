{
 "cells": [
  {
   "cell_type": "markdown",
   "metadata": {},
   "source": [
    "# PYTHON LISTS"
   ]
  },
  {
   "cell_type": "markdown",
   "metadata": {},
   "source": [
    "The Python List is one of the most useful sequences in real-time. A Python list is a sequence of multiple values in an ordered sequence. Unlike Strings, Python List allows us to store different types of data such as integer, float, string, etc."
   ]
  },
  {
   "cell_type": "markdown",
   "metadata": {},
   "source": [
    "# Declare Python Lists\n",
    "There are several ways to create a List in Python. The most straightforward way is to place the required elects within a square bracket [ ]"
   ]
  },
  {
   "cell_type": "markdown",
   "metadata": {},
   "source": [
    "A list that contains no values or elements is an empty list. By placing an empty square bracket create an empty list."
   ]
  },
  {
   "cell_type": "markdown",
   "metadata": {},
   "source": [
    "# EXAMPLE - LIST"
   ]
  },
  {
   "cell_type": "markdown",
   "metadata": {},
   "source": [
    "The first statement is an integer list of five integer values. The second statement is a string list that contains three String values or three words."
   ]
  },
  {
   "cell_type": "markdown",
   "metadata": {},
   "source": [
    "Python lists allow placing different data types in a single list. The following one is an example of a mixed list, which contains one integer, float, and two integer values."
   ]
  },
  {
   "cell_type": "code",
   "execution_count": null,
   "metadata": {},
   "outputs": [],
   "source": [
    "Integer_List = [1, 2, 3, 4, 5]\n",
    "\n",
    "String_List = ['apple', 'Orange', 'Grape', 'Mango']\n",
    "\n",
    "Mixed_List = ['apple', 2, 3.50, 'Mango'] "
   ]
  },
  {
   "cell_type": "markdown",
   "metadata": {},
   "source": [
    "# How to access Python List items?"
   ]
  },
  {
   "cell_type": "markdown",
   "metadata": {},
   "source": [
    "Lists sequentially store data (ordered list). So, we can access the list elements with the help of indexes. Moreover, using indexes, we can access or alter/change each item present in the Lists separately. The syntax to access List items is List_Name([Index_Number])"
   ]
  },
  {
   "cell_type": "markdown",
   "metadata": {},
   "source": [
    "Index value starts at 0 and ends at n-1, where n is the list size. For example, if a list stores 5 elements, the index starts at 0 and ends with 4. To access or alter the first list value, use list_name[0], and to access the fifth list item, use list_name[4]. Let’s see the list example for better understanding:"
   ]
  },
  {
   "cell_type": "code",
   "execution_count": 1,
   "metadata": {},
   "outputs": [
    {
     "name": "stdout",
     "output_type": "stream",
     "text": [
      "1\n",
      "5\n",
      "9\n",
      "=======\n",
      "\n",
      "8\n",
      "6\n",
      "2\n"
     ]
    }
   ],
   "source": [
    "x = [1, 2, 3, 4, 5, 6, 7, 8, 9]\n",
    "\n",
    "# Positive Indexing\n",
    "print(x[0])\n",
    "print(x[4])\n",
    "print(x[8])\n",
    "print('=======\\n')\n",
    "\n",
    "# Negative Indexing\n",
    "print(x[-2])\n",
    "print(x[-4])\n",
    "print(x[-8])"
   ]
  },
  {
   "cell_type": "markdown",
   "metadata": {},
   "source": [
    "# TIP: Using the Negative values as the list index, the Python start looking for items from right to left."
   ]
  },
  {
   "cell_type": "markdown",
   "metadata": {},
   "source": [
    "Usage of Negative numbers as the list index to access list items from right to left. It means access list items in reverse order."
   ]
  },
  {
   "cell_type": "code",
   "execution_count": 2,
   "metadata": {},
   "outputs": [
    {
     "name": "stdout",
     "output_type": "stream",
     "text": [
      "List Item at Index Position 0 =  apple\n",
      "List Item at Index Position 2 =  banana\n",
      "List Item at Index Position 4 =  cherry\n",
      "List Item at Index Position 3 =  orange\n",
      "=======\n",
      "\n",
      "List Item at Index Position -1 =  kiwi\n",
      "List Item at Index Position -3 =  orange\n",
      "List Item at Index Position -5 =  Mango\n",
      "List Item at Index Position -6 =  apple\n"
     ]
    }
   ],
   "source": [
    "# How to Access List Items\n",
    "x = ['apple', 'Mango', 'banana', 'orange', 'cherry','kiwi']\n",
    "\n",
    "# List Items using Positive Index\n",
    "print(\"List Item at Index Position 0 = \", x[0])\n",
    "print(\"List Item at Index Position 2 = \", x[2])\n",
    "print(\"List Item at Index Position 4 = \", x[4])\n",
    "print(\"List Item at Index Position 3 = \", x[3])\n",
    "print('=======\\n')\n",
    "\n",
    "# List Items using Negative Index\n",
    "print(\"List Item at Index Position -1 = \", x[-1])\n",
    "print(\"List Item at Index Position -3 = \", x[-3])\n",
    "print(\"List Item at Index Position -5 = \", x[-5])\n",
    "print(\"List Item at Index Position -6 = \", x[-6])"
   ]
  },
  {
   "cell_type": "markdown",
   "metadata": {},
   "source": [
    "# Alter Python List Items\n",
    "Since Lists are mutable, apart from accessing items, use this index positions to alter or replace the list items."
   ]
  },
  {
   "cell_type": "code",
   "execution_count": 4,
   "metadata": {},
   "outputs": [
    {
     "name": "stdout",
     "output_type": "stream",
     "text": [
      "[10, 20, 30, 40, 50, 60]\n"
     ]
    }
   ],
   "source": [
    "num = [10,20,30,40,50,60]\n",
    "print(num)"
   ]
  },
  {
   "cell_type": "code",
   "execution_count": 6,
   "metadata": {},
   "outputs": [
    {
     "name": "stdout",
     "output_type": "stream",
     "text": [
      "[10, 77, 30, 40, 50, 60]\n"
     ]
    }
   ],
   "source": [
    "num[1] = 77\n",
    "print(num)"
   ]
  },
  {
   "cell_type": "code",
   "execution_count": 7,
   "metadata": {},
   "outputs": [
    {
     "name": "stdout",
     "output_type": "stream",
     "text": [
      "[10, 77, 30, 40, 257, 60]\n"
     ]
    }
   ],
   "source": [
    "num[4] = 257\n",
    "print(num)"
   ]
  },
  {
   "cell_type": "code",
   "execution_count": 8,
   "metadata": {},
   "outputs": [
    {
     "name": "stdout",
     "output_type": "stream",
     "text": [
      "['C', 'C++', 'JAVA', 'OOPS']\n"
     ]
    }
   ],
   "source": [
    "tech = ['C', 'C++', 'JAVA','OOPS']\n",
    "print(tech)"
   ]
  },
  {
   "cell_type": "code",
   "execution_count": 11,
   "metadata": {},
   "outputs": [
    {
     "name": "stdout",
     "output_type": "stream",
     "text": [
      "['PYTHON', 'C++', 'INFORMATICA', 'OOPS']\n"
     ]
    }
   ],
   "source": [
    "tech[2] = 'INFORMATICA'\n",
    "tech[0] = 'PYTHON'\n",
    "print(tech)"
   ]
  },
  {
   "cell_type": "markdown",
   "metadata": {},
   "source": [
    "# Iterate Python List items\n",
    "A For Loop is the most common way to traverse the list items. The following code helps to iterate the list and print the items inside the list."
   ]
  },
  {
   "cell_type": "code",
   "execution_count": 12,
   "metadata": {},
   "outputs": [
    {
     "name": "stdout",
     "output_type": "stream",
     "text": [
      "Apple\n",
      "Orange\n",
      "Grape\n",
      "Banana\n"
     ]
    }
   ],
   "source": [
    "Fruits = ['Apple', 'Orange', 'Grape', 'Banana']\n",
    "for Fruit in Fruits:\n",
    "    print(Fruit)"
   ]
  },
  {
   "cell_type": "code",
   "execution_count": 13,
   "metadata": {},
   "outputs": [
    {
     "name": "stdout",
     "output_type": "stream",
     "text": [
      "apple\n",
      "Mango\n",
      "banana\n",
      "orange\n",
      "cherry\n",
      "kiwi\n",
      "List Item at Index Position 0  =  apple\n",
      "List Item at Index Position 1  =  Mango\n",
      "List Item at Index Position 2  =  banana\n",
      "List Item at Index Position 3  =  orange\n",
      "List Item at Index Position 4  =  cherry\n",
      "List Item at Index Position 5  =  kiwi\n"
     ]
    }
   ],
   "source": [
    "# Iterate List Items\n",
    "\n",
    "Fruits = ['apple', 'Mango', 'banana', 'orange', 'cherry','kiwi']\n",
    "\n",
    "# Iterate List Items\n",
    "for fruit in Fruits:\n",
    "    print(fruit)\n",
    "\n",
    "# Iterate List Items using Index \n",
    "for i in range(len(Fruits)):\n",
    "    print(\"List Item at Index Position\", i, \" = \", Fruits[i])"
   ]
  },
  {
   "cell_type": "markdown",
   "metadata": {},
   "source": [
    "# Insert items into List"
   ]
  },
  {
   "cell_type": "markdown",
   "metadata": {},
   "source": [
    "The following are the list of available options to insert new items into the existing list in Python\n",
    "\n",
    "Append(x): This method adds item x at the end of the list.\n",
    "Insert(i, x): it inserts the specified item x at index position i.\n",
    "Extend(New_List): This method adds all the items in New_List at the end of the list."
   ]
  },
  {
   "cell_type": "code",
   "execution_count": 14,
   "metadata": {},
   "outputs": [
    {
     "name": "stdout",
     "output_type": "stream",
     "text": [
      "['Apple', 'Orange', 'Grape', 'Banana', 'Blackberry']\n",
      "['Apple', 'Orange', 'Kiwi', 'Grape', 'Banana', 'Blackberry']\n",
      "['Apple', 'Orange', 'Kiwi', 'Grape', 'Banana', 'Blackberry', 'berry', 'Cherry']\n"
     ]
    }
   ],
   "source": [
    "Fruits = ['Apple', 'Orange', 'Grape', 'Banana']\n",
    "\n",
    "# Adding items using Python append\n",
    "Fruits.append('Blackberry')\n",
    "print(Fruits)\n",
    "\n",
    "# inserting items using Python insert\n",
    "Fruits.insert(2, 'Kiwi')\n",
    "print(Fruits)\n",
    "\n",
    "# Extending List using Python extend\n",
    "Fruit_new = ['berry','Cherry']\n",
    "Fruits.extend(Fruit_new) \n",
    "print(Fruits)"
   ]
  },
  {
   "cell_type": "markdown",
   "metadata": {},
   "source": [
    "# Python List Slicing\n",
    "In python Slice, the first integer value is the index position where the slicing start and the second integer value is the index position where the slicing end.\n",
    "\n",
    "TIP: List Slicing in Python go untill the second integer value but not include the value at this end index position. For instance, if we specify a list[1:4], then list slicing start at index position one and end at 3 (not 4)."
   ]
  },
  {
   "cell_type": "code",
   "execution_count": 15,
   "metadata": {},
   "outputs": [
    {
     "name": "stdout",
     "output_type": "stream",
     "text": [
      "Both Indexes =  [3, 4, 5, 6]\n",
      "No First Index =  [1, 2, 3, 4, 5, 6]\n",
      "No Second Index =  [3, 4, 5, 6, 7, 8, 9]\n",
      "No Indexes =  [1, 2, 3, 4, 5, 6, 7, 8, 9]\n"
     ]
    }
   ],
   "source": [
    "# List slicing\n",
    "\n",
    "x = [1, 2, 3, 4, 5, 6, 7, 8, 9]\n",
    "\n",
    "# Slicing List using two indexes\n",
    "a = x[2:6] \n",
    "print(\"Both Indexes = \", a)\n",
    "\n",
    "# Slicing List using First indexes\n",
    "b = x[:6] \n",
    "print(\"No First Index = \", b)\n",
    "\n",
    "# Slicing List using Second indexes\n",
    "c = x[2:] \n",
    "print(\"No Second Index = \", c)\n",
    "\n",
    "# Slicing List without using two indexes\n",
    "d = x[:] \n",
    "print(\"No Indexes = \", d)"
   ]
  },
  {
   "cell_type": "markdown",
   "metadata": {},
   "source": [
    "# Remove Python List items\n",
    "# List remove method\n",
    "If we know the List item or the value inside the List, then use the python remove method to remove the list item."
   ]
  },
  {
   "cell_type": "code",
   "execution_count": 16,
   "metadata": {},
   "outputs": [
    {
     "name": "stdout",
     "output_type": "stream",
     "text": [
      "['Apple', 'Orange', 'Banana']\n",
      "========\n",
      "['Apple', 'Grape', 'Banana', 'Orange']\n",
      "========\n"
     ]
    },
    {
     "ename": "ValueError",
     "evalue": "list.remove(x): x not in list",
     "output_type": "error",
     "traceback": [
      "\u001b[1;31m---------------------------------------------------------------------------\u001b[0m",
      "\u001b[1;31mValueError\u001b[0m                                Traceback (most recent call last)",
      "\u001b[1;32m<ipython-input-16-ab6e1fd823f0>\u001b[0m in \u001b[0;36m<module>\u001b[1;34m\u001b[0m\n\u001b[0;32m     13\u001b[0m \u001b[1;31m# Removing Non Existing Grape Item from Fruits1 List\u001b[0m\u001b[1;33m\u001b[0m\u001b[1;33m\u001b[0m\u001b[1;33m\u001b[0m\u001b[0m\n\u001b[0;32m     14\u001b[0m \u001b[0mFruit3\u001b[0m \u001b[1;33m=\u001b[0m \u001b[1;33m[\u001b[0m\u001b[1;34m'Apple'\u001b[0m\u001b[1;33m,\u001b[0m \u001b[1;34m'Orange'\u001b[0m\u001b[1;33m,\u001b[0m \u001b[1;34m'Banana'\u001b[0m\u001b[1;33m]\u001b[0m\u001b[1;33m\u001b[0m\u001b[1;33m\u001b[0m\u001b[0m\n\u001b[1;32m---> 15\u001b[1;33m \u001b[0mFruit3\u001b[0m\u001b[1;33m.\u001b[0m\u001b[0mremove\u001b[0m\u001b[1;33m(\u001b[0m\u001b[1;34m'Grape'\u001b[0m\u001b[1;33m)\u001b[0m\u001b[1;33m\u001b[0m\u001b[1;33m\u001b[0m\u001b[0m\n\u001b[0m\u001b[0;32m     16\u001b[0m \u001b[0mprint\u001b[0m\u001b[1;33m(\u001b[0m\u001b[0mFruit3\u001b[0m\u001b[1;33m)\u001b[0m\u001b[1;33m\u001b[0m\u001b[1;33m\u001b[0m\u001b[0m\n",
      "\u001b[1;31mValueError\u001b[0m: list.remove(x): x not in list"
     ]
    }
   ],
   "source": [
    "# Removing Grape Item from Fruit List\n",
    "Fruit1 = ['Apple', 'Orange', 'Grape', 'Banana']\n",
    "Fruit1.remove('Grape')\n",
    "print(Fruit1)\n",
    "print('========')\n",
    "\n",
    "# Removing Orange Item from Fruits List\n",
    "Fruit2 = ['Apple', 'Orange', 'Grape', 'Banana', 'Orange']\n",
    "Fruit2.remove('Orange')\n",
    "print(Fruit2)\n",
    "print('========')\n",
    "\n",
    "# Removing Non Existing Grape Item from Fruits1 List\n",
    "Fruit3 = ['Apple', 'Orange', 'Banana']\n",
    "Fruit3.remove('Grape')\n",
    "print(Fruit3)"
   ]
  },
  {
   "cell_type": "markdown",
   "metadata": {},
   "source": [
    "# Python List del statement\n",
    "\n",
    "# The Delete function removes the list value at a specified index. After deleting, remaining values moved up to fill the index gap.\n",
    "\n",
    "If we know the Index value or want to delete a range of items from the given list, then use del statement to remove the list item."
   ]
  },
  {
   "cell_type": "code",
   "execution_count": 17,
   "metadata": {},
   "outputs": [
    {
     "name": "stdout",
     "output_type": "stream",
     "text": [
      "['Apple', 'Grape', 'Banana']\n",
      "========\n",
      "['Apple', 'Banana']\n",
      "========\n",
      "['Apple']\n",
      "========\n"
     ]
    },
    {
     "ename": "IndexError",
     "evalue": "list assignment index out of range",
     "output_type": "error",
     "traceback": [
      "\u001b[1;31m---------------------------------------------------------------------------\u001b[0m",
      "\u001b[1;31mIndexError\u001b[0m                                Traceback (most recent call last)",
      "\u001b[1;32m<ipython-input-17-f1aeae046d83>\u001b[0m in \u001b[0;36m<module>\u001b[1;34m\u001b[0m\n\u001b[0;32m     13\u001b[0m \u001b[0mprint\u001b[0m\u001b[1;33m(\u001b[0m\u001b[1;34m'========'\u001b[0m\u001b[1;33m)\u001b[0m\u001b[1;33m\u001b[0m\u001b[1;33m\u001b[0m\u001b[0m\n\u001b[0;32m     14\u001b[0m \u001b[1;33m\u001b[0m\u001b[0m\n\u001b[1;32m---> 15\u001b[1;33m \u001b[1;32mdel\u001b[0m \u001b[0mFruits\u001b[0m\u001b[1;33m[\u001b[0m\u001b[1;36m1\u001b[0m\u001b[1;33m]\u001b[0m\u001b[1;33m\u001b[0m\u001b[1;33m\u001b[0m\u001b[0m\n\u001b[0m\u001b[0;32m     16\u001b[0m \u001b[0mprint\u001b[0m\u001b[1;33m(\u001b[0m\u001b[0mFruits\u001b[0m\u001b[1;33m)\u001b[0m\u001b[1;33m\u001b[0m\u001b[1;33m\u001b[0m\u001b[0m\n",
      "\u001b[1;31mIndexError\u001b[0m: list assignment index out of range"
     ]
    }
   ],
   "source": [
    "# List Delete example\n",
    "Fruits = ['Apple', 'Orange', 'Grape', 'Banana']\n",
    "del Fruits[1]\n",
    "print(Fruits)\n",
    "print('========')\n",
    "\n",
    "del Fruits[1]\n",
    "print(Fruits)\n",
    "print('========')\n",
    "\n",
    "del Fruits[1]\n",
    "print(Fruits)\n",
    "print('========')\n",
    "\n",
    "del Fruits[1]\n",
    "print(Fruits)"
   ]
  },
  {
   "cell_type": "markdown",
   "metadata": {},
   "source": [
    "# Removing Python List items using pop method\n",
    "\n",
    "# The pop method removes the list items at the specified index and displays the removed element. After removing, remaining values move up to fill the index gap.\n",
    "\n",
    "If we know the Index value and want to see the deleted value then, we can use python pop to remove the list item."
   ]
  },
  {
   "cell_type": "code",
   "execution_count": 18,
   "metadata": {},
   "outputs": [
    {
     "name": "stdout",
     "output_type": "stream",
     "text": [
      "['Apple', 'Grape', 'Banana']\n",
      "Item extracted by Python Pop =  Orange\n",
      "========\n",
      "['Apple', 'Banana']\n",
      "Item extracted by Python Pop =  Grape\n",
      "========\n",
      "['Apple']\n",
      "Item extracted by Python Pop =  Banana\n",
      "========\n"
     ]
    }
   ],
   "source": [
    "# List Pop Method example\n",
    "Fruits = ['Apple', 'Orange', 'Grape', 'Banana']\n",
    "\n",
    "Fruit = Fruits.pop(1)\n",
    "print(Fruits)\n",
    "print('Item extracted by Python Pop = ', Fruit)\n",
    "print('========')\n",
    "\n",
    "Fruit = Fruits.pop(1)\n",
    "print(Fruits)\n",
    "print('Item extracted by Python Pop = ', Fruit)\n",
    "print('========')\n",
    "\n",
    "Fruit = Fruits.pop(1)\n",
    "print(Fruits)\n",
    "print('Item extracted by Python Pop = ', Fruit)\n",
    "print('========')"
   ]
  },
  {
   "cell_type": "markdown",
   "metadata": {},
   "source": [
    "# Python List Methods"
   ]
  },
  {
   "cell_type": "markdown",
   "metadata": {},
   "source": [
    "# Python list copy\n",
    "List Copy method shallow copy the list items into a completely new list."
   ]
  },
  {
   "cell_type": "code",
   "execution_count": 19,
   "metadata": {},
   "outputs": [
    {
     "name": "stdout",
     "output_type": "stream",
     "text": [
      "Original List :  ['Apple', 'Orange', 'Banana', 'Kiwi', 'Grape', 'Blackberry']\n",
      "Original number List :  [9, 4, -5, 0, 22, -1, 2, 14]\n",
      "\n",
      "New List :  ['Apple', 'Orange', 'Banana', 'Kiwi', 'Grape', 'Blackberry']\n",
      "New Number List :  [9, 4, -5, 0, 22, -1, 2, 14]\n"
     ]
    }
   ],
   "source": [
    "# Python List copy\n",
    "\n",
    "Fruits = ['Apple', 'Orange', 'Banana', 'Kiwi', 'Grape', 'Blackberry']\n",
    "numbers = [9, 4, -5, 0, 22, -1, 2, 14]\n",
    "\n",
    "print(\"Original List : \", Fruits)\n",
    "print(\"Original number List : \", numbers)\n",
    "\n",
    "#Copying the List using Python Copy() Method\n",
    "New_Fruits = Fruits.copy()\n",
    "print(\"\\nNew List : \", New_Fruits)\n",
    "\n",
    "new_numbers = numbers.copy()\n",
    "print(\"New Number List : \", new_numbers)"
   ]
  },
  {
   "cell_type": "markdown",
   "metadata": {},
   "source": [
    "# Python list clear\n",
    "List clear method clears all the existing list items. After executing this clear method, it returns an empty list"
   ]
  },
  {
   "cell_type": "code",
   "execution_count": 20,
   "metadata": {},
   "outputs": [
    {
     "name": "stdout",
     "output_type": "stream",
     "text": [
      "Original List :  ['Apple', 'Orange', 'Banana', 'Kiwi', 'Grape', 'Blackberry']\n",
      "Original number List :  [9, 4, -5, 0, 22, -1, 2, 14]\n",
      "\n",
      "New List :  None\n",
      "New Number List :  None\n"
     ]
    }
   ],
   "source": [
    "# Python List clear\n",
    "\n",
    "Fruits = ['Apple', 'Orange', 'Banana', 'Kiwi', 'Grape', 'Blackberry']\n",
    "numbers = [9, 4, -5, 0, 22, -1, 2, 14]\n",
    "\n",
    "print(\"Original List : \", Fruits)\n",
    "print(\"Original number List : \", numbers)\n",
    "\n",
    "#Clear the List using Python Clear() Method\n",
    "New_Fruits = Fruits.clear()\n",
    "print(\"\\nNew List : \", New_Fruits)\n",
    "\n",
    "new_numbers = numbers.clear()\n",
    "print(\"New Number List : \", new_numbers)"
   ]
  },
  {
   "cell_type": "markdown",
   "metadata": {},
   "source": [
    "# Python list sort\n",
    "List sort method sorts the list items in the Ascending order."
   ]
  },
  {
   "cell_type": "code",
   "execution_count": 21,
   "metadata": {},
   "outputs": [
    {
     "name": "stdout",
     "output_type": "stream",
     "text": [
      "Original List :  ['Apple', 'Orange', 'Banana', 'Kiwi', 'Grape', 'Blackberry']\n",
      "Original number List :  [9, 4, -5, 0, 22, -1, 2, 14]\n",
      "\n",
      "Sorted List :  ['Apple', 'Banana', 'Blackberry', 'Grape', 'Kiwi', 'Orange']\n",
      "New Sorted Number List :  [-5, -1, 0, 2, 4, 9, 14, 22]\n"
     ]
    }
   ],
   "source": [
    "# Python List sort\n",
    "\n",
    "Fruits = ['Apple', 'Orange', 'Banana', 'Kiwi', 'Grape', 'Blackberry']\n",
    "numbers = [9, 4, -5, 0, 22, -1, 2, 14]\n",
    "\n",
    "print(\"Original List : \", Fruits)\n",
    "print(\"Original number List : \", numbers)\n",
    "\n",
    "#Sort the List using Python sort() Method\n",
    "Fruits.sort()\n",
    "print(\"\\nSorted List : \", Fruits)\n",
    "\n",
    "numbers.sort()\n",
    "print(\"New Sorted Number List : \", numbers)"
   ]
  },
  {
   "cell_type": "markdown",
   "metadata": {},
   "source": [
    "# Python list reverse\n",
    "The list reverse method reverses the items in a list."
   ]
  },
  {
   "cell_type": "code",
   "execution_count": null,
   "metadata": {},
   "outputs": [],
   "source": [
    "# Python List reverse\n",
    "\n",
    "Fruits = ['Apple', 'Orange', 'Banana', 'Kiwi', 'Grape', 'Blackberry']\n",
    "numbers = [9, 4, -5, 0, 22, -1, 2, 14]\n",
    "\n",
    "print(\"Original List : \", Fruits)\n",
    "print(\"Original number List : \", numbers)\n",
    "\n",
    "#Reverse the List using Python reverse() Method\n",
    "Fruits.reverse()\n",
    "print(\"\\nReverse List : \", Fruits)\n",
    "\n",
    "numbers.reverse()\n",
    "print(\"New Reverse Number List : \", numbers)"
   ]
  },
  {
   "cell_type": "markdown",
   "metadata": {},
   "source": [
    "# list index\n",
    "Python List index function returns the index position of a user-specified value in a list."
   ]
  },
  {
   "cell_type": "code",
   "execution_count": 22,
   "metadata": {},
   "outputs": [
    {
     "name": "stdout",
     "output_type": "stream",
     "text": [
      "Original List :  ['Apple', 'Orange', 'Banana', 'Kiwi', 'Grape', 'Blackberry']\n",
      "Original number List :  [9, 4, -5, 0, 22, -1, 2, 14]\n",
      "The Index position of Kiwi =  3\n",
      "The Index position of Orange =  1\n",
      "The Index position of Grape =  4\n",
      "The Index position of 0 =  3\n",
      "The Index position of 2 =  6\n",
      "The Index position of -1 =  5\n"
     ]
    }
   ],
   "source": [
    "# Python List index\n",
    "\n",
    "Fruits = ['Apple', 'Orange', 'Banana', 'Kiwi', 'Grape', 'Blackberry']\n",
    "numbers = [9, 4, -5, 0, 22, -1, 2, 14]\n",
    "\n",
    "print(\"Original List : \", Fruits)\n",
    "print(\"Original number List : \", numbers)\n",
    "\n",
    "#Index of List items using Python index() Method\n",
    "print('The Index position of Kiwi = ', Fruits.index('Kiwi'))\n",
    "print('The Index position of Orange = ', Fruits.index('Orange'))\n",
    "print('The Index position of Grape = ', Fruits.index('Grape'))\n",
    "\n",
    "print('The Index position of 0 = ', numbers.index(0))\n",
    "print('The Index position of 2 = ', numbers.index(2))\n",
    "print('The Index position of -1 = ', numbers.index(-1))"
   ]
  },
  {
   "cell_type": "markdown",
   "metadata": {},
   "source": [
    "# Python list count\n",
    "The List count function counts the total number of times a specified value repeated inside the list."
   ]
  },
  {
   "cell_type": "code",
   "execution_count": 23,
   "metadata": {},
   "outputs": [
    {
     "name": "stdout",
     "output_type": "stream",
     "text": [
      "Original List :  ['Apple', 'Orange', 'Banana', 'Kiwi', 'Apple', 'Kiwi']\n",
      "Number of Times Kiwi is repeated =  2\n",
      "Number of Times Apple is repeated =  2\n",
      "Number of Times Banana is repeated  1\n",
      "\n",
      "Original number List :  [9, 4, -5, 0, 9, -1, 4, 9]\n",
      "Number of Times 9 is repeated =  3\n",
      "Number of Times 4 is repeated =  2\n"
     ]
    }
   ],
   "source": [
    "# Python List count\n",
    "\n",
    "Fruits = ['Apple', 'Orange', 'Banana', 'Kiwi', 'Apple', 'Kiwi']\n",
    "numbers = [9, 4, -5, 0, 9, -1, 4, 9]\n",
    "\n",
    "print(\"Original List : \", Fruits)\n",
    "\n",
    "#Count of List items using Python count() Method\n",
    "print('Number of Times Kiwi is repeated = ', Fruits.count('Kiwi'))\n",
    "print('Number of Times Apple is repeated = ', Fruits.count('Apple'))\n",
    "print('Number of Times Banana is repeated ', Fruits.count('Banana'))\n",
    "\n",
    "print(\"\\nOriginal number List : \", numbers)\n",
    "print('Number of Times 9 is repeated = ', numbers.count(9))\n",
    "print('Number of Times 4 is repeated = ', numbers.count(4))"
   ]
  },
  {
   "cell_type": "markdown",
   "metadata": {},
   "source": [
    "# In this Python Lists program, we are applying all the list methods"
   ]
  },
  {
   "cell_type": "code",
   "execution_count": 24,
   "metadata": {},
   "outputs": [
    {
     "name": "stdout",
     "output_type": "stream",
     "text": [
      "['Apple', 'Orange', 'Banana', 'Kiwi', 'Grape', 'Blackberry']\n",
      "[]\n",
      "['Apple', 'Banana', 'Blackberry', 'Grape', 'Kiwi', 'Orange']\n",
      "[-5, -1, 0, 2, 4, 9, 14, 22]\n",
      "['Orange', 'Kiwi', 'Grape', 'Blackberry', 'Banana', 'Apple']\n",
      "[22, 14, 9, 4, 2, 0, -1, -5]\n",
      "The Index position of Banana =  4\n",
      "The Index position of -1 =  6\n",
      "Number of Times 4 is repeated =  3\n",
      "Number of Times 9 is repeated =  2\n"
     ]
    }
   ],
   "source": [
    "Fruits = ['Apple', 'Orange', 'Banana', 'Kiwi', 'Grape', 'Blackberry']\n",
    "x = [9, 4, -5, 0, 22, -1, 2, 14]\n",
    "\n",
    "#Copying the List using Python Copy() Method\n",
    "New_Fruits = Fruits.copy()\n",
    "print(New_Fruits)\n",
    "\n",
    "#Removing all the List items using Python Clear() Method\n",
    "New_Fruits.clear()\n",
    "print(New_Fruits)\n",
    "\n",
    "# Sorting the List using Python Sort() Method\n",
    "Fruits.sort()\n",
    "x.sort()\n",
    "print(Fruits)\n",
    "print(x)\n",
    "\n",
    "# Reverse the List using Python reverse() Method\n",
    "Fruits.reverse()\n",
    "x.reverse()\n",
    "print(Fruits)\n",
    "print(x)\n",
    "\n",
    "# Index position of an item in the List using Python index() Method\n",
    "print('The Index position of Banana = ', Fruits.index('Banana'))\n",
    "print('The Index position of -1 = ', x.index(-1))\n",
    "\n",
    "# Counting items in the List using Python count() Method\n",
    "y = [9, 4, 1, 4, 9, -1, 2, 4]\n",
    "print('Number of Times 4 is repeated = ', y.count(4))\n",
    "print('Number of Times 9 is repeated = ', y.count(9))"
   ]
  },
  {
   "cell_type": "markdown",
   "metadata": {},
   "source": [
    "# List sum\n",
    "The List sum function in Python is to find the sum of all items available in a given lists"
   ]
  },
  {
   "cell_type": "code",
   "execution_count": 25,
   "metadata": {},
   "outputs": [
    {
     "name": "stdout",
     "output_type": "stream",
     "text": [
      "List Items :  [5, 10, 15, 20, 25]\n",
      "\n",
      "The sum of total items in this list =  75\n"
     ]
    }
   ],
   "source": [
    "# Python List sum\n",
    "\n",
    "int_list = [5, 10, 15, 20, 25]\n",
    "print(\"List Items : \", int_list)\n",
    "# sum of list elements\n",
    "total = sum(int_list)\n",
    "\n",
    "print(\"\\nThe sum of total items in this list = \", total)"
   ]
  },
  {
   "cell_type": "markdown",
   "metadata": {},
   "source": [
    "# Python List min\n",
    "The Python List min function finds the minimum value among the given list items."
   ]
  },
  {
   "cell_type": "code",
   "execution_count": 26,
   "metadata": {},
   "outputs": [
    {
     "name": "stdout",
     "output_type": "stream",
     "text": [
      "List Items :  [50, 10, 150, 20, 205, 500, 7, 25, 175]\n",
      "\n",
      "The Minimum item in this list =  7\n"
     ]
    }
   ],
   "source": [
    "# Python List min\n",
    "\n",
    "int_list = [50, 10, 150, 20, 205, 500, 7, 25, 175]\n",
    "print(\"List Items : \", int_list)\n",
    "\n",
    "# Minimum list element\n",
    "minimum = min(int_list)\n",
    "\n",
    "print(\"\\nThe Minimum item in this list = \", minimum)"
   ]
  },
  {
   "cell_type": "markdown",
   "metadata": {},
   "source": [
    "# List max\n",
    "The Python List max function finds the maximum value among the given list items"
   ]
  },
  {
   "cell_type": "code",
   "execution_count": 27,
   "metadata": {},
   "outputs": [
    {
     "name": "stdout",
     "output_type": "stream",
     "text": [
      "List Items :  [50, 10, 150, 20, 205, 500, 7, 25, 175]\n",
      "\n",
      "The Maximum item in this list =  500\n"
     ]
    }
   ],
   "source": [
    "# Python List max\n",
    "\n",
    "int_list = [50, 10, 150, 20, 205, 500, 7, 25, 175]\n",
    "print(\"List Items : \", int_list)\n",
    "\n",
    "# Maximum list element\n",
    "maximum = max(int_list)\n",
    "\n",
    "print(\"\\nThe Maximum item in this list = \", maximum)"
   ]
  },
  {
   "cell_type": "markdown",
   "metadata": {},
   "source": [
    "# Python List Arithmetic Operations Example\n",
    "In this example, we show how to use Arithmetic Operators on Python Lists to perform arithmetic operations."
   ]
  },
  {
   "cell_type": "code",
   "execution_count": 28,
   "metadata": {},
   "outputs": [
    {
     "name": "stdout",
     "output_type": "stream",
     "text": [
      "\n",
      "Addition :  [10, 20, 30, 40, 15, 25, 35, 45]\n",
      "Multiplication :  [10, 20, 30, 40, 10, 20, 30, 40]\n",
      "Multiplication of Y :  [15, 25, 35, 45, 15, 25, 35, 45, 15, 25, 35, 45]\n"
     ]
    }
   ],
   "source": [
    "# Python List count\n",
    "\n",
    "x = [10, 20, 30, 40]\n",
    "y = [15, 25, 35, 45]\n",
    "\n",
    "# using + Operator\n",
    "total = x + y\n",
    "print(\"\\nAddition : \", total)\n",
    "\n",
    "# using * Operator\n",
    "multi = x * 2\n",
    "print(\"Multiplication : \", multi)\n",
    "\n",
    "multi2 = y * 3\n",
    "print(\"Multiplication of Y : \", multi2)"
   ]
  },
  {
   "cell_type": "markdown",
   "metadata": {},
   "source": [
    "From the above O/P, see that:\n",
    "\n",
    "+ operator is concatenating the python Lists.\n",
    "* operator is repeating the list for a given number of times. Here it is three times."
   ]
  }
 ],
 "metadata": {
  "kernelspec": {
   "display_name": "base",
   "language": "python",
   "name": "python3"
  },
  "language_info": {
   "codemirror_mode": {
    "name": "ipython",
    "version": 3
   },
   "file_extension": ".py",
   "mimetype": "text/x-python",
   "name": "python",
   "nbconvert_exporter": "python",
   "pygments_lexer": "ipython3",
   "version": "3.9.7 (default, Sep 16 2021, 16:59:28) [MSC v.1916 64 bit (AMD64)]"
  },
  "vscode": {
   "interpreter": {
    "hash": "ad2bdc8ecc057115af97d19610ffacc2b4e99fae6737bb82f5d7fb13d2f2c186"
   }
  }
 },
 "nbformat": 4,
 "nbformat_minor": 2
}
