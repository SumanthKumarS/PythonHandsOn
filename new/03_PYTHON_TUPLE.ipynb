{
 "cells": [
  {
   "cell_type": "markdown",
   "metadata": {},
   "source": [
    "# Python Tuple"
   ]
  },
  {
   "cell_type": "markdown",
   "metadata": {},
   "source": [
    "The Python Tuple is almost similar to a List except that the Tuples are immutable, and Lists are mutable. It means Once we declare the Python Tuple, we cannot change the values or items inside the Tuple, something like Constant keyword in other programming languages.\n",
    "\n",
    "A Python Tuple is a sequence of multiple values in an ordered sequence. Tuples are declared using Open and Closed Parenthesis ( ). Unlike Python Strings, Tuple allows us to store different types of data such as integer, float, string, etc."
   ]
  },
  {
   "cell_type": "markdown",
   "metadata": {},
   "source": [
    "# How to Declare Python Tuple?"
   ]
  },
  {
   "cell_type": "markdown",
   "metadata": {},
   "source": [
    "Tuple_Name = () is an empty Tuple that contains no values.\n",
    "\n",
    "String_Tuple = (‘apple’, ‘Orange’, ‘Grape’, ‘Mango’) is a string tuple that contains four string values.\n",
    "\n",
    "Mixed_Tuple = (‘apple’, 2, 3.50, ‘Mango’) is a mixed tuple that contains one integer, one float, and two integer values.\n",
    "\n",
    "Nested_Tuple = (‘Python’, ‘Tutorial’, (1, 2, 3) ) is an example of tuple inside another tuple (Nested Tuple)\n",
    "\n",
    "List_Tuple = (‘Python’, ‘Tutorial’, [1, 2, 3] ) is an example of List inside a tuple"
   ]
  },
  {
   "cell_type": "markdown",
   "metadata": {},
   "source": [
    "TIP: To declare a Tuple with one item, we have to specify a comma after the item. For instance: Tuple_Name = (245,). Forgot to add a comma, then it is an integer type (Not a Tuple)."
   ]
  },
  {
   "cell_type": "markdown",
   "metadata": {},
   "source": [
    "# Accessing Python Tuple items"
   ]
  },
  {
   "cell_type": "markdown",
   "metadata": {},
   "source": [
    "We can access the Tuple items using indexes. Using the index, we can access each item present in the Tuples separately. Index value starts at 0 and ends at n-1, where n is the Tuple size.\n",
    "\n",
    "For instance, if a Tuple store 5 elements, then the index starts at 0 and ends with 4. To access the first value, use Tuple_name[0] and to access the fifth value, use Tuple_name[4]. Let us see the Tuple example for better understanding:"
   ]
  },
  {
   "cell_type": "code",
   "execution_count": 1,
   "metadata": {},
   "outputs": [
    {
     "name": "stdout",
     "output_type": "stream",
     "text": [
      "1\n",
      "5\n",
      "9\n",
      "=======\n",
      "\n",
      "8\n",
      "6\n",
      "2\n",
      "=======\n",
      "\n",
      "1\n",
      "4\n",
      "P\n",
      "o\n"
     ]
    }
   ],
   "source": [
    "x = (1, 2, 3, 4, 5, 6, 7, 8, 9)\n",
    "\n",
    "# Positive Indexing\n",
    "print(x[0])\n",
    "print(x[4])\n",
    "print(x[8])\n",
    "print('=======\\n')\n",
    "\n",
    "# Negative Indexing\n",
    "print(x[-2])\n",
    "print(x[-4])\n",
    "print(x[-8])\n",
    "print('=======\\n')\n",
    "\n",
    "# Accessing Nested Tuple Items\n",
    "Mixed_Tuple = ((1, 2, 3), [4, 5, 6], 'Python')\n",
    "print(Mixed_Tuple[0][0])\n",
    "print(Mixed_Tuple[1][0])\n",
    "print(Mixed_Tuple[2][0])\n",
    "print(Mixed_Tuple[2][4])"
   ]
  },
  {
   "cell_type": "markdown",
   "metadata": {},
   "source": [
    "# Iterating Python Tuple"
   ]
  },
  {
   "cell_type": "markdown",
   "metadata": {},
   "source": [
    "The For Loop is the most popular way to traverse the Tuple items. The following statement helps to iterate the Tuple and print the items inside the Fruits tuple."
   ]
  },
  {
   "cell_type": "code",
   "execution_count": 2,
   "metadata": {},
   "outputs": [
    {
     "name": "stdout",
     "output_type": "stream",
     "text": [
      "Apple\n",
      "Orange\n",
      "Grape\n",
      "Banana\n",
      "Strawberry\n",
      "Cherry\n",
      "Kiwi\n"
     ]
    }
   ],
   "source": [
    "Fruits = ('Apple', 'Orange', 'Grape', 'Banana', 'Strawberry','Cherry', 'Kiwi')\n",
    "for Fruit in Fruits:\n",
    "    print(Fruit)"
   ]
  },
  {
   "cell_type": "markdown",
   "metadata": {},
   "source": [
    "# Performing Arithmetic Operations on Python Tuple"
   ]
  },
  {
   "cell_type": "code",
   "execution_count": 3,
   "metadata": {},
   "outputs": [
    {
     "name": "stdout",
     "output_type": "stream",
     "text": [
      "(1, 2, 3, 4, 5, 6)\n",
      "(1, 2, 3, 1, 2, 3, 1, 2, 3)\n"
     ]
    }
   ],
   "source": [
    "X = (1, 2, 3)\n",
    "Y = (4, 5, 6)\n",
    "Sum = X + Y\n",
    "print(Sum)\n",
    "\n",
    "# Using * Operator\n",
    "Z = X * 3\n",
    "print(Z)"
   ]
  },
  {
   "cell_type": "markdown",
   "metadata": {},
   "source": [
    "+ operator is concatenating the Tuple\n",
    "* operator is repeating the Tuple for a given number of times. Here it is three times"
   ]
  },
  {
   "cell_type": "markdown",
   "metadata": {},
   "source": [
    "# Python Tuple slice"
   ]
  },
  {
   "cell_type": "markdown",
   "metadata": {},
   "source": [
    "n python Tuple Slice syntax, the first integer value is the index position where the slicing starts, and the second one is the index position where the slicing end."
   ]
  },
  {
   "cell_type": "code",
   "execution_count": 4,
   "metadata": {},
   "outputs": [
    {
     "name": "stdout",
     "output_type": "stream",
     "text": [
      "Both Indexes =  (3, 4, 5, 6)\n",
      "No First Index =  (1, 2, 3, 4, 5, 6)\n",
      "No Second Index =  (3, 4, 5, 6, 7, 8, 9)\n",
      "No Indexes =  (1, 2, 3, 4, 5, 6, 7, 8, 9)\n",
      "Negative First Index =  (7, 8, 9)\n",
      "Negative Second Index =  (1, 2, 3, 4, 5, 6, 7)\n"
     ]
    }
   ],
   "source": [
    "x = (1, 2, 3, 4, 5, 6, 7, 8, 9)\n",
    "\n",
    "# Slicing the Tuple using two indexes\n",
    "a = x[2:6] \n",
    "print(\"Both Indexes = \", a)\n",
    "\n",
    "# Slicing the Tuple using First indexes\n",
    "b = x[:6] \n",
    "print(\"No First Index = \", b)\n",
    "\n",
    "# Slicing the Tuple using Second indexes\n",
    "c = x[2:] \n",
    "print(\"No Second Index = \", c)\n",
    "\n",
    "# Slicing the Tuple without using two indexes\n",
    "d = x[:] \n",
    "print(\"No Indexes = \", d)\n",
    "\n",
    "# Slicing the Tuple using Negative indexes\n",
    "e = x[-3:] \n",
    "print(\"Negative First Index = \", e)\n",
    "\n",
    "# Slicing the Tuple using Negative indexes\n",
    "f = x[:-2] \n",
    "print(\"Negative Second Index = \", f)"
   ]
  },
  {
   "cell_type": "markdown",
   "metadata": {},
   "source": [
    "From the above O/P,\n",
    "\n",
    "If no first index, then Slicing starts from the beginning\n",
    "If the second index not provided, Slicing starts from the first index and continue to the last\n",
    "Using the Negative numbers as the index, Slicing starts from right to left."
   ]
  },
  {
   "cell_type": "markdown",
   "metadata": {},
   "source": [
    "# Altering Python Tuple items - Python won’t allow altering the items inside the Tuple. Let see what happens when we do that?"
   ]
  },
  {
   "cell_type": "code",
   "execution_count": 5,
   "metadata": {},
   "outputs": [
    {
     "ename": "TypeError",
     "evalue": "'tuple' object does not support item assignment",
     "output_type": "error",
     "traceback": [
      "\u001b[1;31m---------------------------------------------------------------------------\u001b[0m",
      "\u001b[1;31mTypeError\u001b[0m                                 Traceback (most recent call last)",
      "\u001b[1;32m<ipython-input-5-a4c95ef02c7d>\u001b[0m in \u001b[0;36m<module>\u001b[1;34m\u001b[0m\n\u001b[0;32m      1\u001b[0m \u001b[0mx\u001b[0m \u001b[1;33m=\u001b[0m \u001b[1;33m(\u001b[0m\u001b[1;36m1\u001b[0m\u001b[1;33m,\u001b[0m\u001b[1;36m2\u001b[0m\u001b[1;33m,\u001b[0m\u001b[1;36m3\u001b[0m\u001b[1;33m,\u001b[0m\u001b[1;36m4\u001b[0m\u001b[1;33m,\u001b[0m\u001b[1;36m5\u001b[0m\u001b[1;33m,\u001b[0m\u001b[1;36m6\u001b[0m\u001b[1;33m,\u001b[0m\u001b[1;36m7\u001b[0m\u001b[1;33m,\u001b[0m\u001b[1;36m8\u001b[0m\u001b[1;33m,\u001b[0m\u001b[1;36m9\u001b[0m\u001b[1;33m)\u001b[0m\u001b[1;33m\u001b[0m\u001b[1;33m\u001b[0m\u001b[0m\n\u001b[1;32m----> 2\u001b[1;33m \u001b[0mx\u001b[0m\u001b[1;33m[\u001b[0m\u001b[1;36m2\u001b[0m\u001b[1;33m]\u001b[0m \u001b[1;33m=\u001b[0m \u001b[1;36m5\u001b[0m\u001b[1;33m\u001b[0m\u001b[1;33m\u001b[0m\u001b[0m\n\u001b[0m",
      "\u001b[1;31mTypeError\u001b[0m: 'tuple' object does not support item assignment"
     ]
    }
   ],
   "source": [
    "x = (1,2,3,4,5,6,7,8,9)\n",
    "x[2] = 5"
   ]
  },
  {
   "cell_type": "code",
   "execution_count": 8,
   "metadata": {},
   "outputs": [
    {
     "ename": "TypeError",
     "evalue": "'tuple' object does not support item assignment",
     "output_type": "error",
     "traceback": [
      "\u001b[1;31m---------------------------------------------------------------------------\u001b[0m",
      "\u001b[1;31mTypeError\u001b[0m                                 Traceback (most recent call last)",
      "\u001b[1;32m<ipython-input-8-49613b12d33f>\u001b[0m in \u001b[0;36m<module>\u001b[1;34m\u001b[0m\n\u001b[0;32m      1\u001b[0m \u001b[0my\u001b[0m \u001b[1;33m=\u001b[0m \u001b[1;33m(\u001b[0m\u001b[1;33m(\u001b[0m\u001b[1;36m1\u001b[0m\u001b[1;33m,\u001b[0m\u001b[1;36m2\u001b[0m\u001b[1;33m,\u001b[0m\u001b[1;36m3\u001b[0m\u001b[1;33m)\u001b[0m\u001b[1;33m,\u001b[0m\u001b[1;33m[\u001b[0m\u001b[1;36m4\u001b[0m\u001b[1;33m,\u001b[0m\u001b[1;36m5\u001b[0m\u001b[1;33m,\u001b[0m\u001b[1;36m7\u001b[0m\u001b[1;33m]\u001b[0m\u001b[1;33m,\u001b[0m\u001b[1;34m'Python'\u001b[0m\u001b[1;33m)\u001b[0m\u001b[1;33m\u001b[0m\u001b[1;33m\u001b[0m\u001b[0m\n\u001b[1;32m----> 2\u001b[1;33m \u001b[0my\u001b[0m\u001b[1;33m[\u001b[0m\u001b[1;36m0\u001b[0m\u001b[1;33m]\u001b[0m\u001b[1;33m[\u001b[0m\u001b[1;36m1\u001b[0m\u001b[1;33m]\u001b[0m \u001b[1;33m=\u001b[0m \u001b[1;36m14\u001b[0m\u001b[1;33m\u001b[0m\u001b[1;33m\u001b[0m\u001b[0m\n\u001b[0m",
      "\u001b[1;31mTypeError\u001b[0m: 'tuple' object does not support item assignment"
     ]
    }
   ],
   "source": [
    "y = ((1,2,3),[4,5,7],'Python')\n",
    "y[0][1] = 14"
   ]
  },
  {
   "cell_type": "code",
   "execution_count": 9,
   "metadata": {},
   "outputs": [
    {
     "data": {
      "text/plain": [
       "((1, 2, 3), [4, 14, 7], 'Python')"
      ]
     },
     "execution_count": 9,
     "metadata": {},
     "output_type": "execute_result"
    }
   ],
   "source": [
    "y[1][1] = 14\n",
    "y"
   ]
  },
  {
   "cell_type": "markdown",
   "metadata": {},
   "source": [
    "From the above O/P:\n",
    "1] Within the First statement, We assigned a new value at index position two. Since Tuple is immutable, the output is throwing a Type Error.\n",
    "2] Within the Second statement, We assigned a new value to the Tuple inside the Tuple at index position one. Although it is a Nested tuple, the output is throwing a Type Error because Tuple is immutable.\n",
    "3] Within the Third statement, We assigned a new value at position [1][1], and that is List inside the Tuple. Since List is mutable, we successfully changed the value from 5 to 14."
   ]
  },
  {
   "cell_type": "markdown",
   "metadata": {},
   "source": [
    "# Python Tuple Methods"
   ]
  },
  {
   "cell_type": "markdown",
   "metadata": {},
   "source": [
    "# Tuple sum\n",
    "The tuple sum function calculates the sum of all items inside the given Tuple."
   ]
  },
  {
   "cell_type": "code",
   "execution_count": 10,
   "metadata": {},
   "outputs": [
    {
     "name": "stdout",
     "output_type": "stream",
     "text": [
      "Tuple :  (10, 20, 30, 40, 50, 60, 70, 80, 90)\n",
      "The Sum of Integer Tuple is :  450\n",
      "\n",
      "Numbers Tuple :  (9, -5, 7, 0, 24, -1, 2, 10)\n",
      "The Sum of a Numbers Tuple is :  46\n"
     ]
    }
   ],
   "source": [
    "# Python tuple sum function\n",
    "\n",
    "x = (10, 20, 30, 40, 50, 60, 70, 80, 90)\n",
    "print(\"Tuple : \", x)\n",
    "\n",
    "total = sum(x)\n",
    "print(\"The Sum of Integer Tuple is : \", total)\n",
    "\n",
    "numbers = (9, -5, 7, 0, 24, -1, 2, 10)\n",
    "print(\"\\nNumbers Tuple : \", numbers)\n",
    "print(\"The Sum of a Numbers Tuple is : \", sum(numbers))"
   ]
  },
  {
   "cell_type": "markdown",
   "metadata": {},
   "source": [
    "# Tuple min"
   ]
  },
  {
   "cell_type": "code",
   "execution_count": 11,
   "metadata": {},
   "outputs": [
    {
     "name": "stdout",
     "output_type": "stream",
     "text": [
      "Tuple :  ('Banana', 'Orange', 'Blackberry', 'Apple', 'Kiwi', 'Grape')\n",
      "The Minimum Value in Fruits Tuple is :  Apple\n",
      "\n",
      "Numbers Tuple :  (9, -5, 7, 0, 24, -1, 2, 10)\n",
      "The Minimum Value Numbers Tuple is :  -5\n"
     ]
    }
   ],
   "source": [
    "# Python tuple min function\n",
    "\n",
    "fruits = ('Banana', 'Orange', 'Blackberry', 'Apple', 'Kiwi', 'Grape')\n",
    "print(\"Tuple : \", fruits)\n",
    "\n",
    "minimum = min(fruits)\n",
    "print(\"The Minimum Value in Fruits Tuple is : \", minimum)\n",
    "\n",
    "numbers = (9, -5, 7, 0, 24, -1, 2, 10)\n",
    "print(\"\\nNumbers Tuple : \", numbers)\n",
    "print(\"The Minimum Value Numbers Tuple is : \", min(numbers))"
   ]
  },
  {
   "cell_type": "markdown",
   "metadata": {},
   "source": [
    "# Tuple max"
   ]
  },
  {
   "cell_type": "code",
   "execution_count": 12,
   "metadata": {},
   "outputs": [
    {
     "name": "stdout",
     "output_type": "stream",
     "text": [
      "Tuple :  ('Banana', 'Orange', 'Blackberry', 'Apple', 'Kiwi', 'Grape')\n",
      "The Maximum Value in Fruits Tuple is :  Orange\n",
      "\n",
      "Numbers Tuple :  (9, -5, 7, 0, 24, -1, 2, 10)\n",
      "The Maximum Value Numbers Tuple is :  24\n"
     ]
    }
   ],
   "source": [
    "# Python tuple max function\n",
    "\n",
    "fruits = ('Banana', 'Orange', 'Blackberry', 'Apple', 'Kiwi', 'Grape')\n",
    "print(\"Tuple : \", fruits)\n",
    "\n",
    "maximum = max(fruits)\n",
    "print(\"The Maximum Value in Fruits Tuple is : \", maximum)\n",
    "\n",
    "numbers = (9, -5, 7, 0, 24, -1, 2, 10)\n",
    "print(\"\\nNumbers Tuple : \", numbers)\n",
    "print(\"The Maximum Value Numbers Tuple is : \", max(numbers))"
   ]
  },
  {
   "cell_type": "markdown",
   "metadata": {},
   "source": [
    "# Tuple len\n",
    "Tuple Len method finds or calculates the Length of a Tuple (Number of items in a Tuple)"
   ]
  },
  {
   "cell_type": "code",
   "execution_count": 13,
   "metadata": {},
   "outputs": [
    {
     "name": "stdout",
     "output_type": "stream",
     "text": [
      "Tuple :  ('Apple', 'Banana', 'Orange', 'Blackberry', 'Kiwi', 'Grape')\n",
      "The length of a Fruits Tuple is :  6\n",
      "\n",
      "Numbers Tuple :  (9, -5, 7, 0, 24, -1, 2, 10)\n",
      "The length of a Numbers Tuple is :  8\n"
     ]
    }
   ],
   "source": [
    "# Python tuple len function\n",
    "\n",
    "fruits = ('Apple', 'Banana', 'Orange', 'Blackberry', 'Kiwi', 'Grape')\n",
    "print(\"Tuple : \", fruits)\n",
    "\n",
    "length = len(fruits)\n",
    "print(\"The length of a Fruits Tuple is : \", length)\n",
    "\n",
    "numbers = (9, -5, 7, 0, 24, -1, 2, 10)\n",
    "print(\"\\nNumbers Tuple : \", numbers)\n",
    "print(\"The length of a Numbers Tuple is : \", len(numbers))"
   ]
  },
  {
   "cell_type": "markdown",
   "metadata": {},
   "source": [
    "# Python Tuple sorted\n",
    "Tuple sorted method helps to sort the items in ascending order."
   ]
  },
  {
   "cell_type": "code",
   "execution_count": 14,
   "metadata": {},
   "outputs": [
    {
     "name": "stdout",
     "output_type": "stream",
     "text": [
      "Old Tuple :  ('Banana', 'Orange', 'Blackberry', 'Apple', 'Kiwi', 'Grape')\n",
      "Sorted Tuple :  ['Apple', 'Banana', 'Blackberry', 'Grape', 'Kiwi', 'Orange']\n",
      "\n",
      "Number Tuple :  (9, -5, 7, 0, 24, -1, 2, 10)\n",
      "Sorted Numbers Tuple is :  [-5, -1, 0, 2, 7, 9, 10, 24]\n"
     ]
    }
   ],
   "source": [
    "# Python tuple sorted function\n",
    "\n",
    "fruits = ('Banana', 'Orange', 'Blackberry', 'Apple', 'Kiwi', 'Grape')\n",
    "print(\"Old Tuple : \", fruits)\n",
    "\n",
    "new_fruits = sorted(fruits)\n",
    "print(\"Sorted Tuple : \", new_fruits)\n",
    "\n",
    "numbers = (9, -5, 7, 0, 24, -1, 2, 10)\n",
    "print(\"\\nNumber Tuple : \", numbers)\n",
    "\n",
    "new_numbers = sorted(numbers)\n",
    "print(\"Sorted Numbers Tuple is : \", new_numbers)"
   ]
  },
  {
   "cell_type": "markdown",
   "metadata": {},
   "source": [
    "# Tuple index\n",
    "The tuple index function returns the index position of a specified value."
   ]
  },
  {
   "cell_type": "code",
   "execution_count": 15,
   "metadata": {},
   "outputs": [
    {
     "name": "stdout",
     "output_type": "stream",
     "text": [
      "Tuple :  ('Banana', 'Orange', 'Blackberry', 'Apple', 'Kiwi', 'Grape')\n",
      "The index position of Apple :  3\n",
      "The index position of Orange :  1\n",
      "The index position of Kiwi :  4\n",
      "\n",
      "Number Tuple :  (9, -5, 7, 0, 24, -1, 2, 10)\n",
      "The index position of -1 :  5\n",
      "The index position of 0 :  3\n",
      "The index position of 10 :  7\n"
     ]
    }
   ],
   "source": [
    "# Python tuple index function\n",
    "\n",
    "fruits = ('Banana', 'Orange', 'Blackberry', 'Apple', 'Kiwi', 'Grape')\n",
    "print(\"Tuple : \", fruits)\n",
    "\n",
    "print(\"The index position of Apple : \", fruits.index('Apple'))\n",
    "print(\"The index position of Orange : \", fruits.index('Orange'))\n",
    "print(\"The index position of Kiwi : \", fruits.index('Kiwi'))\n",
    "      \n",
    "numbers = (9, -5, 7, 0, 24, -1, 2, 10)\n",
    "print(\"\\nNumber Tuple : \", numbers)\n",
    "\n",
    "print(\"The index position of -1 : \", numbers.index(-1))\n",
    "print(\"The index position of 0 : \", numbers.index(0))\n",
    "print(\"The index position of 10 : \", numbers.index(10))"
   ]
  },
  {
   "cell_type": "markdown",
   "metadata": {},
   "source": [
    "# Python Tuple count\n",
    "Tuple count function counts the total number of times the specified value repeated inside the Tuple."
   ]
  },
  {
   "cell_type": "code",
   "execution_count": 16,
   "metadata": {},
   "outputs": [
    {
     "name": "stdout",
     "output_type": "stream",
     "text": [
      "Tuple :  ('Banana', 'Kiwi', 'Grape', 'Apple', 'Kiwi', 'Grape')\n",
      "Number of Times Apple is Repeated :  1\n",
      "Number of Times Kiwi is Repeated :  2\n",
      "Number of Times Grape is Repeated :  2\n",
      "\n",
      "Number Tuple :  (2, -5, 7, 9, 2, -5, 2, 10)\n",
      "Number of Times 2 is Repeated :  3\n",
      "Number of Times -5 is Repeated :  2\n",
      "Number of Times 10 is Repeated :  1\n"
     ]
    }
   ],
   "source": [
    "# Python tuple count function\n",
    "\n",
    "fruits = ('Banana', 'Kiwi', 'Grape', 'Apple', 'Kiwi', 'Grape')\n",
    "print(\"Tuple : \", fruits)\n",
    "\n",
    "print(\"Number of Times Apple is Repeated : \", fruits.count('Apple'))\n",
    "print(\"Number of Times Kiwi is Repeated : \", fruits.count('Kiwi'))\n",
    "print(\"Number of Times Grape is Repeated : \", fruits.count('Grape'))\n",
    "      \n",
    "numbers = (2, -5, 7, 9, 2, -5, 2, 10)\n",
    "print(\"\\nNumber Tuple : \", numbers)\n",
    "\n",
    "print(\"Number of Times 2 is Repeated : \", numbers.count(2))\n",
    "print(\"Number of Times -5 is Repeated : \", numbers.count(-5))\n",
    "print(\"Number of Times 10 is Repeated : \", numbers.count(10))"
   ]
  },
  {
   "cell_type": "markdown",
   "metadata": {},
   "source": [
    "In the below program, we are applying all the Tuple methods. "
   ]
  },
  {
   "cell_type": "code",
   "execution_count": 17,
   "metadata": {},
   "outputs": [
    {
     "name": "stdout",
     "output_type": "stream",
     "text": [
      "Sum of all items in a x Tuple =  45\n",
      "Length of a Fruits Tuple =  6\n",
      "Length of a x Tuple =  8\n",
      "Minimum item in a Fruits Tuple =  Apple\n",
      "Minimum item in a x Tuple =  -5\n",
      "Maximum item in a Fruits Tuple =  Orange\n",
      "Maximum item in a x Tuple =  22\n",
      "After Sorting Fruits Tuple =  ['Apple', 'Banana', 'Blackberry', 'Grape', 'Kiwi', 'Orange']\n",
      "After Sorting x Tuple =  [-5, -1, 0, 2, 4, 9, 14, 22]\n",
      "The Index position of Banana =  2\n",
      "The Index position of -1 =  5\n",
      "Number of Times 4 is repeated =  3\n",
      "Number of Times 9 is repeated =  2\n",
      "(1, 2, 3, 4, 5)\n"
     ]
    }
   ],
   "source": [
    "Fruits = ('Apple', 'Orange', 'Banana', 'Kiwi', 'Grape', 'Blackberry')\n",
    "x = (9, 4, -5, 0, 22, -1, 2, 14)\n",
    "\n",
    "#Finding Sum of all item in a Tuple using Python Sum() Method\n",
    "print('Sum of all items in a x Tuple = ', sum(x))\n",
    "\n",
    "#Calculating Length of a Tuple using Python len() Method\n",
    "print('Length of a Fruits Tuple = ', len(Fruits))\n",
    "print('Length of a x Tuple = ', len(x))\n",
    "\n",
    "#Finding Minimum item in a Tuple using Python min() Method\n",
    "print('Minimum item in a Fruits Tuple = ', min(Fruits))\n",
    "print('Minimum item in a x Tuple = ', min(x))\n",
    "\n",
    "#Finding Maximum item in a Tuple using Python max() Method\n",
    "print('Maximum item in a Fruits Tuple = ', max(Fruits))\n",
    "print('Maximum item in a x Tuple = ', max(x))\n",
    "\n",
    "# Sorting the Tuple using Python Sorted() Method\n",
    "print('After Sorting Fruits Tuple = ', sorted(Fruits))\n",
    "print('After Sorting x Tuple = ', sorted(x))\n",
    "\n",
    "# Index position of an item in a Tuple using index() Method\n",
    "print('The Index position of Banana = ', Fruits.index('Banana'))\n",
    "print('The Index position of -1 = ', x.index(-1))\n",
    "\n",
    "# Counting items in a Tuple using Python count() Method\n",
    "y = (9, 4, 1, 4, 9, -1, 2, 4)\n",
    "print('Number of Times 4 is repeated = ', y.count(4))\n",
    "print('Number of Times 9 is repeated = ', y.count(9))\n",
    "\n",
    "# Converting List into Tuple\n",
    "z = [1, 2, 3, 4, 5]\n",
    "print(tuple(z))"
   ]
  },
  {
   "cell_type": "code",
   "execution_count": null,
   "metadata": {},
   "outputs": [],
   "source": []
  },
  {
   "cell_type": "code",
   "execution_count": null,
   "metadata": {},
   "outputs": [],
   "source": []
  }
 ],
 "metadata": {
  "kernelspec": {
   "display_name": "base",
   "language": "python",
   "name": "python3"
  },
  "language_info": {
   "codemirror_mode": {
    "name": "ipython",
    "version": 3
   },
   "file_extension": ".py",
   "mimetype": "text/x-python",
   "name": "python",
   "nbconvert_exporter": "python",
   "pygments_lexer": "ipython3",
   "version": "3.9.7 (default, Sep 16 2021, 16:59:28) [MSC v.1916 64 bit (AMD64)]"
  },
  "vscode": {
   "interpreter": {
    "hash": "ad2bdc8ecc057115af97d19610ffacc2b4e99fae6737bb82f5d7fb13d2f2c186"
   }
  }
 },
 "nbformat": 4,
 "nbformat_minor": 2
}
