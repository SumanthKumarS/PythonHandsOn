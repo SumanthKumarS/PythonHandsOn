{
 "cells": [
  {
   "cell_type": "markdown",
   "metadata": {},
   "source": [
    "# Python String\n",
    "The Python String is a sequence of characters. In this section, we discuss how to create a String in Python, Accessing String items (individual characters), iterating the strings. Also we can slicing String in Python programming language with example."
   ]
  },
  {
   "cell_type": "markdown",
   "metadata": {},
   "source": [
    "# Create a Python String"
   ]
  },
  {
   "cell_type": "code",
   "execution_count": 1,
   "metadata": {},
   "outputs": [
    {
     "name": "stdout",
     "output_type": "stream",
     "text": [
      "This is a String\n",
      "This is another String with Double Quotes\n",
      "This also Work in Python\n",
      "Learn Python Programming\n",
      "          at Tutorial Gateway\n"
     ]
    }
   ],
   "source": [
    "# Creating a String\n",
    "\n",
    "# Creating String using Single Quote\n",
    "Str1 = 'This is a String'\n",
    "print(Str1)\n",
    "\n",
    "# Creating String using Double Quote\n",
    "Str2 = \"This is another String with Double Quotes\"\n",
    "print(Str2)\n",
    "\n",
    "# Creating String using Multiple Single Quotes\n",
    "Str3 = '''This also Work in Python'''\n",
    "print(Str3)\n",
    "\n",
    "# Creating String using Triple Quotes\n",
    "# This is Very Useful to create Multiline Text\n",
    "Str4 = \"\"\"Learn Python Programming\n",
    "          at CAPGEMINI\"\"\"\n",
    "print(Str4)"
   ]
  },
  {
   "cell_type": "markdown",
   "metadata": {},
   "source": [
    "# Access Python String items"
   ]
  },
  {
   "cell_type": "markdown",
   "metadata": {},
   "source": [
    "We can access the elements in a Python String using indexes. Using an index, we can access each item present in the String separately. Index value starts at 0 and ends at n-1, where n is the String length.\n",
    "\n",
    "For example, if a string length is 5, the index starts at 0 and ends with 4. To access 1st value, use String_name[0] and to access the 5th value, then use String_name[4]. Let’s see the example to access Python string items for better understanding:"
   ]
  },
  {
   "cell_type": "code",
   "execution_count": 3,
   "metadata": {},
   "outputs": [
    {
     "name": "stdout",
     "output_type": "stream",
     "text": [
      "C\n",
      "E\n",
      "U\n",
      "=======\n",
      "\n",
      "I\n",
      "V\n",
      "G\n",
      "=======\n",
      "\n"
     ]
    }
   ],
   "source": [
    "x = 'CAPGEMINIUNIVERSITY'\n",
    "\n",
    "# Positive Indexing\n",
    "print(x[0])\n",
    "print(x[4])\n",
    "print(x[9])\n",
    "print('=======\\n')\n",
    "\n",
    "# Negative Indexing\n",
    "print(x[-3])\n",
    "print(x[-7])\n",
    "print(x[-16])\n",
    "print('=======\\n')"
   ]
  },
  {
   "cell_type": "markdown",
   "metadata": {},
   "source": [
    "# Iterate Python String\n",
    "The For Loop is the most common way to traverse the items in a Python string."
   ]
  },
  {
   "cell_type": "code",
   "execution_count": 6,
   "metadata": {},
   "outputs": [
    {
     "name": "stdout",
     "output_type": "stream",
     "text": [
      "Letters are:  D\n",
      "Letters are:  I\n",
      "Letters are:  N\n",
      "Letters are:  E\n",
      "Letters are:  S\n",
      "Letters are:  H\n",
      "Letters are:  K\n",
      "Letters are:  A\n",
      "Letters are:  R\n",
      "Letters are:  T\n",
      "Letters are:  H\n",
      "Letters are:  I\n",
      "Letters are:  K\n"
     ]
    }
   ],
   "source": [
    "Str = \"DINESHKARTHIK\"\n",
    "\n",
    "for word in Str:\n",
    "    print(\"Letters are: \", word)"
   ]
  },
  {
   "cell_type": "markdown",
   "metadata": {},
   "source": [
    "# Python String Concatenation"
   ]
  },
  {
   "cell_type": "markdown",
   "metadata": {},
   "source": [
    "Joining or combining more than one string is called concatenation. Python programming language provides multiple ways to concat strings\n",
    "\n",
    "We can use + operator to join more than one string\n",
    "By placing more than one string literal, Python joins them automatically.\n",
    "Placing more than one string inside the one and closed parentheses ()"
   ]
  },
  {
   "cell_type": "code",
   "execution_count": 7,
   "metadata": {},
   "outputs": [
    {
     "name": "stdout",
     "output_type": "stream",
     "text": [
      "Capgemini iGate\n",
      "Python Capgemini \n",
      "Capgemini iGate\n",
      "Capgemini iGate\n",
      "Capgemini Capgemini Capgemini \n"
     ]
    }
   ],
   "source": [
    "X = 'Capgemini '\n",
    "Y = 'iGate'\n",
    "\n",
    "# Using + Operator\n",
    "Concat = X + Y \n",
    "Concat1 = 'Python ' + X\n",
    "\n",
    "# Placing two string Literals Together\n",
    "Concat2 = 'Capgemini ' 'iGate'\n",
    "\n",
    "#Using Parentheses\n",
    "Concat3 = ('Capgemini ' 'iGate') \n",
    "\n",
    "print(Concat)\n",
    "print(Concat1)\n",
    "print(Concat2)\n",
    "print(Concat3)\n",
    "\n",
    "# Using * Operator\n",
    "Z = X * 3\n",
    "print(Z)"
   ]
  },
  {
   "cell_type": "markdown",
   "metadata": {},
   "source": [
    "# Python String Slice\n",
    "In python String Slice, the first integer value is the index position where the slicing start and the second integer value is the index position where the slicing end."
   ]
  },
  {
   "cell_type": "code",
   "execution_count": 8,
   "metadata": {},
   "outputs": [
    {
     "name": "stdout",
     "output_type": "stream",
     "text": [
      "Both Indexes =  pgemini iGa\n",
      "No First Index =  Capgemin\n",
      "No Second Index =  emini iGate Univeristy\n",
      "No Indexes =  Capgemini iGate Univeristy\n",
      "Negative First Index =  sty\n",
      "Negative Second Index =  Capgemini iGate Univeris\n"
     ]
    }
   ],
   "source": [
    "x = 'Capgemini iGate Univeristy'\n",
    "\n",
    "# Slicing the String using two indexes\n",
    "a = x[2:13] \n",
    "print(\"Both Indexes = \", a)\n",
    "\n",
    "# Slicing the String using Second indexes\n",
    "b = x[:8] \n",
    "print(\"No First Index = \", b)\n",
    "\n",
    "# Slicing the String using First indexes\n",
    "c = x[4:] \n",
    "print(\"No Second Index = \", c)\n",
    "\n",
    "# Slicing the String without using two indexes\n",
    "d = x[:] \n",
    "print(\"No Indexes = \", d)\n",
    "\n",
    "# Slicing the String using Negative indexes\n",
    "e = x[-3:] \n",
    "print(\"Negative First Index = \", e)\n",
    "\n",
    "# Slicing the String using Negative indexes\n",
    "f = x[:-2] \n",
    "print(\"Negative Second Index = \", f)"
   ]
  },
  {
   "cell_type": "markdown",
   "metadata": {},
   "source": [
    "If you omit the first index, the python string slicing starts from the beginning.\n",
    "If you omit the second index, String Slicing starts from the first index and continues to the last.\n",
    "And, If you are using the Negative numbers as an index, the Python string slicing starts from right to left."
   ]
  }
 ],
 "metadata": {
  "kernelspec": {
   "display_name": "base",
   "language": "python",
   "name": "python3"
  },
  "language_info": {
   "codemirror_mode": {
    "name": "ipython",
    "version": 3
   },
   "file_extension": ".py",
   "mimetype": "text/x-python",
   "name": "python",
   "nbconvert_exporter": "python",
   "pygments_lexer": "ipython3",
   "version": "3.9.7 (default, Sep 16 2021, 16:59:28) [MSC v.1916 64 bit (AMD64)]"
  },
  "vscode": {
   "interpreter": {
    "hash": "ad2bdc8ecc057115af97d19610ffacc2b4e99fae6737bb82f5d7fb13d2f2c186"
   }
  }
 },
 "nbformat": 4,
 "nbformat_minor": 2
}
