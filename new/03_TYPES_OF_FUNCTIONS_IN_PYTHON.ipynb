{
 "cells": [
  {
   "cell_type": "markdown",
   "metadata": {},
   "source": [
    "# Types of Functions in Python"
   ]
  },
  {
   "cell_type": "markdown",
   "metadata": {},
   "source": [
    "In real-time, a Python function may define with or without parameters, and a function may or may not return a value. It entirely depends upon the user requirement."
   ]
  },
  {
   "cell_type": "markdown",
   "metadata": {},
   "source": [
    "In Python programming, as per our requirement, We can define the User defined functions in multiple ways. The following are the list of available types of functions in Python.\n",
    "\n",
    "1] Function with no argument and no return value.\n",
    "2] Function with no argument and with a Return value.\n",
    "3] Python Function with argument and No Return value.\n",
    "4] Function with argument and return value."
   ]
  },
  {
   "cell_type": "markdown",
   "metadata": {},
   "source": [
    "From the above, 1 and 3 types of functions in Python do not return any value when the function called. So, while defining the function, we can avoid the return keyword.\n",
    "\n",
    "When we call the 2 and 4 types of functions in Python, they return some value. So, we have to use the return keyword."
   ]
  },
  {
   "cell_type": "markdown",
   "metadata": {},
   "source": [
    "# EXAMPLE - 1 Python Function with No argument and No Return value\n",
    "In this type of function in Python, While defining, declaring, or calling the function, We won’t pass any arguments to the function. This type of function won’t return any value when we call the function.\n",
    "Whenever we are not expecting any return value, we might need some print statements as output. In such a scenario, we can use this type of functions."
   ]
  },
  {
   "cell_type": "code",
   "execution_count": 1,
   "metadata": {},
   "outputs": [
    {
     "name": "stdout",
     "output_type": "stream",
     "text": [
      "After Calling the Function: 50\n"
     ]
    }
   ],
   "source": [
    "# Python Function with No Arguments, and No Return Value\n",
    "def Adding():\n",
    "    a = 20\n",
    "    b = 30\n",
    "    Sum = a + b\n",
    "    print(\"After Calling the Function:\", Sum)\n",
    "Adding()"
   ]
  },
  {
   "cell_type": "markdown",
   "metadata": {},
   "source": [
    "# EXAMPLE - 2 Python Function with No argument and with a Return value\n",
    "In this type of function in Python, We won’t pass any arguments to the function while defining, declaring, or calling the function. When we call the function, this type of function returns some value."
   ]
  },
  {
   "cell_type": "markdown",
   "metadata": {},
   "source": [
    "In this type of function in the Python program, we are going to calculate the multiplication of 2 integer values using the user defined function without arguments and return keyword."
   ]
  },
  {
   "cell_type": "code",
   "execution_count": 2,
   "metadata": {},
   "outputs": [
    {
     "name": "stdout",
     "output_type": "stream",
     "text": [
      "After Calling the Multiplication Function:  250\n"
     ]
    }
   ],
   "source": [
    "# Python Function with No Arguments, and with Return Value\n",
    "def Multiplication():\n",
    "    a = 10\n",
    "    b = 25\n",
    "    Multi = a * b\n",
    "    return Multi\n",
    "print(\"After Calling the Multiplication Function: \", Multiplication())"
   ]
  },
  {
   "cell_type": "markdown",
   "metadata": {},
   "source": [
    "# EXAMPLE - 3 Python Function with argument and No Return value"
   ]
  },
  {
   "cell_type": "markdown",
   "metadata": {},
   "source": [
    "If you observe the above 2 methods, No matter how many times you executive, it gives the same output. We don’t have any control over the variable values (a, b) because they are fixed values.\n",
    "\n",
    "In real-time, we mostly deal with dynamic data means we have to allow the user to enter his own values rather than fixed ones.\n",
    "\n",
    "This type of function in Python allows us to pass the arguments to the function while calling the function. But, This type of function in Python won’t return any value when we call the function."
   ]
  },
  {
   "cell_type": "markdown",
   "metadata": {},
   "source": [
    "This program for the type of function in Python allows the user to enter 2 integer values and then, We are going to pass those values to the user defined function to Multiply them."
   ]
  },
  {
   "cell_type": "code",
   "execution_count": 3,
   "metadata": {},
   "outputs": [
    {
     "name": "stdout",
     "output_type": "stream",
     "text": [
      "After Calling the Function: 200\n"
     ]
    }
   ],
   "source": [
    "# Python Function with Arguments, and NO Return Value\n",
    "def Multiplications(a, b):\n",
    "    Multi = a * b\n",
    "    print(\"After Calling the Function:\", Multi)\n",
    "\n",
    "Multiplications(10, 20)  "
   ]
  },
  {
   "cell_type": "code",
   "execution_count": 4,
   "metadata": {},
   "outputs": [
    {
     "name": "stdout",
     "output_type": "stream",
     "text": [
      "After Calling the Function: 20000\n"
     ]
    }
   ],
   "source": [
    "Multiplications(100, 200)  "
   ]
  },
  {
   "cell_type": "markdown",
   "metadata": {},
   "source": [
    "# EXAMPLE - 4: Python Function with argument and Return value"
   ]
  },
  {
   "cell_type": "markdown",
   "metadata": {},
   "source": [
    "This method allows us to pass the arguments to the function while calling the function. This type of functions in Python returns some value when we call the function. This type of user defined function called a fully dynamic function means it provides maximum control to the end-user."
   ]
  },
  {
   "cell_type": "code",
   "execution_count": 5,
   "metadata": {},
   "outputs": [
    {
     "name": "stdout",
     "output_type": "stream",
     "text": [
      "After Calling the Function: 70\n"
     ]
    }
   ],
   "source": [
    "# Python Function with Arguments, and NO Return Value\n",
    "def Addition(a, b):\n",
    "    Sum = a + b\n",
    "    return Sum\n",
    "# We are calling the Function Outside the Function Definition\n",
    "print(\"After Calling the Function:\", Addition(25, 45))"
   ]
  },
  {
   "cell_type": "code",
   "execution_count": 6,
   "metadata": {},
   "outputs": [
    {
     "data": {
      "text/plain": [
       "70"
      ]
     },
     "execution_count": 6,
     "metadata": {},
     "output_type": "execute_result"
    }
   ],
   "source": [
    "Addition(25, 45)"
   ]
  },
  {
   "cell_type": "code",
   "execution_count": null,
   "metadata": {},
   "outputs": [],
   "source": []
  }
 ],
 "metadata": {
  "kernelspec": {
   "display_name": "base",
   "language": "python",
   "name": "python3"
  },
  "language_info": {
   "codemirror_mode": {
    "name": "ipython",
    "version": 3
   },
   "file_extension": ".py",
   "mimetype": "text/x-python",
   "name": "python",
   "nbconvert_exporter": "python",
   "pygments_lexer": "ipython3",
   "version": "3.9.7 (default, Sep 16 2021, 16:59:28) [MSC v.1916 64 bit (AMD64)]"
  },
  "vscode": {
   "interpreter": {
    "hash": "ad2bdc8ecc057115af97d19610ffacc2b4e99fae6737bb82f5d7fb13d2f2c186"
   }
  }
 },
 "nbformat": 4,
 "nbformat_minor": 2
}
