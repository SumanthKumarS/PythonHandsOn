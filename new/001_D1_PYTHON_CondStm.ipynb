{
 "cells": [
  {
   "cell_type": "code",
   "execution_count": 1,
   "metadata": {},
   "outputs": [],
   "source": [
    "#Example 1 for if statemnts"
   ]
  },
  {
   "cell_type": "code",
   "execution_count": 3,
   "metadata": {},
   "outputs": [
    {
     "name": "stdout",
     "output_type": "stream",
     "text": [
      "You have entered a positive integer\n"
     ]
    }
   ],
   "source": [
    "number  =  int(input(\"Please enter any integer value:\"))\n",
    "if number >=1:\n",
    "    print(\"You have entered a positive integer\")"
   ]
  },
  {
   "cell_type": "code",
   "execution_count": null,
   "metadata": {},
   "outputs": [],
   "source": [
    "#Example 2 for if statemnts"
   ]
  },
  {
   "cell_type": "code",
   "execution_count": 4,
   "metadata": {},
   "outputs": [
    {
     "name": "stdout",
     "output_type": "stream",
     "text": [
      "You have entered a positive integer\n",
      " this message is not coming from python if statemnt\n"
     ]
    }
   ],
   "source": [
    "number  =  int(input(\"Please enter any integer value:\"))\n",
    "if number >=1:\n",
    "    print(\"You have entered a positive integer\")\n",
    "print(\" this message is not coming from python if statemnt\")"
   ]
  },
  {
   "cell_type": "code",
   "execution_count": 2,
   "metadata": {},
   "outputs": [
    {
     "name": "stdout",
     "output_type": "stream",
     "text": [
      "You have failed\n",
      "Better luck next time\n"
     ]
    }
   ],
   "source": [
    "# example for if else\n",
    "# emaple for python if else statemnt\n",
    "marks = int(input(\"Please Enter your Subject marks : \"))\n",
    "if marks >=50:\n",
    "    print(\"Congratulations \")#st 1\n",
    "    print(\"You cleard the subject \")# st2\n",
    "else: \n",
    "    print(\"You have failed\") #st3\n",
    "    print(\"Better luck next time\") # st4"
   ]
  },
  {
   "cell_type": "code",
   "execution_count": 5,
   "metadata": {},
   "outputs": [
    {
     "name": "stdout",
     "output_type": "stream",
     "text": [
      "You are elegible to work \n",
      "please fill your details and apply\n"
     ]
    }
   ],
   "source": [
    "# Example For Nested If\n",
    "#exmaple for python nested if statement\n",
    "age = int(input(\"please enter your age here: \"))\n",
    "if age < 18 :\n",
    "    print(\"you are Minor \")\n",
    "    print(\"you are not elegible to work\")\n",
    "else:\n",
    "    if age >=18 and age<=60:\n",
    "        print(\"You are elegible to work \")\n",
    "        print(\"please fill your details and apply\")\n",
    "    else:\n",
    "        print(\" You are too old to work as per the governmant rules\")\n",
    "        print(\"please collect your pension\")"
   ]
  },
  {
   "cell_type": "code",
   "execution_count": 6,
   "metadata": {},
   "outputs": [
    {
     "name": "stdout",
     "output_type": "stream",
     "text": [
      " Congratualtions!\n",
      " You are elegible for 50 precent schlorship\n"
     ]
    }
   ],
   "source": [
    "# Example for python - elif (Not ese if) Nested if else stm\n",
    "# example for python elif statement\n",
    "# imagine you have 6 subjects and grand totals is 600\n",
    "\n",
    "totalmarks = int(input(\"Please Enter your total marks: \"))\n",
    "if totalmarks >= 540:\n",
    "    print(\" Congratualtions!\")\n",
    "    print(\" You are elegible for full schlorship\")\n",
    "elif totalmarks >= 480:\n",
    "    print(\" Congratualtions!\")\n",
    "    print(\" You are elegible for 50 precent schlorship\")\n",
    "elif totalmarks >= 400:\n",
    "    print(\" Congratualtions!\")\n",
    "    print(\" You are elegible for 10 precent schlorship\")\n",
    "else:\n",
    "    print(\" You are Not elegible for scholarship\")\n",
    "    print(\" we are really sorry for you\")"
   ]
  }
 ],
 "metadata": {
  "kernelspec": {
   "display_name": "Python 3.9.7 ('base')",
   "language": "python",
   "name": "python3"
  },
  "language_info": {
   "codemirror_mode": {
    "name": "ipython",
    "version": 3
   },
   "file_extension": ".py",
   "mimetype": "text/x-python",
   "name": "python",
   "nbconvert_exporter": "python",
   "pygments_lexer": "ipython3",
   "version": "3.9.7"
  },
  "orig_nbformat": 4,
  "vscode": {
   "interpreter": {
    "hash": "ad2bdc8ecc057115af97d19610ffacc2b4e99fae6737bb82f5d7fb13d2f2c186"
   }
  }
 },
 "nbformat": 4,
 "nbformat_minor": 2
}
