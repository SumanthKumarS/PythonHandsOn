{
 "cells": [
  {
   "cell_type": "code",
   "execution_count": 1,
   "metadata": {},
   "outputs": [],
   "source": [
    "import datetime "
   ]
  },
  {
   "cell_type": "code",
   "execution_count": 2,
   "metadata": {},
   "outputs": [
    {
     "name": "stdout",
     "output_type": "stream",
     "text": [
      "['MAXYEAR', 'MINYEAR', '__builtins__', '__cached__', '__doc__', '__file__', '__loader__', '__name__', '__package__', '__spec__', 'date', 'datetime', 'datetime_CAPI', 'sys', 'time', 'timedelta', 'timezone', 'tzinfo']\n"
     ]
    }
   ],
   "source": [
    "# datetime Example\n",
    " \n",
    "import datetime\n",
    " \n",
    "print(dir(datetime))"
   ]
  },
  {
   "cell_type": "code",
   "execution_count": 3,
   "metadata": {},
   "outputs": [
    {
     "name": "stdout",
     "output_type": "stream",
     "text": [
      "Maximum Year  =  9999\n",
      "Minimum Year  =  1\n"
     ]
    }
   ],
   "source": [
    "import datetime\n",
    " \n",
    "print('Maximum Year  = ', datetime.MAXYEAR)\n",
    "print('Minimum Year  = ', datetime.MINYEAR)"
   ]
  },
  {
   "cell_type": "code",
   "execution_count": 5,
   "metadata": {},
   "outputs": [
    {
     "name": "stdout",
     "output_type": "stream",
     "text": [
      "Today's Date =  2020-02-01\n"
     ]
    }
   ],
   "source": [
    "import datetime\n",
    " \n",
    "dt = datetime.date.today()\n",
    " \n",
    "print('Today\\'s Date = ', dt)"
   ]
  },
  {
   "cell_type": "markdown",
   "metadata": {},
   "source": [
    "# Python datetime class"
   ]
  },
  {
   "cell_type": "markdown",
   "metadata": {},
   "source": [
    "# This class has attributes of year, month, and day. Here, the first print statement extracts and returns the Year from the current date. The next two print statement returns Month number and Day."
   ]
  },
  {
   "cell_type": "code",
   "execution_count": 4,
   "metadata": {},
   "outputs": [
    {
     "name": "stdout",
     "output_type": "stream",
     "text": [
      "Today's Date =  2020-02-05\n",
      "Year from Today's Date =  2020\n",
      "Month from Today's Date =  2\n",
      "Day from Today's Date =  5\n"
     ]
    }
   ],
   "source": [
    "import datetime\n",
    " \n",
    "today = datetime.date.today()\n",
    " \n",
    "print('Today\\'s Date = ', today)\n",
    "print('Year from Today\\'s Date = ', today.year)\n",
    "print('Month from Today\\'s Date = ', today.month)\n",
    "print('Day from Today\\'s Date = ', today.day)"
   ]
  },
  {
   "cell_type": "markdown",
   "metadata": {},
   "source": [
    "# Python datetime now - The datetime module has now function, which returns the current date and time."
   ]
  },
  {
   "cell_type": "code",
   "execution_count": 7,
   "metadata": {},
   "outputs": [
    {
     "name": "stdout",
     "output_type": "stream",
     "text": [
      "2020-02-01 14:42:05.959065\n",
      "Today's Date and Time =  2020-02-01 14:42:05.959065\n"
     ]
    }
   ],
   "source": [
    "import datetime\n",
    " \n",
    "dt = datetime.datetime.now()\n",
    "print(dt)\n",
    " \n",
    "print('Today\\'s Date and Time = ', dt)"
   ]
  },
  {
   "cell_type": "markdown",
   "metadata": {},
   "source": [
    "Until now, we are using the import datetime, and that was the reason we are using datetime.datetime.method_name. However, if we use from datetime import datetime, we can get rid of that extra datetime."
   ]
  },
  {
   "cell_type": "markdown",
   "metadata": {},
   "source": [
    "In this example, we are using the date and time functions available in Python datetime to extract and return date, time from the current date & time. "
   ]
  },
  {
   "cell_type": "code",
   "execution_count": 8,
   "metadata": {},
   "outputs": [
    {
     "name": "stdout",
     "output_type": "stream",
     "text": [
      "Date and time  =  2020-02-01 14:45:05.849354\n",
      "Current Date   =  2020-02-01\n",
      "Current Time   =  14:45:05.849354\n"
     ]
    }
   ],
   "source": [
    "from datetime import datetime\n",
    " \n",
    "dt = datetime.now()\n",
    " \n",
    "print('Date and time  = ', dt)\n",
    "print('Current Date   = ', dt.date())\n",
    "print('Current Time   = ', dt.time())"
   ]
  },
  {
   "cell_type": "markdown",
   "metadata": {},
   "source": [
    "# Python datetime class attributes"
   ]
  },
  {
   "cell_type": "code",
   "execution_count": 9,
   "metadata": {},
   "outputs": [
    {
     "name": "stdout",
     "output_type": "stream",
     "text": [
      "Date =  2020-02-01 14:52:01.707140\n",
      "Year from Date        =  2020\n",
      "Month from Date       =  2\n",
      "Day from Date         =  1\n",
      "Hour from Date        =  14\n",
      "Minute from Date      =  52\n",
      "Second from Date      =  1\n",
      "Microsecond from Date =  707140\n",
      "Weekday Number from Date =  5\n"
     ]
    }
   ],
   "source": [
    "from datetime import datetime\n",
    " \n",
    "dt = datetime.now()\n",
    " \n",
    "print('Date = ', dt)\n",
    "print('Year from Date        = ', dt.year)\n",
    "print('Month from Date       = ', dt.month)\n",
    "print('Day from Date         = ', dt.day)\n",
    "print('Hour from Date        = ', dt.hour)\n",
    "print('Minute from Date      = ', dt.minute)\n",
    "print('Second from Date      = ', dt.second)\n",
    "print('Microsecond from Date = ', dt.microsecond)\n",
    "print('Weekday Number from Date = ', dt.weekday())"
   ]
  },
  {
   "cell_type": "markdown",
   "metadata": {},
   "source": [
    "# Python timestamp function\n",
    "The Python timestamp function returns the POSIX timestamp of the given datetime. Here, we are returning the timestamp of the current date and time."
   ]
  },
  {
   "cell_type": "code",
   "execution_count": 1,
   "metadata": {},
   "outputs": [
    {
     "name": "stdout",
     "output_type": "stream",
     "text": [
      "Today's Date   =  2020-02-01 15:00:19.722624\n",
      "Timestamp       =  1580549419.722624\n"
     ]
    }
   ],
   "source": [
    "from datetime import datetime\n",
    " \n",
    "dt = datetime.now()\n",
    " \n",
    "print('Today\\'s Date   = ', dt)\n",
    "print('Timestamp       = ', dt.timestamp())"
   ]
  },
  {
   "cell_type": "code",
   "execution_count": null,
   "metadata": {},
   "outputs": [],
   "source": []
  }
 ],
 "metadata": {
  "kernelspec": {
   "display_name": "Python 3.9.7 ('base')",
   "language": "python",
   "name": "python3"
  },
  "language_info": {
   "codemirror_mode": {
    "name": "ipython",
    "version": 3
   },
   "file_extension": ".py",
   "mimetype": "text/x-python",
   "name": "python",
   "nbconvert_exporter": "python",
   "pygments_lexer": "ipython3",
   "version": "3.9.7"
  },
  "vscode": {
   "interpreter": {
    "hash": "ad2bdc8ecc057115af97d19610ffacc2b4e99fae6737bb82f5d7fb13d2f2c186"
   }
  }
 },
 "nbformat": 4,
 "nbformat_minor": 2
}
